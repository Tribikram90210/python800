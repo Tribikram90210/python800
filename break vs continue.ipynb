{
 "cells": [
  {
   "cell_type": "code",
   "execution_count": 3,
   "id": "0bb9469d-7c52-43fb-925a-896921af3f48",
   "metadata": {},
   "outputs": [
    {
     "name": "stdout",
     "output_type": "stream",
     "text": [
      "0\n",
      "1\n",
      "2\n",
      "3\n",
      "4\n"
     ]
    }
   ],
   "source": [
    "for i in range(5):\n",
    "    print(i)\n"
   ]
  },
  {
   "cell_type": "code",
   "execution_count": 5,
   "id": "bffeecbd-5ac9-4e99-8c05-c7c6d5938d33",
   "metadata": {},
   "outputs": [
    {
     "name": "stdout",
     "output_type": "stream",
     "text": [
      "0\n",
      "1\n",
      "3\n",
      "4\n"
     ]
    }
   ],
   "source": [
    "for i in range(5):\n",
    "    if i == 2 :\n",
    "        continue # skips the loop for for one iteration\n",
    "        print('i is equals to 2') # this code is not executed because of continue\n",
    "    print(i)"
   ]
  },
  {
   "cell_type": "code",
   "execution_count": 8,
   "id": "36c7dedd-c8a3-4ef1-965b-eb9631e21fe8",
   "metadata": {},
   "outputs": [
    {
     "name": "stdout",
     "output_type": "stream",
     "text": [
      "0\n",
      "2\n"
     ]
    }
   ],
   "source": [
    "for x in range(3):\n",
    "    if x == 1 :\n",
    "        continue\n",
    "    print(x)"
   ]
  },
  {
   "cell_type": "code",
   "execution_count": 10,
   "id": "a0ec3820-1824-4e04-8d29-f3dbb557c9dd",
   "metadata": {},
   "outputs": [
    {
     "name": "stdout",
     "output_type": "stream",
     "text": [
      "0\n",
      "1\n",
      "Baira\n"
     ]
    }
   ],
   "source": [
    "for i in range(5):\n",
    "    if i == 2 :\n",
    "        break # skips the loop for for one iteration\n",
    "        print('i is equals to 2') # this code is not executed because of continue\n",
    "    print(i)\n",
    "print('Baira')"
   ]
  },
  {
   "cell_type": "code",
   "execution_count": 15,
   "id": "671fa7fd-8b8f-46ce-a1a3-e4cc25841443",
   "metadata": {},
   "outputs": [
    {
     "name": "stdout",
     "output_type": "stream",
     "text": [
      "consonant =h\n",
      "Vowel =e\n",
      "consonant =l\n",
      "consonant =l\n",
      "consonant =o\n",
      "consonant = \n",
      "consonant =w\n",
      "consonant =o\n",
      "consonant =r\n",
      "consonant =l\n",
      "consonant =d\n"
     ]
    }
   ],
   "source": [
    "s = 'hello world'\n",
    "for index in range(len(s)):\n",
    "    character= s [index]\n",
    "    if character == 'a' or character == 'e' or character == 'i' or character == '0' or character == 'u':\n",
    "        print(f'Vowel ={character}')\n",
    "    else:\n",
    "        print (f'consonant ={character}')\n",
    "    "
   ]
  },
  {
   "cell_type": "code",
   "execution_count": 17,
   "id": "3e620899-bc97-489a-b37e-a613126e13a1",
   "metadata": {},
   "outputs": [
    {
     "name": "stdout",
     "output_type": "stream",
     "text": [
      "consonant =h\n",
      "Vowel =e\n",
      "consonant =l\n",
      "consonant =l\n",
      "consonant =o\n",
      "consonant =w\n",
      "consonant =o\n",
      "consonant =r\n",
      "consonant =l\n",
      "consonant =d\n"
     ]
    }
   ],
   "source": [
    "s = 'hello world'\n",
    "for index in range(len(s)):\n",
    "    character= s [index]\n",
    "    if character == 'a' or character == 'e' or character == 'i' or character == '0' or character == 'u':\n",
    "        print(f'Vowel ={character}')\n",
    "    elif character == ' ':\n",
    "        continue\n",
    "     \n",
    "    else:\n",
    "        print (f'consonant ={character}')"
   ]
  },
  {
   "cell_type": "code",
   "execution_count": 19,
   "id": "4e2157b3-539a-4640-a02b-dc50f07e503f",
   "metadata": {},
   "outputs": [
    {
     "name": "stdout",
     "output_type": "stream",
     "text": [
      "consonant =h\n",
      "Vowel =e\n",
      "consonant =l\n",
      "consonant =l\n",
      "consonant =o\n"
     ]
    }
   ],
   "source": [
    "s = 'hello world'\n",
    "for index in range(len(s)):\n",
    "    character= s [index]\n",
    "    if character == 'a' or character == 'e' or character == 'i' or character == '0' or character == 'u':\n",
    "        print(f'Vowel ={character}')\n",
    "    elif character == ' ':\n",
    "        break\n",
    "     \n",
    "    else:\n",
    "        print (f'consonant ={character}')"
   ]
  },
  {
   "cell_type": "code",
   "execution_count": null,
   "id": "79a1ce50-5fd7-4d79-9ef0-62b202807539",
   "metadata": {},
   "outputs": [],
   "source": []
  }
 ],
 "metadata": {
  "kernelspec": {
   "display_name": "Python 3 (ipykernel)",
   "language": "python",
   "name": "python3"
  },
  "language_info": {
   "codemirror_mode": {
    "name": "ipython",
    "version": 3
   },
   "file_extension": ".py",
   "mimetype": "text/x-python",
   "name": "python",
   "nbconvert_exporter": "python",
   "pygments_lexer": "ipython3",
   "version": "3.11.5"
  }
 },
 "nbformat": 4,
 "nbformat_minor": 5
}
