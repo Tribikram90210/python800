{
 "cells": [
  {
   "cell_type": "code",
   "execution_count": 3,
   "id": "f3b09b2f-b7b6-4821-ad64-daf4b3ac835a",
   "metadata": {},
   "outputs": [
    {
     "name": "stdout",
     "output_type": "stream",
     "text": [
      "Tribikram Jung Shah\n"
     ]
    }
   ],
   "source": [
    "print ('Tribikram Jung Shah')\n"
   ]
  },
  {
   "cell_type": "code",
   "execution_count": 5,
   "id": "73a370e0-9240-476f-a4de-3c2fbc617f8f",
   "metadata": {},
   "outputs": [
    {
     "name": "stdout",
     "output_type": "stream",
     "text": [
      "19\n"
     ]
    }
   ],
   "source": [
    "X=9\n",
    "y=10\n",
    "sum = x + y\n",
    "print(sum) "
   ]
  },
  {
   "cell_type": "code",
   "execution_count": 6,
   "id": "702f4a6f-fca4-4e22-8b33-97fcb6072693",
   "metadata": {},
   "outputs": [
    {
     "name": "stdout",
     "output_type": "stream",
     "text": [
      "25\n"
     ]
    }
   ],
   "source": [
    "x=30\n",
    "y=5\n",
    "subtraction = x - y\n",
    "print(subtraction) \n"
   ]
  },
  {
   "cell_type": "code",
   "execution_count": 11,
   "id": "fad2bbae-753e-47ed-a767-dd9e22cfecc4",
   "metadata": {},
   "outputs": [
    {
     "name": "stdout",
     "output_type": "stream",
     "text": [
      "192667.5\n"
     ]
    }
   ],
   "source": [
    "x=85.63\n",
    "y=2250\n",
    "Multiply = x * y \n",
    "print( Multiply) "
   ]
  },
  {
   "cell_type": "code",
   "execution_count": 12,
   "id": "71c46e0f-fb47-4d70-96fb-ad3a002ee9b3",
   "metadata": {},
   "outputs": [
    {
     "name": "stdout",
     "output_type": "stream",
     "text": [
      "2919.537545252832\n"
     ]
    }
   ],
   "source": [
    "x=250000\n",
    "y=85.63\n",
    "Divide = x/y\n",
    "print(Divide) \n"
   ]
  },
  {
   "cell_type": "code",
   "execution_count": null,
   "id": "06e7a45b-e872-4dce-a685-da0c1e3f03ed",
   "metadata": {},
   "outputs": [],
   "source": []
  }
 ],
 "metadata": {
  "kernelspec": {
   "display_name": "Python 3 (ipykernel)",
   "language": "python",
   "name": "python3"
  },
  "language_info": {
   "codemirror_mode": {
    "name": "ipython",
    "version": 3
   },
   "file_extension": ".py",
   "mimetype": "text/x-python",
   "name": "python",
   "nbconvert_exporter": "python",
   "pygments_lexer": "ipython3",
   "version": "3.11.5"
  }
 },
 "nbformat": 4,
 "nbformat_minor": 5
}
