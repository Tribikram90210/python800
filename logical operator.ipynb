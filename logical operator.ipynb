{
 "cells": [
  {
   "cell_type": "markdown",
   "id": "0a4cf704-9fd4-4435-8507-239f1e7f6339",
   "metadata": {},
   "source": [
    "# and, or, not are logical operator\n"
   ]
  },
  {
   "cell_type": "code",
   "execution_count": 1,
   "id": "7af03871-3405-4e7d-8adb-826fe41216bd",
   "metadata": {},
   "outputs": [
    {
     "data": {
      "text/plain": [
       "True"
      ]
     },
     "execution_count": 1,
     "metadata": {},
     "output_type": "execute_result"
    }
   ],
   "source": [
    "True and True"
   ]
  },
  {
   "cell_type": "code",
   "execution_count": 2,
   "id": "442a6181-bd32-40b9-9c25-7786459a68ff",
   "metadata": {},
   "outputs": [
    {
     "data": {
      "text/plain": [
       "False"
      ]
     },
     "execution_count": 2,
     "metadata": {},
     "output_type": "execute_result"
    }
   ],
   "source": [
    "True and False"
   ]
  },
  {
   "cell_type": "code",
   "execution_count": 3,
   "id": "962285b0-6910-4813-97e2-6091e9d9661f",
   "metadata": {},
   "outputs": [
    {
     "data": {
      "text/plain": [
       "False"
      ]
     },
     "execution_count": 3,
     "metadata": {},
     "output_type": "execute_result"
    }
   ],
   "source": [
    "False and True"
   ]
  },
  {
   "cell_type": "code",
   "execution_count": 4,
   "id": "d695ac2f-1174-46c4-8c99-512916a66464",
   "metadata": {},
   "outputs": [
    {
     "data": {
      "text/plain": [
       "False"
      ]
     },
     "execution_count": 4,
     "metadata": {},
     "output_type": "execute_result"
    }
   ],
   "source": [
    "False and False"
   ]
  },
  {
   "cell_type": "code",
   "execution_count": 5,
   "id": "5b6ee718-4379-46f9-be97-f2d81806e0d5",
   "metadata": {},
   "outputs": [
    {
     "name": "stdout",
     "output_type": "stream",
     "text": [
      "both conditions are true\n"
     ]
    }
   ],
   "source": [
    "if 10 == 10 and 2 == 2:\n",
    "    print('both conditions are true')\n",
    "    \n"
   ]
  },
  {
   "cell_type": "code",
   "execution_count": 7,
   "id": "1b5c3786-b541-4568-8f90-5823c4d75227",
   "metadata": {},
   "outputs": [
    {
     "name": "stdout",
     "output_type": "stream",
     "text": [
      "else\n"
     ]
    }
   ],
   "source": [
    "if 5 == 6 and 5 != 6:\n",
    "    print('if')\n",
    "else:\n",
    "    print('else')\n",
    "    "
   ]
  },
  {
   "cell_type": "code",
   "execution_count": 8,
   "id": "4093d054-824d-42b9-b2a3-32d08d08b7e1",
   "metadata": {},
   "outputs": [
    {
     "data": {
      "text/plain": [
       "True"
      ]
     },
     "execution_count": 8,
     "metadata": {},
     "output_type": "execute_result"
    }
   ],
   "source": [
    "True or True"
   ]
  },
  {
   "cell_type": "code",
   "execution_count": 9,
   "id": "26ad9cbe-c795-462f-846c-c4236d8aaac0",
   "metadata": {},
   "outputs": [
    {
     "data": {
      "text/plain": [
       "True"
      ]
     },
     "execution_count": 9,
     "metadata": {},
     "output_type": "execute_result"
    }
   ],
   "source": [
    "True or False"
   ]
  },
  {
   "cell_type": "code",
   "execution_count": 11,
   "id": "d73e8b16-6138-41f6-b741-13fca3a5bf9b",
   "metadata": {},
   "outputs": [
    {
     "data": {
      "text/plain": [
       "True"
      ]
     },
     "execution_count": 11,
     "metadata": {},
     "output_type": "execute_result"
    }
   ],
   "source": [
    "False or True"
   ]
  },
  {
   "cell_type": "code",
   "execution_count": 12,
   "id": "2473b15b-2434-42ea-8ae5-2a3d3a642422",
   "metadata": {},
   "outputs": [
    {
     "data": {
      "text/plain": [
       "False"
      ]
     },
     "execution_count": 12,
     "metadata": {},
     "output_type": "execute_result"
    }
   ],
   "source": [
    "False or False"
   ]
  },
  {
   "cell_type": "code",
   "execution_count": 13,
   "id": "5289aa2c-81c2-4905-974a-e41798f5f6e2",
   "metadata": {},
   "outputs": [
    {
     "name": "stdout",
     "output_type": "stream",
     "text": [
      "false or true = false\n"
     ]
    }
   ],
   "source": [
    "if 10>99  or 2==2:\n",
    "    print('false or true = false')"
   ]
  },
  {
   "cell_type": "markdown",
   "id": "23133860-67c7-48ec-919b-4a8697980b91",
   "metadata": {},
   "source": [
    "# class assignment"
   ]
  },
  {
   "cell_type": "code",
   "execution_count": null,
   "id": "4d1776dc-00f6-4b16-a317-a430f0c00c72",
   "metadata": {},
   "outputs": [],
   "source": [
    "num = int(input('enter your percentage :'))\n",
    "if num >= 80:\n",
    "    print('Distinction')\n",
    "elif num >= 60 and num < 80:\n",
    "    print('first division')\n",
    "else\n",
    "    print('second division')\n",
    "\n",
    "    \n",
    "\n"
   ]
  },
  {
   "cell_type": "code",
   "execution_count": null,
   "id": "6babc326-a31a-4481-898d-2a4bc80009fb",
   "metadata": {},
   "outputs": [],
   "source": []
  }
 ],
 "metadata": {
  "kernelspec": {
   "display_name": "Python 3 (ipykernel)",
   "language": "python",
   "name": "python3"
  },
  "language_info": {
   "codemirror_mode": {
    "name": "ipython",
    "version": 3
   },
   "file_extension": ".py",
   "mimetype": "text/x-python",
   "name": "python",
   "nbconvert_exporter": "python",
   "pygments_lexer": "ipython3",
   "version": "3.11.5"
  }
 },
 "nbformat": 4,
 "nbformat_minor": 5
}
