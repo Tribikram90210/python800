{
 "cells": [
  {
   "cell_type": "markdown",
   "id": "b47cb63c-03db-4d22-af80-1e6c25e14aa0",
   "metadata": {},
   "source": [
    "# object oriented programming\n"
   ]
  },
  {
   "cell_type": "code",
   "execution_count": 12,
   "id": "2881d2e9-91d2-4c8c-b96f-6a11fd72b342",
   "metadata": {},
   "outputs": [],
   "source": [
    "a = 5\n"
   ]
  },
  {
   "cell_type": "code",
   "execution_count": 13,
   "id": "d6b4c87c-e81b-44ee-b17a-947749a60bad",
   "metadata": {},
   "outputs": [
    {
     "name": "stdout",
     "output_type": "stream",
     "text": [
      "<class 'int'>\n"
     ]
    }
   ],
   "source": [
    "print(type(a))\n"
   ]
  },
  {
   "cell_type": "code",
   "execution_count": 16,
   "id": "2f7d9fbe-ebbb-4d16-af51-1662dc9337f1",
   "metadata": {},
   "outputs": [],
   "source": [
    "l1 = list()"
   ]
  },
  {
   "cell_type": "code",
   "execution_count": 17,
   "id": "1384a229-1f20-4438-b69f-5081a4bdf109",
   "metadata": {},
   "outputs": [
    {
     "data": {
      "text/plain": [
       "list"
      ]
     },
     "execution_count": 17,
     "metadata": {},
     "output_type": "execute_result"
    }
   ],
   "source": [
    "type(l1)"
   ]
  },
  {
   "cell_type": "code",
   "execution_count": null,
   "id": "be9802a9-d16f-415c-bbe9-839a645149a9",
   "metadata": {},
   "outputs": [],
   "source": []
  },
  {
   "cell_type": "markdown",
   "id": "23da5075-3690-4051-a1c5-b99b16ec8aaf",
   "metadata": {},
   "source": [
    "# creating user defined empty class"
   ]
  },
  {
   "cell_type": "code",
   "execution_count": 1,
   "id": "7e490b8e-62d5-401c-ad77-37c166bf0e37",
   "metadata": {},
   "outputs": [],
   "source": [
    "# class must be in PascalCase(variable convention"
   ]
  },
  {
   "cell_type": "code",
   "execution_count": 2,
   "id": "2babac44-2c47-424f-9a7d-bdc444d4370c",
   "metadata": {},
   "outputs": [],
   "source": [
    "class Mammal():\n",
    "    pass\n"
   ]
  },
  {
   "cell_type": "code",
   "execution_count": 3,
   "id": "5762f87b-5d7a-4ae8-846b-4d2c169485f1",
   "metadata": {},
   "outputs": [],
   "source": [
    "human = Mammal()"
   ]
  },
  {
   "cell_type": "code",
   "execution_count": 4,
   "id": "54a15aea-b01d-4105-9a9b-4f52021bae89",
   "metadata": {},
   "outputs": [
    {
     "data": {
      "text/plain": [
       "__main__.Mammal"
      ]
     },
     "execution_count": 4,
     "metadata": {},
     "output_type": "execute_result"
    }
   ],
   "source": [
    "type(human)"
   ]
  },
  {
   "cell_type": "code",
   "execution_count": 5,
   "id": "ee15b871-3ec8-41aa-80a3-a352d1804a79",
   "metadata": {},
   "outputs": [],
   "source": [
    "cow = Mammal()"
   ]
  },
  {
   "cell_type": "code",
   "execution_count": 6,
   "id": "f1bfb370-01dc-4af3-bdbe-27a32a810621",
   "metadata": {},
   "outputs": [
    {
     "data": {
      "text/plain": [
       "__main__.Mammal"
      ]
     },
     "execution_count": 6,
     "metadata": {},
     "output_type": "execute_result"
    }
   ],
   "source": [
    "type(cow)"
   ]
  },
  {
   "cell_type": "markdown",
   "id": "b27974aa-9e61-4f20-8d32-1581b606c3e2",
   "metadata": {},
   "source": [
    "# class\n",
    "* python class is a blueprint for creating objects\n",
    "# object\n",
    "* object is an instance of class\n",
    "# class contains attributes and method\n",
    "* attribute can be a class attribute and object attribute"
   ]
  },
  {
   "cell_type": "code",
   "execution_count": 7,
   "id": "0fcda71d-eda8-4e51-baf2-6efe290fab9f",
   "metadata": {},
   "outputs": [],
   "source": [
    "class Person():\n",
    "    pass"
   ]
  },
  {
   "cell_type": "code",
   "execution_count": 8,
   "id": "81dcd4f2-a37c-4603-9052-19f6c5e7260d",
   "metadata": {},
   "outputs": [],
   "source": [
    "erick = Person()"
   ]
  },
  {
   "cell_type": "code",
   "execution_count": 9,
   "id": "14a574c5-0ff9-45d9-abcb-5b311bfb6141",
   "metadata": {},
   "outputs": [
    {
     "data": {
      "text/plain": [
       "__main__.Person"
      ]
     },
     "execution_count": 9,
     "metadata": {},
     "output_type": "execute_result"
    }
   ],
   "source": [
    "type(erick)"
   ]
  },
  {
   "cell_type": "code",
   "execution_count": 10,
   "id": "4f055412-ecb6-4038-9f16-0984da78c332",
   "metadata": {},
   "outputs": [],
   "source": [
    "class Mammal:\n",
    "    has_hair = True # class attribute is the same for all objects"
   ]
  },
  {
   "cell_type": "code",
   "execution_count": 11,
   "id": "f57c87ed-c8b2-4a19-b6eb-69caa9877447",
   "metadata": {},
   "outputs": [
    {
     "data": {
      "text/plain": [
       "True"
      ]
     },
     "execution_count": 11,
     "metadata": {},
     "output_type": "execute_result"
    }
   ],
   "source": [
    "human = Mammal()\n",
    "human.has_hair"
   ]
  },
  {
   "cell_type": "code",
   "execution_count": 12,
   "id": "757174f1-5b84-489c-ad2c-19cce9cc63cd",
   "metadata": {},
   "outputs": [
    {
     "data": {
      "text/plain": [
       "True"
      ]
     },
     "execution_count": 12,
     "metadata": {},
     "output_type": "execute_result"
    }
   ],
   "source": [
    "cow = Mammal()\n",
    "cow.has_hair"
   ]
  },
  {
   "cell_type": "code",
   "execution_count": 13,
   "id": "9d6f7acd-09a6-41b5-a881-e6c725b2b88f",
   "metadata": {},
   "outputs": [],
   "source": [
    "# define object attribute"
   ]
  },
  {
   "cell_type": "code",
   "execution_count": 14,
   "id": "48a9f647-b7ec-4152-8187-0be71e74b7a2",
   "metadata": {},
   "outputs": [],
   "source": [
    "class Mammal:\n",
    "    has_hair = True\n",
    "    def __init__(self,no_of_legs):\n",
    "        self.no_of_legs = no_of_legs"
   ]
  },
  {
   "cell_type": "code",
   "execution_count": 15,
   "id": "02d83b92-df7e-499a-b802-ce8431cc41b7",
   "metadata": {},
   "outputs": [
    {
     "ename": "TypeError",
     "evalue": "Mammal.__init__() missing 1 required positional argument: 'no_of_legs'",
     "output_type": "error",
     "traceback": [
      "\u001b[1;31m---------------------------------------------------------------------------\u001b[0m",
      "\u001b[1;31mTypeError\u001b[0m                                 Traceback (most recent call last)",
      "Cell \u001b[1;32mIn[15], line 1\u001b[0m\n\u001b[1;32m----> 1\u001b[0m human \u001b[38;5;241m=\u001b[39m \u001b[43mMammal\u001b[49m\u001b[43m(\u001b[49m\u001b[43m)\u001b[49m \u001b[38;5;66;03m# no of legs chaincha\u001b[39;00m\n",
      "\u001b[1;31mTypeError\u001b[0m: Mammal.__init__() missing 1 required positional argument: 'no_of_legs'"
     ]
    }
   ],
   "source": [
    "human = Mammal() # no of legs chaincha"
   ]
  },
  {
   "cell_type": "code",
   "execution_count": null,
   "id": "5ce6af6b-4ac5-4491-95b9-6c8bc8003694",
   "metadata": {},
   "outputs": [],
   "source": [
    "human = Mammal(no_of_legs=2)"
   ]
  },
  {
   "cell_type": "code",
   "execution_count": null,
   "id": "b981e548-817e-4172-8043-bc934fbc0e92",
   "metadata": {},
   "outputs": [],
   "source": [
    "type(human)"
   ]
  },
  {
   "cell_type": "code",
   "execution_count": null,
   "id": "f4bacbf9-0b4b-48b0-96c8-ef52fe3acda0",
   "metadata": {},
   "outputs": [],
   "source": [
    "human.has_hair"
   ]
  },
  {
   "cell_type": "code",
   "execution_count": 16,
   "id": "3d498631-b4e9-4478-9061-e4dfeece4b61",
   "metadata": {},
   "outputs": [
    {
     "ename": "AttributeError",
     "evalue": "'Mammal' object has no attribute 'no_of_legs'",
     "output_type": "error",
     "traceback": [
      "\u001b[1;31m---------------------------------------------------------------------------\u001b[0m",
      "\u001b[1;31mAttributeError\u001b[0m                            Traceback (most recent call last)",
      "Cell \u001b[1;32mIn[16], line 1\u001b[0m\n\u001b[1;32m----> 1\u001b[0m \u001b[43mhuman\u001b[49m\u001b[38;5;241;43m.\u001b[39;49m\u001b[43mno_of_legs\u001b[49m\n",
      "\u001b[1;31mAttributeError\u001b[0m: 'Mammal' object has no attribute 'no_of_legs'"
     ]
    }
   ],
   "source": [
    "human.no_of_legs"
   ]
  },
  {
   "cell_type": "code",
   "execution_count": 17,
   "id": "ef3e1234-3b31-48f6-83bf-7dc63e0712f8",
   "metadata": {},
   "outputs": [],
   "source": [
    "cow=Mammal(no_of_legs=4)"
   ]
  },
  {
   "cell_type": "code",
   "execution_count": 18,
   "id": "4a65714c-aa56-438e-a310-1bd3cbb79dee",
   "metadata": {},
   "outputs": [
    {
     "data": {
      "text/plain": [
       "4"
      ]
     },
     "execution_count": 18,
     "metadata": {},
     "output_type": "execute_result"
    }
   ],
   "source": [
    "cow.no_of_legs"
   ]
  },
  {
   "cell_type": "markdown",
   "id": "49c71896-8f8c-4c59-a4c5-2893e8b4bb49",
   "metadata": {},
   "source": [
    "# what is self and __init__(self)\n",
    "* init is an object attribute initilizer\n",
    "* self is an object\n",
    "* "
   ]
  },
  {
   "cell_type": "code",
   "execution_count": 19,
   "id": "212ac523-0780-434d-b73d-5818cc20372b",
   "metadata": {},
   "outputs": [],
   "source": [
    "class Mammal:\n",
    "    def __init__(self):\n",
    "        print(type(self))"
   ]
  },
  {
   "cell_type": "code",
   "execution_count": 20,
   "id": "09331dd1-e2c5-4895-8e83-e5b73586bc62",
   "metadata": {},
   "outputs": [
    {
     "name": "stdout",
     "output_type": "stream",
     "text": [
      "<class '__main__.Mammal'>\n"
     ]
    }
   ],
   "source": [
    "m1 = Mammal()"
   ]
  },
  {
   "cell_type": "code",
   "execution_count": 21,
   "id": "b5b54d4e-15e7-4b77-a5b6-7322657a51f3",
   "metadata": {},
   "outputs": [
    {
     "name": "stdout",
     "output_type": "stream",
     "text": [
      "<class '__main__.Mammal'>\n"
     ]
    }
   ],
   "source": [
    "print(type(m1))"
   ]
  },
  {
   "cell_type": "markdown",
   "id": "cbdaeb58-45d7-4f91-9fac-99ddcb94555b",
   "metadata": {},
   "source": [
    "# what is python class and how it is defined and initialized?\n",
    "\n",
    "* python is an object oriented programming language\n",
    "* almost everything in python is an object with its properties and methods\n",
    "* A Class is like an object constructor , or a 'blueprint' for creating objects"
   ]
  },
  {
   "cell_type": "markdown",
   "id": "b7b7a27d-919b-4b84-a244-bc9f5d07d811",
   "metadata": {},
   "source": [
    "# What is self parameter? - The self keyword is used to represent an instance(object of the given class\n",
    "* The self parameter is a reference to the current instance of the class, and is used to access variables that belongs to the class"
   ]
  },
  {
   "cell_type": "code",
   "execution_count": 22,
   "id": "65010bc5-9a78-494a-865d-f1af16924a34",
   "metadata": {},
   "outputs": [],
   "source": [
    "# user defined method inside class"
   ]
  },
  {
   "cell_type": "code",
   "execution_count": 23,
   "id": "92f0207b-e150-4c85-8dfe-bc7f2a80df16",
   "metadata": {},
   "outputs": [],
   "source": [
    "class Rectangle:\n",
    "    def __init__(self,l,b):\n",
    "        self.l=l\n",
    "        self.b=b\n",
    "    def area(self):\n",
    "        return self.l * self.b"
   ]
  },
  {
   "cell_type": "code",
   "execution_count": 24,
   "id": "bb34ae3e-0148-49ef-9cca-396e1c9acce5",
   "metadata": {},
   "outputs": [],
   "source": [
    "r1 = Rectangle(l = 9, b= 2)\n",
    "r2 = Rectangle(l = 4, b = 3)"
   ]
  },
  {
   "cell_type": "code",
   "execution_count": 25,
   "id": "439cf436-f16f-475c-981b-6e5ac5b39c2c",
   "metadata": {},
   "outputs": [
    {
     "data": {
      "text/plain": [
       "18"
      ]
     },
     "execution_count": 25,
     "metadata": {},
     "output_type": "execute_result"
    }
   ],
   "source": [
    "r1.area()"
   ]
  },
  {
   "cell_type": "code",
   "execution_count": 26,
   "id": "5ff08955-e1d0-4337-a9f0-223984259cfe",
   "metadata": {},
   "outputs": [
    {
     "data": {
      "text/plain": [
       "12"
      ]
     },
     "execution_count": 26,
     "metadata": {},
     "output_type": "execute_result"
    }
   ],
   "source": [
    " r2.area()"
   ]
  },
  {
   "cell_type": "code",
   "execution_count": 27,
   "id": "dc320d5a-b771-4018-b991-0657f4d21fe2",
   "metadata": {},
   "outputs": [],
   "source": [
    "import math"
   ]
  },
  {
   "cell_type": "code",
   "execution_count": 28,
   "id": "979354f4-7694-4b6a-8785-a42a8f6c23b8",
   "metadata": {},
   "outputs": [],
   "source": [
    "class Sphere: # program ajhai bujhnu paryo\n",
    "    def __init__(self,r):\n",
    "        self.r=r\n",
    "    def vol(self):\n",
    "        return 3/4*math.pi*self.r**3"
   ]
  },
  {
   "cell_type": "code",
   "execution_count": 29,
   "id": "7e9adf01-c235-4ed3-9213-8c4c2f1f6824",
   "metadata": {},
   "outputs": [],
   "source": [
    "r1 = Sphere(r=4)"
   ]
  },
  {
   "cell_type": "code",
   "execution_count": 30,
   "id": "9b4ff376-8d09-4ae4-95cf-3e83a065a588",
   "metadata": {
    "scrolled": true
   },
   "outputs": [
    {
     "data": {
      "text/plain": [
       "150.79644737231007"
      ]
     },
     "execution_count": 30,
     "metadata": {},
     "output_type": "execute_result"
    }
   ],
   "source": [
    "r1.vol()"
   ]
  },
  {
   "cell_type": "markdown",
   "id": "838575da-b4cb-4684-87b1-8530f9147128",
   "metadata": {},
   "source": [
    "# oop ma constructer le object banauncha\n",
    "* init is an object attribute initilizer but not a constructer(it is only used to customize it)\n",
    "* __new__ is used to construct an object"
   ]
  },
  {
   "cell_type": "markdown",
   "id": "1d8e5a4f-5f7e-4857-bb90-22640e6aa21c",
   "metadata": {},
   "source": [
    "# superclass and subclass\n",
    "* parent class or superclass is the class being inherited from,also called base class\n",
    "* child class or subclass is the class that inherits from another class,also called derived class"
   ]
  },
  {
   "cell_type": "markdown",
   "id": "5abd57f0-4338-4f04-9268-6b4969d7a566",
   "metadata": {},
   "source": [
    "# Subclass inherits property/attributes and methods from superclass using super()"
   ]
  },
  {
   "cell_type": "markdown",
   "id": "494dd550-553d-49df-b5d9-9bc2089e63c3",
   "metadata": {},
   "source": [
    "# inheritance in python"
   ]
  },
  {
   "cell_type": "code",
   "execution_count": null,
   "id": "b7f9fb15-399f-4aca-8943-d15a9307c04f",
   "metadata": {},
   "outputs": [],
   "source": []
  },
  {
   "cell_type": "code",
   "execution_count": null,
   "id": "6fff15dd-d5ca-4bdc-9039-c1821a896848",
   "metadata": {},
   "outputs": [],
   "source": []
  }
 ],
 "metadata": {
  "kernelspec": {
   "display_name": "Python 3 (ipykernel)",
   "language": "python",
   "name": "python3"
  },
  "language_info": {
   "codemirror_mode": {
    "name": "ipython",
    "version": 3
   },
   "file_extension": ".py",
   "mimetype": "text/x-python",
   "name": "python",
   "nbconvert_exporter": "python",
   "pygments_lexer": "ipython3",
   "version": "3.11.5"
  }
 },
 "nbformat": 4,
 "nbformat_minor": 5
}
