{
 "cells": [
  {
   "cell_type": "code",
   "execution_count": 1,
   "id": "3ec37d22-e11e-4bda-912b-4324221ea582",
   "metadata": {},
   "outputs": [
    {
     "data": {
      "text/plain": [
       "str"
      ]
     },
     "execution_count": 1,
     "metadata": {},
     "output_type": "execute_result"
    }
   ],
   "source": [
    "s = 'hello world'\n",
    "type(s)\n"
   ]
  },
  {
   "cell_type": "code",
   "execution_count": 4,
   "id": "a9d9f356-4bd4-4829-80f9-f45944db1baa",
   "metadata": {},
   "outputs": [],
   "source": [
    "str1 = 'a'\n",
    "str2 = \"a\""
   ]
  },
  {
   "cell_type": "code",
   "execution_count": 3,
   "id": "a4677575-c473-4e18-bbdb-740eee30fdcf",
   "metadata": {},
   "outputs": [
    {
     "data": {
      "text/plain": [
       "True"
      ]
     },
     "execution_count": 3,
     "metadata": {},
     "output_type": "execute_result"
    }
   ],
   "source": [
    "str1==str2"
   ]
  },
  {
   "cell_type": "code",
   "execution_count": 6,
   "id": "a91137cf-9d65-4494-868e-b37462ce1746",
   "metadata": {},
   "outputs": [],
   "source": [
    "assert str1 == str2 #right vayo vane kei ni output dekhaudaina natra error dekhauncha\n"
   ]
  },
  {
   "cell_type": "markdown",
   "id": "737b6336-212f-438f-b99c-5689899d5ee7",
   "metadata": {},
   "source": [
    "# single line string and multi-line string "
   ]
  },
  {
   "cell_type": "code",
   "execution_count": 9,
   "id": "ab2ca7ab-4f4c-4ed7-b00f-d33192753132",
   "metadata": {},
   "outputs": [
    {
     "data": {
      "text/plain": [
       "'Good morning.'"
      ]
     },
     "execution_count": 9,
     "metadata": {},
     "output_type": "execute_result"
    }
   ],
   "source": [
    "msg = 'Good morning.' #single line string\n",
    "msg"
   ]
  },
  {
   "cell_type": "code",
   "execution_count": 17,
   "id": "621b84d7-7dfa-419b-96e5-70b8f78548fd",
   "metadata": {},
   "outputs": [
    {
     "ename": "SyntaxError",
     "evalue": "unterminated string literal (detected at line 1) (2840950789.py, line 1)",
     "output_type": "error",
     "traceback": [
      "\u001b[1;36m  Cell \u001b[1;32mIn[17], line 1\u001b[1;36m\u001b[0m\n\u001b[1;33m    Kabita = 'संसार रूपी सुख स्वर्गभित्र,\u001b[0m\n\u001b[1;37m             ^\u001b[0m\n\u001b[1;31mSyntaxError\u001b[0m\u001b[1;31m:\u001b[0m unterminated string literal (detected at line 1)\n"
     ]
    }
   ],
   "source": [
    "Kabita = 'संसार रूपी सुख स्वर्गभित्र,\n",
    "रमें रमाएँ लिइ भित्र चित्र ।\n",
    "सारा भयो त्यो मरुभूभि तुल्य,\n",
    "रातै परेझैं अब बुझ्छु बल्ल ।\n",
    "रहेछ संसार निशा समान,\n",
    "आएन ज्यूँदै रहँदा नि ज्ञान ।\n",
    "आखीर श्रीकृष्ण रहेछ एक,\n",
    "न भक्ति भो, ज्ञान, नभो विवेक ।\n",
    "महामरुमा कण झैं म तातो,\n",
    "जलेर मर्दो बिनु आश लाटो ।\n",
    "सुकी रहेको तरु झैं छु खाली,\n",
    "चिताग्नि तापी जल डाल्न फाली ।\n",
    "संस्कार आफ्नो सब नै गुमाएँ,\n",
    "म शून्यमा शून्य सरी बिलाएँ ।\n",
    "जन्में म यो स्वर्गविषे पलाएँ,\n",
    "आखीर भै खाक त्यसै बिलाएँ' # because triple quotes had to be used"
   ]
  },
  {
   "cell_type": "code",
   "execution_count": 16,
   "id": "ad53af72-35d7-4159-af99-22d6d43e0aaa",
   "metadata": {},
   "outputs": [
    {
     "name": "stdout",
     "output_type": "stream",
     "text": [
      "संसार रूपी सुख स्वर्गभित्र,\n",
      "रमें रमाएँ लिइ भित्र चित्र ।\n",
      "सारा भयो त्यो मरुभूभि तुल्य,\n",
      "रातै परेझैं अब बुझ्छु बल्ल ।\n",
      "रहेछ संसार निशा समान,\n",
      "आएन ज्यूँदै रहँदा नि ज्ञान ।\n",
      "आखीर श्रीकृष्ण रहेछ एक,\n",
      "न भक्ति भो, ज्ञान, नभो विवेक ।\n",
      "महामरुमा कण झैं म तातो,\n",
      "जलेर मर्दो बिनु आश लाटो ।\n",
      "सुकी रहेको तरु झैं छु खाली,\n",
      "चिताग्नि तापी जल डाल्न फाली ।\n",
      "संस्कार आफ्नो सब नै गुमाएँ,\n",
      "म शून्यमा शून्य सरी बिलाएँ ।\n",
      "जन्में म यो स्वर्गविषे पलाएँ,\n",
      "आखीर भै खाक त्यसै बिलाएँ\n"
     ]
    }
   ],
   "source": [
    "Kabita = '''संसार रूपी सुख स्वर्गभित्र,\n",
    "रमें रमाएँ लिइ भित्र चित्र ।\n",
    "सारा भयो त्यो मरुभूभि तुल्य,\n",
    "रातै परेझैं अब बुझ्छु बल्ल ।\n",
    "रहेछ संसार निशा समान,\n",
    "आएन ज्यूँदै रहँदा नि ज्ञान ।\n",
    "आखीर श्रीकृष्ण रहेछ एक,\n",
    "न भक्ति भो, ज्ञान, नभो विवेक ।\n",
    "महामरुमा कण झैं म तातो,\n",
    "जलेर मर्दो बिनु आश लाटो ।\n",
    "सुकी रहेको तरु झैं छु खाली,\n",
    "चिताग्नि तापी जल डाल्न फाली ।\n",
    "संस्कार आफ्नो सब नै गुमाएँ,\n",
    "म शून्यमा शून्य सरी बिलाएँ ।\n",
    "जन्में म यो स्वर्गविषे पलाएँ,\n",
    "आखीर भै खाक त्यसै बिलाएँ'''\n",
    "print(Kabita) #solution triple quotes"
   ]
  },
  {
   "cell_type": "code",
   "execution_count": 19,
   "id": "b9d6d4d1-a32a-4697-a387-040da4b78670",
   "metadata": {},
   "outputs": [
    {
     "name": "stdout",
     "output_type": "stream",
     "text": [
      "सार रूपी सुख स्वर्गभित्र,\n",
      "रमें रमाएँ लिइ भित्र चित्र ।\n",
      "सारा भयो त्यो मरुभूभि तुल्य,\n",
      "रातै परेझैं अब बुझ्छु बल्ल ।\n",
      "रहेछ संसार निशा समान,\n",
      "आएन ज्यूँदै रहँदा नि ज्ञान ।\n",
      "आखीर श्रीकृष्ण रहेछ एक,\n",
      "न भक्ति भो, ज्ञान, नभो विवेक ।\n",
      "महामरुमा कण झैं म तातो,\n",
      "जलेर मर्दो बिनु आश लाटो ।\n",
      "सुकी रहेको तरु झैं छु खाली,\n",
      "चिताग्नि तापी जल डाल्न फाली ।\n",
      "संस्कार आफ्नो सब नै गुमाएँ,\n",
      "म शून्यमा शून्य सरी बिलाएँ ।\n",
      "जन्में म यो स्वर्गविषे पलाएँ,\n",
      "आखीर भै खाक त्यसै बिलाएँ\n"
     ]
    }
   ],
   "source": [
    "Kabita = \"\"\"सार रूपी सुख स्वर्गभित्र,\n",
    "रमें रमाएँ लिइ भित्र चित्र ।\n",
    "सारा भयो त्यो मरुभूभि तुल्य,\n",
    "रातै परेझैं अब बुझ्छु बल्ल ।\n",
    "रहेछ संसार निशा समान,\n",
    "आएन ज्यूँदै रहँदा नि ज्ञान ।\n",
    "आखीर श्रीकृष्ण रहेछ एक,\n",
    "न भक्ति भो, ज्ञान, नभो विवेक ।\n",
    "महामरुमा कण झैं म तातो,\n",
    "जलेर मर्दो बिनु आश लाटो ।\n",
    "सुकी रहेको तरु झैं छु खाली,\n",
    "चिताग्नि तापी जल डाल्न फाली ।\n",
    "संस्कार आफ्नो सब नै गुमाएँ,\n",
    "म शून्यमा शून्य सरी बिलाएँ ।\n",
    "जन्में म यो स्वर्गविषे पलाएँ,\n",
    "आखीर भै खाक त्यसै बिलाएँ\"\"\"\n",
    "print(Kabita) # double quotes ma ni tei ho "
   ]
  },
  {
   "cell_type": "markdown",
   "id": "69fb09d4-41ea-4155-8880-cacb0c10aff7",
   "metadata": {},
   "source": [
    "# indexing and slicing of string"
   ]
  },
  {
   "cell_type": "code",
   "execution_count": 22,
   "id": "56d9495f-fa4b-4a29-b6c0-b08dfffb28b2",
   "metadata": {},
   "outputs": [
    {
     "data": {
      "text/plain": [
       "'h'"
      ]
     },
     "execution_count": 22,
     "metadata": {},
     "output_type": "execute_result"
    }
   ],
   "source": [
    "s = 'hello world'\n",
    "s[0] #index always starts from zero"
   ]
  },
  {
   "cell_type": "code",
   "execution_count": 23,
   "id": "3085ce55-efee-4f75-9116-02108e00e658",
   "metadata": {},
   "outputs": [
    {
     "data": {
      "text/plain": [
       "'e'"
      ]
     },
     "execution_count": 23,
     "metadata": {},
     "output_type": "execute_result"
    }
   ],
   "source": [
    "s[1]"
   ]
  },
  {
   "cell_type": "code",
   "execution_count": 24,
   "id": "df16eec0-81e1-498f-8586-89b24368acba",
   "metadata": {},
   "outputs": [
    {
     "data": {
      "text/plain": [
       "'l'"
      ]
     },
     "execution_count": 24,
     "metadata": {},
     "output_type": "execute_result"
    }
   ],
   "source": [
    "s[2]\n"
   ]
  },
  {
   "cell_type": "code",
   "execution_count": 25,
   "id": "e84c6984-627e-4a95-852a-c350adb5894c",
   "metadata": {},
   "outputs": [
    {
     "data": {
      "text/plain": [
       "'l'"
      ]
     },
     "execution_count": 25,
     "metadata": {},
     "output_type": "execute_result"
    }
   ],
   "source": [
    "s[3]"
   ]
  },
  {
   "cell_type": "code",
   "execution_count": 26,
   "id": "1ba3b58e-6c50-4fcc-9cdf-9a3cc774f25a",
   "metadata": {},
   "outputs": [
    {
     "data": {
      "text/plain": [
       "'o'"
      ]
     },
     "execution_count": 26,
     "metadata": {},
     "output_type": "execute_result"
    }
   ],
   "source": [
    "s[4]"
   ]
  },
  {
   "cell_type": "code",
   "execution_count": 27,
   "id": "9fcccabe-4049-4634-a42e-34b6ae09625f",
   "metadata": {},
   "outputs": [
    {
     "data": {
      "text/plain": [
       "' '"
      ]
     },
     "execution_count": 27,
     "metadata": {},
     "output_type": "execute_result"
    }
   ],
   "source": [
    "s[5]"
   ]
  },
  {
   "cell_type": "code",
   "execution_count": 28,
   "id": "67eb80fa-fcbe-4d7f-a4c6-ba38dc39cd39",
   "metadata": {},
   "outputs": [
    {
     "data": {
      "text/plain": [
       "'w'"
      ]
     },
     "execution_count": 28,
     "metadata": {},
     "output_type": "execute_result"
    }
   ],
   "source": [
    "s[6]"
   ]
  },
  {
   "cell_type": "code",
   "execution_count": 30,
   "id": "431217fe-60ed-435b-aa34-846198f13761",
   "metadata": {},
   "outputs": [
    {
     "data": {
      "text/plain": [
       "11"
      ]
     },
     "execution_count": 30,
     "metadata": {},
     "output_type": "execute_result"
    }
   ],
   "source": [
    "len(s) #length of string there are 11 string values in s ( 0 to 10)"
   ]
  },
  {
   "cell_type": "code",
   "execution_count": 31,
   "id": "8d7543fb-d7b6-43e2-a630-3598dae9bb07",
   "metadata": {},
   "outputs": [
    {
     "data": {
      "text/plain": [
       "'hello'"
      ]
     },
     "execution_count": 31,
     "metadata": {},
     "output_type": "execute_result"
    }
   ],
   "source": [
    "s [0:5] # end ko value lidaina , one step agadhi jancha"
   ]
  },
  {
   "cell_type": "code",
   "execution_count": 32,
   "id": "b1c98d98-3418-4e88-9a92-aacc2b0c816b",
   "metadata": {},
   "outputs": [
    {
     "data": {
      "text/plain": [
       "'wor'"
      ]
     },
     "execution_count": 32,
     "metadata": {},
     "output_type": "execute_result"
    }
   ],
   "source": [
    "s [6 : 9 ]"
   ]
  },
  {
   "cell_type": "code",
   "execution_count": 33,
   "id": "093fe06a-4fcc-4655-a115-bdd671d5003c",
   "metadata": {},
   "outputs": [
    {
     "data": {
      "text/plain": [
       "'hlow'"
      ]
     },
     "execution_count": 33,
     "metadata": {},
     "output_type": "execute_result"
    }
   ],
   "source": [
    "s [ 0:8:2 ]"
   ]
  },
  {
   "cell_type": "code",
   "execution_count": null,
   "id": "8919161e-d769-43f3-bc04-796352ed96b5",
   "metadata": {},
   "outputs": [],
   "source": []
  },
  {
   "cell_type": "raw",
   "id": "3a183fbe-28af-4791-b26a-b118d211306a",
   "metadata": {},
   "source": [
    "s = 'broadway'\n",
    "\n"
   ]
  },
  {
   "cell_type": "code",
   "execution_count": 42,
   "id": "e7bf3fe8-1b0d-4fe5-804e-f7f123ffc0f7",
   "metadata": {},
   "outputs": [
    {
     "data": {
      "text/plain": [
       "'dwa'"
      ]
     },
     "execution_count": 42,
     "metadata": {},
     "output_type": "execute_result"
    }
   ],
   "source": [
    "s[4:7]\n"
   ]
  },
  {
   "cell_type": "code",
   "execution_count": 36,
   "id": "3d17003d-0c61-424b-95b3-ca34ad462b79",
   "metadata": {},
   "outputs": [
    {
     "data": {
      "text/plain": [
       "'d'"
      ]
     },
     "execution_count": 36,
     "metadata": {},
     "output_type": "execute_result"
    }
   ],
   "source": [
    "s[4]"
   ]
  },
  {
   "cell_type": "code",
   "execution_count": 37,
   "id": "32eaabcb-eb8e-4fa4-85cb-1898befc5938",
   "metadata": {},
   "outputs": [
    {
     "data": {
      "text/plain": [
       "'bro'"
      ]
     },
     "execution_count": 37,
     "metadata": {},
     "output_type": "execute_result"
    }
   ],
   "source": [
    "s[0:3]"
   ]
  },
  {
   "cell_type": "code",
   "execution_count": 38,
   "id": "8b9087d4-8f05-4f31-a52e-e9d0c19dcd1a",
   "metadata": {},
   "outputs": [
    {
     "data": {
      "text/plain": [
       "'way'"
      ]
     },
     "execution_count": 38,
     "metadata": {},
     "output_type": "execute_result"
    }
   ],
   "source": [
    "s[5:8]"
   ]
  },
  {
   "cell_type": "code",
   "execution_count": 39,
   "id": "6ed6526e-c2f5-4f6d-966c-449a5e744fb9",
   "metadata": {},
   "outputs": [
    {
     "data": {
      "text/plain": [
       "'ad'"
      ]
     },
     "execution_count": 39,
     "metadata": {},
     "output_type": "execute_result"
    }
   ],
   "source": [
    "s[3:5]"
   ]
  },
  {
   "cell_type": "code",
   "execution_count": 40,
   "id": "0e1c7eed-d507-4b48-befb-dc0e04d12fe7",
   "metadata": {},
   "outputs": [
    {
     "data": {
      "text/plain": [
       "'road'"
      ]
     },
     "execution_count": 40,
     "metadata": {},
     "output_type": "execute_result"
    }
   ],
   "source": [
    "s[1:5]"
   ]
  },
  {
   "cell_type": "markdown",
   "id": "b57c63be-9014-41f1-9206-f3db095ac404",
   "metadata": {},
   "source": [
    "# range(star,stop,step)"
   ]
  },
  {
   "cell_type": "code",
   "execution_count": 43,
   "id": "a3fe1c22-a987-4274-817e-17aec38ace52",
   "metadata": {},
   "outputs": [
    {
     "data": {
      "text/plain": [
       "range(0, 11)"
      ]
     },
     "execution_count": 43,
     "metadata": {},
     "output_type": "execute_result"
    }
   ],
   "source": [
    "range(0,11)"
   ]
  },
  {
   "cell_type": "code",
   "execution_count": 44,
   "id": "d83e8f5f-4768-4817-bcc0-abc726bccec8",
   "metadata": {},
   "outputs": [
    {
     "name": "stdout",
     "output_type": "stream",
     "text": [
      "0\n",
      "1\n",
      "2\n",
      "3\n",
      "4\n",
      "5\n",
      "6\n",
      "7\n",
      "8\n",
      "9\n",
      "10\n"
     ]
    }
   ],
   "source": [
    "for index in range(0,11):\n",
    "    print(index)"
   ]
  },
  {
   "cell_type": "code",
   "execution_count": 45,
   "id": "d682594c-8c04-49bc-b444-7434a4bd45e2",
   "metadata": {},
   "outputs": [
    {
     "data": {
      "text/plain": [
       "range(10, 16)"
      ]
     },
     "execution_count": 45,
     "metadata": {},
     "output_type": "execute_result"
    }
   ],
   "source": [
    "range(10,16)"
   ]
  },
  {
   "cell_type": "code",
   "execution_count": 46,
   "id": "c5ed2717-70ea-4f4b-bd0d-9c8e8963f2c9",
   "metadata": {},
   "outputs": [
    {
     "name": "stdout",
     "output_type": "stream",
     "text": [
      "10\n",
      "11\n",
      "12\n",
      "13\n",
      "14\n",
      "15\n"
     ]
    }
   ],
   "source": [
    "for index in range(10,16): #print 10 to 15\n",
    "    print(index)"
   ]
  },
  {
   "cell_type": "code",
   "execution_count": 47,
   "id": "0e707eb2-11d6-40a5-b621-c9a631d1c568",
   "metadata": {},
   "outputs": [
    {
     "name": "stdout",
     "output_type": "stream",
     "text": [
      "0\n",
      "1\n",
      "2\n"
     ]
    }
   ],
   "source": [
    "for index in range(0,3):\n",
    "    print(index)\n"
   ]
  },
  {
   "cell_type": "code",
   "execution_count": 51,
   "id": "d778a23a-3df7-4e36-84a5-8b96d2c650b2",
   "metadata": {},
   "outputs": [
    {
     "name": "stdout",
     "output_type": "stream",
     "text": [
      "the index is 0 and the character is b\n",
      "the index is 1 and the character is r\n",
      "the index is 2 and the character is o\n",
      "the index is 3 and the character is a\n",
      "the index is 4 and the character is d\n",
      "the index is 5 and the character is w\n",
      "the index is 6 and the character is a\n",
      "the index is 7 and the character is y\n"
     ]
    }
   ],
   "source": [
    "for index in range(0,len(s)):\n",
    "    character= s[index]\n",
    "    print(f'the index is {index} and the character is {character}')"
   ]
  },
  {
   "cell_type": "code",
   "execution_count": 54,
   "id": "3cd1d90a-0bc9-4d5f-b76b-df7ef96284c6",
   "metadata": {},
   "outputs": [
    {
     "data": {
      "text/plain": [
       "'h'"
      ]
     },
     "execution_count": 54,
     "metadata": {},
     "output_type": "execute_result"
    }
   ],
   "source": [
    "s = 'hello'\n",
    "index = 0 \n",
    "character = s[index]\n",
    "character "
   ]
  },
  {
   "cell_type": "code",
   "execution_count": 55,
   "id": "6d492cb2-3420-4a9a-85bf-023ac5e645c0",
   "metadata": {},
   "outputs": [
    {
     "data": {
      "text/plain": [
       "'e'"
      ]
     },
     "execution_count": 55,
     "metadata": {},
     "output_type": "execute_result"
    }
   ],
   "source": [
    "index = 1 \n",
    "character = s[index]\n",
    "character"
   ]
  },
  {
   "cell_type": "code",
   "execution_count": 56,
   "id": "9381e7d0-eac4-42df-8f6d-cf7773a86387",
   "metadata": {},
   "outputs": [
    {
     "data": {
      "text/plain": [
       "'l'"
      ]
     },
     "execution_count": 56,
     "metadata": {},
     "output_type": "execute_result"
    }
   ],
   "source": [
    "index = 2 \n",
    "character = s[index]\n",
    "character"
   ]
  },
  {
   "cell_type": "code",
   "execution_count": 58,
   "id": "d7d74835-83dc-4667-bd97-7a2b1cffeb0c",
   "metadata": {},
   "outputs": [
    {
     "data": {
      "text/plain": [
       "'l'"
      ]
     },
     "execution_count": 58,
     "metadata": {},
     "output_type": "execute_result"
    }
   ],
   "source": [
    "index = 3\n",
    "character = s[index]\n",
    "character"
   ]
  },
  {
   "cell_type": "code",
   "execution_count": 61,
   "id": "35ae7dfc-c077-4a20-82ae-dd766bab4102",
   "metadata": {},
   "outputs": [
    {
     "name": "stdout",
     "output_type": "stream",
     "text": [
      "the index 0 contains h character\n",
      "the index 1 contains e character\n",
      "the index 2 contains l character\n",
      "the index 3 contains l character\n",
      "the index 4 contains o character\n"
     ]
    }
   ],
   "source": [
    "for index in range( 0,len(s)):\n",
    "    character = s[index]\n",
    "    print(f'the index {index} contains {character} character')\n"
   ]
  },
  {
   "cell_type": "code",
   "execution_count": 62,
   "id": "cd4e7d82-9b86-4a8e-bdd4-9935c7170b40",
   "metadata": {},
   "outputs": [],
   "source": [
    "place = 'broadway'"
   ]
  },
  {
   "cell_type": "code",
   "execution_count": 63,
   "id": "b2d2b006-1604-4a96-ade7-fc617fccf5ee",
   "metadata": {},
   "outputs": [
    {
     "name": "stdout",
     "output_type": "stream",
     "text": [
      "the index 0 contains b character\n",
      "the index 1 contains r character\n",
      "the index 2 contains o character\n",
      "the index 3 contains a character\n",
      "the index 4 contains d character\n",
      "the index 5 contains w character\n",
      "the index 6 contains a character\n",
      "the index 7 contains y character\n"
     ]
    }
   ],
   "source": [
    "for index in range(0,len(place)):\n",
    "    character = place[index]\n",
    "    print(f'the index {index} contains {character} character')"
   ]
  },
  {
   "cell_type": "code",
   "execution_count": null,
   "id": "8b552af7-5aa3-4120-85ba-be0ac913b79f",
   "metadata": {},
   "outputs": [],
   "source": []
  }
 ],
 "metadata": {
  "kernelspec": {
   "display_name": "Python 3 (ipykernel)",
   "language": "python",
   "name": "python3"
  },
  "language_info": {
   "codemirror_mode": {
    "name": "ipython",
    "version": 3
   },
   "file_extension": ".py",
   "mimetype": "text/x-python",
   "name": "python",
   "nbconvert_exporter": "python",
   "pygments_lexer": "ipython3",
   "version": "3.11.5"
  }
 },
 "nbformat": 4,
 "nbformat_minor": 5
}
