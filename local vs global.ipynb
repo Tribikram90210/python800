{
 "cells": [
  {
   "cell_type": "code",
   "execution_count": 1,
   "id": "86229890-61ee-47b4-a3f3-1fd7b35b9c92",
   "metadata": {},
   "outputs": [],
   "source": [
    "name = 'Yogesh'\n",
    "\n",
    "def make_viral():\n",
    "    name = 'Baiguni kto'\n",
    "    print(name)"
   ]
  },
  {
   "cell_type": "code",
   "execution_count": 2,
   "id": "0887862c-65dc-4c19-89a7-6b100e519785",
   "metadata": {},
   "outputs": [
    {
     "data": {
      "text/plain": [
       "'Yogesh'"
      ]
     },
     "execution_count": 2,
     "metadata": {},
     "output_type": "execute_result"
    }
   ],
   "source": [
    "name #  yogesh is a golbal variable"
   ]
  },
  {
   "cell_type": "code",
   "execution_count": 3,
   "id": "1491a71a-17bd-42f8-82a1-dbcd91992b99",
   "metadata": {},
   "outputs": [
    {
     "name": "stdout",
     "output_type": "stream",
     "text": [
      "Baiguni kto\n"
     ]
    }
   ],
   "source": [
    "make_viral()"
   ]
  },
  {
   "cell_type": "code",
   "execution_count": 8,
   "id": "451e2d98-cae6-47fb-bcd1-6b0e74bbb340",
   "metadata": {},
   "outputs": [
    {
     "data": {
      "text/plain": [
       "'Yogesh'"
      ]
     },
     "execution_count": 8,
     "metadata": {},
     "output_type": "execute_result"
    }
   ],
   "source": [
    "name"
   ]
  },
  {
   "cell_type": "code",
   "execution_count": 16,
   "id": "b91191ed-53d6-4363-a978-9bb1d09e9121",
   "metadata": {},
   "outputs": [],
   "source": [
    "name = 'Yogesh'\n",
    "def make_viral():\n",
    "    global name # this make it global\n",
    "    name = 'Baiguni kto'\n",
    "    print(name)"
   ]
  },
  {
   "cell_type": "code",
   "execution_count": 17,
   "id": "95586b75-c973-49b2-b441-62bb4c43778d",
   "metadata": {},
   "outputs": [
    {
     "data": {
      "text/plain": [
       "'Yogesh'"
      ]
     },
     "execution_count": 17,
     "metadata": {},
     "output_type": "execute_result"
    }
   ],
   "source": [
    "name\n"
   ]
  },
  {
   "cell_type": "code",
   "execution_count": 18,
   "id": "66185692-c988-494a-bf93-6d4a261602cb",
   "metadata": {},
   "outputs": [
    {
     "name": "stdout",
     "output_type": "stream",
     "text": [
      "Baiguni kto\n"
     ]
    }
   ],
   "source": [
    "make_viral()"
   ]
  },
  {
   "cell_type": "code",
   "execution_count": 19,
   "id": "6cf85f2d-8925-4755-bd31-c0eb12a6a784",
   "metadata": {},
   "outputs": [
    {
     "data": {
      "text/plain": [
       "'Baiguni kto'"
      ]
     },
     "execution_count": 19,
     "metadata": {},
     "output_type": "execute_result"
    }
   ],
   "source": [
    "name"
   ]
  },
  {
   "cell_type": "code",
   "execution_count": null,
   "id": "f7bf64a2-56cc-4b2a-b97c-a6429c6d5eb0",
   "metadata": {},
   "outputs": [],
   "source": []
  }
 ],
 "metadata": {
  "kernelspec": {
   "display_name": "Python 3 (ipykernel)",
   "language": "python",
   "name": "python3"
  },
  "language_info": {
   "codemirror_mode": {
    "name": "ipython",
    "version": 3
   },
   "file_extension": ".py",
   "mimetype": "text/x-python",
   "name": "python",
   "nbconvert_exporter": "python",
   "pygments_lexer": "ipython3",
   "version": "3.11.5"
  }
 },
 "nbformat": 4,
 "nbformat_minor": 5
}
