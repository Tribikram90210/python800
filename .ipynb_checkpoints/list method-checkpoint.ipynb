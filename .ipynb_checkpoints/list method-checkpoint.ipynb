{
 "cells": [
  {
   "cell_type": "markdown",
   "id": "d4ac7aa4-bd4f-4284-b2cb-a91e6fb74de9",
   "metadata": {},
   "source": [
    "# list is mutable data type\n"
   ]
  },
  {
   "cell_type": "code",
   "execution_count": 1,
   "id": "b18622f7-f81f-4d43-8a10-295e54a6235e",
   "metadata": {},
   "outputs": [
    {
     "data": {
      "text/plain": [
       "'mango'"
      ]
     },
     "execution_count": 1,
     "metadata": {},
     "output_type": "execute_result"
    }
   ],
   "source": [
    "fruits = ['apple','banana','mango','orange','pear']\n",
    "fruits[2]"
   ]
  },
  {
   "cell_type": "code",
   "execution_count": 5,
   "id": "b4b78b45-e34d-467d-bb51-74d7d742651a",
   "metadata": {},
   "outputs": [
    {
     "data": {
      "text/plain": [
       "['apple', 'banana', 'kiwi', 'orange', 'pear']"
      ]
     },
     "execution_count": 5,
     "metadata": {},
     "output_type": "execute_result"
    }
   ],
   "source": [
    "fruits[2]='kiwi'\n",
    "fruits"
   ]
  },
  {
   "cell_type": "code",
   "execution_count": 8,
   "id": "d5aafb81-4bf9-474a-a51f-410652b699b2",
   "metadata": {},
   "outputs": [
    {
     "data": {
      "text/plain": [
       "['apple', 'blackcurrent', 'watermelon', 'orange', 'pear']"
      ]
     },
     "execution_count": 8,
     "metadata": {},
     "output_type": "execute_result"
    }
   ],
   "source": [
    "fruits[1:3]='blackcurrent','watermelon'\n",
    "fruits"
   ]
  },
  {
   "cell_type": "markdown",
   "id": "333e2281-7a15-442a-91e5-57938ec30460",
   "metadata": {},
   "source": [
    "# methods\n",
    "# insert()"
   ]
  },
  {
   "cell_type": "code",
   "execution_count": 9,
   "id": "3d28b10e-981b-47b6-8340-c5120053550a",
   "metadata": {},
   "outputs": [
    {
     "data": {
      "text/plain": [
       "['bmw', 'mercedes', 'ferrari', 'tesla']"
      ]
     },
     "execution_count": 9,
     "metadata": {},
     "output_type": "execute_result"
    }
   ],
   "source": [
    "cars = ['bmw','mercedes','ferrari','tesla']\n",
    "cars\n"
   ]
  },
  {
   "cell_type": "code",
   "execution_count": 12,
   "id": "1b24397d-7790-4d25-9c3a-c590a1d4d968",
   "metadata": {},
   "outputs": [
    {
     "data": {
      "text/plain": [
       "['bmw', 'mercedes', 'ferrari', 'thar', 'thar', 'thar', 'tesla']"
      ]
     },
     "execution_count": 12,
     "metadata": {},
     "output_type": "execute_result"
    }
   ],
   "source": [
    "cars.insert( 3,'thar')\n",
    "cars"
   ]
  },
  {
   "cell_type": "code",
   "execution_count": 15,
   "id": "df7bd510-3fdf-4c3c-b541-930267db32dd",
   "metadata": {},
   "outputs": [
    {
     "data": {
      "text/plain": [
       "['bmw', 'mercedes', 'ferrari']"
      ]
     },
     "execution_count": 15,
     "metadata": {},
     "output_type": "execute_result"
    }
   ],
   "source": [
    "cars = ['bmw','mercedes','ferrari','tesla']\n",
    "cars.remove('tesla')\n",
    "cars"
   ]
  },
  {
   "cell_type": "code",
   "execution_count": 16,
   "id": "b8a9f528-7844-432e-a8b4-26b42fc3955f",
   "metadata": {},
   "outputs": [
    {
     "data": {
      "text/plain": [
       "[2, 4, 6, 1, 3, 5, 7]"
      ]
     },
     "execution_count": 16,
     "metadata": {},
     "output_type": "execute_result"
    }
   ],
   "source": [
    "\n",
    "l1 = [2,4,6]\n",
    "l2 = [1,3,5,7]\n",
    "l1 + l2 \n"
   ]
  },
  {
   "cell_type": "code",
   "execution_count": 20,
   "id": "7f4e8509-4c9f-4098-b0cd-ed288596ee37",
   "metadata": {},
   "outputs": [
    {
     "data": {
      "text/plain": [
       "[2, 4, 6, 1, 3, 5, 7]"
      ]
     },
     "execution_count": 20,
     "metadata": {},
     "output_type": "execute_result"
    }
   ],
   "source": [
    "l1 = [2,4,6] #extend\n",
    "l2 = [1,3,5,7]\n",
    "l1.extend(l2)\n",
    "l1"
   ]
  },
  {
   "cell_type": "markdown",
   "id": "9dac6b89-a9ef-40c7-bf71-49dff2bd0258",
   "metadata": {},
   "source": [
    "# sort"
   ]
  },
  {
   "cell_type": "code",
   "execution_count": 21,
   "id": "4f1a4af4-e7c0-4d7c-8402-f40aae0763b3",
   "metadata": {},
   "outputs": [
    {
     "name": "stdout",
     "output_type": "stream",
     "text": [
      "[-6, -5, -2, 0, 1, 2, 3]\n"
     ]
    }
   ],
   "source": [
    "l1 = [3,0,-6,-2,-5,2,1]\n",
    "l1.sort()# ascending order \n",
    "print(l1)"
   ]
  },
  {
   "cell_type": "code",
   "execution_count": 22,
   "id": "9526c470-044e-4d2a-847d-183fe0fb02ff",
   "metadata": {},
   "outputs": [
    {
     "name": "stdout",
     "output_type": "stream",
     "text": [
      "[3, 2, 1, 0, -2, -5, -6]\n"
     ]
    }
   ],
   "source": [
    "l1 = [3,0,-6,-2,-5,2,1]\n",
    "l1.sort(reverse=True) # descending order list lai update garcha\n",
    "print(l1)"
   ]
  },
  {
   "cell_type": "code",
   "execution_count": 25,
   "id": "2d7a5d82-1730-4917-b526-05f11594fbc4",
   "metadata": {},
   "outputs": [
    {
     "name": "stdout",
     "output_type": "stream",
     "text": [
      "None\n"
     ]
    }
   ],
   "source": [
    "l1 = [3,0,-6,-2,-5,2,1]\n",
    "l1 = l1.sort() # list method apply garda variable assign garna hudaina kina ?list is a mutable data type , method return nonee\n",
    "print(l1)"
   ]
  },
  {
   "cell_type": "code",
   "execution_count": 7,
   "id": "bfbda6de-da78-46fb-8659-368e5abde233",
   "metadata": {},
   "outputs": [
    {
     "data": {
      "text/plain": [
       "[3, 2, 1, 0, -2, -5, -6]"
      ]
     },
     "execution_count": 7,
     "metadata": {},
     "output_type": "execute_result"
    }
   ],
   "source": [
    "l1 = [3,0,-6,-2,-5,2,1]\n",
    "sorted_data = sorted(l1,reverse = True)#sorted() is a built in data type\n",
    "sorted_data"
   ]
  },
  {
   "cell_type": "markdown",
   "id": "c487d344-de3f-4994-a48b-440a08feef35",
   "metadata": {},
   "source": [
    "# append()"
   ]
  },
  {
   "cell_type": "code",
   "execution_count": 10,
   "id": "6b21a8d8-ef57-405d-816d-877955810197",
   "metadata": {},
   "outputs": [
    {
     "data": {
      "text/plain": [
       "[]"
      ]
     },
     "execution_count": 10,
     "metadata": {},
     "output_type": "execute_result"
    }
   ],
   "source": [
    "# create emply list\n",
    "name = []\n",
    "name\n"
   ]
  },
  {
   "cell_type": "code",
   "execution_count": 11,
   "id": "0c90cd15-0084-412c-a80c-ca56f152205d",
   "metadata": {},
   "outputs": [],
   "source": [
    "name.append(\"samir\")\n"
   ]
  },
  {
   "cell_type": "code",
   "execution_count": 12,
   "id": "24363b81-7cbc-4f5a-a7b0-1c1456343daa",
   "metadata": {},
   "outputs": [
    {
     "data": {
      "text/plain": [
       "['samir', 'govind']"
      ]
     },
     "execution_count": 12,
     "metadata": {},
     "output_type": "execute_result"
    }
   ],
   "source": [
    "name.append('govind')\n",
    "name"
   ]
  },
  {
   "cell_type": "code",
   "execution_count": 2,
   "id": "1d748bbd-d5e6-4d77-bc54-15d2e1773d67",
   "metadata": {},
   "outputs": [],
   "source": [
    "l1 = [2,3,5,8,9]\n"
   ]
  },
  {
   "cell_type": "code",
   "execution_count": 3,
   "id": "3c9ffe4c-497e-412b-80f9-8d0e9ea4595c",
   "metadata": {},
   "outputs": [
    {
     "data": {
      "text/plain": [
       "[4, 9, 25, 64, 81]"
      ]
     },
     "execution_count": 3,
     "metadata": {},
     "output_type": "execute_result"
    }
   ],
   "source": [
    "sq = []\n",
    "for item in l1:\n",
    "    sq.append(item**2)\n",
    "sq\n",
    "    "
   ]
  },
  {
   "cell_type": "code",
   "execution_count": 9,
   "id": "82be2c3b-e661-438d-9ab7-706ce68b0b1c",
   "metadata": {},
   "outputs": [
    {
     "name": "stdout",
     "output_type": "stream",
     "text": [
      "[]\n",
      "[8]\n",
      "[8, 27]\n",
      "[8, 27, 125]\n",
      "[8, 27, 125, 512]\n"
     ]
    },
    {
     "data": {
      "text/plain": [
       "[8, 27, 125, 512, 729]"
      ]
     },
     "execution_count": 9,
     "metadata": {},
     "output_type": "execute_result"
    }
   ],
   "source": [
    "l1 = [2,3,5,8,9]\n",
    "cube = []\n",
    "for item in l1:\n",
    "    print(cube)\n",
    "    cube.append(item**3)\n",
    "cube"
   ]
  },
  {
   "cell_type": "markdown",
   "id": "de5468ef-6365-40b9-927d-e0c4c95a1ffe",
   "metadata": {},
   "source": [
    "# .pop()"
   ]
  },
  {
   "cell_type": "code",
   "execution_count": 13,
   "id": "0e7a9218-21b4-497b-9f05-fdde3799d4fb",
   "metadata": {},
   "outputs": [
    {
     "data": {
      "text/plain": [
       "729"
      ]
     },
     "execution_count": 13,
     "metadata": {},
     "output_type": "execute_result"
    }
   ],
   "source": [
    "l1 = [8, 27, 125, 512, 729]\n",
    "l1.pop()"
   ]
  },
  {
   "cell_type": "code",
   "execution_count": 14,
   "id": "3c14dce7-af4f-46a0-b5a3-fe865ddf3a3a",
   "metadata": {},
   "outputs": [
    {
     "data": {
      "text/plain": [
       "512"
      ]
     },
     "execution_count": 14,
     "metadata": {},
     "output_type": "execute_result"
    }
   ],
   "source": [
    "l1.pop()\n"
   ]
  },
  {
   "cell_type": "code",
   "execution_count": 15,
   "id": "5fd5d38e-a5bf-46b4-8a10-a42716552416",
   "metadata": {},
   "outputs": [
    {
     "data": {
      "text/plain": [
       "[8, 27, 125]"
      ]
     },
     "execution_count": 15,
     "metadata": {},
     "output_type": "execute_result"
    }
   ],
   "source": [
    "l1"
   ]
  },
  {
   "cell_type": "code",
   "execution_count": 16,
   "id": "685ac38d-d8cb-4644-ac57-b89b55b0eed2",
   "metadata": {},
   "outputs": [
    {
     "data": {
      "text/plain": [
       "'tesla'"
      ]
     },
     "execution_count": 16,
     "metadata": {},
     "output_type": "execute_result"
    }
   ],
   "source": [
    "cars = ['bmw','mercedes','ferrari','tesla']\n",
    "cars.pop()"
   ]
  },
  {
   "cell_type": "code",
   "execution_count": 17,
   "id": "0ea65d69-7938-4256-92b1-f516aa02c6aa",
   "metadata": {},
   "outputs": [
    {
     "data": {
      "text/plain": [
       "'ferrari'"
      ]
     },
     "execution_count": 17,
     "metadata": {},
     "output_type": "execute_result"
    }
   ],
   "source": [
    "cars.pop()\n"
   ]
  },
  {
   "cell_type": "code",
   "execution_count": 18,
   "id": "7aeb725a-f17c-429d-88c8-da3dd814e70c",
   "metadata": {},
   "outputs": [
    {
     "data": {
      "text/plain": [
       "['bmw', 'mercedes']"
      ]
     },
     "execution_count": 18,
     "metadata": {},
     "output_type": "execute_result"
    }
   ],
   "source": [
    "cars"
   ]
  },
  {
   "cell_type": "markdown",
   "id": "4d50aefe-7545-46fc-8867-a0d26eca1acb",
   "metadata": {},
   "source": [
    "# using python list as stack and queue\n",
    "stack:\n",
    "* stack ma lifo huncha(last in first out)\n",
    "* .append() push item in stack : push method\n",
    "* pop method : .pop() pops out last item in stack \n",
    "queue:\n",
    "* Fif0(First in first out)\n",
    "* enqueue:adds item to the queue\n",
    "* deque: removes item to the queue \n",
    "  "
   ]
  },
  {
   "cell_type": "markdown",
   "id": "3f9cde57-e52c-49b5-8db6-e8289fa176d5",
   "metadata": {},
   "source": [
    " [list methods and list as stack an queue(https://docs.python.org/3/tutorial/datastructures.html)"
   ]
  },
  {
   "cell_type": "code",
   "execution_count": 20,
   "id": "f6b1d157-4aa8-4238-becf-8a99a5e4c61e",
   "metadata": {},
   "outputs": [
    {
     "data": {
      "text/plain": [
       "[3, 4, 5, 6, 7]"
      ]
     },
     "execution_count": 20,
     "metadata": {},
     "output_type": "execute_result"
    }
   ],
   "source": [
    "stack = [ 3, 4, 5]\n",
    "stack.append(6)\n",
    "stack.append(7)\n",
    "stack\n"
   ]
  },
  {
   "cell_type": "code",
   "execution_count": 21,
   "id": "a84b1a15-16cd-4b6d-b223-aa0fcbfc2fc3",
   "metadata": {},
   "outputs": [
    {
     "data": {
      "text/plain": [
       "7"
      ]
     },
     "execution_count": 21,
     "metadata": {},
     "output_type": "execute_result"
    }
   ],
   "source": [
    "stack.pop()"
   ]
  },
  {
   "cell_type": "code",
   "execution_count": 22,
   "id": "b98ba13f-8f04-4e7e-96b9-e4c87dbf753f",
   "metadata": {},
   "outputs": [
    {
     "data": {
      "text/plain": [
       "6"
      ]
     },
     "execution_count": 22,
     "metadata": {},
     "output_type": "execute_result"
    }
   ],
   "source": [
    "stack.pop()"
   ]
  },
  {
   "cell_type": "code",
   "execution_count": 23,
   "id": "b3dd87f3-272e-4431-a2d4-94b7823334f4",
   "metadata": {},
   "outputs": [
    {
     "data": {
      "text/plain": [
       "[3, 4, 5]"
      ]
     },
     "execution_count": 23,
     "metadata": {},
     "output_type": "execute_result"
    }
   ],
   "source": [
    "stack\n"
   ]
  },
  {
   "cell_type": "code",
   "execution_count": 24,
   "id": "c4d68300-2e46-4ee1-8617-c705a7f1e886",
   "metadata": {},
   "outputs": [],
   "source": [
    "import random"
   ]
  },
  {
   "cell_type": "code",
   "execution_count": 27,
   "id": "0dd3c873-e921-4bbe-b85e-978d81c50e07",
   "metadata": {},
   "outputs": [
    {
     "data": {
      "text/plain": [
       "9"
      ]
     },
     "execution_count": 27,
     "metadata": {},
     "output_type": "execute_result"
    }
   ],
   "source": [
    "random.randint(1,10) #generates one random integer between 1 to 10 (non deterministic algorithm)"
   ]
  },
  {
   "cell_type": "code",
   "execution_count": 28,
   "id": "d8aab0b2-1222-4afd-82b1-456e3107b581",
   "metadata": {},
   "outputs": [
    {
     "data": {
      "text/plain": [
       "7"
      ]
     },
     "execution_count": 28,
     "metadata": {},
     "output_type": "execute_result"
    }
   ],
   "source": [
    "random.seed(0)\n",
    "random.randint(1,10) # deterministic algorithm"
   ]
  },
  {
   "cell_type": "code",
   "execution_count": 29,
   "id": "d6c22691-f24b-4831-b7b4-11de58b4097e",
   "metadata": {},
   "outputs": [
    {
     "data": {
      "text/plain": [
       "[7, 1, 5, 9, 8]"
      ]
     },
     "execution_count": 29,
     "metadata": {},
     "output_type": "execute_result"
    }
   ],
   "source": [
    "random_number = []\n",
    "for index in range(5):\n",
    "    number = random.randint(1,10)\n",
    "    random_number.append(number)\n",
    "random_number"
   ]
  },
  {
   "cell_type": "code",
   "execution_count": 30,
   "id": "12eb2938-f424-4f16-945f-a65d80efa757",
   "metadata": {},
   "outputs": [
    {
     "data": {
      "text/plain": [
       "[8, 10, 9, 1, 4]"
      ]
     },
     "execution_count": 30,
     "metadata": {},
     "output_type": "execute_result"
    }
   ],
   "source": [
    "random_number = []\n",
    "random.seed(40)\n",
    "for index in range(5):\n",
    "    number = random.randint(1,10)\n",
    "    random_number.append(number)\n",
    "random_number"
   ]
  },
  {
   "cell_type": "code",
   "execution_count": 34,
   "id": "d92ffc28-25ae-45c0-aeb4-9f735a9b78fd",
   "metadata": {},
   "outputs": [
    {
     "data": {
      "text/plain": [
       "[8, 10, 9, 1, 4]"
      ]
     },
     "execution_count": 34,
     "metadata": {},
     "output_type": "execute_result"
    }
   ],
   "source": [
    "random.seed(40)\n",
    "[random.randint(1,10) for index in range(5)] # list comprehension"
   ]
  },
  {
   "cell_type": "markdown",
   "id": "c6aec51d-c3af-43be-9b28-db7cbe639a27",
   "metadata": {},
   "source": [
    "# expression for item variable"
   ]
  },
  {
   "cell_type": "code",
   "execution_count": 37,
   "id": "4980f9d9-76ee-4e8c-81eb-e9362483ea5a",
   "metadata": {},
   "outputs": [
    {
     "data": {
      "text/plain": [
       "[25, 9, 81, 36]"
      ]
     },
     "execution_count": 37,
     "metadata": {},
     "output_type": "execute_result"
    }
   ],
   "source": [
    "data = [5 , 3,  9 , 6]\n",
    "sq = []\n",
    "for item in data:\n",
    "    sq.append(item**2)\n",
    "sq\n"
   ]
  },
  {
   "cell_type": "code",
   "execution_count": 38,
   "id": "e6c1811b-2772-4668-9e9a-f1b9ef359f96",
   "metadata": {},
   "outputs": [
    {
     "data": {
      "text/plain": [
       "[25, 9, 81, 36]"
      ]
     },
     "execution_count": 38,
     "metadata": {},
     "output_type": "execute_result"
    }
   ],
   "source": [
    "[item**2 for item in data]"
   ]
  },
  {
   "cell_type": "code",
   "execution_count": 42,
   "id": "7129ef90-18d2-4eeb-9599-924e6c19f858",
   "metadata": {},
   "outputs": [
    {
     "data": {
      "text/plain": [
       "[125, 27, 729, 216]"
      ]
     },
     "execution_count": 42,
     "metadata": {},
     "output_type": "execute_result"
    }
   ],
   "source": [
    "data = [5 ,3 , 9 ,6] \n",
    "cube= []\n",
    "for item in data:\n",
    "    cube.append(item**3)\n",
    "cube"
   ]
  },
  {
   "cell_type": "code",
   "execution_count": 43,
   "id": "088ca82c-4fde-41d6-ada3-6b6a66c805af",
   "metadata": {},
   "outputs": [
    {
     "data": {
      "text/plain": [
       "[125, 27, 729, 216]"
      ]
     },
     "execution_count": 43,
     "metadata": {},
     "output_type": "execute_result"
    }
   ],
   "source": [
    "[item**3 for item in data]"
   ]
  },
  {
   "cell_type": "markdown",
   "id": "7e2e842c-4728-4270-871f-2efd2380d41a",
   "metadata": {},
   "source": [
    "# list comprehension with if\n"
   ]
  },
  {
   "cell_type": "markdown",
   "id": "9f092bca-eee7-4267-b1cf-c973bf52c7c6",
   "metadata": {},
   "source": [
    "Syntax:\n",
    "python\n",
    "{expression in item is iterable if True}"
   ]
  },
  {
   "cell_type": "code",
   "execution_count": 46,
   "id": "929497df-2ab8-4b5b-b015-a36fea551240",
   "metadata": {},
   "outputs": [
    {
     "data": {
      "text/plain": [
       "[2, 6, 8]"
      ]
     },
     "execution_count": 46,
     "metadata": {},
     "output_type": "execute_result"
    }
   ],
   "source": [
    "l1 = [2,3,5,6,8,9]\n",
    "[item for item in l1 if item % 2 == 0] #even number"
   ]
  },
  {
   "cell_type": "code",
   "execution_count": 47,
   "id": "b3eba47b-3f59-4958-9313-9944a682e8fd",
   "metadata": {},
   "outputs": [
    {
     "data": {
      "text/plain": [
       "[3, 5, 9]"
      ]
     },
     "execution_count": 47,
     "metadata": {},
     "output_type": "execute_result"
    }
   ],
   "source": [
    "[item for item in l1 if item % 2 !=0] # odd number"
   ]
  },
  {
   "cell_type": "code",
   "execution_count": 48,
   "id": "f26883c2-5e01-4d95-82b9-73f15fddb7e0",
   "metadata": {},
   "outputs": [],
   "source": [
    "data = [ 2,3,-1,0,6,-3]"
   ]
  },
  {
   "cell_type": "code",
   "execution_count": 51,
   "id": "2059d556-5f8b-4a08-8f9f-8ad7e53f021d",
   "metadata": {},
   "outputs": [],
   "source": [
    "# i want data <=2"
   ]
  },
  {
   "cell_type": "code",
   "execution_count": 50,
   "id": "1993f0c5-a242-4998-889d-554b69e5d518",
   "metadata": {},
   "outputs": [
    {
     "data": {
      "text/plain": [
       "[2, -1, 0, -3]"
      ]
     },
     "execution_count": 50,
     "metadata": {},
     "output_type": "execute_result"
    }
   ],
   "source": [
    "[item for item in data if item <=2]"
   ]
  },
  {
   "cell_type": "markdown",
   "id": "dd732e01-21c2-4c23-aef5-12cbe1fdd0e6",
   "metadata": {},
   "source": [
    "# list comprehension with if else\n",
    "syntax:\n",
    "[Expression if True else expression for item in iterable:]"
   ]
  },
  {
   "cell_type": "code",
   "execution_count": 53,
   "id": "e7424e51-0cc0-4b11-a991-a405491eca9b",
   "metadata": {},
   "outputs": [],
   "source": [
    "data = range(-3,3)\n"
   ]
  },
  {
   "cell_type": "code",
   "execution_count": 54,
   "id": "9fcf3066-a221-491a-bce9-bed7bfd68d44",
   "metadata": {},
   "outputs": [],
   "source": [
    "# if item <= 0 ; 0 hunu paryo jasto ko testai"
   ]
  },
  {
   "cell_type": "code",
   "execution_count": 55,
   "id": "74906f7e-0cea-408c-ae86-1312af1e3766",
   "metadata": {},
   "outputs": [
    {
     "data": {
      "text/plain": [
       "[0, 0, 0, 0, 1, 2]"
      ]
     },
     "execution_count": 55,
     "metadata": {},
     "output_type": "execute_result"
    }
   ],
   "source": [
    "[0 if item <= 0 else item for item in data ]"
   ]
  },
  {
   "cell_type": "markdown",
   "id": "f0c8284d-f4f9-4a36-9975-6627c309bbbf",
   "metadata": {},
   "source": [
    "# string or list or tuple or dictionary\n",
    "* expression for item is iterable\n",
    "* expression for item is iterable if true\n",
    "* \n"
   ]
  },
  {
   "cell_type": "code",
   "execution_count": null,
   "id": "66a085d8-4ac5-4bdc-ac85-d72a3c75c9fb",
   "metadata": {},
   "outputs": [],
   "source": []
  }
 ],
 "metadata": {
  "kernelspec": {
   "display_name": "Python 3 (ipykernel)",
   "language": "python",
   "name": "python3"
  },
  "language_info": {
   "codemirror_mode": {
    "name": "ipython",
    "version": 3
   },
   "file_extension": ".py",
   "mimetype": "text/x-python",
   "name": "python",
   "nbconvert_exporter": "python",
   "pygments_lexer": "ipython3",
   "version": "3.11.5"
  }
 },
 "nbformat": 4,
 "nbformat_minor": 5
}
