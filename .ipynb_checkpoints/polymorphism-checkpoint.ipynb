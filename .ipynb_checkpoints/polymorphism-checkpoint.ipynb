{
 "cells": [
  {
   "cell_type": "markdown",
   "id": "c136ae24-f601-4a9c-abc1-69a9431f0158",
   "metadata": {},
   "source": [
    "# polymorphism"
   ]
  },
  {
   "cell_type": "code",
   "execution_count": 8,
   "id": "e875fbb3-5228-44c4-861b-82d56d020fc6",
   "metadata": {},
   "outputs": [],
   "source": [
    "class P:\n",
    "    def paisa_chaiyo(self): # diplay = paisa_chaiyo\n",
    "        print('Ma sanga chaina tei vayera parent ko goji bata aunxa')\n",
    "class C(P):\n",
    "    def __init__(self):\n",
    "        super().__init__()"
   ]
  },
  {
   "cell_type": "code",
   "execution_count": 9,
   "id": "37bc8f06-e69a-4eec-abb6-7d010757399e",
   "metadata": {},
   "outputs": [],
   "source": [
    "ma = C()"
   ]
  },
  {
   "cell_type": "code",
   "execution_count": 10,
   "id": "f0ce2aab-c9c3-488c-a6cb-619c279b2bc9",
   "metadata": {},
   "outputs": [
    {
     "name": "stdout",
     "output_type": "stream",
     "text": [
      "Ma sanga chaina tei vayera parent ko goji bata aunxa\n"
     ]
    }
   ],
   "source": [
    "ma.paisa_chaiyo()"
   ]
  },
  {
   "cell_type": "code",
   "execution_count": 11,
   "id": "3006d35f-d010-4830-81d3-4f8d42113911",
   "metadata": {},
   "outputs": [],
   "source": [
    "class P:\n",
    "    def paisa_chaiyo(self): # diplay = paisa_chaiyo\n",
    "        print('Ma sanga chaina tei vayera parent ko goji bata aunxa')\n",
    "class C(P):\n",
    "    def __init__(self):\n",
    "        super().__init__()\n",
    "    def paisa_chaiyo(self):\n",
    "        print('Ma sanga paisa xa ma parent sanga magdina')"
   ]
  },
  {
   "cell_type": "code",
   "execution_count": 12,
   "id": "7f4b3697-1071-43fc-bf4e-d96c117a387c",
   "metadata": {},
   "outputs": [],
   "source": [
    "ma = C()"
   ]
  },
  {
   "cell_type": "code",
   "execution_count": 13,
   "id": "aa21a084-7cbb-4572-b387-41a918ed6584",
   "metadata": {},
   "outputs": [
    {
     "name": "stdout",
     "output_type": "stream",
     "text": [
      "Ma sanga paisa xa ma parent sanga magdina\n"
     ]
    }
   ],
   "source": [
    "ma.paisa_chaiyo() # overriding function like this is called polymorphism"
   ]
  },
  {
   "cell_type": "markdown",
   "id": "fd804754-14ca-4d3e-a9a3-b34183cfa26e",
   "metadata": {},
   "source": [
    "# operators"
   ]
  },
  {
   "cell_type": "code",
   "execution_count": 14,
   "id": "590778d1-03a8-4adc-a56b-a561b7803232",
   "metadata": {},
   "outputs": [
    {
     "data": {
      "text/plain": [
       "5"
      ]
     },
     "execution_count": 14,
     "metadata": {},
     "output_type": "execute_result"
    }
   ],
   "source": [
    "2 + 3"
   ]
  },
  {
   "cell_type": "code",
   "execution_count": 15,
   "id": "246c8d1a-83ae-4b15-a43e-a08bb895965a",
   "metadata": {},
   "outputs": [
    {
     "data": {
      "text/plain": [
       "'RadheRadhe'"
      ]
     },
     "execution_count": 15,
     "metadata": {},
     "output_type": "execute_result"
    }
   ],
   "source": [
    "'Radhe' +'Radhe'"
   ]
  },
  {
   "cell_type": "code",
   "execution_count": 16,
   "id": "50dae39a-f239-498c-b6b4-20fc66119004",
   "metadata": {},
   "outputs": [
    {
     "data": {
      "text/plain": [
       "[66, 2, 13, 3, 5]"
      ]
     },
     "execution_count": 16,
     "metadata": {},
     "output_type": "execute_result"
    }
   ],
   "source": [
    "[66,2,13]+[3,5]"
   ]
  },
  {
   "cell_type": "code",
   "execution_count": 17,
   "id": "18366e00-f5e9-4cd8-9c25-cdc4c2649051",
   "metadata": {},
   "outputs": [],
   "source": [
    "class Point:\n",
    "    def __init__(self,point):\n",
    "        self.point = point"
   ]
  },
  {
   "cell_type": "code",
   "execution_count": 18,
   "id": "d1c4889b-81bf-4165-8af5-c2b4ef8e2dc4",
   "metadata": {},
   "outputs": [],
   "source": [
    "p1 = Point(point=2)\n",
    "p2 = Point(point=9)\n"
   ]
  },
  {
   "cell_type": "code",
   "execution_count": 19,
   "id": "5363d283-e05d-4856-8f34-c8a040054bc7",
   "metadata": {},
   "outputs": [
    {
     "ename": "TypeError",
     "evalue": "unsupported operand type(s) for +: 'Point' and 'Point'",
     "output_type": "error",
     "traceback": [
      "\u001b[1;31m---------------------------------------------------------------------------\u001b[0m",
      "\u001b[1;31mTypeError\u001b[0m                                 Traceback (most recent call last)",
      "Cell \u001b[1;32mIn[19], line 1\u001b[0m\n\u001b[1;32m----> 1\u001b[0m \u001b[43mp1\u001b[49m\u001b[38;5;241;43m+\u001b[39;49m\u001b[43mp2\u001b[49m\n",
      "\u001b[1;31mTypeError\u001b[0m: unsupported operand type(s) for +: 'Point' and 'Point'"
     ]
    }
   ],
   "source": [
    "p1 + p2"
   ]
  },
  {
   "cell_type": "markdown",
   "id": "3b47d4f3-ceba-4400-aab6-14b8cb37ac26",
   "metadata": {},
   "source": [
    "# Dunder\r\n",
    "Dunder or magic methods in Python are the methods having two prefix and suffix underscores in the method name. Dunder here means “Double Under (Underscores)”. These are commonly used for operator overloading. Few examples for magic methods are: __init__, __add__, __len__, __repr__ etc."
   ]
  },
  {
   "cell_type": "code",
   "execution_count": 22,
   "id": "829c2abd-baf0-4168-90de-2585b273fc65",
   "metadata": {},
   "outputs": [],
   "source": [
    "class Point:\n",
    "    def __init__(self,point):\n",
    "        self.point = point\n",
    "    def __add__(self,other_obj):\n",
    "        return self.point + other_obj.point\n",
    "    "
   ]
  },
  {
   "cell_type": "code",
   "execution_count": 23,
   "id": "37ec705d-0088-47ee-a525-bd4bd741a334",
   "metadata": {},
   "outputs": [
    {
     "data": {
      "text/plain": [
       "11"
      ]
     },
     "execution_count": 23,
     "metadata": {},
     "output_type": "execute_result"
    }
   ],
   "source": [
    "p1 = Point(point = 2 )\n",
    "p2 = Point(point= 9 )\n",
    "p1 + p2 "
   ]
  },
  {
   "cell_type": "code",
   "execution_count": 24,
   "id": "d23bbf5f-1b02-4f3f-8cea-6dabea6321f4",
   "metadata": {},
   "outputs": [],
   "source": [
    "class Point:\n",
    "    def __init__(self,point):\n",
    "        self.point = point\n",
    "    def __add__(self,other_obj):\n",
    "        return self.point + other_obj.point\n",
    "    def __eq__(p1,p2):\n",
    "        return p1.point == p2.point\n",
    "    def __lt__(p1,p2):\n",
    "        return p1.point < p2.point\n",
    "    "
   ]
  },
  {
   "cell_type": "code",
   "execution_count": 25,
   "id": "06da5a96-1f6c-4ef9-8809-882a0328f803",
   "metadata": {},
   "outputs": [
    {
     "data": {
      "text/plain": [
       "11"
      ]
     },
     "execution_count": 25,
     "metadata": {},
     "output_type": "execute_result"
    }
   ],
   "source": [
    "p1 = Point(point = 2 )\n",
    "p2 = Point(point= 9 )\n",
    "p1 + p2 "
   ]
  },
  {
   "cell_type": "code",
   "execution_count": 26,
   "id": "60fdf021-85f7-4a13-b430-c3a5ff4a657c",
   "metadata": {},
   "outputs": [
    {
     "data": {
      "text/plain": [
       "False"
      ]
     },
     "execution_count": 26,
     "metadata": {},
     "output_type": "execute_result"
    }
   ],
   "source": [
    "p1 == p2"
   ]
  },
  {
   "cell_type": "code",
   "execution_count": 27,
   "id": "008cfb96-59e0-462c-970d-f86ca06e31f6",
   "metadata": {},
   "outputs": [
    {
     "data": {
      "text/plain": [
       "True"
      ]
     },
     "execution_count": 27,
     "metadata": {},
     "output_type": "execute_result"
    }
   ],
   "source": [
    "p1 < p2 "
   ]
  },
  {
   "cell_type": "code",
   "execution_count": 28,
   "id": "35a68077-0d06-497f-bbae-b156f595bc27",
   "metadata": {},
   "outputs": [
    {
     "data": {
      "text/plain": [
       "False"
      ]
     },
     "execution_count": 28,
     "metadata": {},
     "output_type": "execute_result"
    }
   ],
   "source": [
    "p1 > p2"
   ]
  },
  {
   "cell_type": "code",
   "execution_count": null,
   "id": "815fc19d-2497-4581-aa3a-6ae63db68fd1",
   "metadata": {},
   "outputs": [],
   "source": []
  }
 ],
 "metadata": {
  "kernelspec": {
   "display_name": "Python 3 (ipykernel)",
   "language": "python",
   "name": "python3"
  },
  "language_info": {
   "codemirror_mode": {
    "name": "ipython",
    "version": 3
   },
   "file_extension": ".py",
   "mimetype": "text/x-python",
   "name": "python",
   "nbconvert_exporter": "python",
   "pygments_lexer": "ipython3",
   "version": "3.11.5"
  }
 },
 "nbformat": 4,
 "nbformat_minor": 5
}
