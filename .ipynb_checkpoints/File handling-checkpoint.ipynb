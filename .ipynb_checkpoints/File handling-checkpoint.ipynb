{
 "cells": [
  {
   "cell_type": "markdown",
   "id": "b9954fe7-62b4-4ee4-a5c0-0cc7f1b3fa18",
   "metadata": {},
   "source": [
    "# file handling\n",
    "* open :` open(filename,mode)`\n",
    "* close: `file.close()`\n",
    "\n",
    "Different mode to open a file:\n",
    "\n",
    "* create : x\n",
    "* read : r\n",
    "* write : w\n",
    "* append : a"
   ]
  },
  {
   "cell_type": "code",
   "execution_count": 1,
   "id": "d8acf238-8609-4cd4-b08c-9329a7995aee",
   "metadata": {},
   "outputs": [],
   "source": [
    "import os"
   ]
  },
  {
   "cell_type": "code",
   "execution_count": 3,
   "id": "4aaf017d-5b2a-47d8-8227-37f5a4048bde",
   "metadata": {},
   "outputs": [
    {
     "data": {
      "text/plain": [
       "False"
      ]
     },
     "execution_count": 3,
     "metadata": {},
     "output_type": "execute_result"
    }
   ],
   "source": [
    "os.path.exists('boradway.txt') # no file name on operating system"
   ]
  },
  {
   "cell_type": "code",
   "execution_count": 8,
   "id": "054bc6cd-1db0-4848-a482-1a28b0d436c1",
   "metadata": {},
   "outputs": [
    {
     "ename": "FileNotFoundError",
     "evalue": "[Errno 2] No such file or directory: 'broadway.txt'",
     "output_type": "error",
     "traceback": [
      "\u001b[1;31m---------------------------------------------------------------------------\u001b[0m",
      "\u001b[1;31mFileNotFoundError\u001b[0m                         Traceback (most recent call last)",
      "Cell \u001b[1;32mIn[8], line 1\u001b[0m\n\u001b[1;32m----> 1\u001b[0m file \u001b[38;5;241m=\u001b[39m \u001b[38;5;28;43mopen\u001b[39;49m\u001b[43m(\u001b[49m\u001b[38;5;124;43m'\u001b[39;49m\u001b[38;5;124;43mbroadway.txt\u001b[39;49m\u001b[38;5;124;43m'\u001b[39;49m\u001b[43m,\u001b[49m\u001b[38;5;124;43m'\u001b[39;49m\u001b[38;5;124;43mr\u001b[39;49m\u001b[38;5;124;43m'\u001b[39;49m\u001b[43m)\u001b[49m \u001b[38;5;66;03m# no filename name broadway.txt\u001b[39;00m\n",
      "File \u001b[1;32m~\\AppData\\Local\\Programs\\Python\\Python311\\Lib\\site-packages\\IPython\\core\\interactiveshell.py:286\u001b[0m, in \u001b[0;36m_modified_open\u001b[1;34m(file, *args, **kwargs)\u001b[0m\n\u001b[0;32m    279\u001b[0m \u001b[38;5;28;01mif\u001b[39;00m file \u001b[38;5;129;01min\u001b[39;00m {\u001b[38;5;241m0\u001b[39m, \u001b[38;5;241m1\u001b[39m, \u001b[38;5;241m2\u001b[39m}:\n\u001b[0;32m    280\u001b[0m     \u001b[38;5;28;01mraise\u001b[39;00m \u001b[38;5;167;01mValueError\u001b[39;00m(\n\u001b[0;32m    281\u001b[0m         \u001b[38;5;124mf\u001b[39m\u001b[38;5;124m\"\u001b[39m\u001b[38;5;124mIPython won\u001b[39m\u001b[38;5;124m'\u001b[39m\u001b[38;5;124mt let you open fd=\u001b[39m\u001b[38;5;132;01m{\u001b[39;00mfile\u001b[38;5;132;01m}\u001b[39;00m\u001b[38;5;124m by default \u001b[39m\u001b[38;5;124m\"\u001b[39m\n\u001b[0;32m    282\u001b[0m         \u001b[38;5;124m\"\u001b[39m\u001b[38;5;124mas it is likely to crash IPython. If you know what you are doing, \u001b[39m\u001b[38;5;124m\"\u001b[39m\n\u001b[0;32m    283\u001b[0m         \u001b[38;5;124m\"\u001b[39m\u001b[38;5;124myou can use builtins\u001b[39m\u001b[38;5;124m'\u001b[39m\u001b[38;5;124m open.\u001b[39m\u001b[38;5;124m\"\u001b[39m\n\u001b[0;32m    284\u001b[0m     )\n\u001b[1;32m--> 286\u001b[0m \u001b[38;5;28;01mreturn\u001b[39;00m \u001b[43mio_open\u001b[49m\u001b[43m(\u001b[49m\u001b[43mfile\u001b[49m\u001b[43m,\u001b[49m\u001b[43m \u001b[49m\u001b[38;5;241;43m*\u001b[39;49m\u001b[43margs\u001b[49m\u001b[43m,\u001b[49m\u001b[43m \u001b[49m\u001b[38;5;241;43m*\u001b[39;49m\u001b[38;5;241;43m*\u001b[39;49m\u001b[43mkwargs\u001b[49m\u001b[43m)\u001b[49m\n",
      "\u001b[1;31mFileNotFoundError\u001b[0m: [Errno 2] No such file or directory: 'broadway.txt'"
     ]
    }
   ],
   "source": [
    "file = open('broadway.txt','r') # no filename name broadway.txt"
   ]
  },
  {
   "cell_type": "code",
   "execution_count": 3,
   "id": "41e965b5-4604-4716-8995-d29a28dda14a",
   "metadata": {},
   "outputs": [
    {
     "name": "stdout",
     "output_type": "stream",
     "text": [
      "[Errno 2] No such file or directory: 'broadway.txt'\n"
     ]
    }
   ],
   "source": [
    "try:\n",
    "    file = open('broadway.txt','r')\n",
    "except Exception as e: # exception checked\n",
    "    print(e)\n",
    "                "
   ]
  },
  {
   "cell_type": "code",
   "execution_count": 5,
   "id": "c212d5b8-a59c-454d-b4e0-1ffcde9eebe9",
   "metadata": {},
   "outputs": [
    {
     "name": "stdout",
     "output_type": "stream",
     "text": [
      "[Errno 2] No such file or directory: 'broadway.txt'\n"
     ]
    }
   ],
   "source": [
    "try:\n",
    "    file = open('broadway.txt','r')\n",
    "except FileNotFoundError as e: # exception checked\n",
    "    print(e)\n",
    "               "
   ]
  },
  {
   "cell_type": "markdown",
   "id": "d4c22962-21c7-4d66-bead-c277c0cf6ba6",
   "metadata": {},
   "source": [
    "# Read"
   ]
  },
  {
   "cell_type": "code",
   "execution_count": 2,
   "id": "b7f9a794-e74c-4339-8c45-dd4a6b9a8473",
   "metadata": {},
   "outputs": [],
   "source": [
    "import os"
   ]
  },
  {
   "cell_type": "code",
   "execution_count": 3,
   "id": "239df7a6-98bc-4971-8d40-3d7f3f62a980",
   "metadata": {},
   "outputs": [
    {
     "data": {
      "text/plain": [
       "True"
      ]
     },
     "execution_count": 3,
     "metadata": {},
     "output_type": "execute_result"
    }
   ],
   "source": [
    "os.path.exists('student.txt')"
   ]
  },
  {
   "cell_type": "code",
   "execution_count": 4,
   "id": "e017b966-75f3-47bb-ab2f-4dd9ef2b584f",
   "metadata": {},
   "outputs": [],
   "source": [
    "file = open('student.txt','r')\n",
    "text = file.read() # reads everything at once\n",
    "file.close()"
   ]
  },
  {
   "cell_type": "code",
   "execution_count": 5,
   "id": "b84a85c4-c37a-44d4-91d9-488bf0dd182e",
   "metadata": {},
   "outputs": [
    {
     "name": "stdout",
     "output_type": "stream",
     "text": [
      "Binamra\n",
      "Sachhyam\n",
      "Anil\n",
      "Shrijana\n",
      "Sudip\n",
      "Samir\n"
     ]
    }
   ],
   "source": [
    "print(text)"
   ]
  },
  {
   "cell_type": "code",
   "execution_count": 7,
   "id": "a3e0aa31-091a-4c5f-8356-5507a7b2d486",
   "metadata": {},
   "outputs": [
    {
     "name": "stdout",
     "output_type": "stream",
     "text": [
      "Binamra\n",
      "\n"
     ]
    }
   ],
   "source": [
    "file = open('student.txt','r')\n",
    "text = file.readline() # reads one paragraph only\n",
    "file.close()\n",
    "print(text)\n"
   ]
  },
  {
   "cell_type": "code",
   "execution_count": 11,
   "id": "135ac298-8908-473b-a9ec-827df905e528",
   "metadata": {},
   "outputs": [
    {
     "name": "stdout",
     "output_type": "stream",
     "text": [
      "<class 'list'>\n",
      "Binamra\n",
      "\n",
      "Sachhyam\n",
      "\n",
      "Anil\n",
      "\n",
      "Shrijana\n",
      "\n",
      "Sudip\n",
      "\n",
      "Samir\n"
     ]
    }
   ],
   "source": [
    "file = open('student.txt','r')\n",
    "text = file.readlines() # reads line by lie\n",
    "file.close()\n",
    "print(type(text))\n",
    "for item in text:\n",
    "    print(item)"
   ]
  },
  {
   "cell_type": "code",
   "execution_count": 12,
   "id": "5750e843-d2b1-45ad-85aa-b56832ede43a",
   "metadata": {},
   "outputs": [
    {
     "name": "stdout",
     "output_type": "stream",
     "text": [
      "Binamra\n",
      "Sachhyam\n",
      "Anil\n",
      "Shrijana\n",
      "Sudip\n",
      "Samir\n"
     ]
    }
   ],
   "source": [
    "with open('student.txt','r') as file:\n",
    "    text= file.read()\n",
    "print(text)"
   ]
  },
  {
   "cell_type": "markdown",
   "id": "e7240f8a-629b-4164-83bc-a03ba8ff01eb",
   "metadata": {},
   "source": [
    "# write \n",
    "* file exist gardaina vane naya bancha\n",
    "* file exist garcha vane it replaces old file ( data of old file is lost and replaced with newdata)"
   ]
  },
  {
   "cell_type": "code",
   "execution_count": 13,
   "id": "2e4c80d7-d44f-4004-9d25-9c2ff90be5ae",
   "metadata": {},
   "outputs": [],
   "source": [
    "with open ('city.txt','w') as file:\n",
    "    file.write('kathmandu\\n')"
   ]
  },
  {
   "cell_type": "code",
   "execution_count": 15,
   "id": "75abcdf1-bdb8-4ec4-b83d-a65abf8fea65",
   "metadata": {},
   "outputs": [
    {
     "data": {
      "text/plain": [
       "True"
      ]
     },
     "execution_count": 15,
     "metadata": {},
     "output_type": "execute_result"
    }
   ],
   "source": [
    "os.path.exists('city.txt')"
   ]
  },
  {
   "cell_type": "code",
   "execution_count": 20,
   "id": "1ea1cd3b-efd8-4d37-9be6-b982a2b5840b",
   "metadata": {},
   "outputs": [
    {
     "name": "stdout",
     "output_type": "stream",
     "text": [
      "kathmandu\n",
      "\n"
     ]
    }
   ],
   "source": [
    "with open ('city.txt','r') as file:\n",
    "    print(file.read())"
   ]
  },
  {
   "cell_type": "code",
   "execution_count": 21,
   "id": "f6ee4f70-caca-4fc6-b030-c55fc09fc90d",
   "metadata": {},
   "outputs": [],
   "source": [
    "# yedi overide garyo vane replace gardincha"
   ]
  },
  {
   "cell_type": "code",
   "execution_count": 23,
   "id": "12a698a1-70d7-4e9a-8d93-2bc73c5532e2",
   "metadata": {},
   "outputs": [],
   "source": [
    "with open('city.txt','w') as file:\n",
    "    file.write('Patan')\n",
    "    "
   ]
  },
  {
   "cell_type": "code",
   "execution_count": 24,
   "id": "68b0c4bf-8ca5-4d0a-84ca-2abbf7380fe5",
   "metadata": {},
   "outputs": [
    {
     "name": "stdout",
     "output_type": "stream",
     "text": [
      "Patan\n"
     ]
    }
   ],
   "source": [
    "with open('city.txt','r') as file:\n",
    "    print(file.read())"
   ]
  },
  {
   "cell_type": "markdown",
   "id": "787d3ac7-a900-48ed-a9a8-dfa354b3f10e",
   "metadata": {},
   "source": [
    "# append mode le file exist gardaina vane naya banauncha natra new data is added to old data\n",
    "    "
   ]
  },
  {
   "cell_type": "code",
   "execution_count": 4,
   "id": "a00cd03d-4963-487f-8eef-172b078a0dbc",
   "metadata": {},
   "outputs": [],
   "source": [
    "import os"
   ]
  },
  {
   "cell_type": "code",
   "execution_count": 5,
   "id": "55d7bcb6-d482-4543-aebb-c45c8fbe2a39",
   "metadata": {},
   "outputs": [
    {
     "data": {
      "text/plain": [
       "True"
      ]
     },
     "execution_count": 5,
     "metadata": {},
     "output_type": "execute_result"
    }
   ],
   "source": [
    "os.path.exists('cars.txt')"
   ]
  },
  {
   "cell_type": "code",
   "execution_count": 6,
   "id": "2dbac54e-04eb-45d2-93cd-59ba3a6b6448",
   "metadata": {},
   "outputs": [],
   "source": [
    "# cars.txt exist gardaina\n"
   ]
  },
  {
   "cell_type": "code",
   "execution_count": 7,
   "id": "00288695-b00a-44d8-930f-1e35fd8e805d",
   "metadata": {},
   "outputs": [],
   "source": [
    "with open('cars.txt','a') as file:\n",
    "    file.write('audi')\n",
    "    \n",
    "                "
   ]
  },
  {
   "cell_type": "code",
   "execution_count": 8,
   "id": "c16c5f83-224d-4a82-ae27-c76efa853928",
   "metadata": {},
   "outputs": [
    {
     "data": {
      "text/plain": [
       "True"
      ]
     },
     "execution_count": 8,
     "metadata": {},
     "output_type": "execute_result"
    }
   ],
   "source": [
    "os.path.exists('cars.txt')\n"
   ]
  },
  {
   "cell_type": "code",
   "execution_count": 9,
   "id": "ebc43c11-de29-48f9-9a19-2f4a1031e94a",
   "metadata": {},
   "outputs": [],
   "source": [
    "with open('cars.txt','a') as file:\n",
    "    file.write('mercedes benz')"
   ]
  },
  {
   "cell_type": "code",
   "execution_count": 10,
   "id": "1a3dc464-d39b-4cf8-8650-24f361bcfeff",
   "metadata": {},
   "outputs": [
    {
     "name": "stdout",
     "output_type": "stream",
     "text": [
      "audiaudimercedes benz\n"
     ]
    }
   ],
   "source": [
    "with open('cars.txt','r') as file:\n",
    "    print(file.read())"
   ]
  },
  {
   "cell_type": "code",
   "execution_count": 11,
   "id": "53c2ff22-6f71-4486-ac68-0861fdf1c068",
   "metadata": {},
   "outputs": [],
   "source": [
    "os.remove('cars.txt') # removes cars.txt file "
   ]
  },
  {
   "cell_type": "code",
   "execution_count": 34,
   "id": "af0ca1d3-4115-46cf-b7ae-6a50745c808a",
   "metadata": {},
   "outputs": [
    {
     "data": {
      "text/plain": [
       "False"
      ]
     },
     "execution_count": 34,
     "metadata": {},
     "output_type": "execute_result"
    }
   ],
   "source": [
    "os.path.exists('cars.txt')"
   ]
  },
  {
   "cell_type": "code",
   "execution_count": null,
   "id": "7aad7579-e129-40a7-902c-637a90378e04",
   "metadata": {},
   "outputs": [],
   "source": []
  }
 ],
 "metadata": {
  "kernelspec": {
   "display_name": "Python 3 (ipykernel)",
   "language": "python",
   "name": "python3"
  },
  "language_info": {
   "codemirror_mode": {
    "name": "ipython",
    "version": 3
   },
   "file_extension": ".py",
   "mimetype": "text/x-python",
   "name": "python",
   "nbconvert_exporter": "python",
   "pygments_lexer": "ipython3",
   "version": "3.11.5"
  }
 },
 "nbformat": 4,
 "nbformat_minor": 5
}
