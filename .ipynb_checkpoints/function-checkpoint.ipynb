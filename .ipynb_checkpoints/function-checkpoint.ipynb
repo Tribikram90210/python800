{
 "cells": [
  {
   "cell_type": "code",
   "execution_count": 1,
   "id": "c50ab249-74b1-48dc-8252-dab9dcd22e2f",
   "metadata": {},
   "outputs": [
    {
     "name": "stdout",
     "output_type": "stream",
     "text": [
      "30\n"
     ]
    }
   ],
   "source": [
    "a = 5\n",
    "b=6\n",
    "prod = a * b\n",
    "print(prod)\n"
   ]
  },
  {
   "cell_type": "markdown",
   "id": "08e20ac0-6981-47df-8678-cef02fcea948",
   "metadata": {},
   "source": [
    "# syntax\n",
    "```python\n",
    "def function_name(argument):\n",
    "    #function suit/code\n",
    "    return Expression \n",
    "\n",
    "```"
   ]
  },
  {
   "cell_type": "code",
   "execution_count": 2,
   "id": "dd8a8360-b3ba-49e3-9f47-5e3e600a28bd",
   "metadata": {},
   "outputs": [],
   "source": [
    "def multiply():\n",
    "    a = 5\n",
    "    b = 6\n",
    "    prod = a * b\n",
    "    print(prod)"
   ]
  },
  {
   "cell_type": "code",
   "execution_count": 4,
   "id": "87789fbd-1f3c-45da-bc2e-445765a8b61a",
   "metadata": {},
   "outputs": [
    {
     "name": "stdout",
     "output_type": "stream",
     "text": [
      "30\n"
     ]
    }
   ],
   "source": [
    "multiply() # recalls function\n"
   ]
  },
  {
   "cell_type": "code",
   "execution_count": 6,
   "id": "f8a3ee74-1d81-44b9-a427-2a5f3400ba4b",
   "metadata": {},
   "outputs": [
    {
     "name": "stdout",
     "output_type": "stream",
     "text": [
      "30\n"
     ]
    }
   ],
   "source": [
    "multiply()"
   ]
  },
  {
   "cell_type": "code",
   "execution_count": 7,
   "id": "dcc48dec-c79d-4ba1-8bc4-095e124d2c8c",
   "metadata": {},
   "outputs": [
    {
     "name": "stdout",
     "output_type": "stream",
     "text": [
      "30\n"
     ]
    }
   ],
   "source": [
    "multiply()"
   ]
  },
  {
   "cell_type": "markdown",
   "id": "f17484de-db91-4805-8c19-eab14662f6a0",
   "metadata": {},
   "source": [
    "# passing a,b as an argument"
   ]
  },
  {
   "cell_type": "code",
   "execution_count": 8,
   "id": "9648d0db-f05c-4a71-9988-a236d149e42e",
   "metadata": {},
   "outputs": [],
   "source": [
    "def multiply(a,b):\n",
    "    prod = a * b \n",
    "    print(prod)\n"
   ]
  },
  {
   "cell_type": "code",
   "execution_count": 9,
   "id": "6c94ff31-459e-42b8-8ba8-050d9ac67ef4",
   "metadata": {},
   "outputs": [
    {
     "ename": "TypeError",
     "evalue": "multiply() missing 2 required positional arguments: 'a' and 'b'",
     "output_type": "error",
     "traceback": [
      "\u001b[1;31m---------------------------------------------------------------------------\u001b[0m",
      "\u001b[1;31mTypeError\u001b[0m                                 Traceback (most recent call last)",
      "Cell \u001b[1;32mIn[9], line 1\u001b[0m\n\u001b[1;32m----> 1\u001b[0m \u001b[43mmultiply\u001b[49m\u001b[43m(\u001b[49m\u001b[43m)\u001b[49m\n",
      "\u001b[1;31mTypeError\u001b[0m: multiply() missing 2 required positional arguments: 'a' and 'b'"
     ]
    }
   ],
   "source": [
    "multiply()"
   ]
  },
  {
   "cell_type": "code",
   "execution_count": 14,
   "id": "eab5bed0-887d-40ee-9a97-e5d4cbc58e11",
   "metadata": {},
   "outputs": [
    {
     "name": "stdout",
     "output_type": "stream",
     "text": [
      "27\n"
     ]
    }
   ],
   "source": [
    "x = 9 \n",
    "y = 3 \n",
    "output = multiply(a=x,b=y)"
   ]
  },
  {
   "cell_type": "code",
   "execution_count": 15,
   "id": "6fe592ab-3f8f-476f-844e-a279b6b513fe",
   "metadata": {},
   "outputs": [
    {
     "name": "stdout",
     "output_type": "stream",
     "text": [
      "None\n"
     ]
    }
   ],
   "source": [
    "print(output)"
   ]
  },
  {
   "cell_type": "code",
   "execution_count": 16,
   "id": "a2e2ae49-8865-4d7e-93ce-9fee0c9348c2",
   "metadata": {},
   "outputs": [],
   "source": [
    "def multiply(a,b):\n",
    "    prod = a *b \n",
    "    return prod\n"
   ]
  },
  {
   "cell_type": "code",
   "execution_count": 17,
   "id": "9d5d3e4a-af5e-49e6-85ff-580030b2a61d",
   "metadata": {},
   "outputs": [],
   "source": [
    "x = 8\n",
    "y = 3\n",
    "output = multiply(a=x , b=y)\n"
   ]
  },
  {
   "cell_type": "code",
   "execution_count": 19,
   "id": "603873a5-455c-4a5f-a452-b28a09254400",
   "metadata": {},
   "outputs": [
    {
     "name": "stdout",
     "output_type": "stream",
     "text": [
      "24\n"
     ]
    }
   ],
   "source": [
    "print(output)"
   ]
  },
  {
   "cell_type": "code",
   "execution_count": 20,
   "id": "a0263036-c1d9-4809-9cdc-6ed457769aa1",
   "metadata": {},
   "outputs": [
    {
     "data": {
      "text/plain": [
       "27"
      ]
     },
     "execution_count": 20,
     "metadata": {},
     "output_type": "execute_result"
    }
   ],
   "source": [
    "output + 3"
   ]
  },
  {
   "cell_type": "code",
   "execution_count": 21,
   "id": "68b1abd4-1a72-4917-869d-c151edcb3263",
   "metadata": {},
   "outputs": [],
   "source": [
    "# calculate the volume of sphere\n"
   ]
  },
  {
   "cell_type": "code",
   "execution_count": 24,
   "id": "60cc4a52-cbd7-4099-97e5-9f5df1a35ada",
   "metadata": {},
   "outputs": [],
   "source": [
    "import math"
   ]
  },
  {
   "cell_type": "code",
   "execution_count": 25,
   "id": "21ded587-fb0f-4442-9c89-50352b7b2acb",
   "metadata": {},
   "outputs": [
    {
     "data": {
      "text/plain": [
       "3.141592653589793"
      ]
     },
     "execution_count": 25,
     "metadata": {},
     "output_type": "execute_result"
    }
   ],
   "source": [
    "math.pi"
   ]
  },
  {
   "cell_type": "code",
   "execution_count": 26,
   "id": "606427a4-4985-4d17-b358-0ba28478443f",
   "metadata": {},
   "outputs": [],
   "source": [
    "def sphere(radius):\n",
    "    vol = 4/3*math.pi*radius**3\n",
    "    return vol\n",
    "\n",
    "\n"
   ]
  },
  {
   "cell_type": "code",
   "execution_count": 39,
   "id": "3f0634d1-e778-4b82-b890-64f8b79a51b7",
   "metadata": {},
   "outputs": [
    {
     "name": "stdin",
     "output_type": "stream",
     "text": [
      "enter a radius: 8\n"
     ]
    },
    {
     "name": "stdout",
     "output_type": "stream",
     "text": [
      "2144.660584850632\n"
     ]
    }
   ],
   "source": [
    "radius = float(input('enter a radius:'))\n",
    "vol = sphere(radius=radius)\n",
    "print(vol)"
   ]
  },
  {
   "cell_type": "code",
   "execution_count": 36,
   "id": "d25ea565-6759-48d2-9b5f-e464e0882e34",
   "metadata": {},
   "outputs": [],
   "source": [
    "def evenorodd(num):\n",
    "    if x % 2 == 0:\n",
    "        return 'even'\n",
    "    else:\n",
    "        return 'odd'\n",
    "    "
   ]
  },
  {
   "cell_type": "code",
   "execution_count": 37,
   "id": "1f13d758-8005-4c51-b542-de291307c056",
   "metadata": {},
   "outputs": [
    {
     "data": {
      "text/plain": [
       "'even'"
      ]
     },
     "execution_count": 37,
     "metadata": {},
     "output_type": "execute_result"
    }
   ],
   "source": [
    "evenorodd(45)\n",
    "\n",
    "          \n",
    "      \n",
    "                "
   ]
  },
  {
   "cell_type": "code",
   "execution_count": 40,
   "id": "ccf6ef22-34b2-417a-95ce-4d8310c5f1cf",
   "metadata": {},
   "outputs": [
    {
     "name": "stdin",
     "output_type": "stream",
     "text": [
      "enter a number: 8\n"
     ]
    },
    {
     "name": "stdout",
     "output_type": "stream",
     "text": [
      "even\n"
     ]
    }
   ],
   "source": [
    "num = int(input('enter a number:'))\n",
    "x = evenorodd(num=num)\n",
    "print(x)"
   ]
  },
  {
   "cell_type": "code",
   "execution_count": 41,
   "id": "a1285982-f36e-46c8-9e96-a49021a57cf1",
   "metadata": {},
   "outputs": [],
   "source": [
    "def factorial(num):\n",
    "    fact = 1\n",
    "    if num < 0:\n",
    "        return None\n",
    "    elif num == 0:\n",
    "        return 1\n",
    "    else:\n",
    "        for i in range(1, num+1):\n",
    "            fact = fact * i \n",
    "        return fact\n",
    "    \n",
    "        \n",
    "    return factorial"
   ]
  },
  {
   "cell_type": "code",
   "execution_count": 46,
   "id": "dbfab870-5c74-47b2-9e9c-6745e940a9f8",
   "metadata": {},
   "outputs": [
    {
     "name": "stdin",
     "output_type": "stream",
     "text": [
      "enter a number 8\n"
     ]
    },
    {
     "data": {
      "text/plain": [
       "40320"
      ]
     },
     "execution_count": 46,
     "metadata": {},
     "output_type": "execute_result"
    }
   ],
   "source": [
    "num = int(input('enter a number'))\n",
    "factorial(num)"
   ]
  },
  {
   "cell_type": "code",
   "execution_count": 43,
   "id": "1b03b483-3e6a-48aa-b138-20dd68aaaa2e",
   "metadata": {},
   "outputs": [
    {
     "data": {
      "text/plain": [
       "2432902008176640000"
      ]
     },
     "execution_count": 43,
     "metadata": {},
     "output_type": "execute_result"
    }
   ],
   "source": [
    "factorial(num=20)"
   ]
  },
  {
   "cell_type": "code",
   "execution_count": 44,
   "id": "4c046982-b755-4064-b5d7-92e37c974962",
   "metadata": {},
   "outputs": [
    {
     "data": {
      "text/plain": [
       "2432902008176640000"
      ]
     },
     "execution_count": 44,
     "metadata": {},
     "output_type": "execute_result"
    }
   ],
   "source": [
    "factorial(20)"
   ]
  },
  {
   "cell_type": "markdown",
   "id": "e313cc9a-4cd7-484e-a2c8-df9dd12a0a0c",
   "metadata": {},
   "source": [
    "# assignment : check whether the given number is prime or not"
   ]
  },
  {
   "cell_type": "code",
   "execution_count": null,
   "id": "775b6120-d0e9-4057-b32f-c2b69e40116f",
   "metadata": {},
   "outputs": [],
   "source": []
  }
 ],
 "metadata": {
  "kernelspec": {
   "display_name": "Python 3 (ipykernel)",
   "language": "python",
   "name": "python3"
  },
  "language_info": {
   "codemirror_mode": {
    "name": "ipython",
    "version": 3
   },
   "file_extension": ".py",
   "mimetype": "text/x-python",
   "name": "python",
   "nbconvert_exporter": "python",
   "pygments_lexer": "ipython3",
   "version": "3.11.5"
  }
 },
 "nbformat": 4,
 "nbformat_minor": 5
}
