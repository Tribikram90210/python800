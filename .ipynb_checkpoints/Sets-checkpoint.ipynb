{
 "cells": [
  {
   "cell_type": "markdown",
   "id": "d0aa260b-b63d-4992-9bcc-7492fc57ce01",
   "metadata": {},
   "source": [
    "# set\n",
    "* Sets are used to store multiple items in a single variable with no dulplication\n",
    "* mutable - add or remove possible\n",
    "* set is one of the built in datatypes in Pythom used to store collections of data , the other 3 are list,tuple and dictionary all with different qualities and usage\n",
    "*  a set is a collection which is unordered , unchangeable* and unindexed."
   ]
  },
  {
   "cell_type": "code",
   "execution_count": 1,
   "id": "64d9d7ec-ee0b-446e-9659-a689b2ab16c4",
   "metadata": {},
   "outputs": [],
   "source": [
    "# creating  set"
   ]
  },
  {
   "cell_type": "code",
   "execution_count": 6,
   "id": "f788cc59-64b3-4f43-a7bd-40fcf3159678",
   "metadata": {},
   "outputs": [
    {
     "name": "stdout",
     "output_type": "stream",
     "text": [
      "{'Tarkari', 'Achar', 'Rice', 'Sag', 'gheu', 'Masu', 'Dal'}\n"
     ]
    }
   ],
   "source": [
    "thakali = {'Rice','Dal','Masu','Tarkari','Achar','Sag','gheu','Masu'} # its dosent allow for duplicate for eg:eg\n",
    "print(thakali) # no ordering maintained"
   ]
  },
  {
   "cell_type": "markdown",
   "id": "437e3e67-4845-4c83-82f1-0fb8b95ee2eb",
   "metadata": {},
   "source": [
    "# set is a mutable data type"
   ]
  },
  {
   "cell_type": "code",
   "execution_count": 10,
   "id": "835041ed-6c78-40f0-9883-1731affe521d",
   "metadata": {},
   "outputs": [
    {
     "data": {
      "text/plain": [
       "{'Achar', 'Dal', 'Masu', 'Rice', 'Sag', 'Tarkari', 'gheu', 'papad'}"
      ]
     },
     "execution_count": 10,
     "metadata": {},
     "output_type": "execute_result"
    }
   ],
   "source": [
    "thakali = {'Rice','Dal','Masu','Tarkari','Achar','Sag','gheu'}\n",
    "thakali.add('papad')\n",
    "thakali"
   ]
  },
  {
   "cell_type": "code",
   "execution_count": 11,
   "id": "d83a19c3-4abb-42c4-a1d7-c27cba1e35c7",
   "metadata": {},
   "outputs": [],
   "source": [
    "thakali.remove('Dal')"
   ]
  },
  {
   "cell_type": "code",
   "execution_count": 12,
   "id": "fe0cf4d1-4304-40b3-b3d9-f80d8541a3e4",
   "metadata": {},
   "outputs": [
    {
     "data": {
      "text/plain": [
       "{'Achar', 'Masu', 'Rice', 'Sag', 'Tarkari', 'gheu', 'papad'}"
      ]
     },
     "execution_count": 12,
     "metadata": {},
     "output_type": "execute_result"
    }
   ],
   "source": [
    "thakali"
   ]
  },
  {
   "cell_type": "code",
   "execution_count": 14,
   "id": "7dbeaf38-2f79-4d30-be3f-9b49ad356bf8",
   "metadata": {},
   "outputs": [
    {
     "ename": "KeyError",
     "evalue": "'Salad'",
     "output_type": "error",
     "traceback": [
      "\u001b[1;31m---------------------------------------------------------------------------\u001b[0m",
      "\u001b[1;31mKeyError\u001b[0m                                  Traceback (most recent call last)",
      "Cell \u001b[1;32mIn[14], line 1\u001b[0m\n\u001b[1;32m----> 1\u001b[0m \u001b[43mthakali\u001b[49m\u001b[38;5;241;43m.\u001b[39;49m\u001b[43mremove\u001b[49m\u001b[43m(\u001b[49m\u001b[38;5;124;43m'\u001b[39;49m\u001b[38;5;124;43mSalad\u001b[39;49m\u001b[38;5;124;43m'\u001b[39;49m\u001b[43m)\u001b[49m \u001b[38;5;66;03m# na vako item remove garna mildaina\u001b[39;00m\n\u001b[0;32m      2\u001b[0m thakali\n",
      "\u001b[1;31mKeyError\u001b[0m: 'Salad'"
     ]
    }
   ],
   "source": [
    "thakali.remove('Salad') # na vako item remove garna mildaina\n",
    "thakali"
   ]
  },
  {
   "cell_type": "code",
   "execution_count": 15,
   "id": "56096e5e-0390-4567-8b55-f4aaf6642cca",
   "metadata": {},
   "outputs": [],
   "source": [
    "thakali.discard('salad') # if key exists remove it  otherwise do nothing\n"
   ]
  },
  {
   "cell_type": "markdown",
   "id": "02d2c9e6-2466-4855-9875-edeab2845568",
   "metadata": {},
   "source": [
    "# loop "
   ]
  },
  {
   "cell_type": "code",
   "execution_count": 22,
   "id": "37a8a584-d7d1-4148-aab4-2054e94c032f",
   "metadata": {},
   "outputs": [
    {
     "name": "stdout",
     "output_type": "stream",
     "text": [
      "Tarkari\n",
      "Achar\n",
      "Rice\n",
      "Sag\n",
      "gheu\n",
      "Masu\n",
      "Dal\n"
     ]
    }
   ],
   "source": [
    "thakali = {'Rice','Dal','Masu','Tarkari','Achar','Sag','gheu'}\n",
    "for item in thakali:\n",
    "    print(item)"
   ]
  },
  {
   "cell_type": "markdown",
   "id": "cfb34ed2-e84f-43d0-bd7d-06688a1e7d25",
   "metadata": {},
   "source": [
    "# set operation"
   ]
  },
  {
   "cell_type": "code",
   "execution_count": 19,
   "id": "a7a25662-3310-40a6-a1e6-1475e41065df",
   "metadata": {},
   "outputs": [
    {
     "data": {
      "text/plain": [
       "{'apple'}"
      ]
     },
     "execution_count": 19,
     "metadata": {},
     "output_type": "execute_result"
    }
   ],
   "source": [
    "a = {'apple','banan','cherry'}\n",
    "b = {'google','microsoft','apple'}\n",
    "a.intersection(b)"
   ]
  },
  {
   "cell_type": "code",
   "execution_count": 20,
   "id": "3e7c1c92-3deb-419f-9d30-89fae405275e",
   "metadata": {},
   "outputs": [
    {
     "data": {
      "text/plain": [
       "{'apple'}"
      ]
     },
     "execution_count": 20,
     "metadata": {},
     "output_type": "execute_result"
    }
   ],
   "source": [
    "b.intersection(a)"
   ]
  },
  {
   "cell_type": "code",
   "execution_count": 21,
   "id": "9cebedfe-157e-4115-ad05-188c4e78d7ad",
   "metadata": {},
   "outputs": [
    {
     "data": {
      "text/plain": [
       "{'apple', 'banan', 'cherry', 'google', 'microsoft'}"
      ]
     },
     "execution_count": 21,
     "metadata": {},
     "output_type": "execute_result"
    }
   ],
   "source": [
    "a.union(b)"
   ]
  },
  {
   "cell_type": "code",
   "execution_count": 23,
   "id": "76308c06-c2d9-4bfc-a904-a2b4bb15393e",
   "metadata": {},
   "outputs": [
    {
     "data": {
      "text/plain": [
       "{'apple', 'banan', 'cherry', 'google', 'microsoft'}"
      ]
     },
     "execution_count": 23,
     "metadata": {},
     "output_type": "execute_result"
    }
   ],
   "source": [
    "b.union(a)"
   ]
  },
  {
   "cell_type": "code",
   "execution_count": 25,
   "id": "6735e968-f39b-49b3-b8f1-1588a307f580",
   "metadata": {},
   "outputs": [
    {
     "data": {
      "text/plain": [
       "{'banan', 'cherry'}"
      ]
     },
     "execution_count": 25,
     "metadata": {},
     "output_type": "execute_result"
    }
   ],
   "source": [
    "a.difference(b)"
   ]
  },
  {
   "cell_type": "code",
   "execution_count": 26,
   "id": "3b3e42a3-3b97-458e-8b0d-7fca907a6bc3",
   "metadata": {},
   "outputs": [
    {
     "data": {
      "text/plain": [
       "{'google', 'microsoft'}"
      ]
     },
     "execution_count": 26,
     "metadata": {},
     "output_type": "execute_result"
    }
   ],
   "source": [
    "b.difference(a)"
   ]
  },
  {
   "cell_type": "code",
   "execution_count": 27,
   "id": "20b6e218-a3e8-4bea-b768-1845b8ae5a9d",
   "metadata": {},
   "outputs": [
    {
     "data": {
      "text/plain": [
       "{'banan', 'cherry'}"
      ]
     },
     "execution_count": 27,
     "metadata": {},
     "output_type": "execute_result"
    }
   ],
   "source": [
    "a - b"
   ]
  },
  {
   "cell_type": "code",
   "execution_count": 28,
   "id": "1f08adb1-ccac-406e-8ae2-67144361521e",
   "metadata": {},
   "outputs": [
    {
     "data": {
      "text/plain": [
       "{'google', 'microsoft'}"
      ]
     },
     "execution_count": 28,
     "metadata": {},
     "output_type": "execute_result"
    }
   ],
   "source": [
    "b - a"
   ]
  },
  {
   "cell_type": "markdown",
   "id": "d2e09c1f-b80b-4053-a679-f564d7a6ce82",
   "metadata": {},
   "source": [
    "# other set type:frozenset - Frozen set is just an immutable version of a Python object.\n",
    "# set of vowel\n",
    "* vowels = {'a','e','i','o','u'}\n",
    "* fset = frozenset(vowels) # immutable bancha\n",
    "* print('the frozen set is:'.fset)\n",
    "* print(' the empty frozen set is:',frozen())\n",
    "# frozensets are immutable\n",
    "* fset.add('v') yo line chai error dekhauncha"
   ]
  },
  {
   "cell_type": "code",
   "execution_count": null,
   "id": "1650619c-26e9-4866-8128-02c120b197dd",
   "metadata": {},
   "outputs": [],
   "source": []
  },
  {
   "cell_type": "code",
   "execution_count": null,
   "id": "c27b6f6d-d988-4b1d-a684-b6bc6addb4cf",
   "metadata": {},
   "outputs": [],
   "source": []
  }
 ],
 "metadata": {
  "kernelspec": {
   "display_name": "Python 3 (ipykernel)",
   "language": "python",
   "name": "python3"
  },
  "language_info": {
   "codemirror_mode": {
    "name": "ipython",
    "version": 3
   },
   "file_extension": ".py",
   "mimetype": "text/x-python",
   "name": "python",
   "nbconvert_exporter": "python",
   "pygments_lexer": "ipython3",
   "version": "3.11.5"
  }
 },
 "nbformat": 4,
 "nbformat_minor": 5
}
