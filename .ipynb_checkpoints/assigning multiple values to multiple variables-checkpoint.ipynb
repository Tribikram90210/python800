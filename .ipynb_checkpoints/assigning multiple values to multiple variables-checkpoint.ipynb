{
 "cells": [
  {
   "cell_type": "code",
   "execution_count": 1,
   "id": "0884387b-74a9-4287-8336-ed2d111bb569",
   "metadata": {},
   "outputs": [],
   "source": [
    "a = 5\n",
    "b= 0.3\n",
    "c = 0.2 + 0.9j"
   ]
  },
  {
   "cell_type": "code",
   "execution_count": 4,
   "id": "87c8fca5-0944-42d4-b829-2c24bbcfd488",
   "metadata": {},
   "outputs": [],
   "source": [
    "a, b, c= 5, 0.3, 0.2+0.9j # values can be assigned this way also"
   ]
  },
  {
   "cell_type": "code",
   "execution_count": 5,
   "id": "8e039eb0-e194-4d5a-85c1-201b1a81b234",
   "metadata": {},
   "outputs": [
    {
     "ename": "ValueError",
     "evalue": "not enough values to unpack (expected 3, got 2)",
     "output_type": "error",
     "traceback": [
      "\u001b[1;31m---------------------------------------------------------------------------\u001b[0m",
      "\u001b[1;31mValueError\u001b[0m                                Traceback (most recent call last)",
      "Cell \u001b[1;32mIn[5], line 1\u001b[0m\n\u001b[1;32m----> 1\u001b[0m x, y, z \u001b[38;5;241m=\u001b[39m \u001b[38;5;241m6\u001b[39m,\u001b[38;5;241m88\u001b[39m \u001b[38;5;66;03m#not enough values\u001b[39;00m\n",
      "\u001b[1;31mValueError\u001b[0m: not enough values to unpack (expected 3, got 2)"
     ]
    }
   ],
   "source": [
    "x, y, z = 6,88 #not enough values"
   ]
  },
  {
   "cell_type": "code",
   "execution_count": 6,
   "id": "7f12dfbb-4edc-4831-9786-4ffeef817ad0",
   "metadata": {},
   "outputs": [
    {
     "ename": "ValueError",
     "evalue": "too many values to unpack (expected 2)",
     "output_type": "error",
     "traceback": [
      "\u001b[1;31m---------------------------------------------------------------------------\u001b[0m",
      "\u001b[1;31mValueError\u001b[0m                                Traceback (most recent call last)",
      "Cell \u001b[1;32mIn[6], line 1\u001b[0m\n\u001b[1;32m----> 1\u001b[0m x, y \u001b[38;5;241m=\u001b[39m \u001b[38;5;241m6\u001b[39m, \u001b[38;5;241m88\u001b[39m , \u001b[38;5;241m2\u001b[39m \u001b[38;5;66;03m#not enough variables\u001b[39;00m\n",
      "\u001b[1;31mValueError\u001b[0m: too many values to unpack (expected 2)"
     ]
    }
   ],
   "source": [
    "x, y = 6, 88 , 2 #not enough variables"
   ]
  },
  {
   "cell_type": "code",
   "execution_count": null,
   "id": "1aec3080-d4d4-4fc1-b2c6-990a24f4b707",
   "metadata": {},
   "outputs": [],
   "source": []
  }
 ],
 "metadata": {
  "kernelspec": {
   "display_name": "Python 3 (ipykernel)",
   "language": "python",
   "name": "python3"
  },
  "language_info": {
   "codemirror_mode": {
    "name": "ipython",
    "version": 3
   },
   "file_extension": ".py",
   "mimetype": "text/x-python",
   "name": "python",
   "nbconvert_exporter": "python",
   "pygments_lexer": "ipython3",
   "version": "3.11.5"
  }
 },
 "nbformat": 4,
 "nbformat_minor": 5
}
