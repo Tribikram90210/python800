{
 "cells": [
  {
   "cell_type": "markdown",
   "id": "ffc6f623-e00f-4a91-b9ca-2780ad0e9187",
   "metadata": {},
   "source": [
    "# A program to display 'hello' if number entered by user is multiple of 5 otherwise 'bye'"
   ]
  },
  {
   "cell_type": "code",
   "execution_count": 1,
   "id": "c4e22fc6-7008-4af4-9441-ae9312063a66",
   "metadata": {},
   "outputs": [
    {
     "name": "stdin",
     "output_type": "stream",
     "text": [
      "enter a number: 52\n"
     ]
    },
    {
     "name": "stdout",
     "output_type": "stream",
     "text": [
      "bye\n"
     ]
    }
   ],
   "source": [
    "x = int(input('enter a number:'))\n",
    "if x % 5 == 0 :\n",
    "    print('Hello')\n",
    "else:\n",
    "    print('bye') \n"
   ]
  },
  {
   "cell_type": "code",
   "execution_count": 7,
   "id": "f6115c77-f659-432c-ac92-afca2303be38",
   "metadata": {},
   "outputs": [
    {
     "name": "stdin",
     "output_type": "stream",
     "text": [
      "enter a number: 1\n"
     ]
    },
    {
     "name": "stdout",
     "output_type": "stream",
     "text": [
      "the number is odd\n"
     ]
    }
   ],
   "source": [
    "num1 = int(input('enter a number:'))\n",
    "if num1 % 2==0:\n",
    "    print('the number is even')\n",
    "else :\n",
    "    print('the number is odd') #practice run"
   ]
  },
  {
   "cell_type": "markdown",
   "id": "1bb369bb-94d3-47a3-9a1d-75334451fede",
   "metadata": {},
   "source": [
    "# WAP to say whether the last digit of a number is divisible or not\n"
   ]
  },
  {
   "cell_type": "code",
   "execution_count": 1,
   "id": "fe7581c9-a52e-4cb3-be78-c4a4d6ba9f08",
   "metadata": {},
   "outputs": [
    {
     "name": "stdout",
     "output_type": "stream",
     "text": [
      "last digit is  9\n"
     ]
    }
   ],
   "source": [
    "n = 56789\n",
    "lastdigit = int(repr(n)[-1])\n",
    "print('last digit is ', lastdigit)"
   ]
  },
  {
   "cell_type": "code",
   "execution_count": 34,
   "id": "5dbb97c2-ad3d-4b95-8db8-73c0970faeac",
   "metadata": {},
   "outputs": [
    {
     "name": "stdin",
     "output_type": "stream",
     "text": [
      "enter a number which has more tha one digit 50\n"
     ]
    },
    {
     "name": "stdout",
     "output_type": "stream",
     "text": [
      "the last number is 0\n",
      "The last digit is divisible by 3\n"
     ]
    }
   ],
   "source": [
    "Y = input('enter a number which has more tha one digit')\n",
    "x = int(repr(Y)[-2])\n",
    "print('the last number is', x )\n",
    "if x%3== 0:\n",
    "    print('The last digit is divisible by 3')\n",
    "else :\n",
    "    print('the last digit is not divisible by 3')"
   ]
  },
  {
   "cell_type": "code",
   "execution_count": 35,
   "id": "adb882f4-6372-4c84-8e43-2037fed0e4ce",
   "metadata": {},
   "outputs": [
    {
     "name": "stdin",
     "output_type": "stream",
     "text": [
      "enter more than one digt 50\n"
     ]
    },
    {
     "name": "stdout",
     "output_type": "stream",
     "text": [
      "the first digit is divisble by 5\n"
     ]
    }
   ],
   "source": [
    "n = input('enter more than one digt')\n",
    "t = int(repr(n)[1])\n",
    "if t % 5 == 0 :\n",
    "    print('the first digit is divisble by 5')\n",
    "else:\n",
    "    print('the first number is not divisible by 5')\n",
    "    \n",
    " "
   ]
  },
  {
   "cell_type": "code",
   "execution_count": 2,
   "id": "5e9a6e08-514d-43a0-a675-8fd884f7f178",
   "metadata": {},
   "outputs": [
    {
     "name": "stdin",
     "output_type": "stream",
     "text": [
      "enter a number 50\n"
     ]
    },
    {
     "name": "stdout",
     "output_type": "stream",
     "text": [
      "the last digit is divisible by 5\n"
     ]
    }
   ],
   "source": [
    "#another way\n",
    "n = int(input('enter a number'))\n",
    "X = n%10 \n",
    "if X%5 == 0:\n",
    "    print('the last digit is divisible by 5')\n",
    "else:\n",
    "    print('it is not divisible by 5')\n",
    "    \n"
   ]
  },
  {
   "cell_type": "code",
   "execution_count": null,
   "id": "e969ce24-1362-4d51-93ab-799e6f0e88be",
   "metadata": {},
   "outputs": [],
   "source": []
  }
 ],
 "metadata": {
  "kernelspec": {
   "display_name": "Python 3 (ipykernel)",
   "language": "python",
   "name": "python3"
  },
  "language_info": {
   "codemirror_mode": {
    "name": "ipython",
    "version": 3
   },
   "file_extension": ".py",
   "mimetype": "text/x-python",
   "name": "python",
   "nbconvert_exporter": "python",
   "pygments_lexer": "ipython3",
   "version": "3.11.5"
  }
 },
 "nbformat": 4,
 "nbformat_minor": 5
}
