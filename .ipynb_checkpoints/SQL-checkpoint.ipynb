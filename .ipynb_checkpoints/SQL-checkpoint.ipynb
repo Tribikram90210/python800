{
 "cells": [
  {
   "cell_type": "markdown",
   "id": "6ea41c4c-8f59-4be8-823b-6f87f2ba0ed4",
   "metadata": {},
   "source": [
    "# SQL\n",
    "* Structured query language (SQL) is a standard language for database creation and manipulation. MySQL is a relational database program that uses SQL queries. While SQL commands are defined by international standards, the MySQL software undergoes continual upgrades and improvements.\n",
    "* it itself is a programming language"
   ]
  },
  {
   "cell_type": "code",
   "execution_count": 2,
   "id": "84837615-5a24-481c-b38a-10c974e71184",
   "metadata": {},
   "outputs": [],
   "source": [
    "import sqlite3\n"
   ]
  },
  {
   "cell_type": "markdown",
   "id": "5e610cdd-c09d-4647-82da-299021ceefa7",
   "metadata": {},
   "source": [
    "# Creating a database and connect to database"
   ]
  },
  {
   "cell_type": "code",
   "execution_count": 4,
   "id": "7af272ff-1505-4087-8025-291857803fc5",
   "metadata": {},
   "outputs": [],
   "source": [
    "con = sqlite3.connect('python800.db')"
   ]
  },
  {
   "cell_type": "code",
   "execution_count": null,
   "id": "ac103134-2c55-4f0d-a179-5fe7b98d79e7",
   "metadata": {},
   "outputs": [],
   "source": []
  }
 ],
 "metadata": {
  "kernelspec": {
   "display_name": "Python 3 (ipykernel)",
   "language": "python",
   "name": "python3"
  },
  "language_info": {
   "codemirror_mode": {
    "name": "ipython",
    "version": 3
   },
   "file_extension": ".py",
   "mimetype": "text/x-python",
   "name": "python",
   "nbconvert_exporter": "python",
   "pygments_lexer": "ipython3",
   "version": "3.11.5"
  }
 },
 "nbformat": 4,
 "nbformat_minor": 5
}
