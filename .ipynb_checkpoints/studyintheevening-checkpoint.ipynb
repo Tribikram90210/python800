{
 "cells": [
  {
   "cell_type": "code",
   "execution_count": 1,
   "id": "ef0de8e8-daef-4501-a5a1-8dc6802ad02b",
   "metadata": {},
   "outputs": [
    {
     "name": "stdin",
     "output_type": "stream",
     "text": [
      "Enter a number (integer or float):  4.5\n"
     ]
    },
    {
     "name": "stdout",
     "output_type": "stream",
     "text": [
      "You entered a float: 4.5\n"
     ]
    }
   ],
   "source": [
    "# Accept input as a string\n",
    "user_input = input(\"Enter a number (integer or float): \")\n",
    "\n",
    "# Try to convert the input to an integer\n",
    "try:\n",
    "    num = int(user_input)\n",
    "    print(f\"You entered an integer: {num}\")\n",
    "except ValueError:\n",
    "    # If the conversion to integer fails, try converting to float\n",
    "    try:\n",
    "        num = float(user_input)\n",
    "        print(f\"You entered a float: {num}\")\n",
    "    except ValueError:\n",
    "        # If both conversions fail, it's not a valid number\n",
    "        print(\"Invalid input. Please enter a valid number.\")\n",
    "\n"
   ]
  },
  {
   "cell_type": "code",
   "execution_count": null,
   "id": "02d5b2b8-d65c-4373-b55a-016cb1002574",
   "metadata": {},
   "outputs": [],
   "source": []
  }
 ],
 "metadata": {
  "kernelspec": {
   "display_name": "Python 3 (ipykernel)",
   "language": "python",
   "name": "python3"
  },
  "language_info": {
   "codemirror_mode": {
    "name": "ipython",
    "version": 3
   },
   "file_extension": ".py",
   "mimetype": "text/x-python",
   "name": "python",
   "nbconvert_exporter": "python",
   "pygments_lexer": "ipython3",
   "version": "3.11.5"
  }
 },
 "nbformat": 4,
 "nbformat_minor": 5
}
