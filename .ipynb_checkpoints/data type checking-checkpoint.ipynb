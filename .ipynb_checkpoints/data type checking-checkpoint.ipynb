{
 "cells": [
  {
   "cell_type": "code",
   "execution_count": 1,
   "id": "3afd1d1b-71b4-4532-8fc2-9330e6fc54c2",
   "metadata": {},
   "outputs": [],
   "source": [
    "a, b, c = 55, 1.23, 0.9 + 2j "
   ]
  },
  {
   "cell_type": "code",
   "execution_count": 2,
   "id": "6e2fc893-1c16-4285-87fd-bd130f316e2d",
   "metadata": {},
   "outputs": [
    {
     "data": {
      "text/plain": [
       "55"
      ]
     },
     "execution_count": 2,
     "metadata": {},
     "output_type": "execute_result"
    }
   ],
   "source": [
    "a"
   ]
  },
  {
   "cell_type": "code",
   "execution_count": 3,
   "id": "45389ce3-60fe-41d7-ad18-550fc02a5196",
   "metadata": {},
   "outputs": [
    {
     "data": {
      "text/plain": [
       "1.23"
      ]
     },
     "execution_count": 3,
     "metadata": {},
     "output_type": "execute_result"
    }
   ],
   "source": [
    "b"
   ]
  },
  {
   "cell_type": "code",
   "execution_count": 4,
   "id": "4c93da58-5b5e-42f3-b432-83f756a91ff0",
   "metadata": {},
   "outputs": [
    {
     "data": {
      "text/plain": [
       "(0.9+2j)"
      ]
     },
     "execution_count": 4,
     "metadata": {},
     "output_type": "execute_result"
    }
   ],
   "source": [
    "c"
   ]
  },
  {
   "cell_type": "code",
   "execution_count": 5,
   "id": "8c99fd87-d581-4452-b381-6894e625419c",
   "metadata": {},
   "outputs": [
    {
     "data": {
      "text/plain": [
       "int"
      ]
     },
     "execution_count": 5,
     "metadata": {},
     "output_type": "execute_result"
    }
   ],
   "source": [
    "type(a) #data checking"
   ]
  },
  {
   "cell_type": "code",
   "execution_count": 6,
   "id": "0d83ad00-3bdc-4edf-885b-b192b5d5be9a",
   "metadata": {},
   "outputs": [
    {
     "data": {
      "text/plain": [
       "float"
      ]
     },
     "execution_count": 6,
     "metadata": {},
     "output_type": "execute_result"
    }
   ],
   "source": [
    "type(b)\n"
   ]
  },
  {
   "cell_type": "code",
   "execution_count": 7,
   "id": "f43607f4-bac5-4909-9b44-6969eb052e69",
   "metadata": {},
   "outputs": [
    {
     "data": {
      "text/plain": [
       "complex"
      ]
     },
     "execution_count": 7,
     "metadata": {},
     "output_type": "execute_result"
    }
   ],
   "source": [
    "type(c)"
   ]
  },
  {
   "cell_type": "code",
   "execution_count": 8,
   "id": "e89b5eba-a2bc-4f71-8cc0-e1d7b5cc4d87",
   "metadata": {},
   "outputs": [],
   "source": [
    "msg = 'hi'\n"
   ]
  },
  {
   "cell_type": "code",
   "execution_count": 9,
   "id": "83491cbb-af2a-496f-9d0f-3559599e4bb1",
   "metadata": {},
   "outputs": [
    {
     "data": {
      "text/plain": [
       "str"
      ]
     },
     "execution_count": 9,
     "metadata": {},
     "output_type": "execute_result"
    }
   ],
   "source": [
    "type(msg) #str means string"
   ]
  },
  {
   "cell_type": "code",
   "execution_count": 10,
   "id": "771bc9e7-18ca-49f6-8fb5-6712503dfc10",
   "metadata": {},
   "outputs": [
    {
     "data": {
      "text/plain": [
       "True"
      ]
     },
     "execution_count": 10,
     "metadata": {},
     "output_type": "execute_result"
    }
   ],
   "source": [
    "isinstance(msg, str) #type validation"
   ]
  },
  {
   "cell_type": "code",
   "execution_count": 11,
   "id": "fc06b618-d52a-4a79-a95d-a6609f10825d",
   "metadata": {},
   "outputs": [
    {
     "data": {
      "text/plain": [
       "False"
      ]
     },
     "execution_count": 11,
     "metadata": {},
     "output_type": "execute_result"
    }
   ],
   "source": [
    "isinstance(msg, int) "
   ]
  },
  {
   "cell_type": "code",
   "execution_count": 12,
   "id": "903bd2bc-b97a-446b-b3ee-6001cf298404",
   "metadata": {},
   "outputs": [
    {
     "data": {
      "text/plain": [
       "bool"
      ]
     },
     "execution_count": 12,
     "metadata": {},
     "output_type": "execute_result"
    }
   ],
   "source": [
    "type(True)\n"
   ]
  },
  {
   "cell_type": "code",
   "execution_count": 13,
   "id": "db6ee92d-f05d-44e2-aa83-43003cccca5e",
   "metadata": {},
   "outputs": [
    {
     "data": {
      "text/plain": [
       "bool"
      ]
     },
     "execution_count": 13,
     "metadata": {},
     "output_type": "execute_result"
    }
   ],
   "source": [
    "type(False)"
   ]
  },
  {
   "cell_type": "code",
   "execution_count": null,
   "id": "dae999e4-a24b-44e5-a788-6ac894688fbd",
   "metadata": {},
   "outputs": [],
   "source": []
  }
 ],
 "metadata": {
  "kernelspec": {
   "display_name": "Python 3 (ipykernel)",
   "language": "python",
   "name": "python3"
  },
  "language_info": {
   "codemirror_mode": {
    "name": "ipython",
    "version": 3
   },
   "file_extension": ".py",
   "mimetype": "text/x-python",
   "name": "python",
   "nbconvert_exporter": "python",
   "pygments_lexer": "ipython3",
   "version": "3.11.5"
  }
 },
 "nbformat": 4,
 "nbformat_minor": 5
}
