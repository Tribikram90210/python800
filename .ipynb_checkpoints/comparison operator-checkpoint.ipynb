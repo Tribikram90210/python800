{
 "cells": [
  {
   "cell_type": "code",
   "execution_count": 1,
   "id": "b77b3559-2371-44d7-9733-25286b4819d6",
   "metadata": {},
   "outputs": [
    {
     "data": {
      "text/plain": [
       "True"
      ]
     },
     "execution_count": 1,
     "metadata": {},
     "output_type": "execute_result"
    }
   ],
   "source": [
    "a=10 #assignment operation\n",
    "a==10 # equals to\n"
   ]
  },
  {
   "cell_type": "code",
   "execution_count": 3,
   "id": "d93945ae-05f0-4a3b-8e9a-ac82ace13c9f",
   "metadata": {},
   "outputs": [
    {
     "data": {
      "text/plain": [
       "False"
      ]
     },
     "execution_count": 3,
     "metadata": {},
     "output_type": "execute_result"
    }
   ],
   "source": [
    "'a'=='A'"
   ]
  },
  {
   "cell_type": "code",
   "execution_count": 4,
   "id": "8644c763-a99c-44b0-bfec-7036e3d99d64",
   "metadata": {},
   "outputs": [
    {
     "data": {
      "text/plain": [
       "True"
      ]
     },
     "execution_count": 4,
     "metadata": {},
     "output_type": "execute_result"
    }
   ],
   "source": [
    "'a'=='a'"
   ]
  },
  {
   "cell_type": "code",
   "execution_count": 5,
   "id": "0003f98e-cd68-4f99-a57d-63a4aeaf8c26",
   "metadata": {},
   "outputs": [
    {
     "data": {
      "text/plain": [
       "True"
      ]
     },
     "execution_count": 5,
     "metadata": {},
     "output_type": "execute_result"
    }
   ],
   "source": [
    "3 < 4 #greater than"
   ]
  },
  {
   "cell_type": "code",
   "execution_count": 6,
   "id": "672d7256-e11f-4e68-820e-a5b2ea5e9117",
   "metadata": {},
   "outputs": [
    {
     "data": {
      "text/plain": [
       "False"
      ]
     },
     "execution_count": 6,
     "metadata": {},
     "output_type": "execute_result"
    }
   ],
   "source": [
    "4 < 3 "
   ]
  },
  {
   "cell_type": "code",
   "execution_count": 7,
   "id": "bca0f349-f427-473f-9ea7-1b3b22e2657e",
   "metadata": {},
   "outputs": [
    {
     "data": {
      "text/plain": [
       "True"
      ]
     },
     "execution_count": 7,
     "metadata": {},
     "output_type": "execute_result"
    }
   ],
   "source": [
    "a = 10\n",
    "b = 10 \n",
    "a == b"
   ]
  },
  {
   "cell_type": "code",
   "execution_count": 8,
   "id": "9bb84dc5-94ce-4fd3-a1de-e38e33f9b38c",
   "metadata": {},
   "outputs": [
    {
     "data": {
      "text/plain": [
       "True"
      ]
     },
     "execution_count": 8,
     "metadata": {},
     "output_type": "execute_result"
    }
   ],
   "source": [
    "9 <=14"
   ]
  },
  {
   "cell_type": "code",
   "execution_count": 9,
   "id": "cc52ac16-18c0-48d0-ba86-b25be945d5b0",
   "metadata": {},
   "outputs": [
    {
     "data": {
      "text/plain": [
       "False"
      ]
     },
     "execution_count": 9,
     "metadata": {},
     "output_type": "execute_result"
    }
   ],
   "source": [
    "12<=2"
   ]
  },
  {
   "cell_type": "code",
   "execution_count": 10,
   "id": "ff684557-210e-4ca7-a61f-9f73887c6eb6",
   "metadata": {},
   "outputs": [
    {
     "data": {
      "text/plain": [
       "True"
      ]
     },
     "execution_count": 10,
     "metadata": {},
     "output_type": "execute_result"
    }
   ],
   "source": [
    "15 >= 15\n"
   ]
  },
  {
   "cell_type": "code",
   "execution_count": 12,
   "id": "714b91bd-dd11-4308-abda-bd721caf390f",
   "metadata": {},
   "outputs": [
    {
     "data": {
      "text/plain": [
       "True"
      ]
     },
     "execution_count": 12,
     "metadata": {},
     "output_type": "execute_result"
    }
   ],
   "source": [
    "5 != 9 #not equals to"
   ]
  },
  {
   "cell_type": "code",
   "execution_count": null,
   "id": "857720b0-e152-4deb-9a12-8f89f5d302a4",
   "metadata": {},
   "outputs": [],
   "source": []
  }
 ],
 "metadata": {
  "kernelspec": {
   "display_name": "Python 3 (ipykernel)",
   "language": "python",
   "name": "python3"
  },
  "language_info": {
   "codemirror_mode": {
    "name": "ipython",
    "version": 3
   },
   "file_extension": ".py",
   "mimetype": "text/x-python",
   "name": "python",
   "nbconvert_exporter": "python",
   "pygments_lexer": "ipython3",
   "version": "3.11.5"
  }
 },
 "nbformat": 4,
 "nbformat_minor": 5
}
