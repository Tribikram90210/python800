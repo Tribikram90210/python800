{
 "cells": [
  {
   "cell_type": "code",
   "execution_count": 1,
   "id": "e8c898d8-3d63-46de-a77e-b7a058b0c665",
   "metadata": {},
   "outputs": [
    {
     "ename": "SyntaxError",
     "evalue": "invalid syntax (3420082908.py, line 1)",
     "output_type": "error",
     "traceback": [
      "\u001b[1;36m  Cell \u001b[1;32mIn[1], line 1\u001b[1;36m\u001b[0m\n\u001b[1;33m    first name = 'tribikram' #j pani variable lekhna paudaina\u001b[0m\n\u001b[1;37m          ^\u001b[0m\n\u001b[1;31mSyntaxError\u001b[0m\u001b[1;31m:\u001b[0m invalid syntax\n"
     ]
    }
   ],
   "source": [
    "first name = 'tribikram' #j pani variable lekhna paudaina"
   ]
  },
  {
   "cell_type": "markdown",
   "id": "dcadc931-61cd-443b-8530-d8dbcc73f237",
   "metadata": {},
   "source": [
    "# Keywords cannot be variable names\n",
    "\n",
    "* Keywords are the reserved words in python. \n",
    "* We cannot use a keyword as a variable name, function name or any other identifier.\n",
    "* They are used to define the syntax and structure of the python language.\n",
    "* In python, keywords are case sensitive."
   ]
  },
  {
   "cell_type": "code",
   "execution_count": 2,
   "id": "115f664f-9e1c-424c-8c41-67e4c6fa921c",
   "metadata": {},
   "outputs": [
    {
     "name": "stdout",
     "output_type": "stream",
     "text": [
      "\n",
      "Here is a list of the Python keywords.  Enter any keyword to get more help.\n",
      "\n",
      "False               class               from                or\n",
      "None                continue            global              pass\n",
      "True                def                 if                  raise\n",
      "and                 del                 import              return\n",
      "as                  elif                in                  try\n",
      "assert              else                is                  while\n",
      "async               except              lambda              with\n",
      "await               finally             nonlocal            yield\n",
      "break               for                 not                 \n",
      "\n"
     ]
    }
   ],
   "source": [
    "help('keywords')\n"
   ]
  },
  {
   "cell_type": "markdown",
   "id": "3bf913d6-7eb4-48be-bd8f-429001da22ac",
   "metadata": {},
   "source": [
    "# case sensitive\n",
    "* uppercase and lowercase are different: case sensitive\n",
    "* uppercase and lowercase are same: case insensitive"
   ]
  },
  {
   "cell_type": "code",
   "execution_count": 4,
   "id": "b389b6b8-e3a5-4011-9b73-bf0e8740d8ed",
   "metadata": {},
   "outputs": [],
   "source": [
    "# false ra False are totally different from each other because python is a case sensitive language"
   ]
  },
  {
   "cell_type": "markdown",
   "id": "e65ef929-530f-4f0d-9fda-123fc10d1022",
   "metadata": {},
   "source": [
    "# python is a case sensitive language, SQL is case sensitive"
   ]
  },
  {
   "cell_type": "code",
   "execution_count": 5,
   "id": "2ed3073c-3a7b-4628-9610-45c2c7a6d8df",
   "metadata": {},
   "outputs": [
    {
     "name": "stdout",
     "output_type": "stream",
     "text": [
      "a= and\n",
      "A= And\n"
     ]
    }
   ],
   "source": [
    "a = 'and'\n",
    "A = 'Apple'\n",
    "print ('a= and')\n",
    "print ('A= And') "
   ]
  },
  {
   "cell_type": "code",
   "execution_count": 7,
   "id": "9358a9ab-8aa8-4ec9-8ca7-9bca683de1d9",
   "metadata": {},
   "outputs": [
    {
     "name": "stdout",
     "output_type": "stream",
     "text": [
      "a= arc\n",
      "A= Apple\n"
     ]
    }
   ],
   "source": [
    "a = 'arc'\n",
    "A = 'Apple'\n",
    "print (f'a= {a}')\n",
    "print (f'A= {A}') #format String"
   ]
  },
  {
   "cell_type": "code",
   "execution_count": 10,
   "id": "f28f5447-1c12-4c68-bd24-86feee547728",
   "metadata": {},
   "outputs": [
    {
     "name": "stdout",
     "output_type": "stream",
     "text": [
      "a= and\n",
      "A= Apple\n"
     ]
    }
   ],
   "source": [
    "a = 'and'\n",
    "A = 'Apple'\n",
    "print ('a= {}'.format(a))\n",
    "print ('A= {}'.format(A)) "
   ]
  },
  {
   "cell_type": "markdown",
   "id": "797fc2a8-3a42-470b-9f2f-d299f0c2c230",
   "metadata": {},
   "source": [
    "# you cannot use special characters in variables name"
   ]
  },
  {
   "cell_type": "code",
   "execution_count": 11,
   "id": "e381c50b-bf5d-44f2-9f34-741f2741eb70",
   "metadata": {},
   "outputs": [
    {
     "ename": "SyntaxError",
     "evalue": "invalid syntax. Maybe you meant '==' or ':=' instead of '='? (3954837833.py, line 1)",
     "output_type": "error",
     "traceback": [
      "\u001b[1;36m  Cell \u001b[1;32mIn[11], line 1\u001b[1;36m\u001b[0m\n\u001b[1;33m    @name= 'Tribikram Jung Shah'\u001b[0m\n\u001b[1;37m     ^\u001b[0m\n\u001b[1;31mSyntaxError\u001b[0m\u001b[1;31m:\u001b[0m invalid syntax. Maybe you meant '==' or ':=' instead of '='?\n"
     ]
    }
   ],
   "source": [
    "@name= 'Tribikram Jung Shah'"
   ]
  },
  {
   "cell_type": "code",
   "execution_count": 12,
   "id": "dd583c3b-c0d9-459c-a32d-5645847982d6",
   "metadata": {},
   "outputs": [
    {
     "ename": "SyntaxError",
     "evalue": "invalid syntax (2370121677.py, line 1)",
     "output_type": "error",
     "traceback": [
      "\u001b[1;36m  Cell \u001b[1;32mIn[12], line 1\u001b[1;36m\u001b[0m\n\u001b[1;33m    $place = 'tinkune'\u001b[0m\n\u001b[1;37m    ^\u001b[0m\n\u001b[1;31mSyntaxError\u001b[0m\u001b[1;31m:\u001b[0m invalid syntax\n"
     ]
    }
   ],
   "source": [
    "$place = 'tinkune'"
   ]
  },
  {
   "cell_type": "code",
   "execution_count": null,
   "id": "1c2bc026-9e94-460b-97fa-78c860b63d5a",
   "metadata": {},
   "outputs": [],
   "source": [
    "# you cammot use space bar in variable name\n",
    "last name = 'shah \"\n"
   ]
  },
  {
   "cell_type": "markdown",
   "id": "90d5f8c8-7509-4947-8eb8-c62d54fe65c3",
   "metadata": {},
   "source": [
    "# you can use _ in variable names"
   ]
  },
  {
   "cell_type": "code",
   "execution_count": null,
   "id": "c0ef72ce-5b20-4a79-9c39-2d27b3da47e6",
   "metadata": {},
   "outputs": [],
   "source": []
  }
 ],
 "metadata": {
  "kernelspec": {
   "display_name": "Python 3 (ipykernel)",
   "language": "python",
   "name": "python3"
  },
  "language_info": {
   "codemirror_mode": {
    "name": "ipython",
    "version": 3
   },
   "file_extension": ".py",
   "mimetype": "text/x-python",
   "name": "python",
   "nbconvert_exporter": "python",
   "pygments_lexer": "ipython3",
   "version": "3.11.5"
  }
 },
 "nbformat": 4,
 "nbformat_minor": 5
}
