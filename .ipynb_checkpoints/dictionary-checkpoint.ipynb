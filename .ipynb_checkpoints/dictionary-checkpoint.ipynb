{
 "cells": [
  {
   "cell_type": "markdown",
   "id": "1cb14e2a-f0fc-43f8-8104-10efd4cd10f8",
   "metadata": {},
   "source": [
    "# Dictionary \n",
    "* Dictionaries are used to store data values in key.value pairs.\n",
    "* Dictionaries is a collection which is ordered , changeable and do not allow ducplicate keys"
   ]
  },
  {
   "cell_type": "code",
   "execution_count": 4,
   "id": "fa9e77e2-5fa3-49d5-923c-c14e8ad4539e",
   "metadata": {},
   "outputs": [],
   "source": [
    "# crreating empty dictionary"
   ]
  },
  {
   "cell_type": "code",
   "execution_count": 2,
   "id": "25743d44-c487-4310-8c99-01d6311876ab",
   "metadata": {},
   "outputs": [],
   "source": [
    "d = {}"
   ]
  },
  {
   "cell_type": "code",
   "execution_count": 3,
   "id": "415e4cec-4c6f-45a5-a5b0-318c80da759d",
   "metadata": {},
   "outputs": [
    {
     "data": {
      "text/plain": [
       "dict"
      ]
     },
     "execution_count": 3,
     "metadata": {},
     "output_type": "execute_result"
    }
   ],
   "source": [
    "type(d)"
   ]
  },
  {
   "cell_type": "code",
   "execution_count": 4,
   "id": "677e075a-33b3-45eb-91c4-353ae8c6b8c3",
   "metadata": {},
   "outputs": [],
   "source": [
    "d1 = dict()"
   ]
  },
  {
   "cell_type": "code",
   "execution_count": 5,
   "id": "5a010cc0-f355-4947-bcdb-a26db4dbdc1b",
   "metadata": {},
   "outputs": [
    {
     "data": {
      "text/plain": [
       "dict"
      ]
     },
     "execution_count": 5,
     "metadata": {},
     "output_type": "execute_result"
    }
   ],
   "source": [
    "type(d1)\n"
   ]
  },
  {
   "cell_type": "markdown",
   "id": "7d736161-b0d4-41e9-b2ec-ea77d02aa67a",
   "metadata": {},
   "source": [
    "# defining your own dictionary"
   ]
  },
  {
   "cell_type": "code",
   "execution_count": 6,
   "id": "e99bc12a-0b73-4207-bcd5-c9d93a94f11e",
   "metadata": {},
   "outputs": [
    {
     "data": {
      "text/plain": [
       "{}"
      ]
     },
     "execution_count": 6,
     "metadata": {},
     "output_type": "execute_result"
    }
   ],
   "source": [
    "d1"
   ]
  },
  {
   "cell_type": "code",
   "execution_count": 8,
   "id": "75f415ba-104a-4fce-b1ae-70ed6ae4ca1d",
   "metadata": {},
   "outputs": [],
   "source": [
    "about = {\n",
    "    'name' :'kshitiz',\n",
    "    'lives at' :'Patan',\n",
    "    'age' : 26 ,\n",
    "    'teaches' : ['python','DS','ML','AI']\n",
    "}\n",
    "    "
   ]
  },
  {
   "cell_type": "code",
   "execution_count": 9,
   "id": "44cffe9d-02aa-4de8-9f04-cdf02747db43",
   "metadata": {},
   "outputs": [
    {
     "name": "stdout",
     "output_type": "stream",
     "text": [
      "{'name': 'kshitiz', 'lives at': 'Patan', 'age': 26, 'teaches': ['python', 'DS', 'ML', 'AI']}\n"
     ]
    }
   ],
   "source": [
    "print(about)"
   ]
  },
  {
   "cell_type": "markdown",
   "id": "5ccd73d3-098e-440f-8c26-29a4a89f438c",
   "metadata": {},
   "source": [
    "# accessing values of a dictionary using keys"
   ]
  },
  {
   "cell_type": "code",
   "execution_count": 10,
   "id": "8392f2e1-31ea-45d9-a6e0-24ce89dd9895",
   "metadata": {},
   "outputs": [],
   "source": [
    "about = {\n",
    "    'name' :'kshitiz',\n",
    "    'lives at' :'Patan',\n",
    "    'age' : 26 ,\n",
    "    'teaches' : ['python','DS','ML','AI']\n",
    "}\n",
    "    "
   ]
  },
  {
   "cell_type": "code",
   "execution_count": 13,
   "id": "01a5855f-5041-43e0-84a5-7001006d0c0b",
   "metadata": {},
   "outputs": [
    {
     "data": {
      "text/plain": [
       "['python', 'DS', 'ML', 'AI']"
      ]
     },
     "execution_count": 13,
     "metadata": {},
     "output_type": "execute_result"
    }
   ],
   "source": [
    "about['teaches']"
   ]
  },
  {
   "cell_type": "code",
   "execution_count": 14,
   "id": "1c7e8eb9-bea2-4550-87c4-390a2c03687b",
   "metadata": {},
   "outputs": [
    {
     "data": {
      "text/plain": [
       "['python', 'DS', 'ML', 'AI']"
      ]
     },
     "execution_count": 14,
     "metadata": {},
     "output_type": "execute_result"
    }
   ],
   "source": [
    "about.get('teaches')"
   ]
  },
  {
   "cell_type": "code",
   "execution_count": 15,
   "id": "ae9247ec-6380-47c6-9a91-2fad115b3a67",
   "metadata": {},
   "outputs": [
    {
     "ename": "KeyError",
     "evalue": "'works_at'",
     "output_type": "error",
     "traceback": [
      "\u001b[1;31m---------------------------------------------------------------------------\u001b[0m",
      "\u001b[1;31mKeyError\u001b[0m                                  Traceback (most recent call last)",
      "Cell \u001b[1;32mIn[15], line 1\u001b[0m\n\u001b[1;32m----> 1\u001b[0m \u001b[43mabout\u001b[49m\u001b[43m[\u001b[49m\u001b[38;5;124;43m'\u001b[39;49m\u001b[38;5;124;43mworks_at\u001b[39;49m\u001b[38;5;124;43m'\u001b[39;49m\u001b[43m]\u001b[49m \u001b[38;5;66;03m# works at dosent exist\u001b[39;00m\n",
      "\u001b[1;31mKeyError\u001b[0m: 'works_at'"
     ]
    }
   ],
   "source": [
    "about['works_at'] # works at dosent exist"
   ]
  },
  {
   "cell_type": "code",
   "execution_count": 17,
   "id": "b48fc911-ce53-4cb6-b31b-35f7f7de8001",
   "metadata": {},
   "outputs": [],
   "source": [
    "about.get('works_at') # kye exist gardaina but no erroe ; more safe and preferred"
   ]
  },
  {
   "cell_type": "code",
   "execution_count": 18,
   "id": "550b5866-d8b9-474d-8bd4-1e6d731ba353",
   "metadata": {},
   "outputs": [],
   "source": [
    "output = about.get('works_at')"
   ]
  },
  {
   "cell_type": "code",
   "execution_count": 19,
   "id": "43aeb13c-7328-4c76-9b35-23760013f643",
   "metadata": {},
   "outputs": [
    {
     "name": "stdout",
     "output_type": "stream",
     "text": [
      "None\n"
     ]
    }
   ],
   "source": [
    "print(output)"
   ]
  },
  {
   "cell_type": "code",
   "execution_count": 23,
   "id": "2199caad-ee9c-4f29-bbc9-6ea83dce1346",
   "metadata": {},
   "outputs": [],
   "source": [
    "output = about.get('works_at', [] ) # value na aune pani banauna milcha"
   ]
  },
  {
   "cell_type": "code",
   "execution_count": 22,
   "id": "1f41c4c1-ceb3-4b2d-957c-c8739b38df62",
   "metadata": {},
   "outputs": [
    {
     "data": {
      "text/plain": [
       "[]"
      ]
     },
     "execution_count": 22,
     "metadata": {},
     "output_type": "execute_result"
    }
   ],
   "source": [
    "output"
   ]
  },
  {
   "cell_type": "code",
   "execution_count": 25,
   "id": "f8f6e7c2-4cee-401d-849b-4dc7352aff23",
   "metadata": {},
   "outputs": [],
   "source": [
    "about = {\n",
    "    'name' :'kshitiz',\n",
    "    'lives at' :'Patan',\n",
    "    'age' : 26 ,\n",
    "    'teaches' : ['python','DS','ML','AI'] # try without  brackets\n",
    "}\n",
    "    "
   ]
  },
  {
   "cell_type": "code",
   "execution_count": 28,
   "id": "b0943541-d3ce-43a0-96d7-c21490fa6001",
   "metadata": {},
   "outputs": [],
   "source": [
    "about['works_at']=['broadway'] # about vane dictionary ma works at vanne key banune ra tesko value key rakhne"
   ]
  },
  {
   "cell_type": "code",
   "execution_count": 27,
   "id": "447d732f-5b6c-417f-9eb4-0fdfdfc86e54",
   "metadata": {},
   "outputs": [
    {
     "data": {
      "text/plain": [
       "{'name': 'kshitiz',\n",
       " 'lives at': 'Patan',\n",
       " 'age': 26,\n",
       " 'teaches': ['python', 'DS', 'ML', 'AI'],\n",
       " 'works_at': ['broadway']}"
      ]
     },
     "execution_count": 27,
     "metadata": {},
     "output_type": "execute_result"
    }
   ],
   "source": [
    "about"
   ]
  },
  {
   "cell_type": "code",
   "execution_count": 30,
   "id": "54d1f868-4389-4d7f-b47a-e6b3db2a95fd",
   "metadata": {},
   "outputs": [],
   "source": [
    "about['gender']=['male']"
   ]
  },
  {
   "cell_type": "code",
   "execution_count": 31,
   "id": "1e1319dc-a97b-4b04-97af-72f799290785",
   "metadata": {},
   "outputs": [
    {
     "data": {
      "text/plain": [
       "{'name': 'kshitiz',\n",
       " 'lives at': 'Patan',\n",
       " 'age': 26,\n",
       " 'teaches': ['python', 'DS', 'ML', 'AI'],\n",
       " 'works_at': ['broadway'],\n",
       " 'gender': ['male']}"
      ]
     },
     "execution_count": 31,
     "metadata": {},
     "output_type": "execute_result"
    }
   ],
   "source": [
    "about"
   ]
  },
  {
   "cell_type": "code",
   "execution_count": 33,
   "id": "7a2cf28e-101c-4604-9286-dc2398de42b2",
   "metadata": {},
   "outputs": [],
   "source": [
    "about.update({'ph_no':98565441})# update() expectes ditctionary as input"
   ]
  },
  {
   "cell_type": "code",
   "execution_count": 34,
   "id": "22b3d151-3432-4bbf-b9a6-e189ac5b33ac",
   "metadata": {},
   "outputs": [
    {
     "data": {
      "text/plain": [
       "{'name': 'kshitiz',\n",
       " 'lives at': 'Patan',\n",
       " 'age': 26,\n",
       " 'teaches': ['python', 'DS', 'ML', 'AI'],\n",
       " 'works_at': ['broadway'],\n",
       " 'gender': ['male'],\n",
       " 'ph_no': 98565441}"
      ]
     },
     "execution_count": 34,
     "metadata": {},
     "output_type": "execute_result"
    }
   ],
   "source": [
    "about"
   ]
  },
  {
   "cell_type": "markdown",
   "id": "85bb1696-fc28-44ea-b9fa-4c7c772b7060",
   "metadata": {},
   "source": [
    "# other methods of dictionary\n"
   ]
  },
  {
   "cell_type": "code",
   "execution_count": 35,
   "id": "c6426acf-a4fc-4944-9685-df6b5c175eed",
   "metadata": {},
   "outputs": [
    {
     "data": {
      "text/plain": [
       "{'name': 'kshitiz',\n",
       " 'lives at': 'Patan',\n",
       " 'age': 26,\n",
       " 'teaches': ['python', 'DS', 'ML', 'AI'],\n",
       " 'works_at': ['broadway'],\n",
       " 'gender': ['male'],\n",
       " 'ph_no': 98565441}"
      ]
     },
     "execution_count": 35,
     "metadata": {},
     "output_type": "execute_result"
    }
   ],
   "source": [
    "about"
   ]
  },
  {
   "cell_type": "code",
   "execution_count": 37,
   "id": "867fd03e-fe99-4199-b3a8-fe6e45ec6cbd",
   "metadata": {},
   "outputs": [
    {
     "data": {
      "text/plain": [
       "dict_keys(['name', 'lives at', 'age', 'teaches', 'works_at', 'gender', 'ph_no'])"
      ]
     },
     "execution_count": 37,
     "metadata": {},
     "output_type": "execute_result"
    }
   ],
   "source": [
    "about.keys() # list of keys in dictionary"
   ]
  },
  {
   "cell_type": "code",
   "execution_count": 39,
   "id": "e7ab3d42-bc03-4fcd-b24b-8eb6864a339b",
   "metadata": {},
   "outputs": [
    {
     "data": {
      "text/plain": [
       "dict_values(['kshitiz', 'Patan', 26, ['python', 'DS', 'ML', 'AI'], ['broadway'], ['male'], 98565441])"
      ]
     },
     "execution_count": 39,
     "metadata": {},
     "output_type": "execute_result"
    }
   ],
   "source": [
    "about.values() # list of values in dictionary "
   ]
  },
  {
   "cell_type": "code",
   "execution_count": 40,
   "id": "92194f04-8fb8-4416-adea-c3417d895436",
   "metadata": {},
   "outputs": [
    {
     "data": {
      "text/plain": [
       "dict_items([('name', 'kshitiz'), ('lives at', 'Patan'), ('age', 26), ('teaches', ['python', 'DS', 'ML', 'AI']), ('works_at', ['broadway']), ('gender', ['male']), ('ph_no', 98565441)])"
      ]
     },
     "execution_count": 40,
     "metadata": {},
     "output_type": "execute_result"
    }
   ],
   "source": [
    "about.items()"
   ]
  },
  {
   "cell_type": "code",
   "execution_count": 45,
   "id": "0d724cb3-9624-4237-931e-71d4d43de42f",
   "metadata": {},
   "outputs": [
    {
     "name": "stdout",
     "output_type": "stream",
     "text": [
      "('name', 'kshitiz')\n",
      "('lives at', 'Patan')\n",
      "('age', 26)\n",
      "('teaches', ['python', 'DS', 'ML', 'AI'])\n",
      "('works_at', ['broadway'])\n",
      "('gender', ['male'])\n",
      "('ph_no', 98565441)\n"
     ]
    }
   ],
   "source": [
    "for key_value_pair in about.items():\n",
    "    print(key_value_pair)"
   ]
  },
  {
   "cell_type": "code",
   "execution_count": 46,
   "id": "0b3f6515-edbd-4e3f-99b7-f74369414719",
   "metadata": {},
   "outputs": [],
   "source": [
    "key_value_pair = ('name','kshitiz')\n",
    "key ,val = key_value_pair"
   ]
  },
  {
   "cell_type": "code",
   "execution_count": 47,
   "id": "fc9f4c5a-4654-44c3-87ad-5252c3cd114b",
   "metadata": {},
   "outputs": [
    {
     "data": {
      "text/plain": [
       "'name'"
      ]
     },
     "execution_count": 47,
     "metadata": {},
     "output_type": "execute_result"
    }
   ],
   "source": [
    "key\n"
   ]
  },
  {
   "cell_type": "code",
   "execution_count": 48,
   "id": "7c8193c2-e63c-40aa-b54e-799e488639e4",
   "metadata": {},
   "outputs": [
    {
     "data": {
      "text/plain": [
       "'kshitiz'"
      ]
     },
     "execution_count": 48,
     "metadata": {},
     "output_type": "execute_result"
    }
   ],
   "source": [
    "val"
   ]
  },
  {
   "cell_type": "code",
   "execution_count": 51,
   "id": "866fe09c-9b5a-4793-9d79-24c43c40c227",
   "metadata": {},
   "outputs": [
    {
     "name": "stdout",
     "output_type": "stream",
     "text": [
      "the key is name and the value is kshitiz\n",
      "the key is lives at and the value is Patan\n",
      "the key is age and the value is 26\n",
      "the key is teaches and the value is ['python', 'DS', 'ML', 'AI']\n",
      "the key is works_at and the value is ['broadway']\n",
      "the key is gender and the value is ['male']\n",
      "the key is ph_no and the value is 98565441\n"
     ]
    }
   ],
   "source": [
    "for key,val in about.items():\n",
    "    print(f'The key is {key} and the value is {val}')"
   ]
  },
  {
   "cell_type": "markdown",
   "id": "c504cab0-d9b0-4ed5-94e1-4b2985b691f5",
   "metadata": {},
   "source": [
    "# pop "
   ]
  },
  {
   "cell_type": "code",
   "execution_count": 52,
   "id": "2b381c06-e966-44e9-bbbd-1f2fa53cd842",
   "metadata": {},
   "outputs": [],
   "source": [
    "d = {\n",
    "    'id':245651,\n",
    "    'url': 'http//broadway.com',\n",
    "    'title':'data science with python',\n",
    "    'time':'9AM'\n",
    "    \n",
    "}\n",
    "    "
   ]
  },
  {
   "cell_type": "code",
   "execution_count": 53,
   "id": "85869a48-f570-4a6c-aabc-b53c007f5b83",
   "metadata": {},
   "outputs": [
    {
     "data": {
      "text/plain": [
       "{'id': 245651,\n",
       " 'url': 'http//broadway.com',\n",
       " 'title': 'data science with python',\n",
       " 'time': '9AM'}"
      ]
     },
     "execution_count": 53,
     "metadata": {},
     "output_type": "execute_result"
    }
   ],
   "source": [
    "d"
   ]
  },
  {
   "cell_type": "code",
   "execution_count": 54,
   "id": "79098ba3-0c53-4b32-8d6a-1e431f5cc666",
   "metadata": {},
   "outputs": [
    {
     "data": {
      "text/plain": [
       "'9AM'"
      ]
     },
     "execution_count": 54,
     "metadata": {},
     "output_type": "execute_result"
    }
   ],
   "source": [
    "d.pop('time')"
   ]
  },
  {
   "cell_type": "code",
   "execution_count": 55,
   "id": "40c68f22-58a3-43f6-bef2-b68a0b9bc089",
   "metadata": {},
   "outputs": [
    {
     "data": {
      "text/plain": [
       "{'id': 245651,\n",
       " 'url': 'http//broadway.com',\n",
       " 'title': 'data science with python'}"
      ]
     },
     "execution_count": 55,
     "metadata": {},
     "output_type": "execute_result"
    }
   ],
   "source": [
    "d"
   ]
  },
  {
   "cell_type": "markdown",
   "id": "832b3ea8-3850-474a-ac80-356c5f7dc15f",
   "metadata": {},
   "source": [
    "# update if dictionary already contains key:value pair"
   ]
  },
  {
   "cell_type": "code",
   "execution_count": 56,
   "id": "fc82d996-f6c9-465f-9f20-d26a7f13d564",
   "metadata": {},
   "outputs": [],
   "source": [
    "d = {\n",
    "    'id':245651,\n",
    "    'url': 'http//broadway.com',\n",
    "    'title':'data science with python',\n",
    "    'time':'9AM'\n",
    "    \n",
    "}"
   ]
  },
  {
   "cell_type": "code",
   "execution_count": 57,
   "id": "e54f64dc-2a1b-4151-8660-af0ecbbb0033",
   "metadata": {},
   "outputs": [],
   "source": [
    "d.update({'time': '10 am'}) "
   ]
  },
  {
   "cell_type": "code",
   "execution_count": 59,
   "id": "7d569ee5-d8c8-4079-9e5d-b7b3f3678ea7",
   "metadata": {},
   "outputs": [
    {
     "data": {
      "text/plain": [
       "{'id': 245651,\n",
       " 'url': 'http//broadway.com',\n",
       " 'title': 'data science with python',\n",
       " 'time': '10 am'}"
      ]
     },
     "execution_count": 59,
     "metadata": {},
     "output_type": "execute_result"
    }
   ],
   "source": [
    "d # update garda"
   ]
  },
  {
   "cell_type": "markdown",
   "id": "94b7470a-41f9-4bc4-a332-d4763b4f4d09",
   "metadata": {},
   "source": [
    " # swap the key value pair of given dictionaryh]"
   ]
  },
  {
   "cell_type": "code",
   "execution_count": 63,
   "id": "d92ada50-3e13-46fc-8f8d-8ed2c94de360",
   "metadata": {},
   "outputs": [
    {
     "data": {
      "text/plain": [
       "{1: 'One', 2: 'Two'}"
      ]
     },
     "execution_count": 63,
     "metadata": {},
     "output_type": "execute_result"
    }
   ],
   "source": [
    "data = {\n",
    "    1: 'One',\n",
    "    2: 'Two'\n",
    "}\n",
    "data"
   ]
  },
  {
   "cell_type": "code",
   "execution_count": 66,
   "id": "c12de023-9336-4667-9fdd-d0dc6750574e",
   "metadata": {},
   "outputs": [
    {
     "data": {
      "text/plain": [
       "{'One': 1, 'Two': 2}"
      ]
     },
     "execution_count": 66,
     "metadata": {},
     "output_type": "execute_result"
    }
   ],
   "source": [
    "{ val:key for key,val in data.items()} # dictionary comprehension"
   ]
  },
  {
   "cell_type": "markdown",
   "id": "d71cb21b-2748-42fa-97fe-f066fcdd8287",
   "metadata": {},
   "source": [
    "# some examples of dictionaries"
   ]
  },
  {
   "cell_type": "code",
   "execution_count": 67,
   "id": "350d3a06-628b-4769-9928-3c97adf7fb37",
   "metadata": {},
   "outputs": [
    {
     "data": {
      "text/plain": [
       "'ball'"
      ]
     },
     "execution_count": 67,
     "metadata": {},
     "output_type": "execute_result"
    }
   ],
   "source": [
    "my_dict = {1: 'apple', 2:'ball'}\n",
    "my_dict[2]"
   ]
  },
  {
   "cell_type": "code",
   "execution_count": 68,
   "id": "43744cf9-d9d7-461c-93d4-f4e58881bd3e",
   "metadata": {},
   "outputs": [
    {
     "data": {
      "text/plain": [
       "'ball'"
      ]
     },
     "execution_count": 68,
     "metadata": {},
     "output_type": "execute_result"
    }
   ],
   "source": [
    "my_dict.get(2)"
   ]
  },
  {
   "cell_type": "markdown",
   "id": "18543844-29a8-476e-8680-1dbfce48c3a7",
   "metadata": {},
   "source": [
    "# nested dictionary"
   ]
  },
  {
   "cell_type": "code",
   "execution_count": 71,
   "id": "bed320c8-d61c-488e-9e40-045812d14bba",
   "metadata": {},
   "outputs": [],
   "source": [
    "child = {\n",
    "    'child1' : {'name' : 'luv', 'age': 5 , 'gender': 'M'},\n",
    "    'child2' : {'name': 'kush', 'age':4}\n",
    "}"
   ]
  },
  {
   "cell_type": "code",
   "execution_count": 73,
   "id": "43d5a1fe-b1ae-433d-86ca-1e74b1c19418",
   "metadata": {},
   "outputs": [
    {
     "data": {
      "text/plain": [
       "{'name': 'kush', 'age': 4}"
      ]
     },
     "execution_count": 73,
     "metadata": {},
     "output_type": "execute_result"
    }
   ],
   "source": [
    "child['child2']"
   ]
  },
  {
   "cell_type": "code",
   "execution_count": 74,
   "id": "de120264-4a23-464d-9a39-a4b953dce72a",
   "metadata": {},
   "outputs": [
    {
     "data": {
      "text/plain": [
       "4"
      ]
     },
     "execution_count": 74,
     "metadata": {},
     "output_type": "execute_result"
    }
   ],
   "source": [
    "child['child2']['age']"
   ]
  },
  {
   "cell_type": "code",
   "execution_count": 75,
   "id": "1a94ed4c-3c8f-40d6-96ff-613b16657cf8",
   "metadata": {},
   "outputs": [
    {
     "data": {
      "text/plain": [
       "'M'"
      ]
     },
     "execution_count": 75,
     "metadata": {},
     "output_type": "execute_result"
    }
   ],
   "source": [
    "child['child1']['gender']"
   ]
  },
  {
   "cell_type": "code",
   "execution_count": 83,
   "id": "fca839cf-26ff-49a6-90d5-ce23e1b7d86b",
   "metadata": {},
   "outputs": [
    {
     "data": {
      "text/plain": [
       "{'name': 'kush', 'age': 4}"
      ]
     },
     "execution_count": 83,
     "metadata": {},
     "output_type": "execute_result"
    }
   ],
   "source": [
    "child.get('child2')"
   ]
  },
  {
   "cell_type": "code",
   "execution_count": 84,
   "id": "f92127d5-5e97-4d37-8ed1-68809e6558fa",
   "metadata": {},
   "outputs": [
    {
     "data": {
      "text/plain": [
       "4"
      ]
     },
     "execution_count": 84,
     "metadata": {},
     "output_type": "execute_result"
    }
   ],
   "source": [
    "child['child2']['age']"
   ]
  },
  {
   "cell_type": "code",
   "execution_count": 85,
   "id": "630a2312-fa52-4cfe-aa8d-4cb27d1f3aae",
   "metadata": {},
   "outputs": [
    {
     "data": {
      "text/plain": [
       "dict_keys(['child1', 'child2'])"
      ]
     },
     "execution_count": 85,
     "metadata": {},
     "output_type": "execute_result"
    }
   ],
   "source": [
    "child.keys()"
   ]
  },
  {
   "cell_type": "code",
   "execution_count": 86,
   "id": "6bf7e16f-7d52-466f-963e-a73bfa6e2c7b",
   "metadata": {},
   "outputs": [],
   "source": [
    "# take 2 input from user  "
   ]
  },
  {
   "cell_type": "code",
   "execution_count": 96,
   "id": "b27baab4-f312-4813-9004-ed6a37f4d8ab",
   "metadata": {},
   "outputs": [
    {
     "name": "stdin",
     "output_type": "stream",
     "text": [
      "enter your name: Tribikram\n",
      "enter your age: 23\n",
      "enter your name: erick\n",
      "enter your age: 18\n"
     ]
    }
   ],
   "source": [
    "data=[]\n",
    "for i in range (2):\n",
    "    name = input('enter your name:')\n",
    "    age = input('enter your age:')\n",
    "    d = {\n",
    "        'name':name,'age':age\n",
    "    }\n",
    "    data.append(d)"
   ]
  },
  {
   "cell_type": "code",
   "execution_count": 97,
   "id": "47055013-6901-466e-a8a9-32f49d64f1a4",
   "metadata": {},
   "outputs": [
    {
     "data": {
      "text/plain": [
       "[{'name': 'Tribikram', 'age': '23'}, {'name': 'erick', 'age': '18'}]"
      ]
     },
     "execution_count": 97,
     "metadata": {},
     "output_type": "execute_result"
    }
   ],
   "source": [
    "data\n"
   ]
  },
  {
   "cell_type": "code",
   "execution_count": null,
   "id": "97754023-e03f-40a9-91a1-e6b42cde96b4",
   "metadata": {},
   "outputs": [],
   "source": []
  },
  {
   "cell_type": "code",
   "execution_count": null,
   "id": "7618c646-3353-4590-8970-4e531becca79",
   "metadata": {},
   "outputs": [],
   "source": [
    "[{\"name\": input(\"Enter your name\"), \"age\": input(\"Enter your age\")} for i in range(2)]"
   ]
  },
  {
   "cell_type": "code",
   "execution_count": null,
   "id": "d83dfdba-2cc2-4a82-8d4a-ef0135900a05",
   "metadata": {},
   "outputs": [],
   "source": []
  }
 ],
 "metadata": {
  "kernelspec": {
   "display_name": "Python 3 (ipykernel)",
   "language": "python",
   "name": "python3"
  },
  "language_info": {
   "codemirror_mode": {
    "name": "ipython",
    "version": 3
   },
   "file_extension": ".py",
   "mimetype": "text/x-python",
   "name": "python",
   "nbconvert_exporter": "python",
   "pygments_lexer": "ipython3",
   "version": "3.11.5"
  }
 },
 "nbformat": 4,
 "nbformat_minor": 5
}
