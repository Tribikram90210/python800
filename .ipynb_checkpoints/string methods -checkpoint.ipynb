{
 "cells": [
  {
   "cell_type": "code",
   "execution_count": 1,
   "id": "e4f57f8e-a6d9-44e4-96fa-34a3de577bcf",
   "metadata": {},
   "outputs": [
    {
     "data": {
      "text/plain": [
       "'radheradhe'"
      ]
     },
     "execution_count": 1,
     "metadata": {},
     "output_type": "execute_result"
    }
   ],
   "source": [
    "'radhe' + 'radhe'\n"
   ]
  },
  {
   "cell_type": "code",
   "execution_count": 2,
   "id": "776c2e84-4611-405a-ac88-5bf31939907a",
   "metadata": {},
   "outputs": [
    {
     "data": {
      "text/plain": [
       "'radheradhe'"
      ]
     },
     "execution_count": 2,
     "metadata": {},
     "output_type": "execute_result"
    }
   ],
   "source": [
    "'radhe'*2"
   ]
  },
  {
   "cell_type": "markdown",
   "id": "f1b9867c-bbf9-4a97-8811-15ddcc230f60",
   "metadata": {},
   "source": [
    ".replace()"
   ]
  },
  {
   "cell_type": "code",
   "execution_count": 3,
   "id": "cf1c28e8-a360-4ffb-aebd-ec8edd0b8bea",
   "metadata": {},
   "outputs": [
    {
     "data": {
      "text/plain": [
       "'$'"
      ]
     },
     "execution_count": 3,
     "metadata": {},
     "output_type": "execute_result"
    }
   ],
   "source": [
    "name = 'k$hitiz'\n",
    "name[1]"
   ]
  },
  {
   "cell_type": "code",
   "execution_count": 5,
   "id": "83fc3ec2-be49-461b-a0e5-bb81751ccc68",
   "metadata": {},
   "outputs": [
    {
     "ename": "TypeError",
     "evalue": "'str' object does not support item assignment",
     "output_type": "error",
     "traceback": [
      "\u001b[1;31m---------------------------------------------------------------------------\u001b[0m",
      "\u001b[1;31mTypeError\u001b[0m                                 Traceback (most recent call last)",
      "Cell \u001b[1;32mIn[5], line 1\u001b[0m\n\u001b[1;32m----> 1\u001b[0m \u001b[43mname\u001b[49m\u001b[43m[\u001b[49m\u001b[38;5;241;43m1\u001b[39;49m\u001b[43m]\u001b[49m \u001b[38;5;241m=\u001b[39m \u001b[38;5;124m'\u001b[39m\u001b[38;5;124ms\u001b[39m\u001b[38;5;124m'\u001b[39m \u001b[38;5;66;03m# strings are immutable data types ; you cannot update values on same memory location\u001b[39;00m\n",
      "\u001b[1;31mTypeError\u001b[0m: 'str' object does not support item assignment"
     ]
    }
   ],
   "source": [
    "name[1] = 's' # strings are immutable data types ; you cannot update values on same memory location"
   ]
  },
  {
   "cell_type": "code",
   "execution_count": 6,
   "id": "2006bf36-3d3c-4073-b566-aadfa9c70269",
   "metadata": {},
   "outputs": [
    {
     "data": {
      "text/plain": [
       "1695444615792"
      ]
     },
     "execution_count": 6,
     "metadata": {},
     "output_type": "execute_result"
    }
   ],
   "source": [
    "name = 'k$hitiz'\n",
    "id(name)"
   ]
  },
  {
   "cell_type": "code",
   "execution_count": 7,
   "id": "20269572-2550-4663-b74a-d33e072beaf5",
   "metadata": {},
   "outputs": [
    {
     "data": {
      "text/plain": [
       "'kshitiz'"
      ]
     },
     "execution_count": 7,
     "metadata": {},
     "output_type": "execute_result"
    }
   ],
   "source": [
    "name.replace('$','s') #yo arkai memory location ma banira ho "
   ]
  },
  {
   "cell_type": "code",
   "execution_count": 8,
   "id": "ab2d722e-5bf3-412a-a3f7-c754a966e12d",
   "metadata": {},
   "outputs": [
    {
     "data": {
      "text/plain": [
       "'k$hitiz'"
      ]
     },
     "execution_count": 8,
     "metadata": {},
     "output_type": "execute_result"
    }
   ],
   "source": [
    "name # name update hudaina"
   ]
  },
  {
   "cell_type": "code",
   "execution_count": 11,
   "id": "d27566ef-5783-470f-a609-12a3b14167de",
   "metadata": {},
   "outputs": [
    {
     "name": "stdout",
     "output_type": "stream",
     "text": [
      "1695444626992 k$hitiz\n",
      "1695444615408 kshitiz\n"
     ]
    }
   ],
   "source": [
    "name = 'k$hitiz'\n",
    "print(id(name), name)\n",
    "name = name.replace('$','s') # yo arkai locatiion ma store vayo\n",
    "print(id(name),name)\n",
    "\n",
    "      \n"
   ]
  },
  {
   "cell_type": "code",
   "execution_count": 13,
   "id": "6300a11d-bc04-4d7d-88df-d3191e9113ad",
   "metadata": {},
   "outputs": [
    {
     "data": {
      "text/plain": [
       "'fantastic dashain'"
      ]
     },
     "execution_count": 13,
     "metadata": {},
     "output_type": "execute_result"
    }
   ],
   "source": [
    "msg = 'happy dashain'\n",
    "msg.replace('happy', 'fantastic') #replace matrai vairacha\n"
   ]
  },
  {
   "cell_type": "markdown",
   "id": "0cc514ea-f748-4df4-8745-7b523e154ee3",
   "metadata": {},
   "source": [
    "# upper (), lower(), title()"
   ]
  },
  {
   "cell_type": "markdown",
   "id": "985f0b96-b927-47c0-8909-b965cf3ae466",
   "metadata": {},
   "source": [
    "headline = 'Heavy rains trigger floods and landslides in india.' \n"
   ]
  },
  {
   "cell_type": "code",
   "execution_count": 15,
   "id": "7ba01ff6-c4e9-4c42-916f-56b2b9653a7e",
   "metadata": {},
   "outputs": [
    {
     "data": {
      "text/plain": [
       "'HEAVY RAINS TRIGGER FLOODS AND LANDSLIDES IN INDIA.'"
      ]
     },
     "execution_count": 15,
     "metadata": {},
     "output_type": "execute_result"
    }
   ],
   "source": [
    "headline.upper() # yo pani naya location ma jancha"
   ]
  },
  {
   "cell_type": "code",
   "execution_count": 16,
   "id": "dff2dee8-a0fb-4ccb-9c40-5ab22e47d37f",
   "metadata": {},
   "outputs": [
    {
     "data": {
      "text/plain": [
       "'heavy rains trigger floods and landslides in india.'"
      ]
     },
     "execution_count": 16,
     "metadata": {},
     "output_type": "execute_result"
    }
   ],
   "source": [
    "headline.lower() # yo pani naya location ma jancha"
   ]
  },
  {
   "cell_type": "code",
   "execution_count": 17,
   "id": "6179e895-d07e-419c-acb7-9f3c5db7dd67",
   "metadata": {},
   "outputs": [
    {
     "data": {
      "text/plain": [
       "'Heavy Rains Trigger Floods And Landslides In India.'"
      ]
     },
     "execution_count": 17,
     "metadata": {},
     "output_type": "execute_result"
    }
   ],
   "source": [
    "headline.title() # yo pani naya location ma jancha"
   ]
  },
  {
   "cell_type": "markdown",
   "id": "54cfc458-ff1c-4da3-8503-ae3f106a3b0e",
   "metadata": {},
   "source": [
    "# strip(),. lstrip(),.rstrip()"
   ]
  },
  {
   "cell_type": "code",
   "execution_count": 20,
   "id": "80f7022e-7ba6-41d5-859e-254f336ba94b",
   "metadata": {},
   "outputs": [],
   "source": [
    "headline = '          Heavy rains trigger floods and          landslides in india.                 ' \n"
   ]
  },
  {
   "cell_type": "code",
   "execution_count": 21,
   "id": "07ba2738-1c8c-4875-b8de-861880ef7151",
   "metadata": {},
   "outputs": [
    {
     "data": {
      "text/plain": [
       "'Heavy rains trigger floods and          landslides in india.'"
      ]
     },
     "execution_count": 21,
     "metadata": {},
     "output_type": "execute_result"
    }
   ],
   "source": [
    "headline.strip() #extreme right ra left ko matrai spaces falcha"
   ]
  },
  {
   "cell_type": "code",
   "execution_count": 22,
   "id": "09b75d53-0526-4493-86f5-7a8f16b4cb47",
   "metadata": {},
   "outputs": [
    {
     "data": {
      "text/plain": [
       "'Heavy rains trigger floods and          landslides in india.                 '"
      ]
     },
     "execution_count": 22,
     "metadata": {},
     "output_type": "execute_result"
    }
   ],
   "source": [
    "headline.lstrip() #left ko matrai falcha"
   ]
  },
  {
   "cell_type": "code",
   "execution_count": 23,
   "id": "16e510a4-8b96-4153-81f1-3808954e27d7",
   "metadata": {},
   "outputs": [
    {
     "data": {
      "text/plain": [
       "'          Heavy rains trigger floods and          landslides in india.'"
      ]
     },
     "execution_count": 23,
     "metadata": {},
     "output_type": "execute_result"
    }
   ],
   "source": [
    "headline.rstrip() #right ko matrai falcha"
   ]
  },
  {
   "cell_type": "markdown",
   "id": "6acde3b2-84eb-425a-a5d5-24081e262d78",
   "metadata": {},
   "source": [
    "# .Split"
   ]
  },
  {
   "cell_type": "code",
   "execution_count": 39,
   "id": "a5894701-4835-40e9-8567-758bd04504fd",
   "metadata": {},
   "outputs": [
    {
     "data": {
      "text/plain": [
       "['Heavy', 'rains', 'trigger', 'floods', 'and', 'landslides', 'in', 'india.']"
      ]
     },
     "execution_count": 39,
     "metadata": {},
     "output_type": "execute_result"
    }
   ],
   "source": [
    "headline = 'Heavy rains trigger floods and landslides in india.' \n",
    "words = headline.split(' ')\n",
    "words"
   ]
  },
  {
   "cell_type": "code",
   "execution_count": 29,
   "id": "2528ec03-26eb-415e-ac56-21c475e22c44",
   "metadata": {},
   "outputs": [
    {
     "data": {
      "text/plain": [
       "list"
      ]
     },
     "execution_count": 29,
     "metadata": {},
     "output_type": "execute_result"
    }
   ],
   "source": [
    "type(words)"
   ]
  },
  {
   "cell_type": "code",
   "execution_count": 30,
   "id": "9e96aeb6-d1a1-4dd9-adf7-6bca097ea465",
   "metadata": {},
   "outputs": [],
   "source": [
    "# collection of items in one varibale is call lists"
   ]
  },
  {
   "cell_type": "code",
   "execution_count": 31,
   "id": "78a044d4-d346-47d6-b3e5-22ded332011f",
   "metadata": {},
   "outputs": [],
   "source": [
    "words_list = ['Heavy', 'rains', 'trigger', 'floods', 'and', 'landslides', 'in', 'india.']"
   ]
  },
  {
   "cell_type": "code",
   "execution_count": 35,
   "id": "afbe398c-1188-46cc-a00b-fcdd9472f950",
   "metadata": {},
   "outputs": [
    {
     "data": {
      "text/plain": [
       "'Heavy rains trigger floods and landslides in india.'"
      ]
     },
     "execution_count": 35,
     "metadata": {},
     "output_type": "execute_result"
    }
   ],
   "source": [
    "' '.join(words_list)"
   ]
  },
  {
   "cell_type": "code",
   "execution_count": null,
   "id": "c6462b28-b919-43f6-a485-8454b3da4192",
   "metadata": {},
   "outputs": [],
   "source": []
  }
 ],
 "metadata": {
  "kernelspec": {
   "display_name": "Python 3 (ipykernel)",
   "language": "python",
   "name": "python3"
  },
  "language_info": {
   "codemirror_mode": {
    "name": "ipython",
    "version": 3
   },
   "file_extension": ".py",
   "mimetype": "text/x-python",
   "name": "python",
   "nbconvert_exporter": "python",
   "pygments_lexer": "ipython3",
   "version": "3.11.5"
  }
 },
 "nbformat": 4,
 "nbformat_minor": 5
}
