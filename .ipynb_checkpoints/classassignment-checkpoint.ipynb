{
 "cells": [
  {
   "cell_type": "markdown",
   "id": "be6f5765-0261-4e07-a037-4d52e31249c1",
   "metadata": {},
   "source": [
    "# 1 .WAP that asks the user to enter a string and prints the string in reverse order\n"
   ]
  },
  {
   "cell_type": "code",
   "execution_count": 15,
   "id": "7bd7db10-6a2b-4970-acea-8b34941775cf",
   "metadata": {},
   "outputs": [
    {
     "name": "stdin",
     "output_type": "stream",
     "text": [
      "Enter a string Trap\n"
     ]
    },
    {
     "name": "stdout",
     "output_type": "stream",
     "text": [
      "reverse order p\n",
      "reverse order a\n",
      "reverse order r\n",
      "reverse order T\n"
     ]
    }
   ],
   "source": [
    "A = input('Enter a string')\n",
    "for b in range(len(A) -1,-1,-1 ):\n",
    "    character = A[b]\n",
    "    print(f'reverse order {character}')\n"
   ]
  },
  {
   "cell_type": "code",
   "execution_count": 22,
   "id": "0f6fcf35-0e87-4479-9768-0cacf8f94d6b",
   "metadata": {},
   "outputs": [
    {
     "name": "stdin",
     "output_type": "stream",
     "text": [
      "enter a string permanent\n"
     ]
    },
    {
     "name": "stdout",
     "output_type": "stream",
     "text": [
      "reverse order of string t \n",
      "reverse order of string n \n",
      "reverse order of string e \n",
      "reverse order of string n \n",
      "reverse order of string a \n",
      "reverse order of string m \n",
      "reverse order of string r \n",
      "reverse order of string e \n",
      "reverse order of string p \n"
     ]
    }
   ],
   "source": [
    "C = input('enter a string')\n",
    "for d in range (len(C) -1,-1,-1):\n",
    "    string = C[d]\n",
    "    print(f'reverse order of string {string} ')\n",
    "    "
   ]
  },
  {
   "cell_type": "code",
   "execution_count": 32,
   "id": "1db5e8eb-5bcc-4655-86b7-05a90635b0a7",
   "metadata": {},
   "outputs": [
    {
     "name": "stdout",
     "output_type": "stream",
     "text": [
      "reverse order of string i\n",
      "reverse order of string n\n",
      "reverse order of string i\n",
      "reverse order of string h\n",
      "reverse order of string g\n",
      "reverse order of string r\n",
      "reverse order of string o\n",
      "reverse order of string b\n",
      "reverse order of string m\n",
      "reverse order of string a\n",
      "reverse order of string l\n"
     ]
    }
   ],
   "source": [
    "s = 'lamborghini'\n",
    "for me in range(len(s) -1,-1,-1):\n",
    "    met = s[me]\n",
    "    print(f'reverse order of string {met}')"
   ]
  },
  {
   "cell_type": "markdown",
   "id": "5d38d32a-42d1-4784-945e-1ccab2039248",
   "metadata": {},
   "source": [
    "# 2 . WAP that asks user to enter a string and prints the number of vowels in a string\n",
    "\n"
   ]
  },
  {
   "cell_type": "code",
   "execution_count": null,
   "id": "d1d7c427-169e-46b3-a3da-64a1d32ab6e4",
   "metadata": {},
   "outputs": [],
   "source": [
    "A = input('enter a string') # yo feri garnu parcha\n",
    "for number in range(0 , len(A)):\n",
    "    C = A[number]\n",
    "    if C == 'a' or C == 'e' or C == 'i' or C == 'o' or C == 'u':\n",
    "        print(f'Vowel= {C}')\n",
    "    else:\n",
    "        print(f'Consonant= {C}')\n",
    "\n",
    "    \n"
   ]
  },
  {
   "cell_type": "markdown",
   "id": "7deb9bdb-ca27-4137-95b7-74274f71256e",
   "metadata": {},
   "source": [
    "# number 4"
   ]
  },
  {
   "cell_type": "code",
   "execution_count": null,
   "id": "2d19dd59-faf4-4332-8c49-c844f234036b",
   "metadata": {},
   "outputs": [],
   "source": [
    "user_input = input('enter a string:') # use replace function\n",
    "user"
   ]
  }
 ],
 "metadata": {
  "kernelspec": {
   "display_name": "Python 3 (ipykernel)",
   "language": "python",
   "name": "python3"
  },
  "language_info": {
   "codemirror_mode": {
    "name": "ipython",
    "version": 3
   },
   "file_extension": ".py",
   "mimetype": "text/x-python",
   "name": "python",
   "nbconvert_exporter": "python",
   "pygments_lexer": "ipython3",
   "version": "3.11.5"
  }
 },
 "nbformat": 4,
 "nbformat_minor": 5
}
