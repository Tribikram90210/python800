{
 "cells": [
  {
   "cell_type": "markdown",
   "id": "3a541d06-624b-4ed1-a76f-1e1521463e16",
   "metadata": {},
   "source": [
    "# write a program to check if a person is eligible to vote "
   ]
  },
  {
   "cell_type": "code",
   "execution_count": 3,
   "id": "38013df7-0457-4926-8c3d-fd11cf457154",
   "metadata": {},
   "outputs": [
    {
     "name": "stdin",
     "output_type": "stream",
     "text": [
      "enter your age: 18\n"
     ]
    },
    {
     "name": "stdout",
     "output_type": "stream",
     "text": [
      "You are eligible to vote\n"
     ]
    }
   ],
   "source": [
    "age = int(input('enter your age:'))\n",
    "if age >= 18:\n",
    "    print('You are eligible to vote')\n",
    "else:\n",
    "    print('sorry your a minor')\n"
   ]
  },
  {
   "cell_type": "code",
   "execution_count": 4,
   "id": "d94e1dde-5279-4ade-bc06-f5811031c783",
   "metadata": {},
   "outputs": [
    {
     "name": "stdout",
     "output_type": "stream",
     "text": [
      "equal\n"
     ]
    }
   ],
   "source": [
    "if 10==10:\n",
    "    print('equal')"
   ]
  },
  {
   "cell_type": "code",
   "execution_count": 7,
   "id": "2389ee27-01be-4a44-9d7a-19a713bfa375",
   "metadata": {},
   "outputs": [
    {
     "name": "stdin",
     "output_type": "stream",
     "text": [
      "enter a number: 5\n"
     ]
    },
    {
     "name": "stdout",
     "output_type": "stream",
     "text": [
      "The number is odd\n"
     ]
    }
   ],
   "source": [
    "num = int(input('enter a number:'))\n",
    "if num % 2 == 0:\n",
    "                print('The number is even')\n",
    "else:\n",
    "                print('The number is odd')\n",
    "                \n",
    "                "
   ]
  },
  {
   "cell_type": "code",
   "execution_count": 11,
   "id": "2bd96c0c-ca69-4038-80e6-9a2a6a9925ad",
   "metadata": {},
   "outputs": [
    {
     "name": "stdin",
     "output_type": "stream",
     "text": [
      "enter a number: 50\n"
     ]
    },
    {
     "name": "stdout",
     "output_type": "stream",
     "text": [
      "the number is positive\n"
     ]
    }
   ],
   "source": [
    "num = int(input('enter a number:'))\n",
    "if num >= 0:\n",
    "    print('the number is positive')\n",
    "else:\n",
    "    print('the number is negative')\n",
    "    \n"
   ]
  },
  {
   "cell_type": "code",
   "execution_count": null,
   "id": "56e4bc5a-d012-43be-a507-2f46213dff26",
   "metadata": {},
   "outputs": [],
   "source": []
  }
 ],
 "metadata": {
  "kernelspec": {
   "display_name": "Python 3 (ipykernel)",
   "language": "python",
   "name": "python3"
  },
  "language_info": {
   "codemirror_mode": {
    "name": "ipython",
    "version": 3
   },
   "file_extension": ".py",
   "mimetype": "text/x-python",
   "name": "python",
   "nbconvert_exporter": "python",
   "pygments_lexer": "ipython3",
   "version": "3.11.5"
  }
 },
 "nbformat": 4,
 "nbformat_minor": 5
}
