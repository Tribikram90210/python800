{
 "cells": [
  {
   "cell_type": "code",
   "execution_count": 1,
   "id": "0548c5d8-763f-4db3-8cf6-95f28ed29174",
   "metadata": {},
   "outputs": [],
   "source": [
    "def greet(name,msg):\n",
    "    print(f'hi {name} , {msg}')\n",
    "    "
   ]
  },
  {
   "cell_type": "code",
   "execution_count": 2,
   "id": "7e7e9a08-4f45-47f3-a253-a4f36742099f",
   "metadata": {},
   "outputs": [
    {
     "name": "stdout",
     "output_type": "stream",
     "text": [
      "hi kshitiz,goodmorning\n"
     ]
    }
   ],
   "source": [
    "greet(name='kshitiz' , msg = 'goodmorning')\n"
   ]
  },
  {
   "cell_type": "code",
   "execution_count": 3,
   "id": "76b885c5-8ec0-49de-819f-65ec9dd319b5",
   "metadata": {},
   "outputs": [
    {
     "name": "stdout",
     "output_type": "stream",
     "text": [
      "hi Tribikram,Jung Shah\n"
     ]
    }
   ],
   "source": [
    "greet(name = 'Tribikram' , msg = 'Jung Shah')"
   ]
  },
  {
   "cell_type": "code",
   "execution_count": 4,
   "id": "8e33e087-226b-41f7-80db-e48b2ecac0d6",
   "metadata": {},
   "outputs": [],
   "source": [
    "def greet(name,msg='Good morning'):# good morening is now the default argument\n",
    "    print(f'hi {name} , {msg}')\n",
    "    "
   ]
  },
  {
   "cell_type": "code",
   "execution_count": 6,
   "id": "5f79deaf-ec23-4bee-8d48-9e12886a8cf8",
   "metadata": {},
   "outputs": [
    {
     "name": "stdout",
     "output_type": "stream",
     "text": [
      "hi Tribikram , Good morning\n"
     ]
    }
   ],
   "source": [
    "greet(name = 'Tribikram')# default argument funtion call garda dinu pardaina unless necessary "
   ]
  },
  {
   "cell_type": "code",
   "execution_count": 9,
   "id": "19481f06-2858-469f-aec8-676ddb5caf1b",
   "metadata": {},
   "outputs": [
    {
     "name": "stdout",
     "output_type": "stream",
     "text": [
      "hi Tribikram , Good afternoon\n"
     ]
    }
   ],
   "source": [
    "greet(name = 'Tribikram' , msg = 'Good afternoon') # overrides the default argument"
   ]
  },
  {
   "cell_type": "markdown",
   "id": "c31c8981-6972-4929-90e8-98b7e382e824",
   "metadata": {},
   "source": [
    "# name is non default argument and msg is a default argument"
   ]
  },
  {
   "cell_type": "code",
   "execution_count": 12,
   "id": "48f156af-0f21-4dbe-85d5-6bd97a0db5fb",
   "metadata": {},
   "outputs": [
    {
     "ename": "SyntaxError",
     "evalue": "non-default argument follows default argument (986704343.py, line 1)",
     "output_type": "error",
     "traceback": [
      "\u001b[1;36m  Cell \u001b[1;32mIn[12], line 1\u001b[1;36m\u001b[0m\n\u001b[1;33m    def greet(msg = 'Good morning' ,name):#default argument dosent follow non- default argument\u001b[0m\n\u001b[1;37m                                    ^\u001b[0m\n\u001b[1;31mSyntaxError\u001b[0m\u001b[1;31m:\u001b[0m non-default argument follows default argument\n"
     ]
    }
   ],
   "source": [
    "def greet(msg = 'Good morning' ,name):#deflt argument dosent follow non- default argument\n",
    "    print(f'hi {name} , {msg}')"
   ]
  },
  {
   "cell_type": "code",
   "execution_count": null,
   "id": "5a0a93d0-1d33-48a5-b2b0-6a9ec685c04d",
   "metadata": {},
   "outputs": [],
   "source": []
  }
 ],
 "metadata": {
  "kernelspec": {
   "display_name": "Python 3 (ipykernel)",
   "language": "python",
   "name": "python3"
  },
  "language_info": {
   "codemirror_mode": {
    "name": "ipython",
    "version": 3
   },
   "file_extension": ".py",
   "mimetype": "text/x-python",
   "name": "python",
   "nbconvert_exporter": "python",
   "pygments_lexer": "ipython3",
   "version": "3.11.5"
  }
 },
 "nbformat": 4,
 "nbformat_minor": 5
}
