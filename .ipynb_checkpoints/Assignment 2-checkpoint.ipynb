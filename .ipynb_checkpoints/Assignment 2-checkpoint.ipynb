{
 "cells": [
  {
   "cell_type": "markdown",
   "id": "48dbf8ab-91e2-4bb7-b5af-694965634000",
   "metadata": {},
   "source": [
    "# Find the value of a sphere"
   ]
  },
  {
   "cell_type": "code",
   "execution_count": 6,
   "id": "636066b5-9003-4caa-b3a7-2b928e34ef69",
   "metadata": {},
   "outputs": [
    {
     "name": "stdout",
     "output_type": "stream",
     "text": [
      "2143573.3333333335\n"
     ]
    }
   ],
   "source": [
    "P=3.14\n",
    "R=80\n",
    "print(4/3*P*R**3) #volume of sphere"
   ]
  },
  {
   "cell_type": "code",
   "execution_count": 2,
   "id": "34b0163f-f83b-4d98-9f82-39e5c7bd0274",
   "metadata": {},
   "outputs": [
    {
     "name": "stdout",
     "output_type": "stream",
     "text": [
      "The volume of the sphere is 523.599\n"
     ]
    }
   ],
   "source": [
    "import math\n",
    "pi= math.pi\n",
    "r=5\n",
    "volume = 4/3 * pi * r**3\n",
    "volume = round(volume,3)\n",
    "print(f'The volume of the sphere is {volume}')\n"
   ]
  },
  {
   "cell_type": "code",
   "execution_count": 9,
   "id": "576b3539-aa8e-4a03-9af7-bfc73a7c64a4",
   "metadata": {},
   "outputs": [
    {
     "ename": "SyntaxError",
     "evalue": "invalid syntax (1946329273.py, line 1)",
     "output_type": "error",
     "traceback": [
      "\u001b[1;36m  Cell \u001b[1;32mIn[9], line 1\u001b[1;36m\u001b[0m\n\u001b[1;33m    <img src = \"https://media.istockphoto.com/id/637696304/photo/patan.jpg?s=612x612&w=0&k=20&c=-53aSTGBGoOOqX5aoC3Hs1jhZ527v3Id_xOawHHVPpg=\">\u001b[0m\n\u001b[1;37m    ^\u001b[0m\n\u001b[1;31mSyntaxError\u001b[0m\u001b[1;31m:\u001b[0m invalid syntax\n"
     ]
    }
   ],
   "source": [
    "<img src = \"https://media.istockphoto.com/id/637696304/photo/patan.jpg?s=612x612&w=0&k=20&c=-53aSTGBGoOOqX5aoC3Hs1jhZ527v3Id_xOawHHVPpg=\">"
   ]
  },
  {
   "cell_type": "code",
   "execution_count": 10,
   "id": "2db81e6b-f2b4-4afb-8fac-c1dde5723cee",
   "metadata": {},
   "outputs": [
    {
     "ename": "SyntaxError",
     "evalue": "invalid syntax (1878415110.py, line 1)",
     "output_type": "error",
     "traceback": [
      "\u001b[1;36m  Cell \u001b[1;32mIn[10], line 1\u001b[1;36m\u001b[0m\n\u001b[1;33m    <img src = \"https://www.cycleworld.com/resizer/22-S-PJfBNo8_mLEsVByvY__SS8=/836x555/filters:focal(45x45:55x55)/cloudfront-us-east-1.images.arcpublishing.com/octane/OE4SICPGSBB6POIMZVS2UAF4EU.jpg\">\u001b[0m\n\u001b[1;37m    ^\u001b[0m\n\u001b[1;31mSyntaxError\u001b[0m\u001b[1;31m:\u001b[0m invalid syntax\n"
     ]
    }
   ],
   "source": [
    "<img src = \"https://www.cycleworld.com/resizer/22-S-PJfBNo8_mLEsVByvY__SS8=/836x555/filters:focal(45x45:55x55)/cloudfront-us-east-1.images.arcpublishing.com/octane/OE4SICPGSBB6POIMZVS2UAF4EU.jpg\">"
   ]
  },
  {
   "cell_type": "code",
   "execution_count": 11,
   "id": "8528ef5e-72e5-4e60-a169-7cca129d3261",
   "metadata": {},
   "outputs": [
    {
     "ename": "SyntaxError",
     "evalue": "invalid syntax (36459894.py, line 1)",
     "output_type": "error",
     "traceback": [
      "\u001b[1;36m  Cell \u001b[1;32mIn[11], line 1\u001b[1;36m\u001b[0m\n\u001b[1;33m    <img src=\"https://media.istockphoto.com/id/637696304/photo/patan.jpg?s=612x612&w=0&k=20&c=-53aSTGBGoOOqX5aoC3Hs1jhZ527v3Id_xOawHHVPpg=\">\u001b[0m\n\u001b[1;37m    ^\u001b[0m\n\u001b[1;31mSyntaxError\u001b[0m\u001b[1;31m:\u001b[0m invalid syntax\n"
     ]
    }
   ],
   "source": [
    "<img src=\"https://media.istockphoto.com/id/637696304/photo/patan.jpg?s=612x612&w=0&k=20&c=-53aSTGBGoOOqX5aoC3Hs1jhZ527v3Id_xOawHHVPpg=\">"
   ]
  },
  {
   "cell_type": "markdown",
   "id": "4d29eac0-158e-4aa1-a85c-9c5c9940306b",
   "metadata": {},
   "source": [
    "<img src=\"https://media.istockphoto.com/id/637696304/photo/patan.jpg?s=612x612&w=0&k=20&c=-53aSTGBGoOOqX5aoC3Hs1jhZ527v3Id_xOawHHVPpg=\">"
   ]
  },
  {
   "cell_type": "markdown",
   "id": "842c35fe-eecc-4cda-8964-028c5355ffbe",
   "metadata": {},
   "source": [
    "# digits cannot be variable names and digit cannot come at the  first on variable name;however, they can come after character/letters"
   ]
  },
  {
   "cell_type": "code",
   "execution_count": 15,
   "id": "e53e3bff-a40b-4377-88bc-662a8999b3e5",
   "metadata": {},
   "outputs": [
    {
     "ename": "SyntaxError",
     "evalue": "invalid decimal literal (3140300252.py, line 1)",
     "output_type": "error",
     "traceback": [
      "\u001b[1;36m  Cell \u001b[1;32mIn[15], line 1\u001b[1;36m\u001b[0m\n\u001b[1;33m    1name = 'binamara' # not allowed because the digit is at first\u001b[0m\n\u001b[1;37m    ^\u001b[0m\n\u001b[1;31mSyntaxError\u001b[0m\u001b[1;31m:\u001b[0m invalid decimal literal\n"
     ]
    }
   ],
   "source": [
    "1name = 'binamara' # not allowed because the digit is at first"
   ]
  },
  {
   "cell_type": "code",
   "execution_count": 14,
   "id": "aaf49a52-7a1c-4558-9993-0f39722e00bf",
   "metadata": {},
   "outputs": [],
   "source": [
    "name1 = 'bikram' #allowed because the digit comes after the first character"
   ]
  },
  {
   "cell_type": "code",
   "execution_count": 16,
   "id": "0935cd42-8a04-4656-9abd-dae83aa64a4b",
   "metadata": {},
   "outputs": [],
   "source": [
    "name_1 = 'bikram' #also allowed"
   ]
  },
  {
   "cell_type": "markdown",
   "id": "9dd40b6e-78fa-45c1-8d51-82bdad15eec0",
   "metadata": {},
   "source": [
    "# Combination of all alphabets are allowed(uppercase and lowecase both) , digit can follow alphabets"
   ]
  },
  {
   "cell_type": "code",
   "execution_count": 17,
   "id": "20b41bfb-b056-40e7-87f0-ce442a23b494",
   "metadata": {},
   "outputs": [],
   "source": [
    "MYname = 'Kahn' #pascal case; Python ma class name Pascalcase ma lekhne ho"
   ]
  },
  {
   "cell_type": "code",
   "execution_count": 18,
   "id": "aa8b1ac9-fce4-480b-8196-7ed3cde880a4",
   "metadata": {},
   "outputs": [],
   "source": [
    "num1 = 99"
   ]
  },
  {
   "cell_type": "code",
   "execution_count": 20,
   "id": "01bbcfe4-fb02-42d2-a3e2-1e0d18656f0f",
   "metadata": {},
   "outputs": [],
   "source": [
    "pet_name = 'dog'"
   ]
  },
  {
   "cell_type": "code",
   "execution_count": null,
   "id": "4d7949c5-ad4e-46e4-b906-7c4c0e5d3287",
   "metadata": {},
   "outputs": [],
   "source": []
  }
 ],
 "metadata": {
  "kernelspec": {
   "display_name": "Python 3 (ipykernel)",
   "language": "python",
   "name": "python3"
  },
  "language_info": {
   "codemirror_mode": {
    "name": "ipython",
    "version": 3
   },
   "file_extension": ".py",
   "mimetype": "text/x-python",
   "name": "python",
   "nbconvert_exporter": "python",
   "pygments_lexer": "ipython3",
   "version": "3.11.5"
  }
 },
 "nbformat": 4,
 "nbformat_minor": 5
}
