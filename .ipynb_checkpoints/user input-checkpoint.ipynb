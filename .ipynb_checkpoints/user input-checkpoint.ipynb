{
 "cells": [
  {
   "cell_type": "code",
   "execution_count": 1,
   "id": "d0db5b9b-9cef-4797-ac58-9ea9ebab5e76",
   "metadata": {},
   "outputs": [
    {
     "name": "stdin",
     "output_type": "stream",
     "text": [
      " hello\n"
     ]
    },
    {
     "data": {
      "text/plain": [
       "'hello'"
      ]
     },
     "execution_count": 1,
     "metadata": {},
     "output_type": "execute_result"
    }
   ],
   "source": [
    "input()"
   ]
  },
  {
   "cell_type": "code",
   "execution_count": 5,
   "id": "b00e46e6-8d98-4838-af26-2a20227efd25",
   "metadata": {},
   "outputs": [
    {
     "name": "stdin",
     "output_type": "stream",
     "text": [
      "enter your message: hello\n"
     ]
    },
    {
     "name": "stdout",
     "output_type": "stream",
     "text": [
      "hello\n"
     ]
    }
   ],
   "source": [
    "msg = input ('enter your message:')\n",
    "print(msg)\n",
    "\n"
   ]
  },
  {
   "cell_type": "code",
   "execution_count": 6,
   "id": "1605f1a6-d156-41e9-be8e-439e82a4fee0",
   "metadata": {},
   "outputs": [
    {
     "name": "stdin",
     "output_type": "stream",
     "text": [
      "enter your name: Tribikram Jung Shah\n"
     ]
    },
    {
     "name": "stdout",
     "output_type": "stream",
     "text": [
      "Tribikram Jung Shah\n"
     ]
    }
   ],
   "source": [
    "name = input ('enter your name:')\n",
    "print (name)\n"
   ]
  },
  {
   "cell_type": "code",
   "execution_count": 8,
   "id": "8e850972-5f01-4191-8fe9-64dc3dfd85f5",
   "metadata": {},
   "outputs": [
    {
     "name": "stdin",
     "output_type": "stream",
     "text": [
      "enter first number: 10\n",
      "enter second number: 20\n"
     ]
    },
    {
     "name": "stdout",
     "output_type": "stream",
     "text": [
      "1020\n"
     ]
    }
   ],
   "source": [
    "a = input ('enter first number:')\n",
    "b = input ('enter second number:')\n",
    "c = a + b\n",
    "print (c)"
   ]
  },
  {
   "cell_type": "code",
   "execution_count": 9,
   "id": "2940a1a4-7cd5-4ee7-8291-a555739772ce",
   "metadata": {},
   "outputs": [],
   "source": [
    "# wrong way\n"
   ]
  },
  {
   "cell_type": "code",
   "execution_count": 10,
   "id": "f7252834-367b-42b1-bf07-399ad3ce09ac",
   "metadata": {},
   "outputs": [
    {
     "name": "stdin",
     "output_type": "stream",
     "text": [
      "enter your number: 10\n"
     ]
    },
    {
     "data": {
      "text/plain": [
       "str"
      ]
     },
     "execution_count": 10,
     "metadata": {},
     "output_type": "execute_result"
    }
   ],
   "source": [
    "a = input('enter your number:')\n",
    "type (a) #checking data type"
   ]
  },
  {
   "cell_type": "code",
   "execution_count": 11,
   "id": "99102739-7dc3-4991-8d62-ae43173b55c6",
   "metadata": {},
   "outputs": [],
   "source": [
    "#data type casting\n"
   ]
  },
  {
   "cell_type": "code",
   "execution_count": 12,
   "id": "dc40d0b0-671f-4f30-8feb-06f8faa70052",
   "metadata": {},
   "outputs": [
    {
     "name": "stdin",
     "output_type": "stream",
     "text": [
      "enter your number: 10\n"
     ]
    },
    {
     "data": {
      "text/plain": [
       "int"
      ]
     },
     "execution_count": 12,
     "metadata": {},
     "output_type": "execute_result"
    }
   ],
   "source": [
    "a = int(input('enter your number:'))\n",
    "type(a) #dta type assigned"
   ]
  },
  {
   "cell_type": "code",
   "execution_count": 13,
   "id": "709e144d-0644-4f31-8366-b0f67cea8709",
   "metadata": {},
   "outputs": [
    {
     "name": "stdin",
     "output_type": "stream",
     "text": [
      "enter your number: 2\n",
      "enter your number: 44\n"
     ]
    },
    {
     "name": "stdout",
     "output_type": "stream",
     "text": [
      "46\n"
     ]
    }
   ],
   "source": [
    "a = int(input('enter your number:'))\n",
    "b = int(input('enter your number:'))\n",
    "c = a + b\n",
    "print(c) #correct way\n"
   ]
  },
  {
   "cell_type": "code",
   "execution_count": 14,
   "id": "72d6d84b-f00e-4205-8ee8-76e8f820b264",
   "metadata": {},
   "outputs": [
    {
     "name": "stdin",
     "output_type": "stream",
     "text": [
      "enter your number in decimal points: 1.5\n",
      "enter your number in decimal point: 20.5\n"
     ]
    },
    {
     "name": "stdout",
     "output_type": "stream",
     "text": [
      "30.75\n"
     ]
    }
   ],
   "source": [
    "a = float(input('enter your number in decimal points:'))\n",
    "b = float(input('enter your number in decimal point:'))\n",
    "c = a * b\n",
    "print (c) #float data type represents decimal numbers"
   ]
  },
  {
   "cell_type": "code",
   "execution_count": 19,
   "id": "514e6a9c-0c80-4066-9259-639235fea929",
   "metadata": {},
   "outputs": [
    {
     "name": "stdin",
     "output_type": "stream",
     "text": [
      "enter the radius: 55\n"
     ]
    },
    {
     "name": "stdout",
     "output_type": "stream",
     "text": [
      "696909.9703213357\n"
     ]
    }
   ],
   "source": [
    "import math \n",
    "pi = math.pi\n",
    "r = int(input('enter the radius:'))\n",
    "V = 4/3*pi*r**3\n",
    "print (V)"
   ]
  },
  {
   "cell_type": "code",
   "execution_count": 20,
   "id": "71b4510a-3fae-4f53-b321-3f25fe3640f4",
   "metadata": {},
   "outputs": [
    {
     "name": "stdin",
     "output_type": "stream",
     "text": [
      "enter your first name: Tribikram\n",
      "enter your last name: shah\n"
     ]
    },
    {
     "name": "stdout",
     "output_type": "stream",
     "text": [
      "your name is Tribikram shah\n"
     ]
    }
   ],
   "source": [
    "name1 = str(input('enter your first name:'))\n",
    "name2 = str(input('enter your last name:'))\n",
    "print(f'your name is {name1} {name2}')"
   ]
  },
  {
   "cell_type": "code",
   "execution_count": null,
   "id": "55b157a4-6b3c-435a-806e-dd8e85b0140c",
   "metadata": {},
   "outputs": [],
   "source": []
  }
 ],
 "metadata": {
  "kernelspec": {
   "display_name": "Python 3 (ipykernel)",
   "language": "python",
   "name": "python3"
  },
  "language_info": {
   "codemirror_mode": {
    "name": "ipython",
    "version": 3
   },
   "file_extension": ".py",
   "mimetype": "text/x-python",
   "name": "python",
   "nbconvert_exporter": "python",
   "pygments_lexer": "ipython3",
   "version": "3.11.5"
  }
 },
 "nbformat": 4,
 "nbformat_minor": 5
}
