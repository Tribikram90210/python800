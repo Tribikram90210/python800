{
 "cells": [
  {
   "cell_type": "markdown",
   "id": "39e04ad3-6218-4bae-8ad5-0ff6d86fef4c",
   "metadata": {},
   "source": [
    "# Use \\*args and \\**kwargs for cariable length input in function"
   ]
  },
  {
   "cell_type": "code",
   "execution_count": 2,
   "id": "954674c5-3cbd-4a1b-a44a-74f10acf7670",
   "metadata": {},
   "outputs": [],
   "source": [
    "##\\*args"
   ]
  },
  {
   "cell_type": "code",
   "execution_count": 3,
   "id": "2c72a130-4009-447e-8f3f-f50e2b1b3c26",
   "metadata": {},
   "outputs": [],
   "source": [
    "def total(*args):\n",
    "    print(type(args),args)"
   ]
  },
  {
   "cell_type": "code",
   "execution_count": 5,
   "id": "bc467891-ad34-466c-8f3c-2ef2ee04ab21",
   "metadata": {},
   "outputs": [
    {
     "name": "stdout",
     "output_type": "stream",
     "text": [
      "<class 'tuple'> (1, 2, 3, 4, 5)\n"
     ]
    }
   ],
   "source": [
    "total(1,2,3,4,5)"
   ]
  },
  {
   "cell_type": "code",
   "execution_count": 6,
   "id": "be4840dc-6d12-4e63-b74a-60eb81c71568",
   "metadata": {},
   "outputs": [
    {
     "name": "stdout",
     "output_type": "stream",
     "text": [
      "<class 'tuple'> (66, 33, 2)\n"
     ]
    }
   ],
   "source": [
    "total(66,33,2)"
   ]
  },
  {
   "cell_type": "code",
   "execution_count": 7,
   "id": "ab876889-897f-4ada-8a67-4259553101c0",
   "metadata": {},
   "outputs": [],
   "source": [
    "# in *args data goes in tuple type inside function"
   ]
  },
  {
   "cell_type": "code",
   "execution_count": 9,
   "id": "29290b03-1e1a-4b3d-b2cc-218861302e43",
   "metadata": {},
   "outputs": [
    {
     "name": "stdout",
     "output_type": "stream",
     "text": [
      "<class 'tuple'> (1, 2, 3, 4, 5)\n"
     ]
    },
    {
     "ename": "TypeError",
     "evalue": "'function' object is not iterable",
     "output_type": "error",
     "traceback": [
      "\u001b[1;31m---------------------------------------------------------------------------\u001b[0m",
      "\u001b[1;31mTypeError\u001b[0m                                 Traceback (most recent call last)",
      "Cell \u001b[1;32mIn[9], line 3\u001b[0m\n\u001b[0;32m      1\u001b[0m total(\u001b[38;5;241m1\u001b[39m,\u001b[38;5;241m2\u001b[39m,\u001b[38;5;241m3\u001b[39m,\u001b[38;5;241m4\u001b[39m,\u001b[38;5;241m5\u001b[39m)\n\u001b[0;32m      2\u001b[0m \u001b[38;5;28msum\u001b[39m \u001b[38;5;241m=\u001b[39m \u001b[38;5;241m0\u001b[39m\n\u001b[1;32m----> 3\u001b[0m \u001b[38;5;28;01mfor\u001b[39;00m index \u001b[38;5;129;01min\u001b[39;00m total:\n\u001b[0;32m      4\u001b[0m     \u001b[38;5;28msum\u001b[39m \u001b[38;5;241m=\u001b[39m \u001b[38;5;28msum\u001b[39m \u001b[38;5;241m+\u001b[39m index \n\u001b[0;32m      5\u001b[0m \u001b[38;5;28mprint\u001b[39m(\u001b[38;5;28msum\u001b[39m)\n",
      "\u001b[1;31mTypeError\u001b[0m: 'function' object is not iterable"
     ]
    }
   ],
   "source": [
    "total(1,2,3,4,5)\n",
    "sum = 0\n",
    "for index in total:\n",
    "    sum = sum + index \n",
    "print(sum)"
   ]
  },
  {
   "cell_type": "code",
   "execution_count": 14,
   "id": "7b740048-db3c-42e9-8288-2ff72e56d8e6",
   "metadata": {},
   "outputs": [],
   "source": [
    "def add(*args):\n",
    "    grand_total = 0\n",
    "    for item in args:\n",
    "        grand_total = grand_total + item\n",
    "    return grand_total\n",
    "\n"
   ]
  },
  {
   "cell_type": "code",
   "execution_count": 15,
   "id": "44d02d91-aa23-479f-987f-dc5cdfa926b4",
   "metadata": {},
   "outputs": [
    {
     "data": {
      "text/plain": [
       "55"
      ]
     },
     "execution_count": 15,
     "metadata": {},
     "output_type": "execute_result"
    }
   ],
   "source": [
    "add(1,2,3,4,5,6,7,8,9,10)"
   ]
  },
  {
   "cell_type": "markdown",
   "id": "d8715e9e-d12c-4867-8385-b0b810a5c1c3",
   "metadata": {},
   "source": [
    "#\\**kwargs"
   ]
  },
  {
   "cell_type": "code",
   "execution_count": 17,
   "id": "222a519b-0d6a-46ac-9b5b-54723223a549",
   "metadata": {},
   "outputs": [],
   "source": [
    "def about(**kwargs):\n",
    "    print(kwargs)\n",
    "    print(type(kwargs))"
   ]
  },
  {
   "cell_type": "code",
   "execution_count": 18,
   "id": "de072a10-40a8-40e7-af0a-835c7fd9a15a",
   "metadata": {},
   "outputs": [
    {
     "name": "stdout",
     "output_type": "stream",
     "text": [
      "{'name': 'tribikram', 'age': 23}\n",
      "<class 'dict'>\n"
     ]
    }
   ],
   "source": [
    "about(name='tribikram' , age = 23)"
   ]
  },
  {
   "cell_type": "markdown",
   "id": "401b5acb-3c1f-44c4-a83b-b7a550a1fcef",
   "metadata": {},
   "source": [
    "# Things to remember: for interview\n",
    "\n",
    "* *args and **kwargs are special keyword which allows function to take variable length\n",
    "argument.\n",
    "* args passes varable number of non-keyworded arguments and on which operation of the\n",
    "tuple can be performed\n",
    "* **kwargs passes variable number of keyword arguments dictionary to function on which\n",
    "operation of a dictionary can be performed.\n",
    "\n",
    "* · *args and **kwargs make the function flexible."
   ]
  },
  {
   "cell_type": "code",
   "execution_count": null,
   "id": "6cc78cd3-47e5-4617-af6d-3d89ce24cfd7",
   "metadata": {},
   "outputs": [],
   "source": []
  }
 ],
 "metadata": {
  "kernelspec": {
   "display_name": "Python 3 (ipykernel)",
   "language": "python",
   "name": "python3"
  },
  "language_info": {
   "codemirror_mode": {
    "name": "ipython",
    "version": 3
   },
   "file_extension": ".py",
   "mimetype": "text/x-python",
   "name": "python",
   "nbconvert_exporter": "python",
   "pygments_lexer": "ipython3",
   "version": "3.11.5"
  }
 },
 "nbformat": 4,
 "nbformat_minor": 5
}
