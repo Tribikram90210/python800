{
 "cells": [
  {
   "cell_type": "code",
   "execution_count": 24,
   "id": "70dc8626-bc4b-4678-8a8f-ffd2e1380c66",
   "metadata": {},
   "outputs": [
    {
     "name": "stdout",
     "output_type": "stream",
     "text": [
      "the number of vowel is 3\n",
      "the number of consonant is 7\n"
     ]
    }
   ],
   "source": [
    "s = 'helloworld'\n",
    "vowel = 0\n",
    "consonant = 0 \n",
    "vowel_letter = 'aeiou'\n",
    "for index in range (len(s)):\n",
    "    character = s[index]\n",
    "    if character in vowel_letter:\n",
    "        vowel = vowel + 1\n",
    "    else:\n",
    "        consonant = consonant +1\n",
    "print(f'the number of vowel is {vowel}')\n",
    "print(f'the number of consonant is {consonant}')\n",
    "    \n",
    "\n",
    "\n",
    "    "
   ]
  },
  {
   "cell_type": "code",
   "execution_count": 15,
   "id": "1abeac53-9197-4d73-92bc-2e088d6e0994",
   "metadata": {},
   "outputs": [
    {
     "name": "stdin",
     "output_type": "stream",
     "text": [
      "enter a string Tribikram\n"
     ]
    }
   ],
   "source": [
    "s = input('enter a string')\n",
    "vowel = 0\n",
    "consonant = 0 \n",
    "vowel_letter = 'aeiou'\n",
    "for index in range (len(s)):\n",
    "    character = s[index]\n",
    "    if character in vowel_letter:\n",
    "        vowel = vowel + 1\n",
    "    else:\n",
    "        consonant = consonant +1\n",
    "    "
   ]
  },
  {
   "cell_type": "code",
   "execution_count": null,
   "id": "6972d97f-7350-48c2-b4f4-26947d2b93cd",
   "metadata": {},
   "outputs": [],
   "source": []
  },
  {
   "cell_type": "code",
   "execution_count": null,
   "id": "7cb54904-ab40-4852-b91e-5beb62bbbc34",
   "metadata": {},
   "outputs": [],
   "source": []
  },
  {
   "cell_type": "code",
   "execution_count": null,
   "id": "acf92b05-f8cc-42e9-849d-d0e27a0fdb1b",
   "metadata": {},
   "outputs": [],
   "source": []
  }
 ],
 "metadata": {
  "kernelspec": {
   "display_name": "Python 3 (ipykernel)",
   "language": "python",
   "name": "python3"
  },
  "language_info": {
   "codemirror_mode": {
    "name": "ipython",
    "version": 3
   },
   "file_extension": ".py",
   "mimetype": "text/x-python",
   "name": "python",
   "nbconvert_exporter": "python",
   "pygments_lexer": "ipython3",
   "version": "3.11.5"
  }
 },
 "nbformat": 4,
 "nbformat_minor": 5
}
