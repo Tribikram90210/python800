{
 "cells": [
  {
   "cell_type": "code",
   "execution_count": 30,
   "id": "974ef7ef-70e4-4c47-a109-bd6a4096970c",
   "metadata": {},
   "outputs": [],
   "source": [
    "def prime(num):\n",
    "    if num <= 1:\n",
    "        return False\n",
    "    else:\n",
    "        for i in range(2,num):\n",
    "            if num % i == 0:\n",
    "                return False\n",
    "            else:\n",
    "                return True\n",
    "    return num\n",
    "    "
   ]
  },
  {
   "cell_type": "code",
   "execution_count": 32,
   "id": "60413a1c-b594-4473-b405-8a3553bf4146",
   "metadata": {},
   "outputs": [
    {
     "name": "stdin",
     "output_type": "stream",
     "text": [
      "Enter a number to check if prime or not -2\n"
     ]
    },
    {
     "name": "stdout",
     "output_type": "stream",
     "text": [
      "False\n"
     ]
    }
   ],
   "source": [
    "num = int(input('Enter a number to check if prime or not'))\n",
    "num = prime(num)\n",
    "print(num)\n",
    "          "
   ]
  },
  {
   "cell_type": "code",
   "execution_count": 2,
   "id": "271d3c41-50af-4b48-a699-f0a3b92f4250",
   "metadata": {},
   "outputs": [
    {
     "data": {
      "text/plain": [
       "True"
      ]
     },
     "execution_count": 2,
     "metadata": {},
     "output_type": "execute_result"
    }
   ],
   "source": [
    "chat='T'\n",
    "chat.isupper()\n"
   ]
  },
  {
   "cell_type": "code",
   "execution_count": 7,
   "id": "f3ba711b-1afe-4968-9b2e-1f0ed7aad0ed",
   "metadata": {},
   "outputs": [],
   "source": [
    "string = 'Nepal'\n",
    "upper = 0\n",
    "lower = 0\n",
    "for elements in string:\n",
    "    if elements.isupper():\n",
    "        upper += 1\n",
    "    elif elements.islower():\n",
    "        lower +=1\n",
    "        \n",
    "    "
   ]
  },
  {
   "cell_type": "code",
   "execution_count": 8,
   "id": "1c55edc4-2185-4176-89f1-8a5f563d0e05",
   "metadata": {},
   "outputs": [
    {
     "data": {
      "text/plain": [
       "(1, 4)"
      ]
     },
     "execution_count": 8,
     "metadata": {},
     "output_type": "execute_result"
    }
   ],
   "source": [
    "upper,lower\n"
   ]
  },
  {
   "cell_type": "markdown",
   "id": "4e3ccae8-54fc-4f6c-ab7c-a873dd3346b6",
   "metadata": {},
   "source": [
    "# returning multiple values function"
   ]
  },
  {
   "cell_type": "code",
   "execution_count": 25,
   "id": "691a724c-f770-4c5c-bc1d-51b3b5f25480",
   "metadata": {},
   "outputs": [],
   "source": [
    "import math # code wk patak hernu parcha\n",
    "def HCF_LCM(x,y):\n",
    "    HCF = math.gcd(x,y)\n",
    "    LCM = math.lcm(x,y)\n",
    "    return HCF,LCM\n",
    "                    "
   ]
  },
  {
   "cell_type": "code",
   "execution_count": 26,
   "id": "f6edd607-af1f-4db9-8e80-eb3b763cdc67",
   "metadata": {},
   "outputs": [],
   "source": [
    "a = 30\n",
    "b =  20"
   ]
  },
  {
   "cell_type": "code",
   "execution_count": 27,
   "id": "f09ea9f2-dfb0-4b21-b22c-049f7b17dedf",
   "metadata": {},
   "outputs": [
    {
     "name": "stdout",
     "output_type": "stream",
     "text": [
      "10 60\n"
     ]
    }
   ],
   "source": [
    "HCF,LCM = HCF_LCM(x=a,y=b)\n",
    "print(HCF,LCM)\n"
   ]
  },
  {
   "cell_type": "code",
   "execution_count": 29,
   "id": "bb4f4492-1d35-40fd-ba33-644048a12d7d",
   "metadata": {},
   "outputs": [
    {
     "name": "stdout",
     "output_type": "stream",
     "text": [
      "10 100\n"
     ]
    }
   ],
   "source": [
    "HCF,LCM = HCF_LCM(20,50)\n",
    "print(HCF,LCM)"
   ]
  },
  {
   "cell_type": "markdown",
   "id": "fe38443f-2fd5-4432-987e-9369e826ca48",
   "metadata": {},
   "source": [
    "# default argument vs non default argument"
   ]
  },
  {
   "cell_type": "code",
   "execution_count": 31,
   "id": "23199abf-f164-4794-ae4b-f3486fc7320b",
   "metadata": {},
   "outputs": [],
   "source": [
    "def greet(name,msg):\n",
    "    print(f' hello {name} , {msg}')"
   ]
  },
  {
   "cell_type": "code",
   "execution_count": 32,
   "id": "81e6dc86-63ce-42a5-9a7e-a4554493847c",
   "metadata": {},
   "outputs": [
    {
     "name": "stdout",
     "output_type": "stream",
     "text": [
      " hello Tribikram , goodnight\n"
     ]
    }
   ],
   "source": [
    "greet('Tribikram','goodnight')"
   ]
  },
  {
   "cell_type": "code",
   "execution_count": 36,
   "id": "12e49df5-5a15-4b82-9ac5-3f820edec4f8",
   "metadata": {},
   "outputs": [],
   "source": [
    "def greet(name, msg = 'best car ever'):\n",
    "    print(f'The best car is {name} , {msg}')\n"
   ]
  },
  {
   "cell_type": "code",
   "execution_count": 39,
   "id": "975ea688-9c57-461f-bf8f-aa4310fbb711",
   "metadata": {},
   "outputs": [
    {
     "name": "stdout",
     "output_type": "stream",
     "text": [
      "The best car is lamborghini , best car ever\n"
     ]
    }
   ],
   "source": [
    "greet(name = 'lamborghini')"
   ]
  },
  {
   "cell_type": "code",
   "execution_count": 41,
   "id": "a6cdbba6-e0c6-465d-9ced-e027d29dd352",
   "metadata": {},
   "outputs": [
    {
     "ename": "SyntaxError",
     "evalue": "non-default argument follows default argument (2605475141.py, line 1)",
     "output_type": "error",
     "traceback": [
      "\u001b[1;36m  Cell \u001b[1;32mIn[41], line 1\u001b[1;36m\u001b[0m\n\u001b[1;33m    def greet(name='lamborghini' , msg):\u001b[0m\n\u001b[1;37m                                   ^\u001b[0m\n\u001b[1;31mSyntaxError\u001b[0m\u001b[1;31m:\u001b[0m non-default argument follows default argument\n"
     ]
    }
   ],
   "source": [
    "def greet(name='lamborghini' , msg):\n",
    "    print(f'the best car is {name} , {msg}')\n"
   ]
  },
  {
   "cell_type": "code",
   "execution_count": 43,
   "id": "1bdc2093-3bf1-4b55-a6d5-79151ea66f38",
   "metadata": {},
   "outputs": [],
   "source": [
    "def see(x,y = 'HERO'):\n",
    "    print(f'Non default argument {x} follows default argument {y}')"
   ]
  },
  {
   "cell_type": "code",
   "execution_count": 46,
   "id": "c22039c2-aa70-4995-a4d3-e934e046ba73",
   "metadata": {},
   "outputs": [
    {
     "name": "stdout",
     "output_type": "stream",
     "text": [
      "Non default argument Ferrai is follows default argument HERO\n"
     ]
    }
   ],
   "source": [
    "see(x = 'Ferrai is') # esari garne deafult argument huda"
   ]
  },
  {
   "cell_type": "code",
   "execution_count": 47,
   "id": "96cf7930-408e-434c-bd41-b862c7b717a5",
   "metadata": {},
   "outputs": [
    {
     "name": "stdout",
     "output_type": "stream",
     "text": [
      "Non default argument Ferrai is follows default argument zero\n"
     ]
    }
   ],
   "source": [
    "see(x = 'Ferrai is' , y = 'zero') # assging a new value to the argument overrides the arguement"
   ]
  },
  {
   "cell_type": "markdown",
   "id": "c9f39a87-7d9a-48eb-82eb-5d621f27d588",
   "metadata": {},
   "source": [
    "# local vs global"
   ]
  },
  {
   "cell_type": "code",
   "execution_count": 6,
   "id": "305a6142-95bf-4da0-8072-5a3980ff2ee8",
   "metadata": {},
   "outputs": [],
   "source": [
    "name = 'Tilak'\n",
    "def viral():\n",
    "    name = 'Verma'\n",
    "    return name"
   ]
  },
  {
   "cell_type": "code",
   "execution_count": 7,
   "id": "c9045b6e-a333-43b1-9bc2-a0476d1204fa",
   "metadata": {},
   "outputs": [
    {
     "name": "stdout",
     "output_type": "stream",
     "text": [
      "Verma\n"
     ]
    }
   ],
   "source": [
    "name=viral()\n",
    "print(name)"
   ]
  },
  {
   "cell_type": "code",
   "execution_count": 9,
   "id": "6222a9ca-8964-419b-93cb-6cdfa9f0f34f",
   "metadata": {},
   "outputs": [],
   "source": [
    "name = 'Tilak'\n",
    "def viral():\n",
    "    name = 'Verma'\n",
    "    print(name) # in this case global(variable) has to be assigned, in print case"
   ]
  },
  {
   "cell_type": "code",
   "execution_count": 10,
   "id": "7eb8da36-b5e0-4f0f-8e2f-c97f29c09b35",
   "metadata": {},
   "outputs": [
    {
     "data": {
      "text/plain": [
       "'Tilak'"
      ]
     },
     "execution_count": 10,
     "metadata": {},
     "output_type": "execute_result"
    }
   ],
   "source": [
    "name"
   ]
  },
  {
   "cell_type": "code",
   "execution_count": 21,
   "id": "4f1d454d-a18e-4234-ad5c-2fc05bbc1402",
   "metadata": {},
   "outputs": [],
   "source": [
    "name = 'Tilak'\n",
    "def viral():\n",
    "    global name\n",
    "    name = 'verma' # print is not necesary for this to work\n",
    "    "
   ]
  },
  {
   "cell_type": "code",
   "execution_count": 22,
   "id": "ce2e7e4c-c42f-47df-af28-28645b28f25a",
   "metadata": {},
   "outputs": [
    {
     "data": {
      "text/plain": [
       "'Tilak'"
      ]
     },
     "execution_count": 22,
     "metadata": {},
     "output_type": "execute_result"
    }
   ],
   "source": [
    "name # if name is directly written at first then only tilar is called"
   ]
  },
  {
   "cell_type": "code",
   "execution_count": 23,
   "id": "a5201440-7748-4b74-9019-883fa86fe535",
   "metadata": {},
   "outputs": [],
   "source": [
    "viral() # the variable name and argument has to be called for this to work"
   ]
  },
  {
   "cell_type": "code",
   "execution_count": 24,
   "id": "cd72570b-b628-4587-8a4c-98ffb6dc10cc",
   "metadata": {},
   "outputs": [
    {
     "data": {
      "text/plain": [
       "'verma'"
      ]
     },
     "execution_count": 24,
     "metadata": {},
     "output_type": "execute_result"
    }
   ],
   "source": [
    "name"
   ]
  },
  {
   "cell_type": "markdown",
   "id": "7b916d5d-379a-4875-ac30-83ca2176a5f0",
   "metadata": {},
   "source": [
    "# *args vs **kwargs"
   ]
  },
  {
   "cell_type": "code",
   "execution_count": 25,
   "id": "87adc9d8-56ed-4e70-b99b-812b355ed25d",
   "metadata": {},
   "outputs": [],
   "source": [
    "# *args are also called positional argument, Its a function that accepts any number of arguments and puts them in a tuple"
   ]
  },
  {
   "cell_type": "code",
   "execution_count": 14,
   "id": "9ad07239-7f2b-429c-8201-214bbeab65f0",
   "metadata": {},
   "outputs": [],
   "source": [
    "def product(*args): \n",
    "    t = 1 # the program is right but 0 * r is 0 so the  initial value should be 1\n",
    "    for r in args:\n",
    "        t = t * r\n",
    "    return t"
   ]
  },
  {
   "cell_type": "code",
   "execution_count": 15,
   "id": "469ee03f-1ce5-4ab3-a978-56a29b645fbe",
   "metadata": {},
   "outputs": [
    {
     "name": "stdout",
     "output_type": "stream",
     "text": [
      "210\n"
     ]
    }
   ],
   "source": [
    "t=product(5,6,7)\n",
    "print(t)"
   ]
  },
  {
   "cell_type": "code",
   "execution_count": 20,
   "id": "c4271743-b604-4346-aaa7-f056e2720e0d",
   "metadata": {},
   "outputs": [],
   "source": [
    "def sum(*args):\n",
    "    add = 0\n",
    "    for a in args:\n",
    "        add = add + a # always right function is calulated first  \n",
    "    return add\n",
    "\n"
   ]
  },
  {
   "cell_type": "code",
   "execution_count": 21,
   "id": "56fac2df-987e-4caa-9280-e4aa07c7f271",
   "metadata": {},
   "outputs": [
    {
     "name": "stdout",
     "output_type": "stream",
     "text": [
      "27\n"
     ]
    }
   ],
   "source": [
    "add = sum(8,9,10)\n",
    "print(add)"
   ]
  },
  {
   "cell_type": "code",
   "execution_count": 34,
   "id": "6d7a523c-cae7-4eb4-9632-772f40a3d8b4",
   "metadata": {},
   "outputs": [],
   "source": [
    "def divide(*args):\n",
    "    d = 1\n",
    "    for e in args:\n",
    "        d = e / d # it is true that right hald is divided first\n",
    "    return d"
   ]
  },
  {
   "cell_type": "code",
   "execution_count": 39,
   "id": "d20466d5-35d3-4e80-b89f-70ad0e14bb50",
   "metadata": {},
   "outputs": [],
   "source": [
    "d=divide(50,100) # it works only when values are written from the right side ascending order"
   ]
  },
  {
   "cell_type": "code",
   "execution_count": 40,
   "id": "95f150be-40ed-44cb-952c-d710c5952cc6",
   "metadata": {},
   "outputs": [
    {
     "name": "stdout",
     "output_type": "stream",
     "text": [
      "2.0\n"
     ]
    }
   ],
   "source": [
    "print(d)"
   ]
  },
  {
   "cell_type": "markdown",
   "id": "e42ad2d2-59f4-4694-9293-12f89b62c990",
   "metadata": {},
   "source": [
    "# **kwargs are keyword arguments "
   ]
  },
  {
   "cell_type": "code",
   "execution_count": 42,
   "id": "45c6522d-5560-4f6b-8aa7-3f3ec0f7efd2",
   "metadata": {},
   "outputs": [],
   "source": [
    "def bio(**kwargs):\n",
    "    for key,value in kwargs.items(): # in args we apparently we only have to write args but in kwargs , kwargs.items() is used\n",
    "        print(f'{key} : {value}')"
   ]
  },
  {
   "cell_type": "code",
   "execution_count": 45,
   "id": "9d060180-208c-480d-b9c3-0673af5cba5b",
   "metadata": {},
   "outputs": [
    {
     "name": "stdout",
     "output_type": "stream",
     "text": [
      "name : Tribikram\n",
      "age : 24\n",
      "height : 5'6.5\n"
     ]
    }
   ],
   "source": [
    "bio(name = 'Tribikram' , age = '24' , height = \"5'6.5\" )"
   ]
  },
  {
   "cell_type": "markdown",
   "id": "d0314a9c-5ddc-4c6b-bbe1-115ed4b30d21",
   "metadata": {},
   "source": [
    "# A recursion function calls itself"
   ]
  },
  {
   "cell_type": "code",
   "execution_count": 49,
   "id": "77177def-6324-4e10-9c83-c54326e89afb",
   "metadata": {},
   "outputs": [],
   "source": [
    "def factorial(re):\n",
    "    if re == 1 or re == 0:\n",
    "        return 1 \n",
    "    else:\n",
    "        return re * factorial(re-1) # this is an example of recursion where it is calling itself"
   ]
  },
  {
   "cell_type": "code",
   "execution_count": 50,
   "id": "033995bf-df02-43f7-b71a-c86464a163cc",
   "metadata": {},
   "outputs": [
    {
     "data": {
      "text/plain": [
       "24"
      ]
     },
     "execution_count": 50,
     "metadata": {},
     "output_type": "execute_result"
    }
   ],
   "source": [
    "factorial(4)"
   ]
  },
  {
   "cell_type": "markdown",
   "id": "9f3f4cd0-3b5c-4943-84d4-e3e0fddc3c25",
   "metadata": {},
   "source": [
    "# pass is placeholder to write future code"
   ]
  },
  {
   "cell_type": "code",
   "execution_count": 55,
   "id": "992f9d6e-a052-4cfa-8b85-1cefbb5cc056",
   "metadata": {},
   "outputs": [],
   "source": [
    "i = 0\n",
    "if i == 0 :\n",
    "    pass"
   ]
  },
  {
   "cell_type": "markdown",
   "id": "87b8ace2-c8fc-48bc-8a3f-1352c1cb68b0",
   "metadata": {},
   "source": [
    "# object oriented programming"
   ]
  },
  {
   "cell_type": "code",
   "execution_count": null,
   "id": "5b56557e-453c-4e83-8826-1f0d6713729f",
   "metadata": {},
   "outputs": [],
   "source": [
    "# user can define their own class"
   ]
  },
  {
   "cell_type": "code",
   "execution_count": 56,
   "id": "f75ef972-8f7b-4b7d-929e-bd3cbfcc9993",
   "metadata": {},
   "outputs": [],
   "source": [
    "# class is a blueprint for creating objects\n",
    "# object is an instance of class\n",
    "\n",
    "\n"
   ]
  },
  {
   "cell_type": "code",
   "execution_count": 1,
   "id": "1f570c30-1c50-4c01-9f1b-f9a5bcebb0ba",
   "metadata": {},
   "outputs": [],
   "source": [
    "# creating user defined class "
   ]
  },
  {
   "cell_type": "code",
   "execution_count": 4,
   "id": "07e9655b-a730-427f-9161-c49ef9c1d794",
   "metadata": {},
   "outputs": [],
   "source": [
    "class Reptile():# pascal case because of variable convention\n",
    "    pass"
   ]
  },
  {
   "cell_type": "code",
   "execution_count": 5,
   "id": "72c748df-1192-421a-a651-02e24df3ca2d",
   "metadata": {},
   "outputs": [],
   "source": [
    "snake = Reptile()"
   ]
  },
  {
   "cell_type": "code",
   "execution_count": 6,
   "id": "e6477835-b0fc-40c4-a4cb-2c71ab9f5dba",
   "metadata": {},
   "outputs": [
    {
     "data": {
      "text/plain": [
       "__main__.Reptile"
      ]
     },
     "execution_count": 6,
     "metadata": {},
     "output_type": "execute_result"
    }
   ],
   "source": [
    "type(snake)"
   ]
  },
  {
   "cell_type": "code",
   "execution_count": 7,
   "id": "ef06a53a-aeab-4ad6-b374-9540c6be1327",
   "metadata": {},
   "outputs": [],
   "source": [
    "class football():\n",
    "    pass"
   ]
  },
  {
   "cell_type": "code",
   "execution_count": 8,
   "id": "57cd5b48-c7ae-4f28-b332-1d8c37146c7e",
   "metadata": {},
   "outputs": [],
   "source": [
    "class cricket():\n",
    "    pass"
   ]
  },
  {
   "cell_type": "code",
   "execution_count": 9,
   "id": "25325bfc-55e0-4429-9bf1-cc0d86d9bfa5",
   "metadata": {},
   "outputs": [],
   "source": [
    "messi = football()\n"
   ]
  },
  {
   "cell_type": "code",
   "execution_count": 11,
   "id": "c2463078-6e83-4ee2-8f3a-da9e2af9e658",
   "metadata": {},
   "outputs": [],
   "source": [
    "dhoni = cricket()\n"
   ]
  },
  {
   "cell_type": "code",
   "execution_count": 13,
   "id": "6d7bdec4-7cb3-4fa9-a63d-b5bb30345944",
   "metadata": {},
   "outputs": [
    {
     "data": {
      "text/plain": [
       "__main__.football"
      ]
     },
     "execution_count": 13,
     "metadata": {},
     "output_type": "execute_result"
    }
   ],
   "source": [
    "type(messi)"
   ]
  },
  {
   "cell_type": "code",
   "execution_count": 14,
   "id": "45cca509-74a6-4be0-a634-89c7fc5078b8",
   "metadata": {},
   "outputs": [
    {
     "data": {
      "text/plain": [
       "__main__.cricket"
      ]
     },
     "execution_count": 14,
     "metadata": {},
     "output_type": "execute_result"
    }
   ],
   "source": [
    "type(dhoni)"
   ]
  },
  {
   "cell_type": "code",
   "execution_count": 15,
   "id": "b969f9a1-446a-4666-8fcc-9148d09e9df7",
   "metadata": {},
   "outputs": [],
   "source": [
    "# object assign gareko ho"
   ]
  },
  {
   "cell_type": "code",
   "execution_count": 16,
   "id": "64ceb850-deec-46f8-89e7-5c24c2ffc0e8",
   "metadata": {},
   "outputs": [],
   "source": [
    "class Reptile():\n",
    "    layseggs = True # gives an attribute to the class"
   ]
  },
  {
   "cell_type": "code",
   "execution_count": 18,
   "id": "4ef67d8e-a949-456a-9eb4-89715eb771ca",
   "metadata": {},
   "outputs": [],
   "source": [
    "snake = Reptile()"
   ]
  },
  {
   "cell_type": "code",
   "execution_count": 19,
   "id": "bb13db64-15df-4856-8950-d665e9140a62",
   "metadata": {},
   "outputs": [
    {
     "data": {
      "text/plain": [
       "True"
      ]
     },
     "execution_count": 19,
     "metadata": {},
     "output_type": "execute_result"
    }
   ],
   "source": [
    "snake.layseggs"
   ]
  },
  {
   "cell_type": "code",
   "execution_count": 35,
   "id": "3f5701fa-de90-4776-b1b6-55f2aad06f55",
   "metadata": {},
   "outputs": [],
   "source": [
    "class bike():\n",
    "    cc250 = True"
   ]
  },
  {
   "cell_type": "code",
   "execution_count": 36,
   "id": "655479db-8624-46d0-a2d0-5c8ec4da8c04",
   "metadata": {},
   "outputs": [
    {
     "data": {
      "text/plain": [
       "True"
      ]
     },
     "execution_count": 36,
     "metadata": {},
     "output_type": "execute_result"
    }
   ],
   "source": [
    "Ktm250 = bike()\n",
    "Ktm250.cc250"
   ]
  },
  {
   "cell_type": "code",
   "execution_count": 47,
   "id": "981425cd-f984-4813-ba7b-be11d1392e37",
   "metadata": {},
   "outputs": [],
   "source": [
    "class reptile():\n",
    "    layseggs = True\n",
    "    def __init__(self,nolegs):\n",
    "        self.nolegs = nolegs"
   ]
  },
  {
   "cell_type": "code",
   "execution_count": 50,
   "id": "57ee5c4b-4f66-4487-b5eb-32c1d8a8786b",
   "metadata": {},
   "outputs": [
    {
     "ename": "NameError",
     "evalue": "name 'nolegs' is not defined",
     "output_type": "error",
     "traceback": [
      "\u001b[1;31m---------------------------------------------------------------------------\u001b[0m",
      "\u001b[1;31mNameError\u001b[0m                                 Traceback (most recent call last)",
      "Cell \u001b[1;32mIn[50], line 1\u001b[0m\n\u001b[1;32m----> 1\u001b[0m snake\u001b[38;5;241m=\u001b[39m reptile(\u001b[43mnolegs\u001b[49m) \u001b[38;5;66;03m# esari chai hudaina parameter chaincha\u001b[39;00m\n",
      "\u001b[1;31mNameError\u001b[0m: name 'nolegs' is not defined"
     ]
    }
   ],
   "source": [
    "snake= reptile(nolegs) # esari chai hudaina parameter chaincha"
   ]
  },
  {
   "cell_type": "code",
   "execution_count": 51,
   "id": "5633d38e-68a6-432e-a54a-8a77e093ead2",
   "metadata": {},
   "outputs": [],
   "source": [
    "snake = reptile(nolegs= 0 )\n"
   ]
  },
  {
   "cell_type": "code",
   "execution_count": 52,
   "id": "d7c99510-a237-42b8-8c61-b3f3853976d6",
   "metadata": {},
   "outputs": [
    {
     "data": {
      "text/plain": [
       "0"
      ]
     },
     "execution_count": 52,
     "metadata": {},
     "output_type": "execute_result"
    }
   ],
   "source": [
    "snake.nolegs"
   ]
  },
  {
   "cell_type": "code",
   "execution_count": 53,
   "id": "7917f335-3594-4319-b22a-2ac198ef9a9a",
   "metadata": {},
   "outputs": [
    {
     "data": {
      "text/plain": [
       "True"
      ]
     },
     "execution_count": 53,
     "metadata": {},
     "output_type": "execute_result"
    }
   ],
   "source": [
    "snake.layseggs"
   ]
  },
  {
   "cell_type": "code",
   "execution_count": 62,
   "id": "6cd173a7-f5ed-474c-881a-e434a52b7c0c",
   "metadata": {},
   "outputs": [],
   "source": [
    "class Bike():\n",
    "    def __init__(self): # self is used to represent instance of the class while(self,attribute)\n",
    "        print(type(self))"
   ]
  },
  {
   "cell_type": "code",
   "execution_count": 63,
   "id": "1ba73df4-9df4-41cb-b3a5-d329553f6744",
   "metadata": {},
   "outputs": [
    {
     "name": "stdout",
     "output_type": "stream",
     "text": [
      "<class '__main__.Bike'>\n"
     ]
    }
   ],
   "source": [
    "Ktm = Bike()"
   ]
  },
  {
   "cell_type": "code",
   "execution_count": 64,
   "id": "2714f71d-5dce-4cb0-aca6-0ddadd83e841",
   "metadata": {},
   "outputs": [
    {
     "name": "stdout",
     "output_type": "stream",
     "text": [
      "<class '__main__.Bike'>\n"
     ]
    }
   ],
   "source": [
    "print(type(Ktm))"
   ]
  },
  {
   "cell_type": "code",
   "execution_count": 65,
   "id": "11be412f-7190-4a23-9189-1b64081221c6",
   "metadata": {},
   "outputs": [],
   "source": [
    "# user defined method inside class"
   ]
  },
  {
   "cell_type": "code",
   "execution_count": 66,
   "id": "ee9be701-f535-420b-8726-2ca58ae2c2cf",
   "metadata": {},
   "outputs": [],
   "source": [
    "class Areaofrectangle():\n",
    "    def __init__(self,l,b):\n",
    "        self.l = l\n",
    "        self.b = b\n",
    "    def area(self):\n",
    "        return self.l * self.b\n",
    "        "
   ]
  },
  {
   "cell_type": "code",
   "execution_count": 70,
   "id": "a8d51632-26c8-41b0-ac28-94e3cf78d5d6",
   "metadata": {},
   "outputs": [],
   "source": [
    "r1 = Areaofrectangle(l = 20,b = 30)"
   ]
  },
  {
   "cell_type": "code",
   "execution_count": 71,
   "id": "a50b7ed9-4b73-4285-a3dd-b1c8be66029a",
   "metadata": {},
   "outputs": [
    {
     "data": {
      "text/plain": [
       "600"
      ]
     },
     "execution_count": 71,
     "metadata": {},
     "output_type": "execute_result"
    }
   ],
   "source": [
    "r1.area()"
   ]
  },
  {
   "cell_type": "code",
   "execution_count": 84,
   "id": "40fc1095-1a3c-418d-97e6-876d4c3697e3",
   "metadata": {},
   "outputs": [],
   "source": [
    "class Areaofsquare(): # watch code\n",
    "    def __init__(self,l):\n",
    "        self.l = l\n",
    "    def Area(self):\n",
    "        return self.l  ** 2"
   ]
  },
  {
   "cell_type": "code",
   "execution_count": 85,
   "id": "15ad171a-dd4a-41a9-ac7b-26ba545b10fd",
   "metadata": {},
   "outputs": [],
   "source": [
    "s1 = Areaofsquare(l=2)"
   ]
  },
  {
   "cell_type": "code",
   "execution_count": 87,
   "id": "37a546bb-d792-4046-90e4-e0370f533ef0",
   "metadata": {},
   "outputs": [
    {
     "data": {
      "text/plain": [
       "4"
      ]
     },
     "execution_count": 87,
     "metadata": {},
     "output_type": "execute_result"
    }
   ],
   "source": [
    "s1.Area()"
   ]
  },
  {
   "cell_type": "code",
   "execution_count": 9,
   "id": "1461dfcd-99b5-4714-bea2-a01279ab1546",
   "metadata": {},
   "outputs": [],
   "source": [
    "import math\n",
    "    "
   ]
  },
  {
   "cell_type": "code",
   "execution_count": 10,
   "id": "87c269c2-d1a4-4adf-b8d0-7211d8dcbb9d",
   "metadata": {},
   "outputs": [],
   "source": [
    "class Volume_of_sphere():\n",
    "    def __init__(self,r):\n",
    "        self.r = r\n",
    "    def sphere(self):\n",
    "        return 4/3 * math.pi * self.r**3 #using recursion in python\n"
   ]
  },
  {
   "cell_type": "code",
   "execution_count": 11,
   "id": "7055ab0c-ee0d-4204-af96-e5cd705b0076",
   "metadata": {},
   "outputs": [],
   "source": [
    "v1 = Volume_of_sphere(r = 4)"
   ]
  },
  {
   "cell_type": "code",
   "execution_count": 12,
   "id": "67dbc67d-7b19-4a24-859a-f6c939df10b6",
   "metadata": {},
   "outputs": [
    {
     "data": {
      "text/plain": [
       "268.082573106329"
      ]
     },
     "execution_count": 12,
     "metadata": {},
     "output_type": "execute_result"
    }
   ],
   "source": [
    "v1.sphere()"
   ]
  },
  {
   "cell_type": "markdown",
   "id": "df112b84-a075-400d-b3ba-277ab4e2cfdb",
   "metadata": {},
   "source": [
    "# inheritance\n",
    "* divide into two classes\n",
    "* superclass or parentclass or base class\n",
    "* subclass or childclass or derived class\n",
    "* basically inheritance creates a heirarchu of classes"
   ]
  },
  {
   "cell_type": "markdown",
   "id": "89651e79-296c-4ead-a025-06a23e3d75bb",
   "metadata": {},
   "source": [
    "# single inheritance"
   ]
  },
  {
   "cell_type": "code",
   "execution_count": 18,
   "id": "6cf8f0b5-067a-45cc-836e-6313b088ffdc",
   "metadata": {},
   "outputs": [],
   "source": [
    "class Computer():\n",
    "    def __init__(self,model_name):\n",
    "        self.model_name = model_name\n",
    "class Mobile(Computer): # this is step one\n",
    "    def __init__(self,has_flash,model_name):\n",
    "        self.has_flash = has_flash\n",
    "        super().__init__(model_name) # second step\n",
    "        \n",
    "        \n",
    "    \n",
    "        \n",
    "    "
   ]
  },
  {
   "cell_type": "code",
   "execution_count": 19,
   "id": "919f392c-cfea-49e0-9216-6256f0095898",
   "metadata": {},
   "outputs": [],
   "source": [
    "m1 = Mobile(has_flash = True , model_name = 'Galaxy s23')"
   ]
  },
  {
   "cell_type": "code",
   "execution_count": 20,
   "id": "ba5f4dc5-bfe7-4eed-a412-826356f1ee1f",
   "metadata": {},
   "outputs": [
    {
     "data": {
      "text/plain": [
       "True"
      ]
     },
     "execution_count": 20,
     "metadata": {},
     "output_type": "execute_result"
    }
   ],
   "source": [
    "m1.has_flash"
   ]
  },
  {
   "cell_type": "code",
   "execution_count": 21,
   "id": "dddb2284-1ff0-4933-85f7-96f830f8fb41",
   "metadata": {},
   "outputs": [
    {
     "data": {
      "text/plain": [
       "'Galaxy s23'"
      ]
     },
     "execution_count": 21,
     "metadata": {},
     "output_type": "execute_result"
    }
   ],
   "source": [
    "m1.model_name"
   ]
  },
  {
   "cell_type": "code",
   "execution_count": 28,
   "id": "eb8827dd-a872-4d58-a676-9d884417b206",
   "metadata": {},
   "outputs": [],
   "source": [
    "class Vehicle():\n",
    "    def __init__(self,means_of_transport):\n",
    "        self.means_of_transport = means_of_transport\n",
    "class Car(Vehicle):\n",
    "    def __init__(self,means_of_transport,feature):\n",
    "        self.feature = feature\n",
    "        super().__init__(means_of_transport) # super() calls superclass "
   ]
  },
  {
   "cell_type": "code",
   "execution_count": 32,
   "id": "737b89f1-df6a-4bf0-a17d-19c9277b18ae",
   "metadata": {},
   "outputs": [],
   "source": [
    "v1 = Car(means_of_transport=True, feature = 'has four wheels')"
   ]
  },
  {
   "cell_type": "code",
   "execution_count": 33,
   "id": "6655f612-edf8-48d2-94f1-2db1af17e4ac",
   "metadata": {},
   "outputs": [
    {
     "data": {
      "text/plain": [
       "True"
      ]
     },
     "execution_count": 33,
     "metadata": {},
     "output_type": "execute_result"
    }
   ],
   "source": [
    "v1.means_of_transport"
   ]
  },
  {
   "cell_type": "code",
   "execution_count": 34,
   "id": "2c0bb737-c988-496b-84e4-2405957e0d4f",
   "metadata": {},
   "outputs": [
    {
     "data": {
      "text/plain": [
       "'has four wheels'"
      ]
     },
     "execution_count": 34,
     "metadata": {},
     "output_type": "execute_result"
    }
   ],
   "source": [
    "v1.feature "
   ]
  },
  {
   "cell_type": "code",
   "execution_count": 35,
   "id": "f62b0ca2-a3f1-40e0-bad9-25b0bfdc9159",
   "metadata": {},
   "outputs": [],
   "source": [
    "# code ran successfully but must revise oop and inheritance"
   ]
  },
  {
   "cell_type": "markdown",
   "id": "f45fe0af-8506-4282-9744-a9bcd56b327d",
   "metadata": {},
   "source": [
    "# polymorphism"
   ]
  },
  {
   "cell_type": "code",
   "execution_count": 5,
   "id": "747db5ea-c571-43d3-b3c0-e223ff57bc6d",
   "metadata": {},
   "outputs": [],
   "source": [
    "class P:\n",
    "    def money(self):\n",
    "        print('i am cash poor')\n",
    "class M(P):\n",
    "    def __init__(self):\n",
    "        super().__init__()"
   ]
  },
  {
   "cell_type": "code",
   "execution_count": 6,
   "id": "a7d46ab0-8615-4c84-a18f-c260f826088b",
   "metadata": {},
   "outputs": [],
   "source": [
    "m1 = M()"
   ]
  },
  {
   "cell_type": "code",
   "execution_count": 8,
   "id": "06096271-41b9-4408-8b6c-10418df2adca",
   "metadata": {},
   "outputs": [
    {
     "name": "stdout",
     "output_type": "stream",
     "text": [
      "i am cash poor\n"
     ]
    }
   ],
   "source": [
    "m1.money()"
   ]
  },
  {
   "cell_type": "code",
   "execution_count": 11,
   "id": "693bc638-161c-4269-92ee-27f228de6414",
   "metadata": {},
   "outputs": [],
   "source": [
    "class P:\n",
    "    def money(self):\n",
    "        print(\"i'm cash poor\")\n",
    "class M(P):\n",
    "        def __init__(self):\n",
    "            super().__init__()\n",
    "        def money(self):\n",
    "            print('but asset rich') # overrides the previous def function\n",
    "    "
   ]
  },
  {
   "cell_type": "code",
   "execution_count": 12,
   "id": "f8e59a3b-0119-4d87-a1a3-4096a94f1356",
   "metadata": {},
   "outputs": [],
   "source": [
    "m1 = M()"
   ]
  },
  {
   "cell_type": "code",
   "execution_count": 14,
   "id": "9f4d7d72-8d1c-4b7a-892f-a619c32ca806",
   "metadata": {},
   "outputs": [
    {
     "name": "stdout",
     "output_type": "stream",
     "text": [
      "but asset rich\n"
     ]
    }
   ],
   "source": [
    "m1.money()"
   ]
  },
  {
   "cell_type": "code",
   "execution_count": null,
   "id": "28bbf49a-678f-41b6-920b-f0acce289414",
   "metadata": {},
   "outputs": [],
   "source": []
  }
 ],
 "metadata": {
  "kernelspec": {
   "display_name": "Python 3 (ipykernel)",
   "language": "python",
   "name": "python3"
  },
  "language_info": {
   "codemirror_mode": {
    "name": "ipython",
    "version": 3
   },
   "file_extension": ".py",
   "mimetype": "text/x-python",
   "name": "python",
   "nbconvert_exporter": "python",
   "pygments_lexer": "ipython3",
   "version": "3.11.5"
  }
 },
 "nbformat": 4,
 "nbformat_minor": 5
}
