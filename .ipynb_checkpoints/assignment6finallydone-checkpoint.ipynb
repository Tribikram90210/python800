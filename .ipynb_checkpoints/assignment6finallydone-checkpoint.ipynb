{
 "cells": [
  {
   "cell_type": "code",
   "execution_count": 2,
   "id": "db2807e3-05e1-4caf-b8b0-3519df9e7245",
   "metadata": {},
   "outputs": [
    {
     "data": {
      "text/plain": [
       "'  orange apple banana kiwi'"
      ]
     },
     "execution_count": 2,
     "metadata": {},
     "output_type": "execute_result"
    }
   ],
   "source": [
    "txt = 'I like orange apple banana And Kiwi' \n",
    "txt = txt.lower()\n",
    "txt = txt.replace('i like',' ')\n",
    "txt = txt.replace(' and ', ' ')\n",
    "\n",
    "txt\n",
    "                  "
   ]
  },
  {
   "cell_type": "code",
   "execution_count": 14,
   "id": "bd1996e7-4608-43f5-9eb9-a776f6ce6a01",
   "metadata": {},
   "outputs": [
    {
     "data": {
      "text/plain": [
       "'nepalindiachina'"
      ]
     },
     "execution_count": 14,
     "metadata": {},
     "output_type": "execute_result"
    }
   ],
   "source": [
    "string1 = 'NEPALINDIACHINA'\n",
    "string1 = string1.lower()\n",
    "string1"
   ]
  },
  {
   "cell_type": "code",
   "execution_count": 7,
   "id": "0c59509d-512b-4d0f-8967-dc103bddd935",
   "metadata": {},
   "outputs": [
    {
     "name": "stdout",
     "output_type": "stream",
     "text": [
      "true\n"
     ]
    }
   ],
   "source": [
    "string1 = 'NEPALINDIACHINA'\n",
    "string1 = string1.lower()\n",
    "string2 = 'indiachinanepal'\n",
    "if len(string1) != len(string2):\n",
    "    print('false')\n",
    "else:\n",
    "    print('true')\n",
    "\n"
   ]
  },
  {
   "cell_type": "code",
   "execution_count": 10,
   "id": "6df5b546-013a-4904-9a37-8a4377e532dd",
   "metadata": {},
   "outputs": [],
   "source": [
    "check = string1 + string1 #concatenate with itself"
   ]
  },
  {
   "cell_type": "code",
   "execution_count": 11,
   "id": "116274b1-0647-4fa9-970a-857faf7afb37",
   "metadata": {},
   "outputs": [
    {
     "name": "stdout",
     "output_type": "stream",
     "text": [
      "true\n"
     ]
    }
   ],
   "source": [
    "if string2 in check:\n",
    "    print('true')\n",
    "else:\n",
    "    print('false')"
   ]
  },
  {
   "cell_type": "code",
   "execution_count": 12,
   "id": "a1e4160b-f0b7-4901-8dbb-8d4ce6b7ac8d",
   "metadata": {},
   "outputs": [
    {
     "name": "stdout",
     "output_type": "stream",
     "text": [
      "true\n"
     ]
    }
   ],
   "source": [
    "string1='NEPALINDIACHINA'\n",
    "string1= string1.lower()\n",
    "string2 ='indiachinanepal'\n",
    "check = string1 + string1 #concatenate with itself\n",
    "if string2 in check:\n",
    "    print('true')\n",
    "else:\n",
    "    print('false')"
   ]
  },
  {
   "cell_type": "code",
   "execution_count": null,
   "id": "52b56bab-bc20-4ef3-96b1-0062b9337cd8",
   "metadata": {},
   "outputs": [],
   "source": []
  }
 ],
 "metadata": {
  "kernelspec": {
   "display_name": "Python 3 (ipykernel)",
   "language": "python",
   "name": "python3"
  },
  "language_info": {
   "codemirror_mode": {
    "name": "ipython",
    "version": 3
   },
   "file_extension": ".py",
   "mimetype": "text/x-python",
   "name": "python",
   "nbconvert_exporter": "python",
   "pygments_lexer": "ipython3",
   "version": "3.11.5"
  }
 },
 "nbformat": 4,
 "nbformat_minor": 5
}
