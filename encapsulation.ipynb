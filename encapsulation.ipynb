{
 "cells": [
  {
   "cell_type": "markdown",
   "id": "511c5628-144a-4c73-bd9e-afbacbca91a0",
   "metadata": {},
   "source": [
    "# Are access specifiers used in python ? - No but has concept of limiting behaviour of variables:private attribute are not inherited"
   ]
  },
  {
   "cell_type": "code",
   "execution_count": 1,
   "id": "e035d5a9-3904-485c-b56f-0db6906030aa",
   "metadata": {},
   "outputs": [],
   "source": [
    "class Employee:\n",
    "    # public\n",
    "    name = 'kshitiz'\n",
    "    #protected\n",
    "    _works_at = 'broadway'\n",
    "    # private\n",
    "    __age = 26 # protects it\n",
    "\n",
    "\n",
    "    "
   ]
  },
  {
   "cell_type": "code",
   "execution_count": 2,
   "id": "0fb3a4fd-dd4f-4f77-94eb-7164a9651ef1",
   "metadata": {},
   "outputs": [],
   "source": [
    "obj = Employee()"
   ]
  },
  {
   "cell_type": "code",
   "execution_count": 3,
   "id": "48974fa3-3203-43de-8ad4-e19bab67096e",
   "metadata": {},
   "outputs": [
    {
     "data": {
      "text/plain": [
       "'kshitiz'"
      ]
     },
     "execution_count": 3,
     "metadata": {},
     "output_type": "execute_result"
    }
   ],
   "source": [
    "obj.name"
   ]
  },
  {
   "cell_type": "code",
   "execution_count": 4,
   "id": "854fbc90-3389-42af-a15f-4e65eef5a2ff",
   "metadata": {},
   "outputs": [
    {
     "data": {
      "text/plain": [
       "'broadway'"
      ]
     },
     "execution_count": 4,
     "metadata": {},
     "output_type": "execute_result"
    }
   ],
   "source": [
    "obj._works_at"
   ]
  },
  {
   "cell_type": "code",
   "execution_count": 5,
   "id": "989b5286-32f2-4ff6-a3fb-56453c15768e",
   "metadata": {},
   "outputs": [
    {
     "ename": "AttributeError",
     "evalue": "'Employee' object has no attribute 'age'",
     "output_type": "error",
     "traceback": [
      "\u001b[1;31m---------------------------------------------------------------------------\u001b[0m",
      "\u001b[1;31mAttributeError\u001b[0m                            Traceback (most recent call last)",
      "Cell \u001b[1;32mIn[5], line 1\u001b[0m\n\u001b[1;32m----> 1\u001b[0m \u001b[43mobj\u001b[49m\u001b[38;5;241;43m.\u001b[39;49m\u001b[43mage\u001b[49m\n",
      "\u001b[1;31mAttributeError\u001b[0m: 'Employee' object has no attribute 'age'"
     ]
    }
   ],
   "source": [
    "obj.age"
   ]
  },
  {
   "cell_type": "code",
   "execution_count": 6,
   "id": "0212db10-9c82-4ec5-9d1e-c06ecb4fd0a3",
   "metadata": {},
   "outputs": [],
   "source": [
    "# Abstraction and encapsulation"
   ]
  },
  {
   "cell_type": "code",
   "execution_count": null,
   "id": "abb425cd-3217-4b3c-addf-beb87350d037",
   "metadata": {},
   "outputs": [],
   "source": []
  }
 ],
 "metadata": {
  "kernelspec": {
   "display_name": "Python 3 (ipykernel)",
   "language": "python",
   "name": "python3"
  },
  "language_info": {
   "codemirror_mode": {
    "name": "ipython",
    "version": 3
   },
   "file_extension": ".py",
   "mimetype": "text/x-python",
   "name": "python",
   "nbconvert_exporter": "python",
   "pygments_lexer": "ipython3",
   "version": "3.11.5"
  }
 },
 "nbformat": 4,
 "nbformat_minor": 5
}
