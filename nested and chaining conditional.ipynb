{
 "cells": [
  {
   "cell_type": "markdown",
   "id": "4c8f4ac0-9396-4b52-827a-bdaea0709d7b",
   "metadata": {},
   "source": [
    "# write a program to check if the user input is positive,negative or neutral"
   ]
  },
  {
   "cell_type": "code",
   "execution_count": 6,
   "id": "83ded4ba-599f-4d17-abc1-64154828034c",
   "metadata": {},
   "outputs": [
    {
     "name": "stdin",
     "output_type": "stream",
     "text": [
      "enter a number: 0\n"
     ]
    },
    {
     "name": "stdout",
     "output_type": "stream",
     "text": [
      "neutral\n"
     ]
    }
   ],
   "source": [
    "num = int(input('enter a number:'))\n",
    "if num < 0:\n",
    "    print('positive')\n",
    "else:\n",
    "    if num == 0:\n",
    "        print ('neutral')\n",
    "    else:\n",
    "        print('positive')\n",
    "               \n",
    "\n",
    "\n",
    "          "
   ]
  },
  {
   "cell_type": "markdown",
   "id": "69714ece-f951-4364-8b70-a37e946677a1",
   "metadata": {},
   "source": [
    "# chaining of conditional:if ... elif .. elif...else..\n"
   ]
  },
  {
   "cell_type": "code",
   "execution_count": 8,
   "id": "7fe30c91-c243-4b6a-a057-a8c0c69079d9",
   "metadata": {},
   "outputs": [
    {
     "name": "stdin",
     "output_type": "stream",
     "text": [
      "enter a number: 0\n"
     ]
    },
    {
     "name": "stdout",
     "output_type": "stream",
     "text": [
      "neutral\n"
     ]
    }
   ],
   "source": [
    "num = int(input('enter a number:'))\n",
    "if num < 0:\n",
    "    print('positive')\n",
    "elif num == 0:\n",
    "    print('neutral')\n",
    "else:\n",
    "    print('positive')\n",
    "               "
   ]
  },
  {
   "cell_type": "code",
   "execution_count": null,
   "id": "9fb966cd-c7a1-4cd9-868a-b1dea1ce4ba7",
   "metadata": {},
   "outputs": [],
   "source": [
    "#write a program\n",
    "result "
   ]
  }
 ],
 "metadata": {
  "kernelspec": {
   "display_name": "Python 3 (ipykernel)",
   "language": "python",
   "name": "python3"
  },
  "language_info": {
   "codemirror_mode": {
    "name": "ipython",
    "version": 3
   },
   "file_extension": ".py",
   "mimetype": "text/x-python",
   "name": "python",
   "nbconvert_exporter": "python",
   "pygments_lexer": "ipython3",
   "version": "3.11.5"
  }
 },
 "nbformat": 4,
 "nbformat_minor": 5
}
