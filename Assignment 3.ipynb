{
 "cells": [
  {
   "cell_type": "markdown",
   "id": "4e1b9afd-6e45-4007-a18f-54baa64e292a",
   "metadata": {},
   "source": [
    "# Wap to swap values between two variables"
   ]
  },
  {
   "cell_type": "code",
   "execution_count": 3,
   "id": "e78fc9ec-2398-42be-81b2-73e39fc97a06",
   "metadata": {},
   "outputs": [
    {
     "name": "stdout",
     "output_type": "stream",
     "text": [
      "the value of num1 is 0.36\n",
      "the value of num2 is 2.5\n"
     ]
    }
   ],
   "source": [
    "num1 =2.5\n",
    "num2 = 0.36\n",
    "num1, num2 = num2, num1\n",
    "print('the value of num1 is', num1)\n",
    "print('the value of num2 is', num2)\n"
   ]
  },
  {
   "cell_type": "markdown",
   "id": "cd38b3a5-d0ba-4c2e-aa19-26ef95dfa39b",
   "metadata": {},
   "source": [
    "# using python as a calculator"
   ]
  },
  {
   "cell_type": "code",
   "execution_count": 2,
   "id": "ce4ef8a7-c478-4584-8272-fd750859750c",
   "metadata": {},
   "outputs": [
    {
     "name": "stdout",
     "output_type": "stream",
     "text": [
      "2545.2000000000003\n"
     ]
    }
   ],
   "source": [
    "minutes = 42.42\n",
    "seconds = minutes*60\n",
    "print (seconds)"
   ]
  },
  {
   "cell_type": "code",
   "execution_count": 4,
   "id": "40d428d7-91db-4623-8364-53741fbd5e8a",
   "metadata": {},
   "outputs": [
    {
     "name": "stdout",
     "output_type": "stream",
     "text": [
      "6.215040397762586\n"
     ]
    }
   ],
   "source": [
    "kilometers = 10\n",
    "miles = kilometers/1.609\n",
    "print (miles)"
   ]
  },
  {
   "cell_type": "code",
   "execution_count": 12,
   "id": "d0664902-279a-4f1d-80a1-d26f432b2c6d",
   "metadata": {},
   "outputs": [
    {
     "name": "stdout",
     "output_type": "stream",
     "text": [
      "miles per minute 0.1455512973714891\n",
      "miles per second: 0.0024258549561914852\n"
     ]
    }
   ],
   "source": [
    "miles = 10/1.609\n",
    "seconds = (42*60) + 42\n",
    "minutes = seconds/60\n",
    "Avg1 = miles/minutes\n",
    "Avg2 = miles/seconds\n",
    "print('miles per minute' , Avg1)\n",
    "print('miles per second:',  Avg2)\n",
    "\n"
   ]
  },
  {
   "cell_type": "code",
   "execution_count": null,
   "id": "4d7165be-f6f3-402f-8c9f-c6475a938e84",
   "metadata": {},
   "outputs": [],
   "source": []
  }
 ],
 "metadata": {
  "kernelspec": {
   "display_name": "Python 3 (ipykernel)",
   "language": "python",
   "name": "python3"
  },
  "language_info": {
   "codemirror_mode": {
    "name": "ipython",
    "version": 3
   },
   "file_extension": ".py",
   "mimetype": "text/x-python",
   "name": "python",
   "nbconvert_exporter": "python",
   "pygments_lexer": "ipython3",
   "version": "3.11.5"
  }
 },
 "nbformat": 4,
 "nbformat_minor": 5
}
