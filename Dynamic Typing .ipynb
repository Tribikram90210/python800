{
 "cells": [
  {
   "cell_type": "code",
   "execution_count": 1,
   "id": "a47cecc0-4610-4ec4-b003-12a0dca55d54",
   "metadata": {},
   "outputs": [
    {
     "data": {
      "text/plain": [
       "'radheradhe'"
      ]
     },
     "execution_count": 1,
     "metadata": {},
     "output_type": "execute_result"
    }
   ],
   "source": [
    "'radhe'+'radhe'\n"
   ]
  },
  {
   "cell_type": "code",
   "execution_count": null,
   "id": "1ab095e4-7c80-4fa3-9a21-9c04d1bc7fdc",
   "metadata": {},
   "outputs": [],
   "source": []
  }
 ],
 "metadata": {
  "kernelspec": {
   "display_name": "Python 3 (ipykernel)",
   "language": "python",
   "name": "python3"
  },
  "language_info": {
   "codemirror_mode": {
    "name": "ipython",
    "version": 3
   },
   "file_extension": ".py",
   "mimetype": "text/x-python",
   "name": "python",
   "nbconvert_exporter": "python",
   "pygments_lexer": "ipython3",
   "version": "3.11.5"
  }
 },
 "nbformat": 4,
 "nbformat_minor": 5
}
