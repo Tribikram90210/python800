{
 "cells": [
  {
   "cell_type": "markdown",
   "id": "c69f00b0-b117-4676-a42f-1cd09e4ac503",
   "metadata": {},
   "source": [
    "# None\n",
    "* the none keyword is used to define a null value, or no value at all\n",
    "* none is not the same as 0,false or an empty string\n",
    "* none is a data type of its own (nonetype and only none can be none"
   ]
  },
  {
   "cell_type": "code",
   "execution_count": 1,
   "id": "241bcff9-cbf1-4b4f-8417-c1fa2fb9ee7e",
   "metadata": {},
   "outputs": [],
   "source": [
    "x = None"
   ]
  },
  {
   "cell_type": "code",
   "execution_count": 2,
   "id": "1e389cde-4e27-485d-89c7-2eba0f1f3241",
   "metadata": {},
   "outputs": [
    {
     "data": {
      "text/plain": [
       "NoneType"
      ]
     },
     "execution_count": 2,
     "metadata": {},
     "output_type": "execute_result"
    }
   ],
   "source": [
    "type(x)"
   ]
  },
  {
   "cell_type": "code",
   "execution_count": 3,
   "id": "c838fe1b-2ed4-48c3-ab4a-5bafe0d6cb7f",
   "metadata": {},
   "outputs": [
    {
     "data": {
      "text/plain": [
       "False"
      ]
     },
     "execution_count": 3,
     "metadata": {},
     "output_type": "execute_result"
    }
   ],
   "source": [
    "None == 0"
   ]
  },
  {
   "cell_type": "code",
   "execution_count": 4,
   "id": "b9cf96dc-b56c-47a1-a089-ac1b843bff27",
   "metadata": {},
   "outputs": [
    {
     "data": {
      "text/plain": [
       "True"
      ]
     },
     "execution_count": 4,
     "metadata": {},
     "output_type": "execute_result"
    }
   ],
   "source": [
    "None == None"
   ]
  },
  {
   "cell_type": "code",
   "execution_count": 5,
   "id": "cfc6a0b5-79c6-48fb-b50e-7677f9f50f45",
   "metadata": {},
   "outputs": [
    {
     "name": "stdout",
     "output_type": "stream",
     "text": [
      "x is none\n"
     ]
    }
   ],
   "source": [
    "x == None # not a prefered way \n",
    "if x == None:\n",
    "    print('x is none')"
   ]
  },
  {
   "cell_type": "markdown",
   "id": "19b39935-e200-4f80-b9e0-f706ff3dcd1b",
   "metadata": {},
   "source": [
    "# identity operator"
   ]
  },
  {
   "cell_type": "markdown",
   "id": "621d05c1-4b89-43de-8a0d-1fb606106c6d",
   "metadata": {},
   "source": [
    "# identity operators are used to compare the objects, not if they are equal but if they are actually the same object with the same memory location"
   ]
  },
  {
   "cell_type": "code",
   "execution_count": 6,
   "id": "7ec4a108-7ae7-4248-b418-7d080f0cc140",
   "metadata": {},
   "outputs": [
    {
     "data": {
      "text/plain": [
       "True"
      ]
     },
     "execution_count": 6,
     "metadata": {},
     "output_type": "execute_result"
    }
   ],
   "source": [
    "x = None\n",
    "x is None # prefered way"
   ]
  },
  {
   "cell_type": "code",
   "execution_count": 7,
   "id": "89d6d863-c79c-4b3f-ab3a-602f4405aff8",
   "metadata": {},
   "outputs": [
    {
     "data": {
      "text/plain": [
       "True"
      ]
     },
     "execution_count": 7,
     "metadata": {},
     "output_type": "execute_result"
    }
   ],
   "source": [
    "x is not float"
   ]
  },
  {
   "cell_type": "code",
   "execution_count": 8,
   "id": "2b455f7b-44ef-47a0-8d90-eb421a55b334",
   "metadata": {},
   "outputs": [
    {
     "name": "stdout",
     "output_type": "stream",
     "text": [
      "x is none\n"
     ]
    }
   ],
   "source": [
    "x = None\n",
    "if x is None:# preferred way\n",
    "    print('x is none')"
   ]
  },
  {
   "cell_type": "code",
   "execution_count": 10,
   "id": "edf62110-599f-4c62-8ae5-f8e3610ea3fe",
   "metadata": {},
   "outputs": [
    {
     "name": "stdout",
     "output_type": "stream",
     "text": [
      "140733372918984 140733372918984 140733372918984\n"
     ]
    }
   ],
   "source": [
    "x= None\n",
    "y =None\n",
    "print(id(x),id(y),id(None))"
   ]
  },
  {
   "cell_type": "code",
   "execution_count": null,
   "id": "d33a1fc4-28a2-4b77-86f2-e22e49a5603a",
   "metadata": {},
   "outputs": [],
   "source": []
  }
 ],
 "metadata": {
  "kernelspec": {
   "display_name": "Python 3 (ipykernel)",
   "language": "python",
   "name": "python3"
  },
  "language_info": {
   "codemirror_mode": {
    "name": "ipython",
    "version": 3
   },
   "file_extension": ".py",
   "mimetype": "text/x-python",
   "name": "python",
   "nbconvert_exporter": "python",
   "pygments_lexer": "ipython3",
   "version": "3.11.5"
  }
 },
 "nbformat": 4,
 "nbformat_minor": 5
}
