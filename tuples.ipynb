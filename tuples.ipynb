{
 "cells": [
  {
   "cell_type": "markdown",
   "id": "e88498fa-5add-4817-9370-20cfa5c02dae",
   "metadata": {},
   "source": [
    "# Tuples \n",
    "* collection of items under one variable name\n",
    "* Immutable\n",
    "* allows duplicate ,ordered , indexed ,allows multiple data types\n",
    "* written inside round brackets () separated by comma ,\n",
    "* read only data type"
   ]
  },
  {
   "cell_type": "markdown",
   "id": "39b8a8a6-1b55-41da-934f-df8fae28c4f3",
   "metadata": {},
   "source": [
    "t1 = ('kathmandu','bhakataur','lalitpur')\n",
    "type(t1)"
   ]
  },
  {
   "cell_type": "code",
   "execution_count": 2,
   "id": "9fe7463a-1329-428a-b7ba-7f5f841c5e19",
   "metadata": {},
   "outputs": [
    {
     "data": {
      "text/plain": [
       "'lalitpur'"
      ]
     },
     "execution_count": 2,
     "metadata": {},
     "output_type": "execute_result"
    }
   ],
   "source": [
    "t1[2]"
   ]
  },
  {
   "cell_type": "code",
   "execution_count": 3,
   "id": "c4766e80-20d1-4c9a-82d7-e71752190d7e",
   "metadata": {},
   "outputs": [
    {
     "ename": "TypeError",
     "evalue": "'tuple' object does not support item assignment",
     "output_type": "error",
     "traceback": [
      "\u001b[1;31m---------------------------------------------------------------------------\u001b[0m",
      "\u001b[1;31mTypeError\u001b[0m                                 Traceback (most recent call last)",
      "Cell \u001b[1;32mIn[3], line 1\u001b[0m\n\u001b[1;32m----> 1\u001b[0m \u001b[43mt1\u001b[49m\u001b[43m[\u001b[49m\u001b[38;5;241;43m2\u001b[39;49m\u001b[43m]\u001b[49m\u001b[38;5;241m=\u001b[39m \u001b[38;5;124m'\u001b[39m\u001b[38;5;124mpatan\u001b[39m\u001b[38;5;124m'\u001b[39m\n",
      "\u001b[1;31mTypeError\u001b[0m: 'tuple' object does not support item assignment"
     ]
    }
   ],
   "source": [
    "t1[2]= 'patan' # paudaina because its tuple , list vako vaye chai paunthiyo\n"
   ]
  },
  {
   "cell_type": "code",
   "execution_count": 5,
   "id": "8db114ed-4e5a-4fca-8705-67c30cab5050",
   "metadata": {},
   "outputs": [
    {
     "data": {
      "text/plain": [
       "['kathmandu', 'bhakataur', 'patan']"
      ]
     },
     "execution_count": 5,
     "metadata": {},
     "output_type": "execute_result"
    }
   ],
   "source": [
    "l1 = ['kathmandu','bhakataur','lalitpur'] # if it was list\n",
    "l1[2]='patan'\n",
    "l1"
   ]
  },
  {
   "cell_type": "markdown",
   "id": "160cde8b-4bb5-4c9e-b463-578740a4fe46",
   "metadata": {},
   "source": [
    "# typecasting"
   ]
  },
  {
   "cell_type": "code",
   "execution_count": 6,
   "id": "94837dbb-b540-4726-9622-770bf335d5a3",
   "metadata": {},
   "outputs": [
    {
     "name": "stdout",
     "output_type": "stream",
     "text": [
      "2286033784128 ('kathmandu', 'bhakataur', 'lalitpur') <class 'tuple'>\n"
     ]
    }
   ],
   "source": [
    "city = ('kathmandu','bhakataur','lalitpur')\n",
    "print(id(city),city,type(city))"
   ]
  },
  {
   "cell_type": "markdown",
   "id": "383b33d7-6c67-43f0-bb4f-0882ae6aa9c6",
   "metadata": {},
   "source": [
    "# suppose i want  to add kavre in city variable"
   ]
  },
  {
   "cell_type": "code",
   "execution_count": 8,
   "id": "18036ab2-3d86-49fa-8e95-409282534dcf",
   "metadata": {},
   "outputs": [
    {
     "name": "stdout",
     "output_type": "stream",
     "text": [
      "2286033409024 ['kathmandu', 'bhakataur', 'lalitpur'] <class 'list'>\n",
      "2286033642064 ('kathmandu', 'bhakataur', 'lalitpur', 'kavre') <class 'tuple'>\n"
     ]
    }
   ],
   "source": [
    "city = list(city) # type casting ko example where list(city) and tuple(city) converts\n",
    "print(id(city),city,type(city)) # example lai matrai dekhako ho\n",
    "city.append('kavre')\n",
    "city = tuple(city)\n",
    "print(id(city),city,type(city))"
   ]
  },
  {
   "cell_type": "markdown",
   "id": "f2ac72e2-d7ff-45ba-8c57-2c2b22b54f41",
   "metadata": {},
   "source": [
    "# indexing and slicing "
   ]
  },
  {
   "cell_type": "code",
   "execution_count": 10,
   "id": "48834162-cea5-46a3-9315-1d422ebd351a",
   "metadata": {},
   "outputs": [
    {
     "data": {
      "text/plain": [
       "7"
      ]
     },
     "execution_count": 10,
     "metadata": {},
     "output_type": "execute_result"
    }
   ],
   "source": [
    "t= (7,4,22,5,7,9,8)\n",
    "t[0]"
   ]
  },
  {
   "cell_type": "code",
   "execution_count": 15,
   "id": "d3e3971e-47cf-4e2a-bd68-8fadd270858a",
   "metadata": {},
   "outputs": [
    {
     "name": "stdout",
     "output_type": "stream",
     "text": [
      "the sum is 54\n"
     ]
    }
   ],
   "source": [
    "t= (7,4,22,5,7,9,0)\n",
    "r=0\n",
    "for index in t:\n",
    "    r=r+index\n",
    "print(f'the sum is {r}')"
   ]
  },
  {
   "cell_type": "code",
   "execution_count": 16,
   "id": "91f80ded-75c9-4c5e-8d50-52a579c99736",
   "metadata": {},
   "outputs": [
    {
     "name": "stdout",
     "output_type": "stream",
     "text": [
      "the mean is 7.714285714285714\n"
     ]
    }
   ],
   "source": [
    "t= (7,4,22,5,7,9,0)\n",
    "r=0\n",
    "for index in t:\n",
    "    r=r+index/len(t)\n",
    "print(f'the mean is {r}')"
   ]
  },
  {
   "cell_type": "markdown",
   "id": "390e6b5b-8442-4489-9acb-4d737e7442eb",
   "metadata": {},
   "source": [
    "# Tuple unpacking"
   ]
  },
  {
   "cell_type": "code",
   "execution_count": 17,
   "id": "7dfd2e33-46a2-4a35-b30a-56805c7b2682",
   "metadata": {},
   "outputs": [],
   "source": [
    "a, b = (44,2)"
   ]
  },
  {
   "cell_type": "code",
   "execution_count": 18,
   "id": "04c18fad-743c-4085-bc2b-773292967003",
   "metadata": {},
   "outputs": [
    {
     "data": {
      "text/plain": [
       "44"
      ]
     },
     "execution_count": 18,
     "metadata": {},
     "output_type": "execute_result"
    }
   ],
   "source": [
    "a"
   ]
  },
  {
   "cell_type": "code",
   "execution_count": 19,
   "id": "03464684-cf84-4ba7-8767-c4acc06ab246",
   "metadata": {},
   "outputs": [
    {
     "data": {
      "text/plain": [
       "2"
      ]
     },
     "execution_count": 19,
     "metadata": {},
     "output_type": "execute_result"
    }
   ],
   "source": [
    "b"
   ]
  },
  {
   "cell_type": "code",
   "execution_count": null,
   "id": "01e12ead-d8fd-4620-8e02-b8cf86555abd",
   "metadata": {},
   "outputs": [],
   "source": []
  }
 ],
 "metadata": {
  "kernelspec": {
   "display_name": "Python 3 (ipykernel)",
   "language": "python",
   "name": "python3"
  },
  "language_info": {
   "codemirror_mode": {
    "name": "ipython",
    "version": 3
   },
   "file_extension": ".py",
   "mimetype": "text/x-python",
   "name": "python",
   "nbconvert_exporter": "python",
   "pygments_lexer": "ipython3",
   "version": "3.11.5"
  }
 },
 "nbformat": 4,
 "nbformat_minor": 5
}
