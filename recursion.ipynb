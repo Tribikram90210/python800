{
 "cells": [
  {
   "cell_type": "code",
   "execution_count": 1,
   "id": "22b7fa11-057e-45ff-9f4e-23e49f11729f",
   "metadata": {},
   "outputs": [],
   "source": [
    "def recurse():\n",
    "    # function code\n",
    "    # function body\n",
    "    recurse()\n"
   ]
  },
  {
   "cell_type": "code",
   "execution_count": 2,
   "id": "528c7848-54ed-4e55-b31f-3235faa77f49",
   "metadata": {},
   "outputs": [
    {
     "ename": "RecursionError",
     "evalue": "maximum recursion depth exceeded",
     "output_type": "error",
     "traceback": [
      "\u001b[1;31m---------------------------------------------------------------------------\u001b[0m",
      "\u001b[1;31mRecursionError\u001b[0m                            Traceback (most recent call last)",
      "Cell \u001b[1;32mIn[2], line 1\u001b[0m\n\u001b[1;32m----> 1\u001b[0m \u001b[43mrecurse\u001b[49m\u001b[43m(\u001b[49m\u001b[43m)\u001b[49m\n",
      "Cell \u001b[1;32mIn[1], line 4\u001b[0m, in \u001b[0;36mrecurse\u001b[1;34m()\u001b[0m\n\u001b[0;32m      1\u001b[0m \u001b[38;5;28;01mdef\u001b[39;00m \u001b[38;5;21mrecurse\u001b[39m():\n\u001b[0;32m      2\u001b[0m     \u001b[38;5;66;03m# function code\u001b[39;00m\n\u001b[0;32m      3\u001b[0m     \u001b[38;5;66;03m# function body\u001b[39;00m\n\u001b[1;32m----> 4\u001b[0m     \u001b[43mrecurse\u001b[49m\u001b[43m(\u001b[49m\u001b[43m)\u001b[49m\n",
      "Cell \u001b[1;32mIn[1], line 4\u001b[0m, in \u001b[0;36mrecurse\u001b[1;34m()\u001b[0m\n\u001b[0;32m      1\u001b[0m \u001b[38;5;28;01mdef\u001b[39;00m \u001b[38;5;21mrecurse\u001b[39m():\n\u001b[0;32m      2\u001b[0m     \u001b[38;5;66;03m# function code\u001b[39;00m\n\u001b[0;32m      3\u001b[0m     \u001b[38;5;66;03m# function body\u001b[39;00m\n\u001b[1;32m----> 4\u001b[0m     \u001b[43mrecurse\u001b[49m\u001b[43m(\u001b[49m\u001b[43m)\u001b[49m\n",
      "    \u001b[1;31m[... skipping similar frames: recurse at line 4 (2970 times)]\u001b[0m\n",
      "Cell \u001b[1;32mIn[1], line 4\u001b[0m, in \u001b[0;36mrecurse\u001b[1;34m()\u001b[0m\n\u001b[0;32m      1\u001b[0m \u001b[38;5;28;01mdef\u001b[39;00m \u001b[38;5;21mrecurse\u001b[39m():\n\u001b[0;32m      2\u001b[0m     \u001b[38;5;66;03m# function code\u001b[39;00m\n\u001b[0;32m      3\u001b[0m     \u001b[38;5;66;03m# function body\u001b[39;00m\n\u001b[1;32m----> 4\u001b[0m     \u001b[43mrecurse\u001b[49m\u001b[43m(\u001b[49m\u001b[43m)\u001b[49m\n",
      "\u001b[1;31mRecursionError\u001b[0m: maximum recursion depth exceeded"
     ]
    }
   ],
   "source": [
    "recurse()"
   ]
  },
  {
   "cell_type": "markdown",
   "id": "3b1d1292-f832-49d2-84fd-8b15df3df8c2",
   "metadata": {},
   "source": [
    "# Recursion - a function that calls itself"
   ]
  },
  {
   "cell_type": "code",
   "execution_count": 3,
   "id": "d9a3407f-d53d-4559-bc7b-b5987c95d227",
   "metadata": {},
   "outputs": [],
   "source": [
    "def factorial(num):\n",
    "    if num == 0 or num == 1:\n",
    "        return 1 \n",
    "    else:\n",
    "        return num * factorial(num-1)"
   ]
  },
  {
   "cell_type": "code",
   "execution_count": 4,
   "id": "6b106c25-ce5d-4d35-be5f-209aac7d060c",
   "metadata": {},
   "outputs": [
    {
     "data": {
      "text/plain": [
       "720"
      ]
     },
     "execution_count": 4,
     "metadata": {},
     "output_type": "execute_result"
    }
   ],
   "source": [
    "factorial(6)"
   ]
  },
  {
   "cell_type": "code",
   "execution_count": 11,
   "id": "b816ef68-f509-4b03-a78a-06cfe5138584",
   "metadata": {},
   "outputs": [
    {
     "data": {
      "text/plain": [
       "120"
      ]
     },
     "execution_count": 11,
     "metadata": {},
     "output_type": "execute_result"
    }
   ],
   "source": [
    "factorial(5)"
   ]
  },
  {
   "cell_type": "markdown",
   "id": "6d025fd2-5163-4a34-887e-d2d3a4f39cde",
   "metadata": {},
   "source": [
    "* recursive funtions make the code look clean and elegant\n",
    "* A complex task can be broken down into simpler sub-problems using recursions.\n",
    "* Sequence generation is easier with recursion than using some nested iteration."
   ]
  },
  {
   "cell_type": "code",
   "execution_count": null,
   "id": "ea386ef0-1446-40cc-97b2-a9ebff2811ef",
   "metadata": {},
   "outputs": [],
   "source": []
  }
 ],
 "metadata": {
  "kernelspec": {
   "display_name": "Python 3 (ipykernel)",
   "language": "python",
   "name": "python3"
  },
  "language_info": {
   "codemirror_mode": {
    "name": "ipython",
    "version": 3
   },
   "file_extension": ".py",
   "mimetype": "text/x-python",
   "name": "python",
   "nbconvert_exporter": "python",
   "pygments_lexer": "ipython3",
   "version": "3.11.5"
  }
 },
 "nbformat": 4,
 "nbformat_minor": 5
}
