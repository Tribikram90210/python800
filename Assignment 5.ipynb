{
 "cells": [
  {
   "cell_type": "code",
   "execution_count": 5,
   "id": "8eba2f20-b7c1-4a8d-abca-11b6611768f8",
   "metadata": {},
   "outputs": [
    {
     "name": "stdout",
     "output_type": "stream",
     "text": [
      "vowel =  a\n",
      "vowel =  e\n",
      "consonant =  y\n",
      "vowel =  i\n"
     ]
    }
   ],
   "source": [
    "s = 'aeyi'\n",
    "print('vowel = ' , s[0] )\n",
    "print('vowel = ' , s[1] )\n",
    "print('consonant = ', s[2])\n",
    "print('vowel = ',s[3])\n",
    "\n"
   ]
  },
  {
   "cell_type": "code",
   "execution_count": 28,
   "id": "bbbf23e8-2525-4465-9f02-8d7366dc7d63",
   "metadata": {},
   "outputs": [
    {
     "name": "stdout",
     "output_type": "stream",
     "text": [
      "Vowel = a\n",
      "Vowel = e\n",
      "consonant = y\n",
      "vowel = i\n"
     ]
    }
   ],
   "source": [
    "s = 'aeyi'\n",
    "for vowel in range(0,2):\n",
    "    alphabet = s[vowel]\n",
    "    print(f'Vowel = {alphabet}')\n",
    "for consonant in range(2,3):\n",
    "    C = s[consonant]\n",
    "    print(f'consonant = {C}')\n",
    "for vowel2 in range(3,4):\n",
    "    x = s[vowel2]\n",
    "    print(f'vowel = {x}')\n",
    "    \n"
   ]
  },
  {
   "cell_type": "code",
   "execution_count": 37,
   "id": "eb21d690-9293-451f-95d1-cd60e54398ca",
   "metadata": {},
   "outputs": [
    {
     "name": "stdout",
     "output_type": "stream",
     "text": [
      "my nickname is t\n",
      "my nickname is r\n",
      "my nickname is i\n"
     ]
    }
   ],
   "source": [
    "T = 'tribikram' \n",
    "for Name in range(0,3):\n",
    "    A = T[Name] #variable po raicha \n",
    "    print(f'my nickname is {A}')\n"
   ]
  },
  {
   "cell_type": "code",
   "execution_count": 35,
   "id": "86f03249-177e-49b0-bad2-73616ec07aeb",
   "metadata": {},
   "outputs": [
    {
     "data": {
      "text/plain": [
       "'aey'"
      ]
     },
     "execution_count": 35,
     "metadata": {},
     "output_type": "execute_result"
    }
   ],
   "source": [
    "s[0:3]"
   ]
  },
  {
   "cell_type": "code",
   "execution_count": 1,
   "id": "a0e5a146-e699-46c3-9c45-1b0893430c2c",
   "metadata": {},
   "outputs": [
    {
     "name": "stdout",
     "output_type": "stream",
     "text": [
      "vowels = a\n",
      "vowels = e\n",
      "consonant  = y\n",
      "vowels = i\n"
     ]
    }
   ],
   "source": [
    "vowel='aeyi'\n",
    "for index in range(0, len(vowel)):\n",
    "    char = vowel[index]\n",
    "    if(char == 'a' or char == 'e' or char == 'i' or char == '0' or char == 'u'):\n",
    "        print(f'vowels = {char}')\n",
    "    else:\n",
    "        print(f'consonant  = {char}')"
   ]
  },
  {
   "cell_type": "code",
   "execution_count": null,
   "id": "aef3f86b-bb1e-4122-bd3c-b96e8fed0579",
   "metadata": {},
   "outputs": [],
   "source": []
  }
 ],
 "metadata": {
  "kernelspec": {
   "display_name": "Python 3 (ipykernel)",
   "language": "python",
   "name": "python3"
  },
  "language_info": {
   "codemirror_mode": {
    "name": "ipython",
    "version": 3
   },
   "file_extension": ".py",
   "mimetype": "text/x-python",
   "name": "python",
   "nbconvert_exporter": "python",
   "pygments_lexer": "ipython3",
   "version": "3.11.5"
  }
 },
 "nbformat": 4,
 "nbformat_minor": 5
}
