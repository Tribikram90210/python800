{
 "cells": [
  {
   "cell_type": "markdown",
   "id": "af00ee75-2242-4b4f-a654-98b583a68955",
   "metadata": {},
   "source": [
    "# practicing format string which auto-updates the values assigned to variables"
   ]
  },
  {
   "cell_type": "code",
   "execution_count": null,
   "id": "890d2142-3b2c-440d-9912-80d9b1b44068",
   "metadata": {},
   "outputs": [],
   "source": [
    "x = 'Melbourne'\n",
    "y = 'Sydney'\n",
    "print(f'x = {x}')\n",
    "print(f'y = {f}')"
   ]
  }
 ],
 "metadata": {
  "kernelspec": {
   "display_name": "Python 3 (ipykernel)",
   "language": "python",
   "name": "python3"
  },
  "language_info": {
   "codemirror_mode": {
    "name": "ipython",
    "version": 3
   },
   "file_extension": ".py",
   "mimetype": "text/x-python",
   "name": "python",
   "nbconvert_exporter": "python",
   "pygments_lexer": "ipython3",
   "version": "3.11.5"
  }
 },
 "nbformat": 4,
 "nbformat_minor": 5
}
