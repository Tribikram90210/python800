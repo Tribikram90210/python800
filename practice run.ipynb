{
 "cells": [
  {
   "cell_type": "code",
   "execution_count": 10,
   "id": "edd62379-becd-49de-a41b-01167d18d579",
   "metadata": {},
   "outputs": [
    {
     "data": {
      "text/plain": [
       "'dlrow olleh'"
      ]
     },
     "execution_count": 10,
     "metadata": {},
     "output_type": "execute_result"
    }
   ],
   "source": [
    "s= ('hello world')\n",
    "s[::-1]"
   ]
  },
  {
   "cell_type": "code",
   "execution_count": 13,
   "id": "fa1e6326-de3e-4aa5-8899-f8a9a12048cd",
   "metadata": {},
   "outputs": [
    {
     "name": "stdout",
     "output_type": "stream",
     "text": [
      "0\n",
      "1\n",
      "2\n",
      "3\n",
      "4\n"
     ]
    }
   ],
   "source": [
    "for index in range(0,5):\n",
    "    print(index)"
   ]
  },
  {
   "cell_type": "code",
   "execution_count": 14,
   "id": "2a9d1937-147b-4d56-b510-0886e8b1aa91",
   "metadata": {},
   "outputs": [
    {
     "name": "stdout",
     "output_type": "stream",
     "text": [
      "0\n",
      "1\n",
      "3\n",
      "4\n"
     ]
    }
   ],
   "source": [
    "for index in range(0,5):\n",
    "    if index == 2:\n",
    "        continue\n",
    "    print(index)"
   ]
  },
  {
   "cell_type": "code",
   "execution_count": 26,
   "id": "ace1da24-92e3-4f23-93f1-2481ac85087f",
   "metadata": {},
   "outputs": [
    {
     "name": "stdout",
     "output_type": "stream",
     "text": [
      "total number is 10\n"
     ]
    }
   ],
   "source": [
    "num = 20965 #ekchin wait\n",
    "total = 0\n",
    "for item in range(0,5):\n",
    "    total = total + item\n",
    "print('total number is', total)\n"
   ]
  },
  {
   "cell_type": "code",
   "execution_count": 1,
   "id": "9bb82d26-a22a-47e3-84e7-735ccaf3fac4",
   "metadata": {},
   "outputs": [
    {
     "name": "stdout",
     "output_type": "stream",
     "text": [
      "The character t is in the 0 position\n",
      "The character r is in the 1 position\n",
      "The character i is in the 2 position\n",
      "The character b is in the 3 position\n",
      "The character i is in the 4 position\n",
      "The character k is in the 5 position\n",
      "The character r is in the 6 position\n",
      "The character a is in the 7 position\n",
      "The character m is in the 8 position\n"
     ]
    }
   ],
   "source": [
    "s = 'tribikram'  # you have to use comma while writing a string while no comma is needed for numbers\n",
    "for index in range(0,len(s)):\n",
    "    character=s[index]\n",
    "    print(f'The character {character} is in the {index} position')"
   ]
  },
  {
   "cell_type": "code",
   "execution_count": 5,
   "id": "ba42e089-afc8-4ed8-bca3-a5490724c170",
   "metadata": {},
   "outputs": [
    {
     "name": "stdin",
     "output_type": "stream",
     "text": [
      "enter a name anusha\n"
     ]
    },
    {
     "name": "stdout",
     "output_type": "stream",
     "text": [
      "the character a is in the 0 position\n",
      "the character n is in the 1 position\n",
      "the character u is in the 2 position\n",
      "the character s is in the 3 position\n",
      "the character h is in the 4 position\n",
      "the character a is in the 5 position\n"
     ]
    }
   ],
   "source": [
    "s = input('enter a name') #restart kernerl ani paila line of  code ko variable le khasai farak pardaina\n",
    "for index in range(0,len(s)):\n",
    "    character = s[index]\n",
    "    print(f'the character {character} is in the {index} position')\n",
    "          "
   ]
  },
  {
   "cell_type": "code",
   "execution_count": 7,
   "id": "576b81d9-3dab-4c66-8659-508d425319cb",
   "metadata": {},
   "outputs": [
    {
     "name": "stdout",
     "output_type": "stream",
     "text": [
      "0\n",
      "1\n",
      "2\n",
      "3\n",
      "4\n",
      "5\n",
      "6\n",
      "8\n",
      "9\n",
      "10\n"
     ]
    }
   ],
   "source": [
    "for number in range(0,11): # loop and if condition\n",
    "    if number == 7 :\n",
    "        continue\n",
    "    print(number)"
   ]
  },
  {
   "cell_type": "code",
   "execution_count": 10,
   "id": "8fd01754-1d35-411d-9c3d-4439fae7054a",
   "metadata": {},
   "outputs": [
    {
     "name": "stdout",
     "output_type": "stream",
     "text": [
      "0\n",
      "1\n",
      "2\n",
      "3\n",
      "4\n",
      "5\n",
      "6\n",
      "7\n"
     ]
    }
   ],
   "source": [
    "for number in range(0,11): #breaks the line of code\n",
    "    if number == 8 :\n",
    "        break\n",
    "    print(number)"
   ]
  },
  {
   "cell_type": "code",
   "execution_count": 13,
   "id": "a9b46945-3759-48b3-b672-92c7609eb1e5",
   "metadata": {},
   "outputs": [
    {
     "name": "stdout",
     "output_type": "stream",
     "text": [
      "consonant =k\n",
      "vowel = a\n",
      "consonant =t\n",
      "consonant =h\n",
      "consonant =m\n",
      "vowel = a\n",
      "consonant =n\n",
      "consonant =d\n",
      "vowel = u\n"
     ]
    }
   ],
   "source": [
    "# a program for finding out if the character is a vowel or consonant\n",
    "n = 'kathmandu'\n",
    "for l in range(0,len(n)):\n",
    "    x = n[l]\n",
    "    if x == 'a' or x =='e' or x =='i' or x == 'o' or x =='u':\n",
    "        print(f'vowel = {x}')\n",
    "    else:\n",
    "        print(f'consonant ={x}')\n",
    "    "
   ]
  },
  {
   "cell_type": "code",
   "execution_count": 2,
   "id": "1d3efe2e-7292-4093-a227-903a49fa5036",
   "metadata": {},
   "outputs": [
    {
     "name": "stdout",
     "output_type": "stream",
     "text": [
      "consonant = l\n",
      "vowel = a\n",
      "consonant = n\n",
      "consonant = g\n",
      "consonant = t\n",
      "vowel = a\n",
      "consonant = n\n",
      "consonant = g\n",
      "consonant = v\n",
      "vowel = a\n",
      "consonant = l\n",
      "consonant = l\n",
      "vowel = e\n",
      "consonant = y\n"
     ]
    }
   ],
   "source": [
    "n = 'langtang valley'\n",
    "for l in range(0,len(n)):\n",
    "    x = n [l]\n",
    "    if x == 'a' or x == 'e' or x == 'i' or x == 'o' or x =='u' :\n",
    "        print(f'vowel = {x}')\n",
    "    elif x == ' ':\n",
    "        continue\n",
    "    else:\n",
    "        print(f'consonant = {x}')"
   ]
  },
  {
   "cell_type": "code",
   "execution_count": 18,
   "id": "91c61c6c-b715-47b2-b894-20f5be08cfc4",
   "metadata": {},
   "outputs": [
    {
     "name": "stdin",
     "output_type": "stream",
     "text": [
      "enter your full name TRIBIKRAM JUNG SHAH\n"
     ]
    },
    {
     "name": "stdout",
     "output_type": "stream",
     "text": [
      "consonant = t\n",
      "consonant = r\n",
      "vowel = i\n",
      "consonant = b\n",
      "vowel = i\n",
      "consonant = k\n",
      "consonant = r\n",
      "vowel = a\n",
      "consonant = m\n",
      "consonant = j\n",
      "vowel = u\n",
      "consonant = n\n",
      "consonant = g\n",
      "consonant = s\n",
      "consonant = h\n",
      "vowel = a\n",
      "consonant = h\n"
     ]
    }
   ],
   "source": [
    "T = input('enter your full name')# take's users full name as input\n",
    "T= T.lower()\n",
    "for r in range(0,len(T)): #indexes the previous string\n",
    "    i = T[r] #slices the string into individual characters\n",
    "    if i == 'a' or i == 'e' or i =='i' or i == 'o' or i == 'u' : # if condition for the string\n",
    "        print(f'vowel = {i}') # if condition is satisfied then it prints the statement\n",
    "    elif i == \" \" : # another condition where if the string is empty\n",
    "        continue # it skips the process for that individual element that fulfills the elif statement\n",
    "    else:#else statement\n",
    "        print(f'consonant = {i}')# the rest is printed"
   ]
  },
  {
   "cell_type": "code",
   "execution_count": null,
   "id": "644b0caa-f204-4c74-9b36-924101369046",
   "metadata": {},
   "outputs": [],
   "source": [
    "T = input('enter a name of the head of state of a any country')\n",
    "\n",
    "T = T.lower()\n",
    "\n",
    "for r in range(0 , len(T)):\n",
    "    i = T[r]\n",
    "    if i == 'a' or i == 'e' or i =='i' or i =='o' or i =='u':\n",
    "        \n",
    "        print(f'vowel = {i}')\n",
    "    elif i==' ':\n",
    "    \n",
    "        break #works like a stop funtion\n",
    "    else:\n",
    "        print(f'consonant = {i}')\n",
    "    \n",
    "        "
   ]
  },
  {
   "cell_type": "code",
   "execution_count": 19,
   "id": "8f72e9d1-0756-4221-b2cf-b6278c556bd7",
   "metadata": {},
   "outputs": [
    {
     "data": {
      "text/plain": [
       "1894954112688"
      ]
     },
     "execution_count": 19,
     "metadata": {},
     "output_type": "execute_result"
    }
   ],
   "source": [
    "id(T)"
   ]
  },
  {
   "cell_type": "code",
   "execution_count": 2,
   "id": "45ffe593-0ea2-4ec2-9a88-25b1b8691937",
   "metadata": {},
   "outputs": [
    {
     "data": {
      "text/plain": [
       "'tsho rolpa'"
      ]
     },
     "execution_count": 2,
     "metadata": {},
     "output_type": "execute_result"
    }
   ],
   "source": [
    "place= 't$ho rolpa'\n",
    "place.replace('$','s') #replaces the character with another character"
   ]
  },
  {
   "cell_type": "code",
   "execution_count": 4,
   "id": "ed848926-b32e-4eaa-a90e-6077483b3c11",
   "metadata": {},
   "outputs": [
    {
     "data": {
      "text/plain": [
       "'Tribikram'"
      ]
     },
     "execution_count": 4,
     "metadata": {},
     "output_type": "execute_result"
    }
   ],
   "source": [
    "name = 'tribikram'\n",
    "name.title()"
   ]
  },
  {
   "cell_type": "markdown",
   "id": "43a82d76-24fb-4426-adb5-67bd479de411",
   "metadata": {},
   "source": [
    "# in replace() both data are stored in memory separately "
   ]
  },
  {
   "cell_type": "code",
   "execution_count": 5,
   "id": "399105f9-ad90-4540-b55a-f8e646e8b139",
   "metadata": {},
   "outputs": [
    {
     "data": {
      "text/plain": [
       "['Tribikram', 'Jung', 'Shah']"
      ]
     },
     "execution_count": 5,
     "metadata": {},
     "output_type": "execute_result"
    }
   ],
   "source": [
    "name = 'Tribikram Jung Shah' #splits the words\n",
    "name.split()"
   ]
  },
  {
   "cell_type": "markdown",
   "id": "987ab1dc-1aa7-44ab-a952-8fdb15e36bad",
   "metadata": {},
   "source": [
    "# the above is split statement\n"
   ]
  },
  {
   "cell_type": "code",
   "execution_count": 8,
   "id": "1f294698-5dfe-4eca-a075-cb79712c7bff",
   "metadata": {},
   "outputs": [
    {
     "data": {
      "text/plain": [
       "'ferrai lamborghini bugatti'"
      ]
     },
     "execution_count": 8,
     "metadata": {},
     "output_type": "execute_result"
    }
   ],
   "source": [
    "word_join = ['ferrai','lamborghini','bugatti']\n",
    "' '.join(word_join)"
   ]
  },
  {
   "cell_type": "markdown",
   "id": "9d1e5af0-9eaf-4e9f-9f0f-4224c4b233fc",
   "metadata": {},
   "source": [
    "# now for the addition equation\n"
   ]
  },
  {
   "cell_type": "code",
   "execution_count": 6,
   "id": "925beca6-178b-4a56-9534-f2689f67bf8d",
   "metadata": {},
   "outputs": [
    {
     "name": "stdout",
     "output_type": "stream",
     "text": [
      "52\n"
     ]
    }
   ],
   "source": [
    "T = [9, 8, 4, 0, 9, 2, 9, 3, 4, 4]\n",
    "R = 0\n",
    "for i in T:\n",
    "    R = R + i\n",
    "print(R)"
   ]
  },
  {
   "cell_type": "code",
   "execution_count": 2,
   "id": "50c0d04a-a16e-484d-a15d-f6837796c7a9",
   "metadata": {},
   "outputs": [
    {
     "name": "stdout",
     "output_type": "stream",
     "text": [
      "22\n"
     ]
    }
   ],
   "source": [
    "num =[2, 0, 9, 6, 5]  #analyse\n",
    "total = 0\n",
    "for item in num:\n",
    "    total = total + item\n",
    "print(total)"
   ]
  },
  {
   "cell_type": "code",
   "execution_count": 7,
   "id": "ec1d1035-4b48-4387-ae4d-f065f0e81209",
   "metadata": {},
   "outputs": [
    {
     "name": "stdout",
     "output_type": "stream",
     "text": [
      "10\n"
     ]
    }
   ],
   "source": [
    "t = [ 5, 4, 3, 2, 1]\n",
    "r = 0\n",
    "for I in range(0,len(t)):\n",
    "    r = r + I\n",
    "print(r)"
   ]
  },
  {
   "cell_type": "code",
   "execution_count": 9,
   "id": "ed2a42eb-9f92-4fb4-98cc-c3bcb745a826",
   "metadata": {},
   "outputs": [
    {
     "name": "stdout",
     "output_type": "stream",
     "text": [
      "The mean of the number is 2.0\n"
     ]
    }
   ],
   "source": [
    "t = [2,2,2,2,2]\n",
    "r = 0 \n",
    "for i in range(0,len(t)):\n",
    "    r = r + i/len(t)\n",
    "print(f'The mean of the number is {r}') "
   ]
  },
  {
   "cell_type": "code",
   "execution_count": 6,
   "id": "c74ddf9c-3c26-44ca-a711-1afd6f4d4f42",
   "metadata": {},
   "outputs": [
    {
     "name": "stdout",
     "output_type": "stream",
     "text": [
      "The final value is 21\n"
     ]
    }
   ],
   "source": [
    "x = [8, 6, 5, 2] #addition using a method i understand\n",
    "y = 0\n",
    "for z in range(0 ,len(x)):\n",
    "    y = y + x[z]\n",
    "print(f'The final value is {y}')"
   ]
  },
  {
   "cell_type": "code",
   "execution_count": 9,
   "id": "694c5471-7d6c-4474-9519-3f2ec387be27",
   "metadata": {},
   "outputs": [
    {
     "name": "stdout",
     "output_type": "stream",
     "text": [
      "5.25\n"
     ]
    }
   ],
   "source": [
    "x = [ 8, 6, 5, 2] #mean using a method i understand\n",
    "y = 0 \n",
    "for z in range(0,len(x)):\n",
    "    y = y + x[z]/len(x)\n",
    "print(y)"
   ]
  },
  {
   "cell_type": "code",
   "execution_count": 10,
   "id": "aa7023a1-1bb2-4002-8b3f-fb0a4342d877",
   "metadata": {},
   "outputs": [],
   "source": [
    "list = ['boeing', 'airbus', 'bombadier', 'cessna']\n",
    "list.append('ATR')"
   ]
  },
  {
   "cell_type": "code",
   "execution_count": 11,
   "id": "40718672-9bd0-4bfe-8257-c2a8f57e66ef",
   "metadata": {},
   "outputs": [
    {
     "data": {
      "text/plain": [
       "['boeing', 'airbus', 'bombadier', 'cessna', 'ATR']"
      ]
     },
     "execution_count": 11,
     "metadata": {},
     "output_type": "execute_result"
    }
   ],
   "source": [
    "list"
   ]
  },
  {
   "cell_type": "code",
   "execution_count": 17,
   "id": "bc2353fa-f34b-4e37-aca3-b0fec9e0155a",
   "metadata": {},
   "outputs": [
    {
     "data": {
      "text/plain": [
       "['ATR', 'boeing', 'airbus', 'bombadier', 'cessna']"
      ]
     },
     "execution_count": 17,
     "metadata": {},
     "output_type": "execute_result"
    }
   ],
   "source": [
    "list = ['boeing', 'airbus', 'bombadier', 'cessna']\n",
    "list.insert(0, 'ATR')\n",
    "list\n"
   ]
  },
  {
   "cell_type": "code",
   "execution_count": 20,
   "id": "6b59ed4a-ce6e-4557-9d90-68de118bc445",
   "metadata": {},
   "outputs": [
    {
     "data": {
      "text/plain": [
       "['boeing', 'bombadier', 'cessna']"
      ]
     },
     "execution_count": 20,
     "metadata": {},
     "output_type": "execute_result"
    }
   ],
   "source": [
    "list.remove('airbus')\n",
    "list"
   ]
  },
  {
   "cell_type": "code",
   "execution_count": 22,
   "id": "a7142e1b-7c71-4237-8f73-f199f64bcf57",
   "metadata": {},
   "outputs": [
    {
     "data": {
      "text/plain": [
       "['boeing',\n",
       " 'airbus',\n",
       " 'bombadier',\n",
       " 'cessna',\n",
       " 'dehavilland',\n",
       " 'siroksy',\n",
       " 'mikoyan',\n",
       " 'antonov']"
      ]
     },
     "execution_count": 22,
     "metadata": {},
     "output_type": "execute_result"
    }
   ],
   "source": [
    "list = ['boeing', 'airbus', 'bombadier', 'cessna']\n",
    "list2 = ['dehavilland','siroksy','mikoyan','antonov']\n",
    "list.extend(list2)\n",
    "list\n"
   ]
  },
  {
   "cell_type": "code",
   "execution_count": 23,
   "id": "b9867b90-bddb-42a7-9fe6-4a0890ab8678",
   "metadata": {},
   "outputs": [
    {
     "data": {
      "text/plain": [
       "['airbus', 'boeing', 'bombadier', 'cessna']"
      ]
     },
     "execution_count": 23,
     "metadata": {},
     "output_type": "execute_result"
    }
   ],
   "source": [
    "list = ['boeing', 'airbus', 'bombadier', 'cessna']\n",
    "list.sort()\n",
    "list"
   ]
  },
  {
   "cell_type": "code",
   "execution_count": 24,
   "id": "885ebe05-443e-42ed-a1b0-fe126d038a1f",
   "metadata": {},
   "outputs": [
    {
     "data": {
      "text/plain": [
       "[2, 4, 5, 6]"
      ]
     },
     "execution_count": 24,
     "metadata": {},
     "output_type": "execute_result"
    }
   ],
   "source": [
    "num = [ 2,5,6,4]\n",
    "num.sort()\n",
    "num"
   ]
  },
  {
   "cell_type": "code",
   "execution_count": 27,
   "id": "4a68ba5f-2826-4813-b660-cd9a926d77ed",
   "metadata": {},
   "outputs": [
    {
     "data": {
      "text/plain": [
       "[6, 5, 4, 2]"
      ]
     },
     "execution_count": 27,
     "metadata": {},
     "output_type": "execute_result"
    }
   ],
   "source": [
    "num.sort(reverse=True)\n",
    "num"
   ]
  },
  {
   "cell_type": "code",
   "execution_count": 28,
   "id": "ebabdae3-ebb0-4539-8548-80e2050bd9c1",
   "metadata": {},
   "outputs": [
    {
     "data": {
      "text/plain": [
       "['airbus', 'boeing', 'bombadier', 'cessna', 'ATR', 'boeing']"
      ]
     },
     "execution_count": 28,
     "metadata": {},
     "output_type": "execute_result"
    }
   ],
   "source": [
    "list.append('ATR')\n",
    "list.append('boeing')\n",
    "list"
   ]
  },
  {
   "cell_type": "code",
   "execution_count": 29,
   "id": "fd5a4093-4814-47b4-9bd1-83f7eb76a4b8",
   "metadata": {},
   "outputs": [
    {
     "name": "stdout",
     "output_type": "stream",
     "text": [
      "[512, 729, 216, 27, 8, 1]\n"
     ]
    }
   ],
   "source": [
    "x = [8,9,6,3,2,1]\n",
    "cube = []\n",
    "for num in x :\n",
    "    cube.append(num**3)\n",
    "print(cube)"
   ]
  },
  {
   "cell_type": "code",
   "execution_count": 30,
   "id": "0a14fb58-8291-4c0d-a0cf-07377a1041f4",
   "metadata": {},
   "outputs": [
    {
     "data": {
      "text/plain": [
       "[8, 9, 6, 3, 2]"
      ]
     },
     "execution_count": 30,
     "metadata": {},
     "output_type": "execute_result"
    }
   ],
   "source": [
    "x.pop()\n",
    "x"
   ]
  },
  {
   "cell_type": "markdown",
   "id": "d6f2c181-08ae-45d9-bdd3-fafad874a31c",
   "metadata": {},
   "source": [
    "# check string value and learning to concatenate"
   ]
  },
  {
   "cell_type": "code",
   "execution_count": 2,
   "id": "ff9e8846-5efd-47e2-af2c-0e722c06ba16",
   "metadata": {},
   "outputs": [
    {
     "name": "stdout",
     "output_type": "stream",
     "text": [
      "true\n"
     ]
    }
   ],
   "source": [
    "string1 = 'nepalindiachina'\n",
    "string1 = string1.upper()\n",
    "string2 = 'INDIACHINANEPAL'\n",
    "check = string1 + string1 #concatenate with itself\n",
    "if string2 in check:\n",
    "    print('true')\n",
    "else:\n",
    "    print('false') #finally understood"
   ]
  },
  {
   "cell_type": "markdown",
   "id": "f9c03c51-8817-4ea2-a40a-e823a01ae9bd",
   "metadata": {},
   "source": [
    "# list comprehension\n"
   ]
  },
  {
   "cell_type": "code",
   "execution_count": 4,
   "id": "e8ed9059-e0ca-45de-a04e-25c8c10a1cfb",
   "metadata": {},
   "outputs": [
    {
     "name": "stdout",
     "output_type": "stream",
     "text": [
      "[9, 16, 25, 36, 49]\n"
     ]
    }
   ],
   "source": [
    "num = [3,4,5,6,7]\n",
    "sq = []\n",
    "for item in num:\n",
    "    sq.append(item**2)\n",
    "print(sq)"
   ]
  },
  {
   "cell_type": "code",
   "execution_count": 6,
   "id": "87bb4ac8-b157-4d5f-96da-4d6a5e513966",
   "metadata": {},
   "outputs": [
    {
     "data": {
      "text/plain": [
       "[9, 16, 25, 36, 49]"
      ]
     },
     "execution_count": 6,
     "metadata": {},
     "output_type": "execute_result"
    }
   ],
   "source": [
    "[item**2 for item in num] # list comprehension for variable"
   ]
  },
  {
   "cell_type": "code",
   "execution_count": 9,
   "id": "a6f0f1e7-90d0-410b-8eef-a3bab694233d",
   "metadata": {},
   "outputs": [
    {
     "data": {
      "text/plain": [
       "[3, 6]"
      ]
     },
     "execution_count": 9,
     "metadata": {},
     "output_type": "execute_result"
    }
   ],
   "source": [
    "num = [3,4,5,6,7]\n",
    "[item for item in num if item % 3 == 0] # list comprehension what if statement"
   ]
  },
  {
   "cell_type": "code",
   "execution_count": 11,
   "id": "ce8d759d-e4ae-442a-9b2e-4f4e83dfb1a3",
   "metadata": {},
   "outputs": [
    {
     "data": {
      "text/plain": [
       "[True]"
      ]
     },
     "execution_count": 11,
     "metadata": {},
     "output_type": "execute_result"
    }
   ],
   "source": [
    "num = [3,4,5,6,7]\n",
    "[item if item % 2 == 0 else item in num] # lsit comprehension what if else statement"
   ]
  },
  {
   "cell_type": "markdown",
   "id": "7fb4f8a6-a08e-45ec-b9f9-5f466b23dd55",
   "metadata": {},
   "source": [
    "# Tuples"
   ]
  },
  {
   "cell_type": "code",
   "execution_count": 1,
   "id": "96567efb-a6de-4afc-b813-c76b3823cbc7",
   "metadata": {},
   "outputs": [
    {
     "data": {
      "text/plain": [
       "tuple"
      ]
     },
     "execution_count": 1,
     "metadata": {},
     "output_type": "execute_result"
    }
   ],
   "source": [
    "T = ('BYD','Tesla','Neta','Hyundai','FOTON') # list of strings with round brackets\n",
    "type(T)"
   ]
  },
  {
   "cell_type": "code",
   "execution_count": 2,
   "id": "ae47d02a-7445-4e2b-9764-69c064abad4a",
   "metadata": {},
   "outputs": [
    {
     "data": {
      "text/plain": [
       "'Neta'"
      ]
     },
     "execution_count": 2,
     "metadata": {},
     "output_type": "execute_result"
    }
   ],
   "source": [
    "T[2]"
   ]
  },
  {
   "cell_type": "code",
   "execution_count": 3,
   "id": "1ddd0fdf-bd35-48ea-8259-7fe1cb0d17f2",
   "metadata": {},
   "outputs": [
    {
     "ename": "TypeError",
     "evalue": "'tuple' object does not support item assignment",
     "output_type": "error",
     "traceback": [
      "\u001b[1;31m---------------------------------------------------------------------------\u001b[0m",
      "\u001b[1;31mTypeError\u001b[0m                                 Traceback (most recent call last)",
      "Cell \u001b[1;32mIn[3], line 1\u001b[0m\n\u001b[1;32m----> 1\u001b[0m \u001b[43mT\u001b[49m\u001b[43m[\u001b[49m\u001b[38;5;241;43m2\u001b[39;49m\u001b[43m]\u001b[49m\u001b[38;5;241m=\u001b[39m\u001b[38;5;124m'\u001b[39m\u001b[38;5;124mmaserati\u001b[39m\u001b[38;5;124m'\u001b[39m\n",
      "\u001b[1;31mTypeError\u001b[0m: 'tuple' object does not support item assignment"
     ]
    }
   ],
   "source": [
    "T[2]='maserati' # dosen't replace the data because values in tuples are immutable"
   ]
  },
  {
   "cell_type": "code",
   "execution_count": 4,
   "id": "0a8aceb5-2d41-42a3-8601-2f6c42eea3ba",
   "metadata": {},
   "outputs": [],
   "source": [
    "d = ['kathmandu','pokhara','bhairawa','nepalgunj'] #example of mutable datatype list"
   ]
  },
  {
   "cell_type": "code",
   "execution_count": 5,
   "id": "cc702c5c-9e5e-49fc-957d-f1c5062e4138",
   "metadata": {},
   "outputs": [],
   "source": [
    "d[1]='dolpa' # replaces the data in list because it is mutable data type"
   ]
  },
  {
   "cell_type": "code",
   "execution_count": 6,
   "id": "2b7ea1eb-e0b3-4648-b036-11475d8e2f2a",
   "metadata": {},
   "outputs": [
    {
     "data": {
      "text/plain": [
       "['kathmandu', 'dolpa', 'bhairawa', 'nepalgunj']"
      ]
     },
     "execution_count": 6,
     "metadata": {},
     "output_type": "execute_result"
    }
   ],
   "source": [
    "d"
   ]
  },
  {
   "cell_type": "code",
   "execution_count": 7,
   "id": "07c8f17d-6084-45ef-9e8b-a12d9a652bc9",
   "metadata": {},
   "outputs": [],
   "source": [
    "#typecasting chai garna milcha "
   ]
  },
  {
   "cell_type": "code",
   "execution_count": 9,
   "id": "8cda3059-2358-4448-a48c-0c07efe9a5a0",
   "metadata": {},
   "outputs": [
    {
     "name": "stdout",
     "output_type": "stream",
     "text": [
      "1916901909392 ('BYD', 'Tesla', 'Neta', 'Hyundai', 'FOTON') <class 'tuple'>\n"
     ]
    }
   ],
   "source": [
    "T = ('BYD','Tesla','Neta','Hyundai','FOTON')\n",
    "print(id(T),T,type(T)) # checking memory location,value and datatype"
   ]
  },
  {
   "cell_type": "code",
   "execution_count": 10,
   "id": "9259ca4f-622b-42f1-8963-5792e51a7946",
   "metadata": {},
   "outputs": [],
   "source": [
    "# now typecasting\n"
   ]
  },
  {
   "cell_type": "code",
   "execution_count": 11,
   "id": "2b85db5c-5246-41bc-8c1e-bca2a6f15b4d",
   "metadata": {},
   "outputs": [
    {
     "data": {
      "text/plain": [
       "['BYD', 'Morris Garage', 'Tesla', 'Neta', 'Hyundai', 'FOTON']"
      ]
     },
     "execution_count": 11,
     "metadata": {},
     "output_type": "execute_result"
    }
   ],
   "source": [
    "T = list(T)\n",
    "T.insert(1,'Morris Garage')\n",
    "T "
   ]
  },
  {
   "cell_type": "code",
   "execution_count": 17,
   "id": "d12e36ea-f6a1-454a-a397-400242f4aaa4",
   "metadata": {},
   "outputs": [
    {
     "data": {
      "text/plain": [
       "('BYD', 'Morris Garage', 'Tesla', 'Neta', 'Hyundai', 'FOTON')"
      ]
     },
     "execution_count": 17,
     "metadata": {},
     "output_type": "execute_result"
    }
   ],
   "source": [
    "T = tuple(T)\n",
    "T\n"
   ]
  },
  {
   "cell_type": "code",
   "execution_count": 18,
   "id": "2cee0586-4fe4-4bf5-a0aa-44b1cef87179",
   "metadata": {},
   "outputs": [
    {
     "data": {
      "text/plain": [
       "tuple"
      ]
     },
     "execution_count": 18,
     "metadata": {},
     "output_type": "execute_result"
    }
   ],
   "source": [
    "type(T)"
   ]
  },
  {
   "cell_type": "code",
   "execution_count": 20,
   "id": "38133c2b-8f11-4af6-a3a1-3b7037dbb046",
   "metadata": {},
   "outputs": [],
   "source": [
    "# so bascially if you want to make changes to tuple datatype then first you have to convert it to list\n",
    "# stored in different memory location id(variable)"
   ]
  },
  {
   "cell_type": "code",
   "execution_count": 27,
   "id": "f496645f-7248-40fc-a48b-58757a8f5278",
   "metadata": {},
   "outputs": [
    {
     "data": {
      "text/plain": [
       "['chicken chilli', 'kimbap', 'pani puri', 'chicken c.momo']"
      ]
     },
     "execution_count": 27,
     "metadata": {},
     "output_type": "execute_result"
    }
   ],
   "source": [
    "A_food = ('chicken chilli','kimbap','pani puri','chicken c.momo')\n",
    "A_food = list(A_food)\n",
    "A_food"
   ]
  },
  {
   "cell_type": "code",
   "execution_count": 28,
   "id": "5deca25d-bef2-41c9-b0da-a78b44f82235",
   "metadata": {},
   "outputs": [],
   "source": [
    "A_food.append('peri-peri fired chicken')"
   ]
  },
  {
   "cell_type": "code",
   "execution_count": 29,
   "id": "f80548e8-06c0-4960-900a-cf3a93483b65",
   "metadata": {},
   "outputs": [
    {
     "data": {
      "text/plain": [
       "('chicken chilli',\n",
       " 'kimbap',\n",
       " 'pani puri',\n",
       " 'chicken c.momo',\n",
       " 'peri-peri fired chicken')"
      ]
     },
     "execution_count": 29,
     "metadata": {},
     "output_type": "execute_result"
    }
   ],
   "source": [
    "A_food= tuple(A_food)\n",
    "A_food"
   ]
  },
  {
   "cell_type": "code",
   "execution_count": 30,
   "id": "411ea40d-396e-4eef-b9ce-a4b3b4fb4c1e",
   "metadata": {},
   "outputs": [],
   "source": [
    "# indexing and slicing ma feri no chnge is needed"
   ]
  },
  {
   "cell_type": "code",
   "execution_count": 31,
   "id": "a62b8be1-1131-407b-8c8f-e6d3eb4b620a",
   "metadata": {},
   "outputs": [],
   "source": [
    "# tuples unpacking"
   ]
  },
  {
   "cell_type": "code",
   "execution_count": 32,
   "id": "f3883ff7-5866-419e-a867-6bd919a81b07",
   "metadata": {},
   "outputs": [],
   "source": [
    "a,b=(9,8)"
   ]
  },
  {
   "cell_type": "code",
   "execution_count": 33,
   "id": "13a353d1-e21b-47c6-8964-b5ece2c270e5",
   "metadata": {},
   "outputs": [
    {
     "data": {
      "text/plain": [
       "9"
      ]
     },
     "execution_count": 33,
     "metadata": {},
     "output_type": "execute_result"
    }
   ],
   "source": [
    "a "
   ]
  },
  {
   "cell_type": "code",
   "execution_count": 34,
   "id": "3a730c3b-8f4a-40f3-acb5-6d6de275de09",
   "metadata": {},
   "outputs": [
    {
     "data": {
      "text/plain": [
       "8"
      ]
     },
     "execution_count": 34,
     "metadata": {},
     "output_type": "execute_result"
    }
   ],
   "source": [
    "b"
   ]
  },
  {
   "cell_type": "markdown",
   "id": "56565cb4-149c-4788-abcf-acc5cfc4c25c",
   "metadata": {},
   "source": [
    "# Sets"
   ]
  },
  {
   "cell_type": "code",
   "execution_count": 59,
   "id": "1e3fffec-4649-4075-9e13-72c901487982",
   "metadata": {},
   "outputs": [],
   "source": [
    "set = {'melbourne','sydney','perth','darwin','adelaide','canberra'}\n",
    "set.add('gold coast')"
   ]
  },
  {
   "cell_type": "code",
   "execution_count": 53,
   "id": "a2eddbbb-086e-43a4-985c-0fda3425caf5",
   "metadata": {},
   "outputs": [
    {
     "data": {
      "text/plain": [
       "{'adelaide',\n",
       " 'canberra',\n",
       " 'darwin',\n",
       " 'gold coast',\n",
       " 'melbourne',\n",
       " 'perth',\n",
       " 'sydney'}"
      ]
     },
     "execution_count": 53,
     "metadata": {},
     "output_type": "execute_result"
    }
   ],
   "source": [
    "set"
   ]
  },
  {
   "cell_type": "code",
   "execution_count": 54,
   "id": "aad1b48b-6213-4f23-872e-2b657477b077",
   "metadata": {},
   "outputs": [
    {
     "data": {
      "text/plain": [
       "{'adelaide', 'canberra', 'darwin', 'melbourne', 'perth', 'sydney'}"
      ]
     },
     "execution_count": 54,
     "metadata": {},
     "output_type": "execute_result"
    }
   ],
   "source": [
    "set.remove('gold coast')\n",
    "set"
   ]
  },
  {
   "cell_type": "code",
   "execution_count": 55,
   "id": "eab0b653-0fdc-4048-9416-13ad51e1f52e",
   "metadata": {},
   "outputs": [],
   "source": [
    "set.discard('kathmandu') # if the value is not there than it will return nothing if yes then it will remove it"
   ]
  },
  {
   "cell_type": "code",
   "execution_count": 56,
   "id": "fabdcb23-b254-4242-b248-19cb50789a52",
   "metadata": {},
   "outputs": [
    {
     "data": {
      "text/plain": [
       "{'adelaide', 'canberra', 'darwin', 'melbourne', 'perth', 'sydney'}"
      ]
     },
     "execution_count": 56,
     "metadata": {},
     "output_type": "execute_result"
    }
   ],
   "source": [
    "set"
   ]
  },
  {
   "cell_type": "code",
   "execution_count": 75,
   "id": "8467b833-31a3-4ec9-a218-bff9123bbbc4",
   "metadata": {},
   "outputs": [],
   "source": [
    "set1 = {'brazil','india','russia','china','southafrica'} #operations\n",
    "set2 ={'india','australia','US','canada'} "
   ]
  },
  {
   "cell_type": "code",
   "execution_count": 76,
   "id": "3b4f826f-8d2e-4361-ae93-20643007d857",
   "metadata": {},
   "outputs": [
    {
     "data": {
      "text/plain": [
       "{'india'}"
      ]
     },
     "execution_count": 76,
     "metadata": {},
     "output_type": "execute_result"
    }
   ],
   "source": [
    "set1.intersection(set2) #set1 ^ set2"
   ]
  },
  {
   "cell_type": "code",
   "execution_count": 77,
   "id": "1927802c-f42b-476e-8d5b-a7b55006d55a",
   "metadata": {},
   "outputs": [
    {
     "data": {
      "text/plain": [
       "{'india'}"
      ]
     },
     "execution_count": 77,
     "metadata": {},
     "output_type": "execute_result"
    }
   ],
   "source": [
    "set2.intersection(set1) # ste 2 ^ set 1"
   ]
  },
  {
   "cell_type": "code",
   "execution_count": 78,
   "id": "642b5d27-71f0-4379-aabf-8b207526b923",
   "metadata": {},
   "outputs": [
    {
     "data": {
      "text/plain": [
       "{'US',\n",
       " 'australia',\n",
       " 'brazil',\n",
       " 'canada',\n",
       " 'china',\n",
       " 'india',\n",
       " 'russia',\n",
       " 'southafrica'}"
      ]
     },
     "execution_count": 78,
     "metadata": {},
     "output_type": "execute_result"
    }
   ],
   "source": [
    "set1.union(set2) # set 1 + set 2 - set1 ^ set 2"
   ]
  },
  {
   "cell_type": "code",
   "execution_count": 79,
   "id": "62b3a905-dd21-4e19-931f-2945ff359c11",
   "metadata": {},
   "outputs": [
    {
     "data": {
      "text/plain": [
       "{'US',\n",
       " 'australia',\n",
       " 'brazil',\n",
       " 'canada',\n",
       " 'china',\n",
       " 'india',\n",
       " 'russia',\n",
       " 'southafrica'}"
      ]
     },
     "execution_count": 79,
     "metadata": {},
     "output_type": "execute_result"
    }
   ],
   "source": [
    "set2.union(set1)# set 1 + set 2 - set1 ^ set 2"
   ]
  },
  {
   "cell_type": "code",
   "execution_count": 80,
   "id": "974c3021-867d-4ef5-8e33-09e93a9d4615",
   "metadata": {},
   "outputs": [
    {
     "data": {
      "text/plain": [
       "{'brazil', 'china', 'russia', 'southafrica'}"
      ]
     },
     "execution_count": 80,
     "metadata": {},
     "output_type": "execute_result"
    }
   ],
   "source": [
    "set1.difference(set2) # A - B"
   ]
  },
  {
   "cell_type": "code",
   "execution_count": 81,
   "id": "fa02ef65-718f-46b2-b265-a27b4bf003d6",
   "metadata": {},
   "outputs": [
    {
     "data": {
      "text/plain": [
       "{'US', 'australia', 'canada'}"
      ]
     },
     "execution_count": 81,
     "metadata": {},
     "output_type": "execute_result"
    }
   ],
   "source": [
    "set2.difference(set1) # B - A"
   ]
  },
  {
   "cell_type": "code",
   "execution_count": 82,
   "id": "2aaa167e-05b2-494d-9bdc-802d4ec6ddf2",
   "metadata": {},
   "outputs": [
    {
     "name": "stdout",
     "output_type": "stream",
     "text": [
      "USA\n",
      "Pakistan\n",
      "northkorea\n",
      "Russia\n",
      "israel\n"
     ]
    }
   ],
   "source": [
    "# looping statement\n",
    "set = {'northkorea','israel','USA','Pakistan','Russia'}\n",
    "for nuclearpowers in set:\n",
    "    print(nuclearpowers)"
   ]
  },
  {
   "cell_type": "markdown",
   "id": "4c5d8ef2-f736-45c6-b574-54db5b2a362e",
   "metadata": {},
   "source": [
    "# frozen set .important\n"
   ]
  },
  {
   "cell_type": "code",
   "execution_count": 83,
   "id": "df2eec90-66e6-4ddf-9862-4bc562ee2d99",
   "metadata": {},
   "outputs": [],
   "source": [
    "planetsinsolarsystem = {'mercury','venus','mars','earth','saturn','jupiter','neptune','uranus'}\n",
    "only=frozenset(planetsinsolarsystem)"
   ]
  },
  {
   "cell_type": "code",
   "execution_count": 84,
   "id": "f9fcd7bb-1330-4ef7-90f0-eee7a744c431",
   "metadata": {},
   "outputs": [
    {
     "data": {
      "text/plain": [
       "frozenset({'earth',\n",
       "           'jupiter',\n",
       "           'mars',\n",
       "           'mercury',\n",
       "           'neptune',\n",
       "           'saturn',\n",
       "           'uranus',\n",
       "           'venus'})"
      ]
     },
     "execution_count": 84,
     "metadata": {},
     "output_type": "execute_result"
    }
   ],
   "source": [
    "only"
   ]
  },
  {
   "cell_type": "code",
   "execution_count": 86,
   "id": "bd4536e2-fc2b-48e0-af08-7794a8637939",
   "metadata": {},
   "outputs": [
    {
     "ename": "AttributeError",
     "evalue": "'frozenset' object has no attribute 'add'",
     "output_type": "error",
     "traceback": [
      "\u001b[1;31m---------------------------------------------------------------------------\u001b[0m",
      "\u001b[1;31mAttributeError\u001b[0m                            Traceback (most recent call last)",
      "Cell \u001b[1;32mIn[86], line 1\u001b[0m\n\u001b[1;32m----> 1\u001b[0m \u001b[43monly\u001b[49m\u001b[38;5;241;43m.\u001b[39;49m\u001b[43madd\u001b[49m(\u001b[38;5;124m'\u001b[39m\u001b[38;5;124mpluto\u001b[39m\u001b[38;5;124m'\u001b[39m) \u001b[38;5;66;03m# frozen set banaisakyo tei vayera error ako\u001b[39;00m\n",
      "\u001b[1;31mAttributeError\u001b[0m: 'frozenset' object has no attribute 'add'"
     ]
    }
   ],
   "source": [
    "only.add('pluto') # frozen set banaisakyo tei vayera error ako"
   ]
  },
  {
   "cell_type": "markdown",
   "id": "3fcf9596-2ac2-4198-a004-2924ae91730d",
   "metadata": {},
   "source": [
    "# Dictionaires"
   ]
  },
  {
   "cell_type": "code",
   "execution_count": 88,
   "id": "2cecd452-98d3-448d-88ac-092a93ca28de",
   "metadata": {},
   "outputs": [],
   "source": [
    "Bike = {\n",
    "    'brand':'KTM',\n",
    "    'model':'rc200',\n",
    "    'year':'2016',\n",
    "    'type':'sports'\n",
    "} # eg of dictioanry where the lef is the key and the right is the value making a both a pai"
   ]
  },
  {
   "cell_type": "code",
   "execution_count": 89,
   "id": "f11efd85-f76d-4cc1-9e48-cc955bd9be0b",
   "metadata": {},
   "outputs": [
    {
     "data": {
      "text/plain": [
       "{'brand': 'KTM', 'model': 'rc200', 'year': '2016', 'type': 'sports'}"
      ]
     },
     "execution_count": 89,
     "metadata": {},
     "output_type": "execute_result"
    }
   ],
   "source": [
    "Bike"
   ]
  },
  {
   "cell_type": "code",
   "execution_count": 26,
   "id": "af4c1ce2-5852-4d61-8333-3cf8210f226d",
   "metadata": {},
   "outputs": [],
   "source": [
    "Bike = {\n",
    "    'brand':'KTM',\n",
    "    'model':'rc200',\n",
    "    'year':'2016',\n",
    "    'type':'sports',\n",
    "    'othermodels': ['superduke','duke','exc','husqvarna'] # if you wan to add additional values to single key\n",
    "}"
   ]
  },
  {
   "cell_type": "code",
   "execution_count": 27,
   "id": "caaf07fe-aa0e-4e91-a43a-071f7da043e1",
   "metadata": {},
   "outputs": [
    {
     "data": {
      "text/plain": [
       "{'brand': 'KTM',\n",
       " 'model': 'rc200',\n",
       " 'year': '2016',\n",
       " 'type': 'sports',\n",
       " 'othermodels': ['superduke', 'duke', 'exc', 'husqvarna']}"
      ]
     },
     "execution_count": 27,
     "metadata": {},
     "output_type": "execute_result"
    }
   ],
   "source": [
    "Bike"
   ]
  },
  {
   "cell_type": "code",
   "execution_count": 28,
   "id": "9c2612d1-146d-4789-ace4-821789b9e76a",
   "metadata": {},
   "outputs": [
    {
     "data": {
      "text/plain": [
       "'KTM'"
      ]
     },
     "execution_count": 28,
     "metadata": {},
     "output_type": "execute_result"
    }
   ],
   "source": [
    "Bike['brand'] # getting the value"
   ]
  },
  {
   "cell_type": "code",
   "execution_count": 29,
   "id": "eed93471-c4df-4a7b-9ebc-d4246c96c4bb",
   "metadata": {},
   "outputs": [
    {
     "data": {
      "text/plain": [
       "'2016'"
      ]
     },
     "execution_count": 29,
     "metadata": {},
     "output_type": "execute_result"
    }
   ],
   "source": [
    "Bike.get('year') # using round brackets get function is used"
   ]
  },
  {
   "cell_type": "code",
   "execution_count": 30,
   "id": "72e394dd-6639-4725-8f8d-3eb42db35bd7",
   "metadata": {},
   "outputs": [],
   "source": [
    "Bike['horsepower']= ['25bhp'] # esari garyo vane values square brackets ma auncgha"
   ]
  },
  {
   "cell_type": "code",
   "execution_count": 31,
   "id": "fa341d0a-028b-45aa-be32-d343f322e10f",
   "metadata": {},
   "outputs": [
    {
     "data": {
      "text/plain": [
       "{'brand': 'KTM',\n",
       " 'model': 'rc200',\n",
       " 'year': '2016',\n",
       " 'type': 'sports',\n",
       " 'othermodels': ['superduke', 'duke', 'exc', 'husqvarna'],\n",
       " 'horsepower': ['25bhp']}"
      ]
     },
     "execution_count": 31,
     "metadata": {},
     "output_type": "execute_result"
    }
   ],
   "source": [
    "Bike"
   ]
  },
  {
   "cell_type": "code",
   "execution_count": 32,
   "id": "ee8d2385-a7dd-42f1-8641-f82c04f7d2ea",
   "metadata": {},
   "outputs": [],
   "source": [
    "Bike.update({'tagline':'ready to race'}) # if round and curly braces are used then the values are updated without square brackets"
   ]
  },
  {
   "cell_type": "code",
   "execution_count": 33,
   "id": "20e928f5-ec6b-41f5-89d3-017fc7419038",
   "metadata": {},
   "outputs": [
    {
     "data": {
      "text/plain": [
       "{'brand': 'KTM',\n",
       " 'model': 'rc200',\n",
       " 'year': '2016',\n",
       " 'type': 'sports',\n",
       " 'othermodels': ['superduke', 'duke', 'exc', 'husqvarna'],\n",
       " 'horsepower': ['25bhp'],\n",
       " 'tagline': 'ready to race'}"
      ]
     },
     "execution_count": 33,
     "metadata": {},
     "output_type": "execute_result"
    }
   ],
   "source": [
    "Bike"
   ]
  },
  {
   "cell_type": "code",
   "execution_count": 34,
   "id": "2991d50b-1dbb-4c4d-84a5-923b6f3c281d",
   "metadata": {},
   "outputs": [
    {
     "data": {
      "text/plain": [
       "dict_keys(['brand', 'model', 'year', 'type', 'othermodels', 'horsepower', 'tagline'])"
      ]
     },
     "execution_count": 34,
     "metadata": {},
     "output_type": "execute_result"
    }
   ],
   "source": [
    "Bike.keys()"
   ]
  },
  {
   "cell_type": "code",
   "execution_count": 35,
   "id": "3818cde5-5fb6-4338-8800-569c90d90535",
   "metadata": {},
   "outputs": [
    {
     "data": {
      "text/plain": [
       "dict_values(['KTM', 'rc200', '2016', 'sports', ['superduke', 'duke', 'exc', 'husqvarna'], ['25bhp'], 'ready to race'])"
      ]
     },
     "execution_count": 35,
     "metadata": {},
     "output_type": "execute_result"
    }
   ],
   "source": [
    "Bike.values()"
   ]
  },
  {
   "cell_type": "code",
   "execution_count": 36,
   "id": "79af5785-0832-4404-9c23-c4e8fed94126",
   "metadata": {},
   "outputs": [
    {
     "data": {
      "text/plain": [
       "dict_items([('brand', 'KTM'), ('model', 'rc200'), ('year', '2016'), ('type', 'sports'), ('othermodels', ['superduke', 'duke', 'exc', 'husqvarna']), ('horsepower', ['25bhp']), ('tagline', 'ready to race')])"
      ]
     },
     "execution_count": 36,
     "metadata": {},
     "output_type": "execute_result"
    }
   ],
   "source": [
    "Bike.items()"
   ]
  },
  {
   "cell_type": "code",
   "execution_count": 37,
   "id": "a22fb6ec-c307-481d-864f-0c81b8f9a8c5",
   "metadata": {},
   "outputs": [],
   "source": [
    "x = ('model','rc200')\n",
    "a , b = x\n"
   ]
  },
  {
   "cell_type": "code",
   "execution_count": 38,
   "id": "b104670e-e8b1-4982-a862-345e9739282a",
   "metadata": {},
   "outputs": [
    {
     "data": {
      "text/plain": [
       "'model'"
      ]
     },
     "execution_count": 38,
     "metadata": {},
     "output_type": "execute_result"
    }
   ],
   "source": [
    "a\n"
   ]
  },
  {
   "cell_type": "code",
   "execution_count": 39,
   "id": "f660b1cd-6bec-4cec-808b-6730a6370cae",
   "metadata": {},
   "outputs": [
    {
     "data": {
      "text/plain": [
       "'rc200'"
      ]
     },
     "execution_count": 39,
     "metadata": {},
     "output_type": "execute_result"
    }
   ],
   "source": [
    "b"
   ]
  },
  {
   "cell_type": "code",
   "execution_count": 40,
   "id": "5af4be34-abef-4b6f-a43e-94704bec3add",
   "metadata": {},
   "outputs": [],
   "source": [
    "x = ('model','rc200')\n",
    "x = a , b"
   ]
  },
  {
   "cell_type": "code",
   "execution_count": 41,
   "id": "ed21717a-f4ef-42ba-9c2f-11b0a3f4ab88",
   "metadata": {},
   "outputs": [
    {
     "data": {
      "text/plain": [
       "'model'"
      ]
     },
     "execution_count": 41,
     "metadata": {},
     "output_type": "execute_result"
    }
   ],
   "source": [
    "a"
   ]
  },
  {
   "cell_type": "code",
   "execution_count": 42,
   "id": "4e4e3edb-0e14-4c4a-8dfd-f6a98da3fed5",
   "metadata": {},
   "outputs": [
    {
     "data": {
      "text/plain": [
       "'rc200'"
      ]
     },
     "execution_count": 42,
     "metadata": {},
     "output_type": "execute_result"
    }
   ],
   "source": [
    "b\n"
   ]
  },
  {
   "cell_type": "code",
   "execution_count": 43,
   "id": "5069e083-9af5-454b-87dd-a355ff14110b",
   "metadata": {},
   "outputs": [
    {
     "name": "stdout",
     "output_type": "stream",
     "text": [
      "The key is brand and value is KTM\n",
      "The key is model and value is rc200\n",
      "The key is year and value is 2016\n",
      "The key is type and value is sports\n",
      "The key is othermodels and value is ['superduke', 'duke', 'exc', 'husqvarna']\n",
      "The key is horsepower and value is ['25bhp']\n",
      "The key is tagline and value is ready to race\n"
     ]
    }
   ],
   "source": [
    "for a,b in Bike.items() :\n",
    "    print(f'The key is {a} and value is { b}')"
   ]
  },
  {
   "cell_type": "code",
   "execution_count": 44,
   "id": "be77a9a7-7e53-4354-acea-dea4db9c4ab7",
   "metadata": {},
   "outputs": [
    {
     "data": {
      "text/plain": [
       "['superduke', 'duke', 'exc', 'husqvarna']"
      ]
     },
     "execution_count": 44,
     "metadata": {},
     "output_type": "execute_result"
    }
   ],
   "source": [
    "Bike.pop('othermodels')"
   ]
  },
  {
   "cell_type": "code",
   "execution_count": 45,
   "id": "612deb87-24a4-4b87-89ab-9a8a5ba9b736",
   "metadata": {},
   "outputs": [
    {
     "data": {
      "text/plain": [
       "{'brand': 'KTM',\n",
       " 'model': 'rc200',\n",
       " 'year': '2016',\n",
       " 'type': 'sports',\n",
       " 'horsepower': ['25bhp'],\n",
       " 'tagline': 'ready to race'}"
      ]
     },
     "execution_count": 45,
     "metadata": {},
     "output_type": "execute_result"
    }
   ],
   "source": [
    "Bike"
   ]
  },
  {
   "cell_type": "code",
   "execution_count": 46,
   "id": "bf3abf46-38ba-4ff2-a688-f0d941b89f62",
   "metadata": {},
   "outputs": [],
   "source": [
    "Bike.update({'horsepower': '24bhp'}) # succesful in first try"
   ]
  },
  {
   "cell_type": "code",
   "execution_count": 47,
   "id": "f9346450-fadc-40cd-a4ec-c9cb59a43d10",
   "metadata": {},
   "outputs": [
    {
     "data": {
      "text/plain": [
       "{'brand': 'KTM',\n",
       " 'model': 'rc200',\n",
       " 'year': '2016',\n",
       " 'type': 'sports',\n",
       " 'horsepower': '24bhp',\n",
       " 'tagline': 'ready to race'}"
      ]
     },
     "execution_count": 47,
     "metadata": {},
     "output_type": "execute_result"
    }
   ],
   "source": [
    "Bike"
   ]
  },
  {
   "cell_type": "code",
   "execution_count": 51,
   "id": "45e6c2c8-64a2-456d-a945-c542e492cb0b",
   "metadata": {},
   "outputs": [],
   "source": [
    "Bike = {\n",
    "    'brand':'KTM',\n",
    "    'model':'rc200',\n",
    "    'year':'2016',\n",
    "    'type':'sports',\n",
    "    'othermodels': ['superduke','duke','exc','husqvarna']# if you wan to add additional values to single key\n",
    "}"
   ]
  },
  {
   "cell_type": "code",
   "execution_count": null,
   "id": "82e98073-df09-4e94-b30c-820ea768d960",
   "metadata": {},
   "outputs": [],
   "source": [
    "# swap the key value of any two dictionary"
   ]
  },
  {
   "cell_type": "code",
   "execution_count": 58,
   "id": "a1ddd36c-dec1-4f48-8e6f-97cbaaf980e0",
   "metadata": {},
   "outputs": [],
   "source": [
    "swap = {\n",
    "    'msg1':'hello',\n",
    "    'msg2':'Tello'\n",
    "    \n",
    "}"
   ]
  },
  {
   "cell_type": "code",
   "execution_count": 59,
   "id": "8d8cbb0b-6f1b-4b16-8ba0-8979be715b90",
   "metadata": {},
   "outputs": [
    {
     "data": {
      "text/plain": [
       "{'msg1': 'hello', 'msg2': 'Tello'}"
      ]
     },
     "execution_count": 59,
     "metadata": {},
     "output_type": "execute_result"
    }
   ],
   "source": [
    "swap\n"
   ]
  },
  {
   "cell_type": "code",
   "execution_count": 60,
   "id": "58f1cbd1-c183-40e3-b424-60a46dd56ab5",
   "metadata": {},
   "outputs": [
    {
     "data": {
      "text/plain": [
       "{'hello': 'msg1', 'Tello': 'msg2'}"
      ]
     },
     "execution_count": 60,
     "metadata": {},
     "output_type": "execute_result"
    }
   ],
   "source": [
    " {val:key for key,val in swap.items()}"
   ]
  },
  {
   "cell_type": "code",
   "execution_count": 5,
   "id": "e4f237ba-a40b-46a7-9175-69c0920042d9",
   "metadata": {},
   "outputs": [],
   "source": [
    "# nested dictionary"
   ]
  },
  {
   "cell_type": "code",
   "execution_count": 1,
   "id": "fae8fa98-f64f-4744-9aac-e1351559d93f",
   "metadata": {},
   "outputs": [],
   "source": [
    "Bike= {\n",
    "    'Ktm' : {'model':'duke200','horsepoer':25 },\n",
    "    'Bajaj' :{'model':'pulsar200','horsepower':23}\n",
    "}"
   ]
  },
  {
   "cell_type": "code",
   "execution_count": 2,
   "id": "902ff7f3-9a25-4fa2-86b2-ab01939d1888",
   "metadata": {},
   "outputs": [
    {
     "data": {
      "text/plain": [
       "{'Ktm': {'model': 'duke200', 'horsepoer': 25},\n",
       " 'Bajaj': {'model': 'pulsar200', 'horsepower': 23}}"
      ]
     },
     "execution_count": 2,
     "metadata": {},
     "output_type": "execute_result"
    }
   ],
   "source": [
    "Bike"
   ]
  },
  {
   "cell_type": "code",
   "execution_count": 4,
   "id": "dcf01e5e-91bf-40be-b6df-507d176dbd6e",
   "metadata": {},
   "outputs": [
    {
     "data": {
      "text/plain": [
       "'duke200'"
      ]
     },
     "execution_count": 4,
     "metadata": {},
     "output_type": "execute_result"
    }
   ],
   "source": [
    "Bike['Ktm']['model']"
   ]
  },
  {
   "cell_type": "code",
   "execution_count": 5,
   "id": "b5fee9cc-fe13-4675-82bc-83a4fe791e12",
   "metadata": {},
   "outputs": [],
   "source": [
    "# take 2 input from user and convert it into keys and values for dictionary"
   ]
  },
  {
   "cell_type": "code",
   "execution_count": 10,
   "id": "36d475ea-b0c5-4161-a94b-3bf4a7854f64",
   "metadata": {},
   "outputs": [
    {
     "name": "stdin",
     "output_type": "stream",
     "text": [
      "enter your favourite brand of motorcycle Ktm \n",
      "enter your favourite model of that brand 200\n",
      "enter your favourite brand of motorcycle ducati \n",
      "enter your favourite model of that brand panigale\n"
     ]
    }
   ],
   "source": [
    "Bike = []\n",
    "for i in range(2):\n",
    "    Brand = input('enter your favourite brand of motorcycle')\n",
    "    Model = input('enter your favourite model of that brand')\n",
    "    B = {\n",
    "        'Brand': Brand ,'Model': Model\n",
    "    }\n",
    "    Bike.append(B)\n",
    "    \n",
    "\n"
   ]
  },
  {
   "cell_type": "code",
   "execution_count": 11,
   "id": "7da744a7-7d32-40bb-a4ae-cbfc2b757093",
   "metadata": {},
   "outputs": [
    {
     "data": {
      "text/plain": [
       "[{'Brand': 'Ktm ', 'Model': '200'}, {'Brand': 'ducati ', 'Model': 'panigale'}]"
      ]
     },
     "execution_count": 11,
     "metadata": {},
     "output_type": "execute_result"
    }
   ],
   "source": [
    "Bike"
   ]
  },
  {
   "cell_type": "code",
   "execution_count": 16,
   "id": "78f76294-e169-4f51-baad-beb8d2b380c9",
   "metadata": {},
   "outputs": [
    {
     "name": "stdout",
     "output_type": "stream",
     "text": [
      "division by zero\n",
      "y = 0\n"
     ]
    }
   ],
   "source": [
    "x = 50\n",
    "y = 0\n",
    "try:\n",
    "    output = x / y\n",
    "except Exception as e:\n",
    "    print(e)\n",
    "    print(f'y = {y}')\n"
   ]
  },
  {
   "cell_type": "code",
   "execution_count": 19,
   "id": "2d364850-0e30-4e77-8eb7-5f593fd0deff",
   "metadata": {},
   "outputs": [
    {
     "name": "stdin",
     "output_type": "stream",
     "text": [
      "enter a number 50\n",
      "enter a number 25\n"
     ]
    },
    {
     "name": "stdout",
     "output_type": "stream",
     "text": [
      "if there is an error then the entered value might be a string or float or zero\n"
     ]
    }
   ],
   "source": [
    "try:\n",
    "    x = int(input('enter a number'))\n",
    "    y = int(input('enter a number'))\n",
    "    output= x/y\n",
    "except Exception as e: # yo lekhyo vane error tha huncha, Exception captures all kinds of exception\n",
    "    print(e)\n",
    "    print('error')\n",
    "finally:\n",
    "    print('if there is an error then the entered value might be a string or float or zero')"
   ]
  },
  {
   "cell_type": "code",
   "execution_count": 21,
   "id": "ae815432-d4f3-4dc5-91a9-710acd6a712f",
   "metadata": {},
   "outputs": [
    {
     "ename": "Exception",
     "evalue": "The computer is dumb",
     "output_type": "error",
     "traceback": [
      "\u001b[1;31m---------------------------------------------------------------------------\u001b[0m",
      "\u001b[1;31mException\u001b[0m                                 Traceback (most recent call last)",
      "Cell \u001b[1;32mIn[21], line 4\u001b[0m\n\u001b[0;32m      2\u001b[0m y \u001b[38;5;241m=\u001b[39m \u001b[38;5;241m0\u001b[39m \n\u001b[0;32m      3\u001b[0m \u001b[38;5;28;01mif\u001b[39;00m x \u001b[38;5;241m!=\u001b[39m \u001b[38;5;241m0\u001b[39m:\n\u001b[1;32m----> 4\u001b[0m     \u001b[38;5;28;01mraise\u001b[39;00m \u001b[38;5;167;01mException\u001b[39;00m(\u001b[38;5;124m'\u001b[39m\u001b[38;5;124mThe computer is dumb\u001b[39m\u001b[38;5;124m'\u001b[39m) \u001b[38;5;66;03m# prints this as the exception instead of things like value error etcetera\u001b[39;00m\n",
      "\u001b[1;31mException\u001b[0m: The computer is dumb"
     ]
    }
   ],
   "source": [
    "x = 50\n",
    "y = 0 \n",
    "if x != 0:\n",
    "    raise Exception('The computer is dumb') # prints this as the exception instead of things like value error etcetera"
   ]
  },
  {
   "cell_type": "code",
   "execution_count": 23,
   "id": "464d00e7-3e9f-4062-9a3e-3500c12ea00b",
   "metadata": {},
   "outputs": [
    {
     "name": "stdout",
     "output_type": "stream",
     "text": [
      "division by zero\n",
      "this line is always executed no matter what\n"
     ]
    }
   ],
   "source": [
    "a = 15\n",
    "b= 0 \n",
    "try:\n",
    "    output = a/b\n",
    "except Exception as e:\n",
    "    print(e)\n",
    "finally: # always prints no matter what happens to previous lines of codes\n",
    "    print('this line is always executed no matter what')"
   ]
  },
  {
   "cell_type": "markdown",
   "id": "739de958-5804-4ab6-9ccf-c5a40cae38d2",
   "metadata": {},
   "source": [
    "# file handling"
   ]
  },
  {
   "cell_type": "code",
   "execution_count": 1,
   "id": "1668bdea-d611-4829-aeaa-6d4d70c26140",
   "metadata": {},
   "outputs": [],
   "source": [
    "import os # this is very important to remember , without this all the codes after this will show error\n"
   ]
  },
  {
   "cell_type": "code",
   "execution_count": 2,
   "id": "536908f0-d4a7-419e-ae13-63a23b1b8db7",
   "metadata": {},
   "outputs": [
    {
     "data": {
      "text/plain": [
       "False"
      ]
     },
     "execution_count": 2,
     "metadata": {},
     "output_type": "execute_result"
    }
   ],
   "source": [
    "os.path.exists('ktm.txt') # checks if the file exists or not"
   ]
  },
  {
   "cell_type": "code",
   "execution_count": 3,
   "id": "9a89cfe1-fb3f-461f-9d01-1b5009719ef1",
   "metadata": {},
   "outputs": [
    {
     "data": {
      "text/plain": [
       "True"
      ]
     },
     "execution_count": 3,
     "metadata": {},
     "output_type": "execute_result"
    }
   ],
   "source": [
    "os.path.exists('ktm.txt') # now it exists"
   ]
  },
  {
   "cell_type": "code",
   "execution_count": 2,
   "id": "6148a9f8-ff89-4110-a783-e36ab431373c",
   "metadata": {},
   "outputs": [],
   "source": [
    "ktm = open('ktm.txt','r')\n",
    "file = ktm.read()\n",
    "ktm.close()"
   ]
  },
  {
   "cell_type": "code",
   "execution_count": 3,
   "id": "0478ea97-e4ec-45cd-8835-50a5677549c7",
   "metadata": {},
   "outputs": [
    {
     "name": "stdout",
     "output_type": "stream",
     "text": [
      "Ktm is an austrian company which manufactures high performance motorbikes.\n",
      "It's majority stakeholder is the BAJAJ company of india.\n",
      "It's popular types of bikes are the duke series , the RC series and range of dirtbikes.\n",
      "\n"
     ]
    }
   ],
   "source": [
    "print(file)"
   ]
  },
  {
   "cell_type": "code",
   "execution_count": 4,
   "id": "160afc2f-9d9e-4e83-9a4a-9fcd164d0c6d",
   "metadata": {},
   "outputs": [
    {
     "name": "stdout",
     "output_type": "stream",
     "text": [
      "Deakin University is ranked as one of the top 1% universities in the world.\n",
      "It is one of the top 5 universities in melbourne,victoria.\n",
      "It's burwood campus offers a course in master in business analytics.\n"
     ]
    }
   ],
   "source": [
    "file = open('deakinuniversity.txt','r')\n",
    "text = file.read()\n",
    "print(text)"
   ]
  },
  {
   "cell_type": "code",
   "execution_count": 5,
   "id": "eb407c0e-13ce-4f48-a5ef-5b06b361952a",
   "metadata": {},
   "outputs": [],
   "source": [
    "file.close()"
   ]
  },
  {
   "cell_type": "code",
   "execution_count": 9,
   "id": "fc5d3b6f-eff1-4ae0-9eb2-13cc7bc1726a",
   "metadata": {},
   "outputs": [
    {
     "name": "stdout",
     "output_type": "stream",
     "text": [
      "Deakin University is ranked as one of the top 1% universities in the world.\n",
      "\n"
     ]
    }
   ],
   "source": [
    "file = open('deakinuniversity.txt','r')\n",
    "text = file.readline() # one paragraph matrai print garcha\n",
    "print(text)"
   ]
  },
  {
   "cell_type": "code",
   "execution_count": 10,
   "id": "bf91a617-ab8d-43fb-989d-f7f1fac3b3d7",
   "metadata": {},
   "outputs": [],
   "source": [
    "# do tommorow"
   ]
  },
  {
   "cell_type": "code",
   "execution_count": 2,
   "id": "00c21525-b2f3-4a0c-8173-505a0524b444",
   "metadata": {},
   "outputs": [
    {
     "name": "stdout",
     "output_type": "stream",
     "text": [
      "Ktm is an austrian company which manufactures high performance motorbikes.\n",
      "It's majority stakeholder is the BAJAJ company of india.\n",
      "It's popular types of bikes are the duke series , the RC series and range of dirtbikes.\n",
      "\n"
     ]
    }
   ],
   "source": [
    "with open('ktm.txt','r') as file:\n",
    "    text = file.read()\n",
    "print(text)\n"
   ]
  },
  {
   "cell_type": "code",
   "execution_count": 4,
   "id": "06732461-39a8-4144-bd77-5b91780bc79e",
   "metadata": {},
   "outputs": [
    {
     "name": "stdout",
     "output_type": "stream",
     "text": [
      "Deakin University is ranked as one of the top 1% universities in the world.\n",
      "It is one of the top 5 universities in melbourne,victoria.\n",
      "It's burwood campus offers a course in master in business analytics.\n"
     ]
    }
   ],
   "source": [
    "with open('deakinuniversity.txt','r') as file:\n",
    "    Read = file.read()\n",
    "print(Read)"
   ]
  },
  {
   "cell_type": "code",
   "execution_count": 5,
   "id": "3d76d088-0349-49f0-adbe-84c4e8d6595b",
   "metadata": {},
   "outputs": [],
   "source": [
    "# wrte('w') creates a new file if the name of that file dosent exist or if the file exists than replaces the old file with new one"
   ]
  },
  {
   "cell_type": "code",
   "execution_count": 7,
   "id": "8c44866b-f2df-4f26-9601-acd35ba86b9a",
   "metadata": {},
   "outputs": [],
   "source": [
    "with open('jawaan.txt','w') as file:\n",
    "    file.write('Shahrukh khan')\n",
    "    "
   ]
  },
  {
   "cell_type": "code",
   "execution_count": 8,
   "id": "d3f946fd-280f-43c7-8c53-ddee442c9bc8",
   "metadata": {},
   "outputs": [
    {
     "name": "stdout",
     "output_type": "stream",
     "text": [
      "Shahrukh khan\n"
     ]
    }
   ],
   "source": [
    "with open('jawaan.txt','r') as file:\n",
    "    print(file.read())"
   ]
  },
  {
   "cell_type": "code",
   "execution_count": 17,
   "id": "f8dd228f-7cd2-4a28-94ce-8e03005d380f",
   "metadata": {},
   "outputs": [
    {
     "name": "stdout",
     "output_type": "stream",
     "text": [
      "the most liveable city on the planet\n"
     ]
    }
   ],
   "source": [
    "with open('melbourne.txt','w' ) as file:\n",
    "    file.write('the most liveable city on the planet')\n",
    "with open('melbourne.txt','r') as file:\n",
    "    print(file.read())"
   ]
  },
  {
   "cell_type": "code",
   "execution_count": 18,
   "id": "0909430c-b25a-4a14-b309-ff5ee4e7f159",
   "metadata": {},
   "outputs": [],
   "source": [
    "# append"
   ]
  },
  {
   "cell_type": "code",
   "execution_count": 19,
   "id": "dc0db6f5-b8ff-4def-aca9-f16fb65282cc",
   "metadata": {},
   "outputs": [
    {
     "name": "stdout",
     "output_type": "stream",
     "text": [
      "Ktm is an austrian company which manufactures high performance motorbikes.\n",
      "It's majority stakeholder is the BAJAJ company of india.\n",
      "It's popular types of bikes are the duke series , the RC series and range of dirtbikes.\n",
      "it costs a lot to maintainit costs a lot to maintain\n"
     ]
    }
   ],
   "source": [
    "with open('ktm.txt','a') as file:\n",
    "    file.write('it costs a lot to maintain') #vayo\n",
    "with open('ktm.txt','r') as file:\n",
    "    print(file.read())"
   ]
  },
  {
   "cell_type": "code",
   "execution_count": 20,
   "id": "cfc83d04-1115-4602-b256-4b9f1b484212",
   "metadata": {},
   "outputs": [],
   "source": [
    "import os\n",
    "os.remove('melbourne.txt') # removes file"
   ]
  },
  {
   "cell_type": "markdown",
   "id": "82e2ac4c-457e-49b3-9910-20f2f199a83b",
   "metadata": {},
   "source": [
    "# function"
   ]
  },
  {
   "cell_type": "code",
   "execution_count": 1,
   "id": "33fc5fa2-8ad3-41dc-8c2c-136955f10eee",
   "metadata": {},
   "outputs": [],
   "source": [
    "def addition(x,y):\n",
    "    sum = x + y\n",
    "    return sum"
   ]
  },
  {
   "cell_type": "code",
   "execution_count": 2,
   "id": "4d1343fd-1669-49fc-aa83-200ed530ff73",
   "metadata": {},
   "outputs": [
    {
     "name": "stdout",
     "output_type": "stream",
     "text": [
      "hello world\n"
     ]
    }
   ],
   "source": [
    "print('hello world')\n"
   ]
  },
  {
   "cell_type": "code",
   "execution_count": 3,
   "id": "c0f9f1a0-55b3-4ad8-8bd5-9d1cf72a11db",
   "metadata": {},
   "outputs": [
    {
     "name": "stdout",
     "output_type": "stream",
     "text": [
      "The sum of the number is 19\n"
     ]
    }
   ],
   "source": [
    "sum = addition(9,10)\n",
    "print(f'The sum of the number is {sum}')"
   ]
  },
  {
   "cell_type": "code",
   "execution_count": 4,
   "id": "36bde7ad-4b8d-4256-9e4b-2cd72480138c",
   "metadata": {},
   "outputs": [],
   "source": [
    "def substraction(q,w):\n",
    "    minus = q - w\n",
    "    return minus\n"
   ]
  },
  {
   "cell_type": "code",
   "execution_count": 5,
   "id": "801521c1-2d5e-4d62-b640-a5c215443d57",
   "metadata": {},
   "outputs": [
    {
     "name": "stdout",
     "output_type": "stream",
     "text": [
      "jai nepal\n"
     ]
    }
   ],
   "source": [
    "print('jai nepal')"
   ]
  },
  {
   "cell_type": "code",
   "execution_count": 8,
   "id": "7b1cae73-9572-41cc-98ba-9739866f32bf",
   "metadata": {},
   "outputs": [
    {
     "name": "stdout",
     "output_type": "stream",
     "text": [
      "The difference of the number is 41000\n"
     ]
    }
   ],
   "source": [
    "minus = substraction(71000 , 30000)\n",
    "print(f'The difference of the number is {minus}')"
   ]
  },
  {
   "cell_type": "code",
   "execution_count": 9,
   "id": "e99d3b6a-f8b9-4e60-9f70-2cc811064e9b",
   "metadata": {},
   "outputs": [],
   "source": [
    "def division(e,r):\n",
    "    ER = e/r\n",
    "    return ER"
   ]
  },
  {
   "cell_type": "code",
   "execution_count": 10,
   "id": "7cac639a-23ef-4a85-b8c1-d89b43f6a57c",
   "metadata": {},
   "outputs": [
    {
     "name": "stdout",
     "output_type": "stream",
     "text": [
      "deakin university\n"
     ]
    }
   ],
   "source": [
    "print('deakin university')"
   ]
  },
  {
   "cell_type": "code",
   "execution_count": 12,
   "id": "7070b03b-e8f7-4228-839b-3d7138d18ea1",
   "metadata": {},
   "outputs": [
    {
     "name": "stdout",
     "output_type": "stream",
     "text": [
      "2.25\n"
     ]
    }
   ],
   "source": [
    "ER = division(9,4)\n",
    "print(ER)"
   ]
  },
  {
   "cell_type": "code",
   "execution_count": 16,
   "id": "afc177b5-c702-44d0-8deb-ef11fd7ed0de",
   "metadata": {},
   "outputs": [],
   "source": [
    "def multiply(t,r):\n",
    "    into = t*r\n",
    "    return into"
   ]
  },
  {
   "cell_type": "code",
   "execution_count": 17,
   "id": "6d1472e7-9ec6-4bb0-b9aa-1e66d2513b9e",
   "metadata": {},
   "outputs": [
    {
     "name": "stdout",
     "output_type": "stream",
     "text": [
      "melbourne\n"
     ]
    }
   ],
   "source": [
    "print('melbourne')"
   ]
  },
  {
   "cell_type": "code",
   "execution_count": 18,
   "id": "77ccc0c2-1c77-4b61-823e-68866f254fbe",
   "metadata": {},
   "outputs": [
    {
     "name": "stdout",
     "output_type": "stream",
     "text": [
      "81\n"
     ]
    }
   ],
   "source": [
    "into = multiply(9,9)\n",
    "print(into)"
   ]
  },
  {
   "cell_type": "code",
   "execution_count": 24,
   "id": "3e63ad85-e4e4-43ca-9b3a-90df44e588ab",
   "metadata": {},
   "outputs": [],
   "source": [
    "def modulus(x): # struction is like thi def function_name(parameter/argument X)\n",
    "    if x % 2 == 0: \n",
    "        print(f'The number {x} is even ')\n",
    "    else:\n",
    "        print(f'The number {x} is odd')\n",
    "    return x # return y "
   ]
  },
  {
   "cell_type": "code",
   "execution_count": 25,
   "id": "f21ac733-9ee0-4e52-b1b8-b047b4a13d85",
   "metadata": {},
   "outputs": [
    {
     "name": "stdout",
     "output_type": "stream",
     "text": [
      "May it work\n"
     ]
    }
   ],
   "source": [
    "print('May it work')"
   ]
  },
  {
   "cell_type": "code",
   "execution_count": 28,
   "id": "ffd077f3-6766-453d-9b95-589a8a3cef13",
   "metadata": {},
   "outputs": [
    {
     "name": "stdout",
     "output_type": "stream",
     "text": [
      "The number 3 is odd\n",
      "3\n"
     ]
    }
   ],
   "source": [
    "x = modulus(3) #return = fintionname(parameter)\n",
    "print(x)"
   ]
  },
  {
   "cell_type": "code",
   "execution_count": 30,
   "id": "db3e1cf3-d924-4de9-81c6-1fb3ee7481ed",
   "metadata": {},
   "outputs": [
    {
     "name": "stdin",
     "output_type": "stream",
     "text": [
      "Enter a number to determine if its odd or even 3\n"
     ]
    },
    {
     "name": "stdout",
     "output_type": "stream",
     "text": [
      "The number 3.0 is odd\n",
      "3.0\n"
     ]
    }
   ],
   "source": [
    "x = float(input('Enter a number to determine if its odd or even'))\n",
    "x = modulus(x)\n",
    "print(x) # esari ni garna mildo raicha"
   ]
  },
  {
   "cell_type": "code",
   "execution_count": 31,
   "id": "ea1b633e-7ded-4e53-b499-b0154430623c",
   "metadata": {},
   "outputs": [],
   "source": [
    "import math"
   ]
  },
  {
   "cell_type": "code",
   "execution_count": 37,
   "id": "80683ce7-034b-4fae-b64e-fa4f1c92157e",
   "metadata": {},
   "outputs": [],
   "source": [
    "def volume(r):\n",
    "    sphere= 4/3*math.pi*r**3\n",
    "    return sphere\n",
    "    "
   ]
  },
  {
   "cell_type": "code",
   "execution_count": 39,
   "id": "a45edd12-6e99-460c-b17a-2c9280885844",
   "metadata": {},
   "outputs": [
    {
     "name": "stdin",
     "output_type": "stream",
     "text": [
      "Enter the radius of the sphere 6\n"
     ]
    },
    {
     "name": "stdout",
     "output_type": "stream",
     "text": [
      "The volume of the sphere is 904.7786842338603\n"
     ]
    }
   ],
   "source": [
    "r = float(input('Enter the radius of the sphere'))\n",
    "sphere = volume(r)\n",
    "print(f'The volume of the sphere is {sphere}') # the program is running smoothly"
   ]
  },
  {
   "cell_type": "code",
   "execution_count": 41,
   "id": "e3e1c51c-9a82-4efe-be8c-1750e460f9d7",
   "metadata": {},
   "outputs": [],
   "source": [
    "# volume of the sphere is 4/3*pi*r*83"
   ]
  },
  {
   "cell_type": "code",
   "execution_count": null,
   "id": "e160a15d-0b73-43b9-8e7e-07307d905f90",
   "metadata": {},
   "outputs": [],
   "source": [
    "# while loop is used to execute a loop until a specified condition remains true"
   ]
  },
  {
   "cell_type": "code",
   "execution_count": 1,
   "id": "e1064efb-d06d-4336-aab3-2202b4c363e4",
   "metadata": {},
   "outputs": [
    {
     "name": "stdout",
     "output_type": "stream",
     "text": [
      "Count is: 0\n",
      "Count is: 1\n",
      "Count is: 2\n",
      "Count is: 3\n",
      "Count is: 4\n"
     ]
    }
   ],
   "source": [
    "count = 0\n",
    "while count < 5:\n",
    "    print(\"Count is:\", count)\n",
    "    count += 1\n"
   ]
  },
  {
   "cell_type": "code",
   "execution_count": null,
   "id": "55a24ffb-580e-4e06-81ea-bf437838f580",
   "metadata": {},
   "outputs": [],
   "source": []
  }
 ],
 "metadata": {
  "kernelspec": {
   "display_name": "Python 3 (ipykernel)",
   "language": "python",
   "name": "python3"
  },
  "language_info": {
   "codemirror_mode": {
    "name": "ipython",
    "version": 3
   },
   "file_extension": ".py",
   "mimetype": "text/x-python",
   "name": "python",
   "nbconvert_exporter": "python",
   "pygments_lexer": "ipython3",
   "version": "3.11.5"
  }
 },
 "nbformat": 4,
 "nbformat_minor": 5
}
