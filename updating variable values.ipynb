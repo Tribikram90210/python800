{
 "cells": [
  {
   "cell_type": "code",
   "execution_count": 2,
   "id": "f783bfe6-0b26-4ea6-9a58-967e709ef518",
   "metadata": {},
   "outputs": [
    {
     "name": "stdout",
     "output_type": "stream",
     "text": [
      "aile bata ma k chha?Horlicks\n",
      "aba batta ma k cha?Gheu\n"
     ]
    }
   ],
   "source": [
    "batta = 'Horlicks'\n",
    "print (f'aile bata ma k chha?{batta}')\n",
    "batta = 'Gheu'\n",
    "print (f'aba batta ma k cha?{batta}')      "
   ]
  },
  {
   "cell_type": "code",
   "execution_count": 3,
   "id": "5dd47ccc-90b6-4049-9513-1411d2c1d8df",
   "metadata": {},
   "outputs": [
    {
     "name": "stdout",
     "output_type": "stream",
     "text": [
      "60\n"
     ]
    }
   ],
   "source": [
    "a = 20\n",
    "a = 60\n",
    "print(a)\n"
   ]
  },
  {
   "cell_type": "code",
   "execution_count": 4,
   "id": "b83ddf66-9114-4c21-928c-308f6a5920aa",
   "metadata": {},
   "outputs": [],
   "source": [
    "#another method for auto updating"
   ]
  },
  {
   "cell_type": "code",
   "execution_count": 5,
   "id": "736c99f5-6713-4d4f-8b9d-dd512274366f",
   "metadata": {},
   "outputs": [
    {
     "name": "stdout",
     "output_type": "stream",
     "text": [
      "60.5\n"
     ]
    }
   ],
   "source": [
    "weight = 60\n",
    "weight = weight + 0.5\n",
    "print(weight)"
   ]
  },
  {
   "cell_type": "code",
   "execution_count": null,
   "id": "62368a80-a5e5-4f54-9f09-02c4415a2198",
   "metadata": {},
   "outputs": [],
   "source": []
  }
 ],
 "metadata": {
  "kernelspec": {
   "display_name": "Python 3 (ipykernel)",
   "language": "python",
   "name": "python3"
  },
  "language_info": {
   "codemirror_mode": {
    "name": "ipython",
    "version": 3
   },
   "file_extension": ".py",
   "mimetype": "text/x-python",
   "name": "python",
   "nbconvert_exporter": "python",
   "pygments_lexer": "ipython3",
   "version": "3.11.5"
  }
 },
 "nbformat": 4,
 "nbformat_minor": 5
}
