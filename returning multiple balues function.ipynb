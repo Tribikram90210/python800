{
 "cells": [
  {
   "cell_type": "markdown",
   "id": "55f5bc90-0fb9-47b4-819b-5ee16ebf9082",
   "metadata": {},
   "source": [
    "# find HCF and LCF of two numbers using funtion"
   ]
  },
  {
   "cell_type": "code",
   "execution_count": 13,
   "id": "9b60f0dd-eb1f-4cd8-8c21-80d7548624a3",
   "metadata": {},
   "outputs": [],
   "source": [
    "import math\n",
    "def find_hcf_lcm(x , y):\n",
    "    gcd = math.gcd(x,y) #gcd = greatest commom divisor\n",
    "    lcm = math.lcm(x,y)\n",
    "    return gcd,lcm\n",
    "    "
   ]
  },
  {
   "cell_type": "code",
   "execution_count": 14,
   "id": "7071eda3-5e17-4205-b86a-1fadead538a2",
   "metadata": {},
   "outputs": [],
   "source": [
    "a = 30\n",
    "b = 20"
   ]
  },
  {
   "cell_type": "code",
   "execution_count": 15,
   "id": "78e95695-dc53-4a4a-9fcb-5c7b7bca48d5",
   "metadata": {},
   "outputs": [
    {
     "data": {
      "text/plain": [
       "(10, 60)"
      ]
     },
     "execution_count": 15,
     "metadata": {},
     "output_type": "execute_result"
    }
   ],
   "source": [
    "find_hcf_lcm(x=a , y=b) #esari ni garna milcha "
   ]
  },
  {
   "cell_type": "code",
   "execution_count": 16,
   "id": "6c9130f8-b1f1-4a64-9e44-c48fd45bd064",
   "metadata": {},
   "outputs": [],
   "source": [
    "hcf , lcm = find_hcf_lcm(x=a , y=b) # tuple unpacking"
   ]
  },
  {
   "cell_type": "code",
   "execution_count": 17,
   "id": "a0ab8738-357d-4777-b39a-27290bcf3731",
   "metadata": {},
   "outputs": [
    {
     "data": {
      "text/plain": [
       "10"
      ]
     },
     "execution_count": 17,
     "metadata": {},
     "output_type": "execute_result"
    }
   ],
   "source": [
    "hcf"
   ]
  },
  {
   "cell_type": "code",
   "execution_count": 18,
   "id": "a1fa3d28-b9a9-4fc5-81d2-f8c368f1ce58",
   "metadata": {},
   "outputs": [
    {
     "data": {
      "text/plain": [
       "60"
      ]
     },
     "execution_count": 18,
     "metadata": {},
     "output_type": "execute_result"
    }
   ],
   "source": [
    "lcm"
   ]
  },
  {
   "cell_type": "code",
   "execution_count": null,
   "id": "ec2510bc-fa78-4ef1-af3b-b2583a24ffdf",
   "metadata": {},
   "outputs": [],
   "source": []
  }
 ],
 "metadata": {
  "kernelspec": {
   "display_name": "Python 3 (ipykernel)",
   "language": "python",
   "name": "python3"
  },
  "language_info": {
   "codemirror_mode": {
    "name": "ipython",
    "version": 3
   },
   "file_extension": ".py",
   "mimetype": "text/x-python",
   "name": "python",
   "nbconvert_exporter": "python",
   "pygments_lexer": "ipython3",
   "version": "3.11.5"
  }
 },
 "nbformat": 4,
 "nbformat_minor": 5
}
