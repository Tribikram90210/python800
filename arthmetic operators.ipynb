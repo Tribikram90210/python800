{
 "cells": [
  {
   "cell_type": "markdown",
   "id": "a20934fd-215a-4ce9-9ce7-9145c4eb5956",
   "metadata": {},
   "source": [
    "# Arithmatic Operator\n",
    "Arithmatic operators are used in numeric values to peform common mathematical operations\n",
    "* Addition (+)\n",
    "* substraction (-)\n",
    "* Multiplication (*)\n",
    "* Division(/)\n",
    "* Modulus (%)\n",
    "* Exponentiation (**)\n",
    "* Floor divison (//)"
   ]
  },
  {
   "cell_type": "code",
   "execution_count": 2,
   "id": "3369ac55-40ef-4cca-93db-599e98b40b81",
   "metadata": {},
   "outputs": [
    {
     "data": {
      "text/plain": [
       "3"
      ]
     },
     "execution_count": 2,
     "metadata": {},
     "output_type": "execute_result"
    }
   ],
   "source": [
    "19 % 4 # modulus operator le remainder dinxa"
   ]
  },
  {
   "cell_type": "code",
   "execution_count": 3,
   "id": "56a44a64-1807-4f9e-bb07-516fcfcac0b5",
   "metadata": {},
   "outputs": [
    {
     "name": "stdout",
     "output_type": "stream",
     "text": [
      "3\n"
     ]
    }
   ],
   "source": [
    "a=19\n",
    "b=4\n",
    "print(a%b)\n"
   ]
  },
  {
   "cell_type": "code",
   "execution_count": 4,
   "id": "ee5bee02-f4f9-40c1-92ca-417ef4de5806",
   "metadata": {},
   "outputs": [
    {
     "data": {
      "text/plain": [
       "125"
      ]
     },
     "execution_count": 4,
     "metadata": {},
     "output_type": "execute_result"
    }
   ],
   "source": [
    "5 **  # Expoention is the power of\n"
   ]
  },
  {
   "cell_type": "code",
   "execution_count": 5,
   "id": "d603966f-cc35-415f-9a96-f1335646e7c5",
   "metadata": {},
   "outputs": [
    {
     "data": {
      "text/plain": [
       "7"
      ]
     },
     "execution_count": 5,
     "metadata": {},
     "output_type": "execute_result"
    }
   ],
   "source": [
    "15//2 #7.5 ko floor value 7 ho"
   ]
  },
  {
   "cell_type": "code",
   "execution_count": null,
   "id": "655e583a-c9c9-46f1-919c-39ea7091dfeb",
   "metadata": {},
   "outputs": [],
   "source": []
  }
 ],
 "metadata": {
  "kernelspec": {
   "display_name": "Python 3 (ipykernel)",
   "language": "python",
   "name": "python3"
  },
  "language_info": {
   "codemirror_mode": {
    "name": "ipython",
    "version": 3
   },
   "file_extension": ".py",
   "mimetype": "text/x-python",
   "name": "python",
   "nbconvert_exporter": "python",
   "pygments_lexer": "ipython3",
   "version": "3.11.5"
  }
 },
 "nbformat": 4,
 "nbformat_minor": 5
}
