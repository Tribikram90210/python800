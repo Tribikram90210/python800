{
 "cells": [
  {
   "cell_type": "markdown",
   "id": "c78c238b-54c0-4d12-bb0a-25c9fa59d136",
   "metadata": {},
   "source": [
    "# Find if a given number is prime or not via True or False statement"
   ]
  },
  {
   "cell_type": "code",
   "execution_count": 1,
   "id": "c1f32cfb-9cfc-4835-bb3c-b4fc1bdf9a92",
   "metadata": {},
   "outputs": [],
   "source": [
    "def prime(x):\n",
    "    if x <= 0 :\n",
    "        return False\n",
    "    else:\n",
    "        for i in range(2,x):\n",
    "            if x % i == 0: \n",
    "                return False\n",
    "            else:\n",
    "                return True\n",
    "    return x\n",
    "        \n",
    "    \n",
    "    \n",
    "    \n"
   ]
  },
  {
   "cell_type": "code",
   "execution_count": 3,
   "id": "e75342d5-5618-4879-9426-43aba3dcc7c7",
   "metadata": {},
   "outputs": [
    {
     "name": "stdin",
     "output_type": "stream",
     "text": [
      "enter a number 0\n"
     ]
    },
    {
     "name": "stdout",
     "output_type": "stream",
     "text": [
      "False\n"
     ]
    }
   ],
   "source": [
    "x = int(input('enter a number'))\n",
    "x = prime(x)\n",
    "print(x)"
   ]
  },
  {
   "cell_type": "markdown",
   "id": "ca3351ca-e8ae-4710-9970-e15184ff5ab9",
   "metadata": {},
   "source": [
    "# Write a python function that accepts a string and calculate the number of upper case letters and lower case letters\n"
   ]
  },
  {
   "cell_type": "code",
   "execution_count": 1,
   "id": "bf255d90-1134-4db2-9880-7deb0816963f",
   "metadata": {},
   "outputs": [],
   "source": [
    "string = 'Nepal'\n",
    "upper = 0\n",
    "lower = 0\n",
    "for elements in string:\n",
    "    if elements.isupper():\n",
    "        upper += 1\n",
    "    elif elements.islower():\n",
    "        lower +=1\n",
    "        "
   ]
  },
  {
   "cell_type": "code",
   "execution_count": 2,
   "id": "16d943dd-180b-4171-aefa-8a45e3e5df90",
   "metadata": {},
   "outputs": [
    {
     "data": {
      "text/plain": [
       "(1, 4)"
      ]
     },
     "execution_count": 2,
     "metadata": {},
     "output_type": "execute_result"
    }
   ],
   "source": [
    "upper,lower"
   ]
  },
  {
   "cell_type": "code",
   "execution_count": null,
   "id": "10945909-166b-4cb3-97c3-7f2d1456d57c",
   "metadata": {},
   "outputs": [],
   "source": []
  }
 ],
 "metadata": {
  "kernelspec": {
   "display_name": "Python 3 (ipykernel)",
   "language": "python",
   "name": "python3"
  },
  "language_info": {
   "codemirror_mode": {
    "name": "ipython",
    "version": 3
   },
   "file_extension": ".py",
   "mimetype": "text/x-python",
   "name": "python",
   "nbconvert_exporter": "python",
   "pygments_lexer": "ipython3",
   "version": "3.11.5"
  }
 },
 "nbformat": 4,
 "nbformat_minor": 5
}
