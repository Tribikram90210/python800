{
 "cells": [
  {
   "cell_type": "markdown",
   "id": "87b3a46e-92b8-4634-bde2-967a48fad08e",
   "metadata": {},
   "source": [
    "# list \n",
    "* collections of items under one variable name\n",
    "* list supports multiple data types\n",
    "* list is ordered , indexed and allows dplicate values\n",
    "* one of the 4-built in data type in python\n",
    "* built-in data type(list,tuple,set,dictionary)\n",
    "* items are written inside square bracket [] and each item is separated by comma\n",
    "* list is a mutable datatype"
   ]
  },
  {
   "cell_type": "markdown",
   "id": "eeeae14c-2a18-46d4-9466-31d230f1c4c6",
   "metadata": {},
   "source": [
    "# slicing and indexing"
   ]
  },
  {
   "cell_type": "code",
   "execution_count": 1,
   "id": "7dbe0856-4a6f-401a-bf39-126a993cfe52",
   "metadata": {},
   "outputs": [
    {
     "name": "stdout",
     "output_type": "stream",
     "text": [
      "['cake', 'lambo', 'necklace', 'Paisa', 'book', 'clothes', 'bike', 'shoes', 'iphone 15 pro', 'Chocolate']\n"
     ]
    }
   ],
   "source": [
    "gift = ['Cake','Lambo','Necklace','Paisa','book','clothes','bike','shoes','iphone 15 pro','Chocolate'] \n",
    "print(gift)"
   ]
  },
  {
   "cell_type": "code",
   "execution_count": 5,
   "id": "72db4ee9-2cab-4889-a0e5-359abab60167",
   "metadata": {},
   "outputs": [
    {
     "data": {
      "text/plain": [
       "'Paisa'"
      ]
     },
     "execution_count": 5,
     "metadata": {},
     "output_type": "execute_result"
    }
   ],
   "source": [
    "gift = ['Cake','Lambo','Necklace','Paisa','book','clothes','bike','shoes','iphone 15 pro','Chocolate'] \n",
    "index = 3\n",
    "present = gift[index]\n",
    "present"
   ]
  },
  {
   "cell_type": "code",
   "execution_count": 6,
   "id": "5d272f9c-79ec-4648-8d7f-f2c7aa0ef781",
   "metadata": {},
   "outputs": [
    {
     "data": {
      "text/plain": [
       "['clothes', 'bike', 'shoes']"
      ]
     },
     "execution_count": 6,
     "metadata": {},
     "output_type": "execute_result"
    }
   ],
   "source": [
    "present = gift[5:8]\n",
    "present"
   ]
  },
  {
   "cell_type": "code",
   "execution_count": 8,
   "id": "a0a66d91-c65b-4e0d-b97b-01bbbfcf78e6",
   "metadata": {},
   "outputs": [
    {
     "data": {
      "text/plain": [
       "['Lambo', 'Paisa', 'clothes']"
      ]
     },
     "execution_count": 8,
     "metadata": {},
     "output_type": "execute_result"
    }
   ],
   "source": [
    "present = gift [1:6:2]\n",
    "present"
   ]
  },
  {
   "cell_type": "markdown",
   "id": "1690690b-5273-49ed-8254-5b9b3bbc6e57",
   "metadata": {},
   "source": [
    "# negative indexing"
   ]
  },
  {
   "cell_type": "code",
   "execution_count": 9,
   "id": "6843c06b-41c5-4984-983d-398e2746127c",
   "metadata": {},
   "outputs": [
    {
     "name": "stdout",
     "output_type": "stream",
     "text": [
      "['Cake', 'Lambo', 'Necklace', 'Paisa', 'book', 'clothes', 'bike', 'shoes', 'iphone 15 pro', 'Chocolate']\n"
     ]
    }
   ],
   "source": [
    "print(gift)"
   ]
  },
  {
   "cell_type": "code",
   "execution_count": 10,
   "id": "a7716f03-4cc4-4bac-9b67-371b7f101f7a",
   "metadata": {},
   "outputs": [
    {
     "data": {
      "text/plain": [
       "'Chocolate'"
      ]
     },
     "execution_count": 10,
     "metadata": {},
     "output_type": "execute_result"
    }
   ],
   "source": [
    "gift[-1]"
   ]
  },
  {
   "cell_type": "code",
   "execution_count": 11,
   "id": "33db3b80-513a-43a1-a17d-cc2c153ee6df",
   "metadata": {},
   "outputs": [
    {
     "data": {
      "text/plain": [
       "['shoes', 'iphone 15 pro', 'Chocolate']"
      ]
     },
     "execution_count": 11,
     "metadata": {},
     "output_type": "execute_result"
    }
   ],
   "source": [
    "gift[-3:] #system arki raicha"
   ]
  },
  {
   "cell_type": "code",
   "execution_count": 13,
   "id": "ce9c6e45-8102-4592-9bda-b1f747f222a1",
   "metadata": {},
   "outputs": [
    {
     "data": {
      "text/plain": [
       "['clothes', 'bike', 'shoes']"
      ]
     },
     "execution_count": 13,
     "metadata": {},
     "output_type": "execute_result"
    }
   ],
   "source": [
    "gift[ -5 : -2 ]"
   ]
  },
  {
   "cell_type": "code",
   "execution_count": 14,
   "id": "03b3068b-8a8d-4f4a-8f2a-343030d61c4c",
   "metadata": {},
   "outputs": [
    {
     "data": {
      "text/plain": [
       "['Cake', 'Lambo', 'Necklace']"
      ]
     },
     "execution_count": 14,
     "metadata": {},
     "output_type": "execute_result"
    }
   ],
   "source": [
    "gift[ :3]"
   ]
  },
  {
   "cell_type": "code",
   "execution_count": 15,
   "id": "b2753a42-078f-4bd5-94f6-013954f7160a",
   "metadata": {},
   "outputs": [],
   "source": [
    "# membership operator\n"
   ]
  },
  {
   "cell_type": "code",
   "execution_count": 16,
   "id": "243fe71b-ac31-49cd-b874-3958b26928e4",
   "metadata": {},
   "outputs": [
    {
     "name": "stdout",
     "output_type": "stream",
     "text": [
      "['Cake', 'Lambo', 'Necklace', 'Paisa', 'book', 'clothes', 'bike', 'shoes', 'iphone 15 pro', 'Chocolate']\n"
     ]
    }
   ],
   "source": [
    "print(gift)\n"
   ]
  },
  {
   "cell_type": "code",
   "execution_count": 17,
   "id": "78453ac6-9bbc-416c-994b-a85f811cc575",
   "metadata": {},
   "outputs": [
    {
     "data": {
      "text/plain": [
       "True"
      ]
     },
     "execution_count": 17,
     "metadata": {},
     "output_type": "execute_result"
    }
   ],
   "source": [
    "'bike' in gift"
   ]
  },
  {
   "cell_type": "code",
   "execution_count": 18,
   "id": "e037b3eb-f9bf-4363-90d4-3a550c594ede",
   "metadata": {},
   "outputs": [
    {
     "data": {
      "text/plain": [
       "False"
      ]
     },
     "execution_count": 18,
     "metadata": {},
     "output_type": "execute_result"
    }
   ],
   "source": [
    "'laptop' in gift"
   ]
  },
  {
   "cell_type": "markdown",
   "id": "8607612c-22cf-4cce-b55d-045bd074d6ae",
   "metadata": {},
   "source": [
    "# list supports multiple data type"
   ]
  },
  {
   "cell_type": "code",
   "execution_count": 19,
   "id": "e9d4782f-15d1-4223-8d13-7f889c0688a9",
   "metadata": {},
   "outputs": [
    {
     "data": {
      "text/plain": [
       "[True, 3, 3, 6, 'hello', 3.3]"
      ]
     },
     "execution_count": 19,
     "metadata": {},
     "output_type": "execute_result"
    }
   ],
   "source": [
    "l1 = [True ,3 , 3, 6 ,'hello', 3.3]\n",
    "l1"
   ]
  },
  {
   "cell_type": "code",
   "execution_count": 22,
   "id": "4481e03d-6559-45f7-b947-15e43a7b8fec",
   "metadata": {},
   "outputs": [
    {
     "data": {
      "text/plain": [
       "-1"
      ]
     },
     "execution_count": 22,
     "metadata": {},
     "output_type": "execute_result"
    }
   ],
   "source": [
    "l1[-1]"
   ]
  },
  {
   "cell_type": "markdown",
   "id": "3e24be7f-4806-418c-a6a4-9660640f6a87",
   "metadata": {},
   "source": [
    "# Find sum of items in list"
   ]
  },
  {
   "cell_type": "code",
   "execution_count": 23,
   "id": "17ed70b0-6978-4c48-9eaf-8c45d9364c90",
   "metadata": {},
   "outputs": [],
   "source": [
    "num =[2, 0, 9, 6, 5]"
   ]
  },
  {
   "cell_type": "code",
   "execution_count": 24,
   "id": "8259018f-9353-499a-b751-ef875c6b202e",
   "metadata": {},
   "outputs": [
    {
     "data": {
      "text/plain": [
       "5"
      ]
     },
     "execution_count": 24,
     "metadata": {},
     "output_type": "execute_result"
    }
   ],
   "source": [
    "len(num)"
   ]
  },
  {
   "cell_type": "code",
   "execution_count": 26,
   "id": "ac1f3039-6597-4e15-b521-771bd0a45960",
   "metadata": {},
   "outputs": [
    {
     "name": "stdout",
     "output_type": "stream",
     "text": [
      "2\n",
      "0\n",
      "9\n",
      "6\n",
      "5\n"
     ]
    }
   ],
   "source": [
    "for index in range(0 ,len(num)):\n",
    "    number=num[index]\n",
    "    print(number)\n"
   ]
  },
  {
   "cell_type": "code",
   "execution_count": 28,
   "id": "9b02bc37-8f0c-496f-a028-38310c6c3082",
   "metadata": {},
   "outputs": [
    {
     "name": "stdout",
     "output_type": "stream",
     "text": [
      "2\n",
      "0\n",
      "9\n",
      "6\n",
      "5\n"
     ]
    }
   ],
   "source": [
    "for item in num: # variable lekhera pani purai number print huncha\n",
    "    print(item)"
   ]
  },
  {
   "cell_type": "code",
   "execution_count": 30,
   "id": "a0c6206d-9b5f-47b6-9d91-8a81cd392a78",
   "metadata": {},
   "outputs": [
    {
     "name": "stdout",
     "output_type": "stream",
     "text": [
      "22\n"
     ]
    }
   ],
   "source": [
    "num =[2, 0, 9, 6, 5]  #analyse\n",
    "total = 0\n",
    "for item in num:\n",
    "    total = total + item\n",
    "print(total)\n"
   ]
  },
  {
   "cell_type": "code",
   "execution_count": 39,
   "id": "8efc039d-a0c7-4767-939a-e48f4e542867",
   "metadata": {},
   "outputs": [
    {
     "name": "stdout",
     "output_type": "stream",
     "text": [
      "the mean of the number4.4\n"
     ]
    }
   ],
   "source": [
    "total=22\n",
    "total = total / len(num)\n",
    "print(f'the mean of the number {total}') # total value lekhnu"
   ]
  },
  {
   "cell_type": "code",
   "execution_count": 40,
   "id": "88c90488-33d3-4a10-a5ae-e6bd298e95d9",
   "metadata": {},
   "outputs": [
    {
     "name": "stdout",
     "output_type": "stream",
     "text": [
      "4.4\n"
     ]
    }
   ],
   "source": [
    "num =[2, 0, 9, 6, 5]  #analyse\n",
    "total = 0\n",
    "for item in num:\n",
    "    total = total + item\n",
    "    mean = total/len(num)\n",
    "print(mean)\n"
   ]
  },
  {
   "cell_type": "code",
   "execution_count": null,
   "id": "4243ca46-f2b0-4f23-9204-fcfffc86e2c2",
   "metadata": {},
   "outputs": [],
   "source": []
  },
  {
   "cell_type": "code",
   "execution_count": null,
   "id": "24b089f4-6381-4f00-b8e0-ca841a97d8c6",
   "metadata": {},
   "outputs": [],
   "source": []
  }
 ],
 "metadata": {
  "kernelspec": {
   "display_name": "Python 3 (ipykernel)",
   "language": "python",
   "name": "python3"
  },
  "language_info": {
   "codemirror_mode": {
    "name": "ipython",
    "version": 3
   },
   "file_extension": ".py",
   "mimetype": "text/x-python",
   "name": "python",
   "nbconvert_exporter": "python",
   "pygments_lexer": "ipython3",
   "version": "3.11.5"
  }
 },
 "nbformat": 4,
 "nbformat_minor": 5
}
