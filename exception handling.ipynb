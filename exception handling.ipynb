{
 "cells": [
  {
   "cell_type": "code",
   "execution_count": 1,
   "id": "09aea588-20ab-4d88-a632-2e3a63dba5b7",
   "metadata": {},
   "outputs": [
    {
     "name": "stdout",
     "output_type": "stream",
     "text": [
      "3.0\n"
     ]
    }
   ],
   "source": [
    "a = 15\n",
    "b = 5\n",
    "output = a/b \n",
    "print(output) # kam garyo"
   ]
  },
  {
   "cell_type": "code",
   "execution_count": 2,
   "id": "4dad6473-57f3-4755-9d0a-30913be5025f",
   "metadata": {},
   "outputs": [
    {
     "ename": "ZeroDivisionError",
     "evalue": "division by zero",
     "output_type": "error",
     "traceback": [
      "\u001b[1;31m---------------------------------------------------------------------------\u001b[0m",
      "\u001b[1;31mZeroDivisionError\u001b[0m                         Traceback (most recent call last)",
      "Cell \u001b[1;32mIn[2], line 3\u001b[0m\n\u001b[0;32m      1\u001b[0m a \u001b[38;5;241m=\u001b[39m \u001b[38;5;241m15\u001b[39m\n\u001b[0;32m      2\u001b[0m b \u001b[38;5;241m=\u001b[39m \u001b[38;5;241m0\u001b[39m\n\u001b[1;32m----> 3\u001b[0m output \u001b[38;5;241m=\u001b[39m \u001b[43ma\u001b[49m\u001b[38;5;241;43m/\u001b[39;49m\u001b[43mb\u001b[49m \n\u001b[0;32m      4\u001b[0m \u001b[38;5;28mprint\u001b[39m(output)\n",
      "\u001b[1;31mZeroDivisionError\u001b[0m: division by zero"
     ]
    }
   ],
   "source": [
    "a = 15\n",
    "b = 0\n",
    "output = a/b \n",
    "print(output) # exception "
   ]
  },
  {
   "cell_type": "code",
   "execution_count": null,
   "id": "22edf125-f0d9-4bc0-9286-a6fc9278f5e9",
   "metadata": {},
   "outputs": [],
   "source": [
    "# ZeroDivisionError is an exception\n",
    "\n"
   ]
  },
  {
   "cell_type": "markdown",
   "id": "c0c8e0da-033d-410f-8c5e-79e9e5aa47d3",
   "metadata": {},
   "source": [
    "# use try... except...finally to handle exception"
   ]
  },
  {
   "cell_type": "code",
   "execution_count": 6,
   "id": "bfc96790-c90b-4162-9734-bb23cc319372",
   "metadata": {},
   "outputs": [
    {
     "name": "stdout",
     "output_type": "stream",
     "text": [
      "b = 0\n"
     ]
    }
   ],
   "source": [
    "a = 15\n",
    "b = 0\n",
    "try:\n",
    "    output = a / b\n",
    "except:\n",
    "    print(f'b = {b}')"
   ]
  },
  {
   "cell_type": "code",
   "execution_count": 7,
   "id": "df9c95d3-fb69-469c-9980-1ad9cf5c27ca",
   "metadata": {},
   "outputs": [
    {
     "name": "stdout",
     "output_type": "stream",
     "text": [
      "b = 0\n"
     ]
    }
   ],
   "source": [
    "a = 15\n",
    "b = 0\n",
    "try :\n",
    "    output = a / b\n",
    "except ZeroDivisionError: # errorthacha vane yo pani aunu\n",
    "    print(f'b = {b}')"
   ]
  },
  {
   "cell_type": "code",
   "execution_count": 8,
   "id": "ca0247e1-9d88-4d5a-a1dd-aeb3e5e80dee",
   "metadata": {},
   "outputs": [
    {
     "name": "stdout",
     "output_type": "stream",
     "text": [
      "division by zero\n",
      "b = 0\n"
     ]
    }
   ],
   "source": [
    "a = 15\n",
    "b = 0\n",
    "try :\n",
    "    output = a / b\n",
    "except ZeroDivisionError as e: # error thacha vane yo pani aunu\n",
    "    print(e) \n",
    "    print(f'b = {b}') # prefered way of exception handling"
   ]
  },
  {
   "cell_type": "code",
   "execution_count": 9,
   "id": "caf6d243-b37b-4836-a54a-b30ecb2a96d2",
   "metadata": {},
   "outputs": [
    {
     "name": "stdout",
     "output_type": "stream",
     "text": [
      "division by zero\n",
      "b = 0\n"
     ]
    }
   ],
   "source": [
    "a = 15\n",
    "b = 0\n",
    "try:\n",
    "    output = a / b\n",
    "except Exception as e:\n",
    "    print(e)\n",
    "    print(f'b = {b}')"
   ]
  },
  {
   "cell_type": "code",
   "execution_count": 10,
   "id": "1beeceaa-21c4-40ef-8428-1bef6de1db15",
   "metadata": {},
   "outputs": [],
   "source": [
    "# jun pani garda milcha"
   ]
  },
  {
   "cell_type": "code",
   "execution_count": 1,
   "id": "5b236f46-a189-46e2-b680-1db44b2d2551",
   "metadata": {},
   "outputs": [
    {
     "name": "stdin",
     "output_type": "stream",
     "text": [
      "enter a number 10000\n",
      "enter a number 0\n"
     ]
    },
    {
     "name": "stdout",
     "output_type": "stream",
     "text": [
      "division by zero\n",
      "error\n"
     ]
    }
   ],
   "source": [
    "try:\n",
    "    a = int(input('enter a number'))\n",
    "    b = int(input('enter a number'))\n",
    "    output= a/b\n",
    "except Exception as e: # yo lekhyo vane error tha huncha, Exception captures all kinds of exception\n",
    "    print(e)\n",
    "    print('error')"
   ]
  },
  {
   "cell_type": "code",
   "execution_count": 3,
   "id": "28cc5794-016f-42cb-940a-980af185deb6",
   "metadata": {},
   "outputs": [
    {
     "name": "stdin",
     "output_type": "stream",
     "text": [
      "enter a number Tribikram\n"
     ]
    },
    {
     "name": "stdout",
     "output_type": "stream",
     "text": [
      "invalid literal for int() with base 10: 'Tribikram'\n",
      "error\n"
     ]
    }
   ],
   "source": [
    "try:\n",
    "    a = int(input('enter a number'))\n",
    "    b = int(input('enter a number'))\n",
    "    output= a/b\n",
    "except (ZeroDivisionError , ValueError) as e: # yo lekhyo vane error tha huncha, Exception captures all kinds of exception\n",
    "    print(e)\n",
    "    print('error')\n",
    "\n",
    "\n"
   ]
  },
  {
   "cell_type": "code",
   "execution_count": 5,
   "id": "9162a138-bf41-4a83-b100-85df2adb78f0",
   "metadata": {},
   "outputs": [
    {
     "ename": "ValueError",
     "evalue": "b cannot be zero b !=0",
     "output_type": "error",
     "traceback": [
      "\u001b[1;31m---------------------------------------------------------------------------\u001b[0m",
      "\u001b[1;31mValueError\u001b[0m                                Traceback (most recent call last)",
      "Cell \u001b[1;32mIn[5], line 4\u001b[0m\n\u001b[0;32m      2\u001b[0m b \u001b[38;5;241m=\u001b[39m \u001b[38;5;241m0\u001b[39m \n\u001b[0;32m      3\u001b[0m \u001b[38;5;28;01mif\u001b[39;00m b \u001b[38;5;241m==\u001b[39m \u001b[38;5;241m0\u001b[39m:\n\u001b[1;32m----> 4\u001b[0m     \u001b[38;5;28;01mraise\u001b[39;00m \u001b[38;5;167;01mValueError\u001b[39;00m(\u001b[38;5;124m'\u001b[39m\u001b[38;5;124mb cannot be zero b !=0\u001b[39m\u001b[38;5;124m'\u001b[39m) \u001b[38;5;66;03m# j error ayo teslai over ride garcha\u001b[39;00m\n",
      "\u001b[1;31mValueError\u001b[0m: b cannot be zero b !=0"
     ]
    }
   ],
   "source": [
    "a = 5\n",
    "b = 0 \n",
    "if b == 0:\n",
    "    raise ValueError('b cannot be zero b !=0') # j error ayo teslai over ride garcha\n",
    "    \n"
   ]
  },
  {
   "cell_type": "markdown",
   "id": "a0711c04-4521-4930-9f38-7cd146572b4a",
   "metadata": {},
   "source": [
    "# finally is always executed -- used to close a file or to flush the memory"
   ]
  },
  {
   "cell_type": "code",
   "execution_count": 6,
   "id": "5968f8dc-088d-486d-84be-f5b85885c6e7",
   "metadata": {},
   "outputs": [
    {
     "name": "stdout",
     "output_type": "stream",
     "text": [
      "division by zero\n",
      "this line is always executed no matter what\n"
     ]
    }
   ],
   "source": [
    "a = 15\n",
    "b= 0 \n",
    "try:\n",
    "    output = a/b\n",
    "except Exception as e:\n",
    "    print(e)\n",
    "finally:\n",
    "    print('this line is always executed no matter what')"
   ]
  },
  {
   "cell_type": "code",
   "execution_count": 9,
   "id": "6d937ac4-75dc-41c2-836e-f535ed1ef586",
   "metadata": {},
   "outputs": [
    {
     "name": "stdout",
     "output_type": "stream",
     "text": [
      "This line is always executed no matter what\n"
     ]
    }
   ],
   "source": [
    "a = 15\n",
    "b= 3\n",
    "try:\n",
    "    output = a/b\n",
    "except Exception as e:\n",
    "    print(e)\n",
    "finally: # no matter what this line is always executed\n",
    "    print('This line is always executed no matter what')"
   ]
  },
  {
   "cell_type": "code",
   "execution_count": null,
   "id": "c25cc6de-36be-4133-aec8-c806fa95d644",
   "metadata": {},
   "outputs": [],
   "source": []
  }
 ],
 "metadata": {
  "kernelspec": {
   "display_name": "Python 3 (ipykernel)",
   "language": "python",
   "name": "python3"
  },
  "language_info": {
   "codemirror_mode": {
    "name": "ipython",
    "version": 3
   },
   "file_extension": ".py",
   "mimetype": "text/x-python",
   "name": "python",
   "nbconvert_exporter": "python",
   "pygments_lexer": "ipython3",
   "version": "3.11.5"
  }
 },
 "nbformat": 4,
 "nbformat_minor": 5
}
