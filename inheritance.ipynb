{
 "cells": [
  {
   "cell_type": "markdown",
   "id": "efa3138f-14ce-458c-a8a6-2b7d91c75b9b",
   "metadata": {},
   "source": [
    "# single inheritance"
   ]
  },
  {
   "cell_type": "code",
   "execution_count": 2,
   "id": "28f4aece-bafb-4d1c-bd82-bdf291cca733",
   "metadata": {},
   "outputs": [],
   "source": [
    "class Computer:\n",
    "    def __init__(self,model_name):\n",
    "        self.model_name = model_name\n",
    "\n",
    "class Mobile:\n",
    "    def __init__(self,has_flash):\n",
    "        self.has_flash = has_flash\n",
    "        "
   ]
  },
  {
   "cell_type": "code",
   "execution_count": 3,
   "id": "a7e3ed60-ca20-45fe-9d39-bb83ecb719b1",
   "metadata": {},
   "outputs": [],
   "source": [
    "a1 = Mobile(has_flash = True)\n"
   ]
  },
  {
   "cell_type": "code",
   "execution_count": 4,
   "id": "176662a7-17c7-4f64-80ce-203515e104e3",
   "metadata": {},
   "outputs": [
    {
     "ename": "AttributeError",
     "evalue": "'Mobile' object has no attribute 'model_name'",
     "output_type": "error",
     "traceback": [
      "\u001b[1;31m---------------------------------------------------------------------------\u001b[0m",
      "\u001b[1;31mAttributeError\u001b[0m                            Traceback (most recent call last)",
      "Cell \u001b[1;32mIn[4], line 1\u001b[0m\n\u001b[1;32m----> 1\u001b[0m \u001b[43ma1\u001b[49m\u001b[38;5;241;43m.\u001b[39;49m\u001b[43mmodel_name\u001b[49m\n",
      "\u001b[1;31mAttributeError\u001b[0m: 'Mobile' object has no attribute 'model_name'"
     ]
    }
   ],
   "source": [
    "a1.model_name"
   ]
  },
  {
   "cell_type": "code",
   "execution_count": 5,
   "id": "07e922ad-6074-44e0-b4de-38425e09d115",
   "metadata": {},
   "outputs": [],
   "source": [
    "class Computer:\n",
    "    def __init__(self,model_name):\n",
    "        self.model_name = model_name\n",
    "\n",
    "class Mobile(Computer): #step 1:\n",
    "    def __init__(self,has_flash, model_name):\n",
    "        self.has_flash = has_flash\n",
    "        super().__init__(model_name) #step 2\n",
    "        "
   ]
  },
  {
   "cell_type": "code",
   "execution_count": 6,
   "id": "0a2ccf33-2c93-473a-8acd-c8a368c8f605",
   "metadata": {},
   "outputs": [
    {
     "data": {
      "text/plain": [
       "'iPhone'"
      ]
     },
     "execution_count": 6,
     "metadata": {},
     "output_type": "execute_result"
    }
   ],
   "source": [
    "m1 = Mobile(has_flash = True,model_name='iPhone')\n",
    "m1.model_name"
   ]
  },
  {
   "cell_type": "code",
   "execution_count": 7,
   "id": "8d7bb2ed-1e90-4638-8a46-f5eb786d2093",
   "metadata": {},
   "outputs": [
    {
     "ename": "NameError",
     "evalue": "name 'a1' is not defined",
     "output_type": "error",
     "traceback": [
      "\u001b[1;31m---------------------------------------------------------------------------\u001b[0m",
      "\u001b[1;31mNameError\u001b[0m                                 Traceback (most recent call last)",
      "Cell \u001b[1;32mIn[7], line 1\u001b[0m\n\u001b[1;32m----> 1\u001b[0m \u001b[43ma1\u001b[49m\u001b[38;5;241m.\u001b[39mhas_flash\n",
      "\u001b[1;31mNameError\u001b[0m: name 'a1' is not defined"
     ]
    }
   ],
   "source": [
    "a1.has_flash"
   ]
  },
  {
   "cell_type": "code",
   "execution_count": 8,
   "id": "ebda4b4a-1b6c-46ad-9775-f6a668edfbbe",
   "metadata": {},
   "outputs": [],
   "source": [
    "class A:\n",
    "    msg='hey'\n",
    "class B(A): # (A) le superclass bata attribute lincha\n",
    "    def __init__(self):\n",
    "        super().__init__()"
   ]
  },
  {
   "cell_type": "code",
   "execution_count": 16,
   "id": "2882ca8f-24b1-48f2-b990-d9c75fd3f889",
   "metadata": {},
   "outputs": [],
   "source": [
    "obj = B()\n"
   ]
  },
  {
   "cell_type": "code",
   "execution_count": 17,
   "id": "c6f911e6-79df-454c-9f98-6ef61c423ac4",
   "metadata": {},
   "outputs": [
    {
     "data": {
      "text/plain": [
       "'hey'"
      ]
     },
     "execution_count": 17,
     "metadata": {},
     "output_type": "execute_result"
    }
   ],
   "source": [
    "obj.msg # msg vanne a class ko attribute ho tara B class ko object le chinyo because of inheritance"
   ]
  },
  {
   "cell_type": "markdown",
   "id": "d53b5503-384e-403e-8672-67b3400c6691",
   "metadata": {},
   "source": [
    "# multiple inheritance"
   ]
  },
  {
   "cell_type": "code",
   "execution_count": 6,
   "id": "83369b2d-311b-40c5-91ac-b3eb268b6a01",
   "metadata": {},
   "outputs": [],
   "source": [
    "class Father:\n",
    "    def __init__(self,father_name):\n",
    "        self.father_name = father_name #father_name\n",
    "\n",
    "class Mother:\n",
    "    def __init__(self,mother_name):\n",
    "        self.mother_name = mother_name\n",
    "class Child(Father,Mother):\n",
    "    def __init__ (self,child_name,father_name,mother_name):\n",
    "        self.child_name = child_name\n",
    "        Father.__init__(self,father_name)\n",
    "        Mother.__init__(self,mother_name)\n",
    "        \n",
    "    "
   ]
  },
  {
   "cell_type": "code",
   "execution_count": 7,
   "id": "8f783a40-6a03-452d-8513-d5b4f2716b79",
   "metadata": {},
   "outputs": [
    {
     "data": {
      "text/plain": [
       "'Ram'"
      ]
     },
     "execution_count": 7,
     "metadata": {},
     "output_type": "execute_result"
    }
   ],
   "source": [
    "c1= Child(child_name= 'Kshitiz', father_name='Ram',mother_name='Sita')\n",
    "c1.father_name"
   ]
  },
  {
   "cell_type": "code",
   "execution_count": 8,
   "id": "806fa001-eac6-4e85-a64a-4cde12136e2d",
   "metadata": {},
   "outputs": [],
   "source": [
    "class Father:\n",
    "    def __init__(self,father_name):\n",
    "        self.father_name = father_name\n",
    "    def display_father_name(self):\n",
    "        return self.father_name\n",
    "\n",
    "class Mother:\n",
    "    def __init__(self,mother_name):\n",
    "        self.mother_name = mother_name\n",
    "    def display_mother_name(self):\n",
    "        return self.mother_name\n",
    "class Child(Father,Mother):\n",
    "    def __init__ (self,child_name,father_name,mother_name):\n",
    "        self.child_name = child_name\n",
    "        Father.__init__(self,father_name)\n",
    "        Mother.__init__(self,mother_name)\n",
    "        "
   ]
  },
  {
   "cell_type": "code",
   "execution_count": 9,
   "id": "4dc470c8-1a85-42d2-917e-b68118dd31a9",
   "metadata": {},
   "outputs": [
    {
     "data": {
      "text/plain": [
       "'Ram'"
      ]
     },
     "execution_count": 9,
     "metadata": {},
     "output_type": "execute_result"
    }
   ],
   "source": [
    "c1= Child(child_name= 'Kshitiz', father_name='Ram',mother_name='Sita')\n",
    "c1.father_name"
   ]
  },
  {
   "cell_type": "code",
   "execution_count": 11,
   "id": "128f48c6-924a-43dd-9ba5-e8109dd2d07c",
   "metadata": {},
   "outputs": [
    {
     "data": {
      "text/plain": [
       "'Sita'"
      ]
     },
     "execution_count": 11,
     "metadata": {},
     "output_type": "execute_result"
    }
   ],
   "source": [
    "c1.display_mother_name()"
   ]
  },
  {
   "cell_type": "markdown",
   "id": "86e7e817-99dd-41ad-819d-85b7727a1068",
   "metadata": {},
   "source": [
    "# Multilevel \n"
   ]
  },
  {
   "cell_type": "code",
   "execution_count": 18,
   "id": "69278f32-af38-4a69-8573-d7e97fdc2a5d",
   "metadata": {},
   "outputs": [],
   "source": [
    "class A:\n",
    "    def display_a(self):\n",
    "        print('This is method from class A')\n",
    "        \n",
    "class B(A):\n",
    "    def __init__(self):\n",
    "        A.__init__(self)\n",
    "    def display_B(self):\n",
    "        print('this is method from class B')\n",
    "        \n",
    "    \n",
    "class C(B):\n",
    "    def __init__(self):\n",
    "        B.__init__(self)\n",
    "    def display_C(self):\n",
    "        print('this is method from class C')\n",
    "        \n",
    "    "
   ]
  },
  {
   "cell_type": "code",
   "execution_count": 19,
   "id": "5379d239-c52e-44cc-ac48-ae205b76ba38",
   "metadata": {},
   "outputs": [],
   "source": [
    "C1 = C()"
   ]
  },
  {
   "cell_type": "code",
   "execution_count": null,
   "id": "562e205a-2441-4d14-b581-ebf2680b9d12",
   "metadata": {},
   "outputs": [],
   "source": []
  }
 ],
 "metadata": {
  "kernelspec": {
   "display_name": "Python 3 (ipykernel)",
   "language": "python",
   "name": "python3"
  },
  "language_info": {
   "codemirror_mode": {
    "name": "ipython",
    "version": 3
   },
   "file_extension": ".py",
   "mimetype": "text/x-python",
   "name": "python",
   "nbconvert_exporter": "python",
   "pygments_lexer": "ipython3",
   "version": "3.11.5"
  }
 },
 "nbformat": 4,
 "nbformat_minor": 5
}
